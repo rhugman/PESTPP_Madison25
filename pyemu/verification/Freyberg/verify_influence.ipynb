{
 "cells": [
  {
   "cell_type": "markdown",
   "metadata": {},
   "source": [
    "#verify pyEMU Influence class"
   ]
  },
  {
   "cell_type": "code",
   "execution_count": 27,
   "metadata": {
    "collapsed": false
   },
   "outputs": [],
   "source": [
    "%matplotlib inline\n",
    "import os\n",
    "import shutil\n",
    "import numpy as np\n",
    "import matplotlib.pyplot as plt\n",
    "import pandas as pd\n",
    "import pyemu"
   ]
  },
  {
   "cell_type": "markdown",
   "metadata": {},
   "source": [
    "instaniate ```pyemu``` object and drop prior info.  Then reorder the jacobian and save as binary.  This is needed because the pest utilities require strict order between the control file and jacobian"
   ]
  },
  {
   "cell_type": "code",
   "execution_count": 40,
   "metadata": {
    "collapsed": false
   },
   "outputs": [],
   "source": [
    "pst = pyemu.Pst(\"freyberg.pst\")\n",
    "pst.pestpp_options = {}\n",
    "inf = pyemu.Influence(jco=\"freyberg.jcb\",pst=pst,verbose=False)\n",
    "inf.drop_prior_information()\n",
    "\n"
   ]
  },
  {
   "cell_type": "markdown",
   "metadata": {},
   "source": [
    "pick just a few parameters since infstat is super picky about this"
   ]
  },
  {
   "cell_type": "code",
   "execution_count": 41,
   "metadata": {
    "collapsed": false
   },
   "outputs": [],
   "source": [
    "par = inf.pst.parameter_data\n",
    "adj_pars = par.loc[par.pargp==\"hk\",\"parnme\"][:10].values.tolist()\n",
    "fixed_pars = [pname for pname in inf.pst.adj_par_names if pname not in adj_pars]\n",
    "jco_ord = inf.jco.get(inf.pst.obs_names,adj_pars)\n",
    "ord_base = \"freyberg_ord_infstat\"\n",
    "inf.pst.parameter_data.loc[fixed_pars,\"partrans\"] = \"fixed\"\n",
    "#jco_ord.to_binary(ord_base + \".jco\")  \n",
    "#inf.pst.control_data.parsaverun = ' '\n",
    "inf.pst.control_data.noptmax = 0\n",
    "inf.pst.write(ord_base+\".pst\")"
   ]
  },
  {
   "cell_type": "markdown",
   "metadata": {},
   "source": [
    "run pest one time since it is super picky about the format of the .res file"
   ]
  },
  {
   "cell_type": "code",
   "execution_count": 42,
   "metadata": {
    "collapsed": false
   },
   "outputs": [
    {
     "data": {
      "text/plain": [
       "0"
      ]
     },
     "execution_count": 42,
     "metadata": {},
     "output_type": "execute_result"
    }
   ],
   "source": [
    "os.system(\"pest.exe \"+ord_base+'.pst')"
   ]
  },
  {
   "cell_type": "markdown",
   "metadata": {},
   "source": [
    "Write the .jco since pest just stomped on it"
   ]
  },
  {
   "cell_type": "code",
   "execution_count": 43,
   "metadata": {
    "collapsed": true
   },
   "outputs": [],
   "source": [
    "jco_ord.to_binary(ord_base + \".jco\") "
   ]
  },
  {
   "cell_type": "code",
   "execution_count": 8,
   "metadata": {
    "collapsed": false
   },
   "outputs": [
    {
     "data": {
      "text/plain": [
       "0"
      ]
     },
     "execution_count": 8,
     "metadata": {},
     "output_type": "execute_result"
    }
   ],
   "source": [
    "os.system(\"infstat freyberg_ord\")"
   ]
  },
  {
   "cell_type": "code",
   "execution_count": null,
   "metadata": {
    "collapsed": true
   },
   "outputs": [],
   "source": []
  }
 ],
 "metadata": {
  "kernelspec": {
   "display_name": "Python 3",
   "language": "python",
   "name": "python3"
  },
  "language_info": {
   "codemirror_mode": {
    "name": "ipython",
    "version": 3
   },
   "file_extension": ".py",
   "mimetype": "text/x-python",
   "name": "python",
   "nbconvert_exporter": "python",
   "pygments_lexer": "ipython3",
   "version": "3.5.1"
  }
 },
 "nbformat": 4,
 "nbformat_minor": 0
}
