{
 "cells": [
  {
   "cell_type": "code",
   "execution_count": null,
   "id": "ba951bad",
   "metadata": {},
   "outputs": [],
   "source": [
    "import os\n",
    "import sys\n",
    "sys.path.insert(0,\"..\")\n",
    "import numpy as np\n",
    "import matplotlib.pyplot as plt\n",
    "import pyemu\n",
    "print(pyemu.__file__)\n",
    "import flopy\n",
    "import platform\n",
    "from pathlib import Path\n",
    "import shutil\n",
    "import pandas as pd\n",
    "\n",
    "#magic inlide reload import\n",
    "%reload_ext autoreload\n",
    "%autoreload 2\n",
    "import plot_helpers as ph"
   ]
  },
  {
   "cell_type": "code",
   "execution_count": null,
   "id": "058a15de",
   "metadata": {},
   "outputs": [],
   "source": [
    "from pyemu.emulators import DSI"
   ]
  },
  {
   "cell_type": "code",
   "execution_count": null,
   "id": "683069a7",
   "metadata": {},
   "outputs": [],
   "source": [
    "t_d = \"template\"\n",
    "if not os.path.exists(t_d):\n",
    "    raise Exception(\"need to run simple_pstfrom notebook\")"
   ]
  },
  {
   "cell_type": "markdown",
   "id": "18c96b59",
   "metadata": {},
   "source": [
    "# Generate some training data\n",
    "## load in the FOM pest control file"
   ]
  },
  {
   "cell_type": "code",
   "execution_count": null,
   "id": "ea77880a",
   "metadata": {},
   "outputs": [],
   "source": [
    "pst = pyemu.Pst(os.path.join(t_d,\"at.pst\"))\n",
    "pst"
   ]
  },
  {
   "cell_type": "code",
   "execution_count": null,
   "id": "124ac7b6",
   "metadata": {},
   "outputs": [],
   "source": [
    "pr_pe = pyemu.ParameterEnsemble.from_csv(pst, os.path.join(t_d,\"prior.csv\"))\n",
    "pr_pe.shape"
   ]
  },
  {
   "cell_type": "code",
   "execution_count": null,
   "id": "fef2161a",
   "metadata": {},
   "outputs": [],
   "source": [
    "pst.pestpp_options['ies_num_reals'] = pr_pe.shape[0]"
   ]
  },
  {
   "cell_type": "code",
   "execution_count": null,
   "id": "041d39dd",
   "metadata": {},
   "outputs": [],
   "source": [
    "pst.control_data.noptmax = -1"
   ]
  },
  {
   "cell_type": "code",
   "execution_count": null,
   "id": "7e0ae8b4",
   "metadata": {},
   "outputs": [],
   "source": [
    "pst.write(os.path.join(t_d,\"at.pst\"),version=2)\n"
   ]
  },
  {
   "cell_type": "code",
   "execution_count": null,
   "id": "4e0774ce",
   "metadata": {},
   "outputs": [],
   "source": [
    "m_d = \"master_train\""
   ]
  },
  {
   "cell_type": "code",
   "execution_count": null,
   "id": "009e24cd",
   "metadata": {},
   "outputs": [],
   "source": [
    "pyemu.os_utils.start_workers(t_d, \"pestpp-ies\",\"at.pst\",\n",
    "                             num_workers=15,\n",
    "                             worker_root=\".\",\n",
    "                            master_dir=m_d,\n",
    "                            )"
   ]
  },
  {
   "cell_type": "code",
   "execution_count": null,
   "id": "85e59594",
   "metadata": {},
   "outputs": [],
   "source": [
    "m_d"
   ]
  },
  {
   "cell_type": "markdown",
   "id": "95de6494",
   "metadata": {},
   "source": [
    "# lests read the oe"
   ]
  },
  {
   "cell_type": "code",
   "execution_count": null,
   "id": "f525ca85",
   "metadata": {},
   "outputs": [],
   "source": [
    "pst = pyemu.Pst(os.path.join(m_d,\"at.pst\"))\n",
    "pst\n",
    "\n"
   ]
  },
  {
   "cell_type": "markdown",
   "id": "30d0353c",
   "metadata": {},
   "source": [
    "# use the prior oe as training data"
   ]
  },
  {
   "cell_type": "code",
   "execution_count": null,
   "id": "3fba8069",
   "metadata": {},
   "outputs": [],
   "source": [
    "data = pst.ies.obsen0.copy()\n",
    "\n",
    "data.head()"
   ]
  },
  {
   "cell_type": "markdown",
   "id": "1e1cd661",
   "metadata": {},
   "source": [
    "# talk about data transformation to gauss distribution"
   ]
  },
  {
   "cell_type": "code",
   "execution_count": null,
   "id": "f309faf2",
   "metadata": {},
   "outputs": [],
   "source": [
    "data.loc[:, 'oname:k_aq_otype:arr_i:0_j:0'].hist()"
   ]
  },
  {
   "cell_type": "code",
   "execution_count": null,
   "id": "3af11a0a",
   "metadata": {},
   "outputs": [],
   "source": [
    "logcols = [c for c in data.columns if c.startswith(\"oname:k_\")]\n",
    "print(logcols)"
   ]
  },
  {
   "cell_type": "code",
   "execution_count": null,
   "id": "d853f792",
   "metadata": {},
   "outputs": [],
   "source": []
  },
  {
   "cell_type": "markdown",
   "id": "e73bff00",
   "metadata": {},
   "source": [
    "# generate the dsi object..."
   ]
  },
  {
   "cell_type": "code",
   "execution_count": null,
   "id": "4e7a2061",
   "metadata": {},
   "outputs": [],
   "source": [
    "transforms = [\n",
    "                {\"type\":\"log10\", \"columns\":logcols},\n",
    "                {\"type\":\"normal_score\"}, #MUST BE SEQUENTIAL!\n",
    "               ]\n",
    "\n",
    "dsi = DSI(pst=pst,\n",
    "          data=data,\n",
    "          transforms=transforms,\n",
    "          energy_threshold=0.999)\n",
    "\n",
    "dsi.fit()"
   ]
  },
  {
   "cell_type": "code",
   "execution_count": null,
   "id": "c6423d70",
   "metadata": {},
   "outputs": [],
   "source": [
    "dt = dsi.data_transformed.copy()\n",
    "dt.head()"
   ]
  },
  {
   "cell_type": "code",
   "execution_count": null,
   "id": "73ea6f02",
   "metadata": {},
   "outputs": [],
   "source": [
    "fig,axs=plt.subplots(1,2,figsize=(6,4))\n",
    "\n",
    "col = logcols[0]#data.columns[0]\n",
    "axs[0].set_title(\"original\")\n",
    "axs[0].hist(data.loc[:,col])\n",
    "axs[1].set_title(\"transformed\")\n",
    "axs[1].hist(dt.loc[:,col])\n",
    "\n",
    "fig.tight_layout()"
   ]
  },
  {
   "cell_type": "code",
   "execution_count": null,
   "id": "adad2ee9",
   "metadata": {},
   "outputs": [],
   "source": []
  },
  {
   "cell_type": "code",
   "execution_count": null,
   "id": "a35e80ed",
   "metadata": {},
   "outputs": [],
   "source": [
    "dsi.s.shape #singular values"
   ]
  },
  {
   "cell_type": "code",
   "execution_count": null,
   "id": "61c3fbe5",
   "metadata": {},
   "outputs": [],
   "source": [
    "pvals = np.zeros_like(dsi.s)\n",
    "pvals"
   ]
  },
  {
   "cell_type": "code",
   "execution_count": null,
   "id": "754acb6f",
   "metadata": {},
   "outputs": [],
   "source": [
    "svals = dsi.predict(pvals)\n",
    "svals"
   ]
  },
  {
   "cell_type": "code",
   "execution_count": null,
   "id": "4ef3f05a",
   "metadata": {},
   "outputs": [],
   "source": [
    "data.mean()"
   ]
  },
  {
   "cell_type": "code",
   "execution_count": null,
   "id": "e1c1e560",
   "metadata": {},
   "outputs": [],
   "source": [
    "(svals - data.mean()).sort_values()"
   ]
  },
  {
   "cell_type": "code",
   "execution_count": null,
   "id": "177bf9fa",
   "metadata": {},
   "outputs": [],
   "source": [
    "dsiprior = data.copy()\n",
    "dsiprior.loc[:,:] = np.nan\n",
    "for i in data.index.values:\n",
    "    svals = dsi.predict(np.random.normal(0,1,size=dsi.s.shape[0]))\n",
    "    dsiprior.loc[i,svals.index] = svals.values\n"
   ]
  },
  {
   "cell_type": "code",
   "execution_count": null,
   "id": "b2fb33ec",
   "metadata": {},
   "outputs": [],
   "source": [
    "fig,ax=plt.subplots(1,1,figsize=(4,4))\n",
    "\n",
    "col = (svals - data.mean()).sort_values().index[-1]\n",
    "\n",
    "#get sahred bins\n",
    "bmin = min(data.loc[:,col].min(),dsiprior.loc[:,col].min())\n",
    "bmax = max(data.loc[:,col].max(),dsiprior.loc[:,col].max())\n",
    "bins = np.linspace(bmin,bmax,20)\n",
    "\n",
    "ax.hist(data.loc[:,col],alpha=0.5,label=\"org\",bins=bins)\n",
    "ax.hist(dsiprior.loc[:,col],alpha=0.5,label=\"dsi\",bins=bins)\n",
    "\n",
    "ymin,ymax = ax.get_ylim()\n",
    "ax.vlines(data.loc[:,col].mean(),ymin,ymax,label=\"org mean\")\n",
    "ax.vlines(dsiprior.loc[:,col].mean(),ymin,ymax,label=\"dsi mean\",color='orange',linestyle='--')\n",
    "ax.legend()\n",
    "ax.set_title(col)\n",
    "fig.tight_layout()"
   ]
  },
  {
   "cell_type": "code",
   "execution_count": null,
   "id": "c79c5885",
   "metadata": {},
   "outputs": [],
   "source": []
  },
  {
   "cell_type": "markdown",
   "id": "3bb7d5bb",
   "metadata": {},
   "source": [
    "# prepare the dsi pestpp folder"
   ]
  },
  {
   "cell_type": "code",
   "execution_count": null,
   "id": "dd5acb70",
   "metadata": {},
   "outputs": [],
   "source": [
    "dsi_t_d=\"template_dsi\""
   ]
  },
  {
   "cell_type": "code",
   "execution_count": null,
   "id": "7432bd06",
   "metadata": {},
   "outputs": [],
   "source": [
    "dpst = dsi.prepare_pestpp(t_d=dsi_t_d)"
   ]
  },
  {
   "cell_type": "code",
   "execution_count": null,
   "id": "fdf1f026",
   "metadata": {},
   "outputs": [],
   "source": [
    "dpst"
   ]
  },
  {
   "cell_type": "code",
   "execution_count": null,
   "id": "32efcd2f",
   "metadata": {},
   "outputs": [],
   "source": [
    "dpst.control_data.noptmax = 3\n",
    "dpst.pestpp_options[\"ies_num_reals\"] = 100"
   ]
  },
  {
   "cell_type": "code",
   "execution_count": null,
   "id": "5baec111",
   "metadata": {},
   "outputs": [],
   "source": [
    "\n",
    "dpst.write(os.path.join(dsi_t_d, \"dsi.pst\"),version=2)\n",
    "\n",
    "\n",
    "pvals = pd.read_csv(os.path.join(dsi_t_d, \"dsi_pars.csv\"), index_col=0)\n",
    "md = f\"master_dsi\"\n",
    "num_workers = 50\n",
    "worker_root = \".\""
   ]
  },
  {
   "cell_type": "code",
   "execution_count": null,
   "id": "626854fb",
   "metadata": {},
   "outputs": [],
   "source": [
    "pyemu.os_utils.start_workers(\n",
    "    dsi_t_d,\"pestpp-ies\",\"dsi.pst\", num_workers=num_workers,\n",
    "    worker_root=worker_root, master_dir=md, #port=_get_port(),\n",
    "    ppw_function=pyemu.helpers.dsi_pyworker,\n",
    "    ppw_kwargs={\n",
    "        \"dsi\": dsi, \"pvals\": pvals,\n",
    "    }\n",
    ")"
   ]
  },
  {
   "cell_type": "code",
   "execution_count": null,
   "id": "407c4edb",
   "metadata": {},
   "outputs": [],
   "source": [
    "dpst = pyemu.Pst(os.path.join(md, \"dsi.pst\"))\n",
    "dpst.ies.phiactual.head()"
   ]
  },
  {
   "cell_type": "code",
   "execution_count": null,
   "id": "2124dbb4",
   "metadata": {},
   "outputs": [],
   "source": []
  },
  {
   "cell_type": "code",
   "execution_count": null,
   "id": "3a7675b9",
   "metadata": {},
   "outputs": [],
   "source": [
    "%reload_ext autoreload\n",
    "%autoreload 2\n",
    "\n",
    "import plot_helpers as ph\n",
    "ph.plot_ies_results(md,casename=\"dsi\",ptiter=1)"
   ]
  },
  {
   "cell_type": "code",
   "execution_count": null,
   "id": "e15ad98a",
   "metadata": {},
   "outputs": [],
   "source": []
  },
  {
   "cell_type": "code",
   "execution_count": null,
   "id": "5a2e8df2",
   "metadata": {},
   "outputs": [],
   "source": []
  },
  {
   "cell_type": "code",
   "execution_count": null,
   "id": "59b01752",
   "metadata": {},
   "outputs": [],
   "source": []
  },
  {
   "cell_type": "code",
   "execution_count": null,
   "id": "a562f206",
   "metadata": {},
   "outputs": [],
   "source": []
  },
  {
   "cell_type": "code",
   "execution_count": null,
   "id": "199e162a",
   "metadata": {},
   "outputs": [],
   "source": []
  },
  {
   "cell_type": "markdown",
   "id": "0261721a",
   "metadata": {},
   "source": [
    "# check influence of training data size"
   ]
  },
  {
   "cell_type": "code",
   "execution_count": null,
   "id": "385f6020",
   "metadata": {},
   "outputs": [],
   "source": [
    "nzobsnmes = dpst.nnz_obs_names"
   ]
  },
  {
   "cell_type": "code",
   "execution_count": null,
   "id": "5bd04843",
   "metadata": {},
   "outputs": [],
   "source": [
    "obs = dpst.observation_data\n",
    "obsnmes = obs.loc[obs.usecol=='chd(chd-1)'].obsnme.tolist()\n",
    "df = data.loc[:,obsnmes].copy()\n",
    "df.hist(bins=20,alpha=0.5, label=\"prior\",zorder=0)\n"
   ]
  },
  {
   "cell_type": "code",
   "execution_count": null,
   "id": "328c8c53",
   "metadata": {},
   "outputs": [],
   "source": [
    "[i for i in nzobsnmes if i in obsnmes]"
   ]
  },
  {
   "cell_type": "code",
   "execution_count": null,
   "id": "359c3cbc",
   "metadata": {},
   "outputs": [],
   "source": []
  },
  {
   "cell_type": "code",
   "execution_count": null,
   "id": "f555aa14",
   "metadata": {},
   "outputs": [],
   "source": [
    "realseq = [10,50,100,150,200,250,300]\n",
    "for nreal in realseq:\n",
    "\n",
    "    transforms = [#{\"type\":\"log10\", \"cols\":logcols},\n",
    "                  {\"type\":\"log10\", \"columns\":obsnmes},\n",
    "                  {\"type\":\"normal_score\"}# \"columns\":nzobsnmes },\n",
    "                  ]\n",
    "\n",
    "    data_redux = data.loc[:,nzobsnmes + obsnmes].copy()\n",
    "    data_redux = data_redux.iloc[:nreal].copy()\n",
    "\n",
    "    obs_redux = obs.copy()\n",
    "    obs_redux = obs_redux.loc[nzobsnmes + obsnmes]\n",
    "    obs_redux.index.name=\"index\"\n",
    "    obs_redux\n",
    "    \n",
    "    dsi = DSI(#pst=pst,\n",
    "            data=data_redux,\n",
    "            transforms=transforms,\n",
    "            energy_threshold=.999\n",
    "            verbose=False)\n",
    "    dsi.fit()\n",
    "    dsi_t_d=f\"template_dsi_{nreal}\"\n",
    "\n",
    "\n",
    "    dpst = dsi.prepare_pestpp(t_d=dsi_t_d, observation_data=obs_redux)\n",
    "    \n",
    "    dpst.control_data.noptmax = 2 #NOTE THIS!\n",
    "    dpst.pestpp_options[\"ies_num_reals\"] = 500 #NOTE this!\n",
    "\n",
    "    dpst.write(os.path.join(dsi_t_d, \"dsi.pst\"),version=2)\n",
    "\n",
    "\n",
    "    pvals = pd.read_csv(os.path.join(dsi_t_d, \"dsi_pars.csv\"), index_col=0)\n",
    "    md = f\"master_dsi_{nreal}\"\n",
    "    num_workers = 50\n",
    "    worker_root = \".\"\n",
    "    pyemu.os_utils.start_workers(\n",
    "        dsi_t_d,\"pestpp-ies\",\"dsi.pst\", num_workers=num_workers,\n",
    "        worker_root=worker_root, master_dir=md, #port=_get_port(),\n",
    "        ppw_function=pyemu.helpers.dsi_pyworker,\n",
    "        ppw_kwargs={\n",
    "            \"dsi\": dsi, \"pvals\": pvals,\n",
    "        }\n",
    "    )\n",
    "    dpst = pyemu.Pst(os.path.join(md, \"dsi.pst\"))\n",
    "    dpst.ies.phiactual.head()\n"
   ]
  },
  {
   "cell_type": "code",
   "execution_count": null,
   "id": "2dd6845e",
   "metadata": {},
   "outputs": [],
   "source": []
  },
  {
   "cell_type": "code",
   "execution_count": null,
   "id": "12e6d2bc",
   "metadata": {},
   "outputs": [],
   "source": [
    "#from plot_helpers import plot_dsi_compare_traindata\n",
    "fig,axs = ph.plot_dsi_compare_traindata(realseq)"
   ]
  },
  {
   "cell_type": "code",
   "execution_count": null,
   "id": "89b1d296",
   "metadata": {},
   "outputs": [],
   "source": []
  },
  {
   "cell_type": "code",
   "execution_count": null,
   "id": "1967c65b",
   "metadata": {},
   "outputs": [],
   "source": []
  }
 ],
 "metadata": {
  "kernelspec": {
   "display_name": "gmdsitut",
   "language": "python",
   "name": "python3"
  },
  "language_info": {
   "codemirror_mode": {
    "name": "ipython",
    "version": 3
   },
   "file_extension": ".py",
   "mimetype": "text/x-python",
   "name": "python",
   "nbconvert_exporter": "python",
   "pygments_lexer": "ipython3",
   "version": "3.11.13"
  }
 },
 "nbformat": 4,
 "nbformat_minor": 5
}
