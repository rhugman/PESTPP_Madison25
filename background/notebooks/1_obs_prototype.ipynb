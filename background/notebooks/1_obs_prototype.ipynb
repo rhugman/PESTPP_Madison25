{
 "cells": [
  {
   "cell_type": "markdown",
   "id": "db1331c3",
   "metadata": {},
   "source": [
    "# U.S. Geological Survey Intro to MODFLOW Class\n",
    "San Diego, CA\\\n",
    "January 6-10, 2025\n",
    "\n",
    "## Prototyping Observations for PEST++ with the MV Model"
   ]
  },
  {
   "cell_type": "markdown",
   "id": "9a90c0b0",
   "metadata": {},
   "source": [
    "In this notebook, we prototype how to assemble the observations into a single vector and write an instruction file to convey model results to PEST++. The logic of this notebook must get incorporated into the forward run script which we do in the next notebook."
   ]
  },
  {
   "cell_type": "code",
   "execution_count": 1,
   "id": "c963d01a",
   "metadata": {
    "execution": {
     "iopub.execute_input": "2025-07-03T18:18:58.141895Z",
     "iopub.status.busy": "2025-07-03T18:18:58.141519Z",
     "iopub.status.idle": "2025-07-03T18:18:58.693373Z",
     "shell.execute_reply": "2025-07-03T18:18:58.693102Z",
     "shell.execute_reply.started": "2025-07-03T18:18:58.141869Z"
    }
   },
   "outputs": [],
   "source": [
    "from pathlib import Path\n",
    "\n",
    "import pandas as pd"
   ]
  },
  {
   "cell_type": "code",
   "execution_count": 2,
   "id": "3d63aac8",
   "metadata": {
    "execution": {
     "iopub.execute_input": "2025-07-03T18:19:01.495865Z",
     "iopub.status.busy": "2025-07-03T18:19:01.494269Z",
     "iopub.status.idle": "2025-07-03T18:19:01.503040Z",
     "shell.execute_reply": "2025-07-03T18:19:01.499827Z",
     "shell.execute_reply.started": "2025-07-03T18:19:01.495820Z"
    }
   },
   "outputs": [],
   "source": [
    "# select the folder containing example model observation output\n",
    "rundir = Path(\"../pest_obs_prototype/\")"
   ]
  },
  {
   "cell_type": "code",
   "execution_count": 3,
   "id": "59cb2fd7",
   "metadata": {
    "execution": {
     "iopub.execute_input": "2025-07-03T18:19:02.279218Z",
     "iopub.status.busy": "2025-07-03T18:19:02.278883Z",
     "iopub.status.idle": "2025-07-03T18:19:02.290872Z",
     "shell.execute_reply": "2025-07-03T18:19:02.289683Z",
     "shell.execute_reply.started": "2025-07-03T18:19:02.279196Z"
    }
   },
   "outputs": [
    {
     "data": {
      "text/plain": [
       "[PosixPath('../pest_obs_prototype/at.csv'),\n",
       " PosixPath('../pest_obs_prototype/at.wt.csv'),\n",
       " PosixPath('../pest_obs_prototype/chd.csv'),\n",
       " PosixPath('../pest_obs_prototype/riv.csv')]"
      ]
     },
     "execution_count": 3,
     "metadata": {},
     "output_type": "execute_result"
    }
   ],
   "source": [
    "# now list the output files - we happen to know the only CSV files\n",
    "# are the model output files in this dir\n",
    "outfiles = sorted(list(rundir.glob(\"*.csv\")))\n",
    "outfiles"
   ]
  },
  {
   "cell_type": "code",
   "execution_count": 4,
   "id": "51c7f8be",
   "metadata": {
    "execution": {
     "iopub.execute_input": "2025-07-03T18:19:02.976809Z",
     "iopub.status.busy": "2025-07-03T18:19:02.976442Z",
     "iopub.status.idle": "2025-07-03T18:19:02.982819Z",
     "shell.execute_reply": "2025-07-03T18:19:02.982144Z",
     "shell.execute_reply.started": "2025-07-03T18:19:02.976785Z"
    }
   },
   "outputs": [],
   "source": [
    "# 👆👆👆👆 note that we were explicit about order here,\n",
    "# because glob may differ by os (IMPORTANT!)\n",
    "# So using sorted is important\n"
   ]
  },
  {
   "cell_type": "code",
   "execution_count": 5,
   "id": "f96af688",
   "metadata": {
    "execution": {
     "iopub.execute_input": "2025-07-03T18:19:03.495096Z",
     "iopub.status.busy": "2025-07-03T18:19:03.494711Z",
     "iopub.status.idle": "2025-07-03T18:19:03.567489Z",
     "shell.execute_reply": "2025-07-03T18:19:03.566603Z",
     "shell.execute_reply.started": "2025-07-03T18:19:03.495073Z"
    }
   },
   "outputs": [
    {
     "data": {
      "text/html": [
       "<div>\n",
       "<style scoped>\n",
       "    .dataframe tbody tr th:only-of-type {\n",
       "        vertical-align: middle;\n",
       "    }\n",
       "\n",
       "    .dataframe tbody tr th {\n",
       "        vertical-align: top;\n",
       "    }\n",
       "\n",
       "    .dataframe thead th {\n",
       "        text-align: right;\n",
       "    }\n",
       "</style>\n",
       "<table border=\"1\" class=\"dataframe\">\n",
       "  <thead>\n",
       "    <tr style=\"text-align: right;\">\n",
       "      <th></th>\n",
       "      <th>obsval</th>\n",
       "    </tr>\n",
       "  </thead>\n",
       "  <tbody>\n",
       "    <tr>\n",
       "      <th>W01</th>\n",
       "      <td>15.704923</td>\n",
       "    </tr>\n",
       "    <tr>\n",
       "      <th>W02</th>\n",
       "      <td>13.327885</td>\n",
       "    </tr>\n",
       "    <tr>\n",
       "      <th>W03</th>\n",
       "      <td>16.088156</td>\n",
       "    </tr>\n",
       "    <tr>\n",
       "      <th>W04</th>\n",
       "      <td>15.418734</td>\n",
       "    </tr>\n",
       "    <tr>\n",
       "      <th>W05</th>\n",
       "      <td>11.974261</td>\n",
       "    </tr>\n",
       "    <tr>\n",
       "      <th>W06</th>\n",
       "      <td>13.669466</td>\n",
       "    </tr>\n",
       "    <tr>\n",
       "      <th>W07</th>\n",
       "      <td>9.649758</td>\n",
       "    </tr>\n",
       "    <tr>\n",
       "      <th>W08</th>\n",
       "      <td>9.273497</td>\n",
       "    </tr>\n",
       "    <tr>\n",
       "      <th>W09</th>\n",
       "      <td>9.872218</td>\n",
       "    </tr>\n",
       "    <tr>\n",
       "      <th>W10</th>\n",
       "      <td>13.981729</td>\n",
       "    </tr>\n",
       "    <tr>\n",
       "      <th>W11</th>\n",
       "      <td>4.747139</td>\n",
       "    </tr>\n",
       "    <tr>\n",
       "      <th>W12</th>\n",
       "      <td>5.789967</td>\n",
       "    </tr>\n",
       "    <tr>\n",
       "      <th>W13</th>\n",
       "      <td>11.565209</td>\n",
       "    </tr>\n",
       "    <tr>\n",
       "      <th>W14</th>\n",
       "      <td>3.303968</td>\n",
       "    </tr>\n",
       "    <tr>\n",
       "      <th>W15</th>\n",
       "      <td>6.837839</td>\n",
       "    </tr>\n",
       "    <tr>\n",
       "      <th>W16</th>\n",
       "      <td>3.700864</td>\n",
       "    </tr>\n",
       "    <tr>\n",
       "      <th>W17</th>\n",
       "      <td>10.250529</td>\n",
       "    </tr>\n",
       "    <tr>\n",
       "      <th>U01</th>\n",
       "      <td>15.737069</td>\n",
       "    </tr>\n",
       "    <tr>\n",
       "      <th>U02</th>\n",
       "      <td>13.359842</td>\n",
       "    </tr>\n",
       "    <tr>\n",
       "      <th>U03</th>\n",
       "      <td>16.116245</td>\n",
       "    </tr>\n",
       "    <tr>\n",
       "      <th>U04</th>\n",
       "      <td>15.446965</td>\n",
       "    </tr>\n",
       "    <tr>\n",
       "      <th>U05</th>\n",
       "      <td>12.012734</td>\n",
       "    </tr>\n",
       "    <tr>\n",
       "      <th>U06</th>\n",
       "      <td>13.698470</td>\n",
       "    </tr>\n",
       "    <tr>\n",
       "      <th>U07</th>\n",
       "      <td>9.683770</td>\n",
       "    </tr>\n",
       "    <tr>\n",
       "      <th>U08</th>\n",
       "      <td>9.309150</td>\n",
       "    </tr>\n",
       "    <tr>\n",
       "      <th>U09</th>\n",
       "      <td>9.905818</td>\n",
       "    </tr>\n",
       "    <tr>\n",
       "      <th>U10</th>\n",
       "      <td>14.010321</td>\n",
       "    </tr>\n",
       "    <tr>\n",
       "      <th>U11</th>\n",
       "      <td>4.780273</td>\n",
       "    </tr>\n",
       "    <tr>\n",
       "      <th>U12</th>\n",
       "      <td>5.824199</td>\n",
       "    </tr>\n",
       "    <tr>\n",
       "      <th>U13</th>\n",
       "      <td>11.594127</td>\n",
       "    </tr>\n",
       "    <tr>\n",
       "      <th>U14</th>\n",
       "      <td>3.327544</td>\n",
       "    </tr>\n",
       "    <tr>\n",
       "      <th>U15</th>\n",
       "      <td>6.882131</td>\n",
       "    </tr>\n",
       "    <tr>\n",
       "      <th>U16</th>\n",
       "      <td>3.735177</td>\n",
       "    </tr>\n",
       "    <tr>\n",
       "      <th>U17</th>\n",
       "      <td>10.279639</td>\n",
       "    </tr>\n",
       "    <tr>\n",
       "      <th>CHDFLOW</th>\n",
       "      <td>-131214.809918</td>\n",
       "    </tr>\n",
       "    <tr>\n",
       "      <th>PF</th>\n",
       "      <td>-140338.873404</td>\n",
       "    </tr>\n",
       "    <tr>\n",
       "      <th>DS</th>\n",
       "      <td>-579525.871920</td>\n",
       "    </tr>\n",
       "  </tbody>\n",
       "</table>\n",
       "</div>"
      ],
      "text/plain": [
       "                obsval\n",
       "W01          15.704923\n",
       "W02          13.327885\n",
       "W03          16.088156\n",
       "W04          15.418734\n",
       "W05          11.974261\n",
       "W06          13.669466\n",
       "W07           9.649758\n",
       "W08           9.273497\n",
       "W09           9.872218\n",
       "W10          13.981729\n",
       "W11           4.747139\n",
       "W12           5.789967\n",
       "W13          11.565209\n",
       "W14           3.303968\n",
       "W15           6.837839\n",
       "W16           3.700864\n",
       "W17          10.250529\n",
       "U01          15.737069\n",
       "U02          13.359842\n",
       "U03          16.116245\n",
       "U04          15.446965\n",
       "U05          12.012734\n",
       "U06          13.698470\n",
       "U07           9.683770\n",
       "U08           9.309150\n",
       "U09           9.905818\n",
       "U10          14.010321\n",
       "U11           4.780273\n",
       "U12           5.824199\n",
       "U13          11.594127\n",
       "U14           3.327544\n",
       "U15           6.882131\n",
       "U16           3.735177\n",
       "U17          10.279639\n",
       "CHDFLOW -131214.809918\n",
       "PF      -140338.873404\n",
       "DS      -579525.871920"
      ]
     },
     "execution_count": 5,
     "metadata": {},
     "output_type": "execute_result"
    }
   ],
   "source": [
    "# read all the output files into a single dataframe\n",
    "obs = pd.concat([pd.read_csv(i).T.iloc[1:] for i in outfiles])\n",
    "obs.columns = [\"obsval\"]\n",
    "obs"
   ]
  },
  {
   "cell_type": "code",
   "execution_count": 6,
   "id": "69f9137c-6570-43d7-b80e-7d2bb62b50f1",
   "metadata": {
    "execution": {
     "iopub.execute_input": "2025-07-03T18:19:04.506265Z",
     "iopub.status.busy": "2025-07-03T18:19:04.505912Z",
     "iopub.status.idle": "2025-07-03T18:19:04.524385Z",
     "shell.execute_reply": "2025-07-03T18:19:04.518968Z",
     "shell.execute_reply.started": "2025-07-03T18:19:04.506242Z"
    }
   },
   "outputs": [],
   "source": [
    "# make the DS observation cumulative, including Pollack Ford\n",
    "obs.loc[\"DS\"] = obs.loc[\"DS\"] + obs.loc[\"PF\"]\n",
    "# also calculate a few (3) vertical head difference targets\n",
    "obs.loc[\"UW02\", \"obsval\"] = obs.loc[\"U02\", \"obsval\"] - obs.loc[\"W02\", \"obsval\"]\n",
    "obs.loc[\"UW08\", \"obsval\"] = obs.loc[\"U08\", \"obsval\"] - obs.loc[\"W08\", \"obsval\"]\n",
    "obs.loc[\"UW15\", \"obsval\"] = obs.loc[\"U15\", \"obsval\"] - obs.loc[\"W15\", \"obsval\"]"
   ]
  },
  {
   "cell_type": "code",
   "execution_count": 7,
   "id": "96c9b0cc",
   "metadata": {
    "execution": {
     "iopub.execute_input": "2025-07-03T18:19:04.775825Z",
     "iopub.status.busy": "2025-07-03T18:19:04.775472Z",
     "iopub.status.idle": "2025-07-03T18:19:04.808656Z",
     "shell.execute_reply": "2025-07-03T18:19:04.807820Z",
     "shell.execute_reply.started": "2025-07-03T18:19:04.775803Z"
    }
   },
   "outputs": [],
   "source": [
    "# write out all these data to an example file\n",
    "obs.to_csv(\"../pest_background_files/allobs.dat\", sep=\" \")"
   ]
  },
  {
   "cell_type": "code",
   "execution_count": 8,
   "id": "e6fccf74",
   "metadata": {
    "execution": {
     "iopub.execute_input": "2025-07-03T18:19:05.271192Z",
     "iopub.status.busy": "2025-07-03T18:19:05.270854Z",
     "iopub.status.idle": "2025-07-03T18:19:05.288105Z",
     "shell.execute_reply": "2025-07-03T18:19:05.287337Z",
     "shell.execute_reply.started": "2025-07-03T18:19:05.271168Z"
    }
   },
   "outputs": [
    {
     "data": {
      "text/plain": [
       "['w01',\n",
       " 'w02',\n",
       " 'w03',\n",
       " 'w04',\n",
       " 'w05',\n",
       " 'w06',\n",
       " 'w07',\n",
       " 'w08',\n",
       " 'w09',\n",
       " 'w10',\n",
       " 'w11',\n",
       " 'w12',\n",
       " 'w13',\n",
       " 'w14',\n",
       " 'w15',\n",
       " 'w16',\n",
       " 'w17',\n",
       " 'u01',\n",
       " 'u02',\n",
       " 'u03',\n",
       " 'u04',\n",
       " 'u05',\n",
       " 'u06',\n",
       " 'u07',\n",
       " 'u08',\n",
       " 'u09',\n",
       " 'u10',\n",
       " 'u11',\n",
       " 'u12',\n",
       " 'u13',\n",
       " 'u14',\n",
       " 'u15',\n",
       " 'u16',\n",
       " 'u17',\n",
       " 'chdflow',\n",
       " 'pf',\n",
       " 'ds',\n",
       " 'uw02',\n",
       " 'uw08',\n",
       " 'uw15']"
      ]
     },
     "execution_count": 8,
     "metadata": {},
     "output_type": "execute_result"
    }
   ],
   "source": [
    "# make the observation names into lower case\n",
    "obsnames = [i.lower() for i in obs.index.tolist()]\n",
    "obsnames"
   ]
  },
  {
   "cell_type": "markdown",
   "id": "162a7549",
   "metadata": {},
   "source": [
    "### making the assumption that model output will be concatenated exactly as done above, we can make a simple instruction file that will be used by PEST++ to read model output"
   ]
  },
  {
   "cell_type": "code",
   "execution_count": 9,
   "id": "91e3e34a",
   "metadata": {
    "execution": {
     "iopub.execute_input": "2025-07-03T18:19:06.057061Z",
     "iopub.status.busy": "2025-07-03T18:19:06.056722Z",
     "iopub.status.idle": "2025-07-03T18:19:06.073078Z",
     "shell.execute_reply": "2025-07-03T18:19:06.072284Z",
     "shell.execute_reply.started": "2025-07-03T18:19:06.057039Z"
    }
   },
   "outputs": [],
   "source": [
    "with open(\"../pest_background_files/allobs.dat.ins\", \"w\") as ofp:\n",
    "    ofp.write(\"pif ~\\n\")\n",
    "    obs0 = obsnames.pop(0)\n",
    "    ofp.write(f\"l2 w !{obs0}!\\n\")\n",
    "    [ofp.write(f\"l1 w !{i}!\\n\") for i in obsnames]"
   ]
  },
  {
   "cell_type": "code",
   "execution_count": null,
   "id": "8c19fae4-ba1d-4016-b61d-9dc4f3c1e5f2",
   "metadata": {},
   "outputs": [],
   "source": []
  },
  {
   "cell_type": "code",
   "execution_count": null,
   "id": "54d8a58c-fe10-41dd-bd93-f71070e3124b",
   "metadata": {},
   "outputs": [],
   "source": []
  },
  {
   "cell_type": "code",
   "execution_count": null,
   "id": "5fa70174-710f-41e7-9e94-6099f7dc2c5a",
   "metadata": {},
   "outputs": [],
   "source": []
  }
 ],
 "metadata": {
  "kernelspec": {
   "display_name": "Python 3 (ipykernel)",
   "language": "python",
   "name": "python3"
  },
  "language_info": {
   "codemirror_mode": {
    "name": "ipython",
    "version": 3
   },
   "file_extension": ".py",
   "mimetype": "text/x-python",
   "name": "python",
   "nbconvert_exporter": "python",
   "pygments_lexer": "ipython3",
   "version": "3.11.13"
  }
 },
 "nbformat": 4,
 "nbformat_minor": 5
}
