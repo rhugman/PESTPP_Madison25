{
 "cells": [
  {
   "cell_type": "code",
   "execution_count": null,
   "id": "a8f21e54-7154-4f14-9b5d-660a61daa2fa",
   "metadata": {},
   "outputs": [],
   "source": [
    "import os\n",
    "import numpy as np\n",
    "import matplotlib.pyplot as plt\n",
    "import pyemu\n",
    "import flopy\n",
    "import platform\n",
    "from pathlib import Path\n",
    "import shutil\n",
    "import pandas as pd"
   ]
  },
  {
   "cell_type": "code",
   "execution_count": null,
   "id": "4117da68-8f89-47b5-9a02-65a333f8ed0d",
   "metadata": {},
   "outputs": [],
   "source": [
    "org_ws = Path('../MV_Model_Files/')\n",
    "new_ws = 'simple_ies'\n",
    "if \"macos\" in platform.platform().lower() or \"darwin\" in platform.platform().lower():\n",
    "    exe_dir = Path('../bin/mac/')\n",
    "elif \"linux\" in platform.platform().lower():\n",
    "    exe_dir = Path('../bin/linux/')\n",
    "else:\n",
    "    exe_dir = Path('../bin/windows/')"
   ]
  },
  {
   "cell_type": "code",
   "execution_count": null,
   "id": "02b82a0c-de39-417b-90e0-70fb448939d5",
   "metadata": {},
   "outputs": [],
   "source": [
    "if os.path.exists(new_ws):\n",
    "    shutil.rmtree(new_ws)\n",
    "shutil.copytree(org_ws, new_ws)\n",
    "for f in os.listdir(exe_dir):\n",
    "    shutil.copy2(os.path.join(exe_dir,f),os.path.join(new_ws,f))"
   ]
  },
  {
   "cell_type": "code",
   "execution_count": null,
   "id": "28115f1f-028f-4578-b3a9-8e8ff9da5329",
   "metadata": {},
   "outputs": [],
   "source": [
    "sim = flopy.mf6.MFSimulation.load(sim_ws = new_ws)"
   ]
  },
  {
   "cell_type": "code",
   "execution_count": null,
   "id": "724a342f-b3be-4263-9a63-4e1e83633413",
   "metadata": {},
   "outputs": [],
   "source": [
    "pyemu.os_utils.run('mf6',cwd=new_ws)"
   ]
  },
  {
   "cell_type": "code",
   "execution_count": null,
   "id": "c7f7e8fc-9f08-4da7-b995-99fd7e8c5857",
   "metadata": {},
   "outputs": [],
   "source": [
    "for f in [\"k_aq.ref\",\"k_clay.ref\"]:\n",
    "    arr = np.loadtxt(os.path.join(new_ws,f))\n",
    "    arr[:,:] = arr.mean()\n",
    "    np.savetxt(os.path.join(new_ws,f),arr,fmt=\"%15.6E\")"
   ]
  },
  {
   "cell_type": "code",
   "execution_count": null,
   "id": "425a10ac-fcfa-4f3c-b2c6-f9d8426451fa",
   "metadata": {},
   "outputs": [],
   "source": [
    "pyemu.os_utils.run('mf6',cwd=new_ws)"
   ]
  },
  {
   "cell_type": "code",
   "execution_count": null,
   "id": "b3e790e9-0a97-4cca-a09e-30ae2aa7dbc9",
   "metadata": {},
   "outputs": [],
   "source": [
    "#need a spatial reference to use pilot points. this means xoff, yoff, rotation, epsg\n",
    "m=sim.get_model()\n",
    "m.modelgrid"
   ]
  },
  {
   "cell_type": "code",
   "execution_count": null,
   "id": "789ca711-06f7-468e-86da-351f1c1e633e",
   "metadata": {},
   "outputs": [],
   "source": [
    "pf = pyemu.utils.PstFrom(original_d=new_ws,\n",
    "                         new_d='template',\n",
    "                         remove_existing=True,\n",
    "                         start_datetime=\"1-1-2025\",\n",
    "                         spatial_reference=m.modelgrid)"
   ]
  },
  {
   "cell_type": "code",
   "execution_count": null,
   "id": "2b2412d5-bdc6-4d15-ac0c-c6b4d363da31",
   "metadata": {},
   "outputs": [],
   "source": [
    "?pf.add_parameters"
   ]
  },
  {
   "cell_type": "code",
   "execution_count": null,
   "id": "58437ee2-34d5-490b-af7e-101521070d5c",
   "metadata": {},
   "outputs": [],
   "source": [
    "k_pars = [f for f in os.listdir(new_ws) if 'k_' in f and f.endswith('.ref')]\n",
    "k_pars\n",
    "for f in k_pars:\n",
    "    pf.add_parameters(f,par_type='constant',upper_bound=20,lower_bound=0.05,pargp=\"cn-\"+f,par_name_base=\"cn-\"+f)"
   ]
  },
  {
   "cell_type": "code",
   "execution_count": null,
   "id": "41e10938-c9fa-4ffd-8f83-19beb0098db3",
   "metadata": {},
   "outputs": [],
   "source": [
    "#for pilot points, we first need to build a variogram, which describes the underlying spatial correlation structure of the variable\n",
    "pp_v = pyemu.geostats.ExpVario(contribution=1.0, a=5000) #rule of thumb is that range should be atleast 2x pp spacing (delr= 500\n",
    "pp_gs = pyemu.geostats.GeoStruct(variograms=pp_v,transform='log')\n",
    "ax=pp_gs.plot()\n",
    "ax.axvline(x=500*5*5)"
   ]
  },
  {
   "cell_type": "code",
   "execution_count": null,
   "id": "26ff0d24-fd8f-47ec-82a4-9be3f91ac23f",
   "metadata": {},
   "outputs": [],
   "source": [
    "for f in k_pars:\n",
    "    base = f.split('.')[0]\n",
    "    pf.add_parameters(f,par_type='pilotpoint',upper_bound=20,lower_bound=0.05,pp_space=3,geostruct=pp_gs,pargp=\"pp-\"+f,par_name_base=\"pp-\"+f)"
   ]
  },
  {
   "cell_type": "code",
   "execution_count": null,
   "id": "58464e8b-42f9-4415-80ec-90c92ebe2380",
   "metadata": {},
   "outputs": [],
   "source": [
    "?pf.add_observations"
   ]
  },
  {
   "cell_type": "code",
   "execution_count": null,
   "id": "0747850a",
   "metadata": {},
   "outputs": [],
   "source": [
    "[f for f in os.listdir(new_ws) if f.endswith('.csv')]"
   ]
  },
  {
   "cell_type": "code",
   "execution_count": null,
   "id": "5c345493-088a-48d0-add7-b95cf4632c42",
   "metadata": {},
   "outputs": [],
   "source": [
    "obs_csvs = [f for f in os.listdir(new_ws) if f.endswith('.csv')]\n",
    "for f in obs_csvs:\n",
    "    df = pd.read_csv(os.path.join(new_ws,f))\n",
    "    pf.add_observations(f,index_cols='time',use_cols=df.columns.tolist()[1:])"
   ]
  },
  {
   "cell_type": "code",
   "execution_count": null,
   "id": "b433ee2a-bfeb-40b3-93c6-618c5ce8c0f4",
   "metadata": {},
   "outputs": [],
   "source": [
    "for f in k_pars:\n",
    "    pf.add_observations(f)"
   ]
  },
  {
   "cell_type": "code",
   "execution_count": null,
   "id": "4caa4783-6f37-49c7-a5d8-b19289062a25",
   "metadata": {},
   "outputs": [],
   "source": [
    "pf.mod_sys_cmds.append('mf6')"
   ]
  },
  {
   "cell_type": "code",
   "execution_count": null,
   "id": "466eac0f-9fe4-4fe1-8ede-51503e5bf279",
   "metadata": {},
   "outputs": [],
   "source": [
    "?pf.draw"
   ]
  },
  {
   "cell_type": "code",
   "execution_count": null,
   "id": "8f0aa111-aa55-4ce2-ae66-b2a1bcc70cfa",
   "metadata": {},
   "outputs": [],
   "source": [
    "pst = pf.build_pst(filename=os.path.join(pf.new_d,'at.pst'),version=2)\n"
   ]
  },
  {
   "cell_type": "code",
   "execution_count": null,
   "id": "367606d0",
   "metadata": {},
   "outputs": [],
   "source": [
    "# add in the recharge parameter\n",
    "r = pst.add_parameters('./simple_ies/at.rch.tpl', pst_path='.')\n",
    "pars = pst.parameter_data\n",
    "pars.loc['rch','parval1'] = r.loc['rch'].parval1\n",
    "pars.loc['rch','parlbnd'] = pars.loc['rch'].parval1 * .8\n",
    "pars.loc['rch','parubnd'] = pars.loc['rch'].parval1 * 1.2\n",
    "pars.loc['rch','pargp'] = 'recharge'\n",
    "\n",
    "pars.loc['rch']"
   ]
  },
  {
   "cell_type": "code",
   "execution_count": null,
   "id": "6e19ead8",
   "metadata": {},
   "outputs": [],
   "source": [
    "rb = pst.add_parameters('./simple_ies/riv.ref.tpl', pst_path='.')\n",
    "rb"
   ]
  },
  {
   "cell_type": "code",
   "execution_count": null,
   "id": "8cc18361",
   "metadata": {},
   "outputs": [],
   "source": [
    "# and the riverbed conductance\n",
    "pars = pst.parameter_data\n",
    "pars.loc['rv1','parval1'] = rb.loc['rv1'].parval1\n",
    "pars.loc['rv1','parlbnd'] = pars.loc['rv1'].parval1 * .1\n",
    "pars.loc['rv1','parubnd'] = pars.loc['rv1'].parval1 * 10.0\n",
    "pars.loc['rv1','pargp'] = 'riverbed'\n",
    "\n",
    "pars.loc['rv1']"
   ]
  },
  {
   "cell_type": "code",
   "execution_count": null,
   "id": "7518b65b",
   "metadata": {},
   "outputs": [],
   "source": [
    "pst.write(os.path.join(pf.new_d,'at.pst'),version=2)"
   ]
  },
  {
   "cell_type": "code",
   "execution_count": null,
   "id": "a4d0f7ec-118c-4d45-b5fc-9ebfe9722818",
   "metadata": {},
   "outputs": [],
   "source": [
    "#draw prior ensemble that accounts for PP spatial correlation (this is for later for when we want to use iES)\n",
    "pe = pf.draw(num_reals=300)\n",
    "pe.enforce()\n",
    "pe.to_csv(os.path.join(pf.new_d,'prior.csv'))\n",
    "\n"
   ]
  },
  {
   "cell_type": "code",
   "execution_count": null,
   "id": "87288420-69e9-4b1c-9e34-0347d1bce101",
   "metadata": {},
   "outputs": [],
   "source": [
    "pst = pyemu.Pst(filename=os.path.join(pf.new_d,'at.pst'))\n"
   ]
  },
  {
   "cell_type": "code",
   "execution_count": null,
   "id": "f74eaf99",
   "metadata": {},
   "outputs": [],
   "source": [
    "pst.pestpp_options[\"ies_par_en\"] = \"prior.csv\"\n",
    "obs = pst.observation_data\n",
    "obs"
   ]
  },
  {
   "cell_type": "code",
   "execution_count": null,
   "id": "9337e772-a687-409b-b47a-06ec6f460e17",
   "metadata": {},
   "outputs": [],
   "source": [
    "pyemu.os_utils.run('pestpp-ies at.pst',cwd='template')"
   ]
  },
  {
   "cell_type": "code",
   "execution_count": null,
   "id": "b4e301be-0abd-41f3-a20a-d8ea8f5612aa",
   "metadata": {},
   "outputs": [],
   "source": [
    "pst.set_res(os.path.join(pf.new_d,\"at.base.rei\"))"
   ]
  },
  {
   "cell_type": "code",
   "execution_count": null,
   "id": "6bec3dba-0c4b-4ef1-ae80-40b74def7b7e",
   "metadata": {},
   "outputs": [],
   "source": [
    "pst.phi"
   ]
  },
  {
   "cell_type": "code",
   "execution_count": null,
   "id": "ef5c5139-8f25-4a28-92fb-27c9cecb860e",
   "metadata": {},
   "outputs": [],
   "source": [
    "assert pst.phi < 1e-6"
   ]
  },
  {
   "cell_type": "code",
   "execution_count": null,
   "id": "8304bd18-4acc-4208-897e-989509afff75",
   "metadata": {},
   "outputs": [],
   "source": [
    "#zero everything out for starters\n",
    "obs.weight = 0"
   ]
  },
  {
   "cell_type": "code",
   "execution_count": null,
   "id": "13288f1e-589c-44d9-b50e-eddac0a8e20a",
   "metadata": {},
   "outputs": [],
   "source": [
    "#we need to tell PEST what are the observed values and their weights, to calc the objective function\n",
    "truth = pd.read_csv(os.path.join(new_ws,'obsvalues.dat'),sep=r'\\s+')\n",
    "truth"
   ]
  },
  {
   "cell_type": "code",
   "execution_count": null,
   "id": "accc23a0-0319-479c-a1b3-69b8278f422a",
   "metadata": {},
   "outputs": [],
   "source": [
    "obs[\"standard_deviation\"] = np.nan\n",
    "for i,stuff in truth.iterrows():\n",
    "    if \"headgroup\" in stuff.obgnme or \"headdiffgroup\" in stuff.obgnme or \"riv\" in stuff.obgnme:\n",
    "        obs.loc[obs.obsnme.str.contains(stuff.obsnme),'obsval'] = stuff.obsval\n",
    "        obs.loc[obs.obsnme.str.contains(stuff.obsnme),'weight'] = stuff.weight\n",
    "        obs.loc[obs.obsnme.str.contains(stuff.obsnme),'obgnme'] = stuff.obgnme\n",
    "        if \"headdiff\" in stuff.obgnme:\n",
    "            obs.loc[obs.obsnme.str.contains(stuff.obsnme),'standard_deviation'] = np.abs(stuff.obsval) * 0.15 \n",
    "        elif \"headgroup\" in stuff.obgnme:\n",
    "            obs.loc[obs.obsnme.str.contains(stuff.obsnme),'standard_deviation'] = 0.5\n",
    "        else:\n",
    "            obs.loc[obs.obsnme.str.contains(stuff.obsnme),'standard_deviation'] = np.abs(stuff.obsval) * 0.2 "
   ]
  },
  {
   "cell_type": "code",
   "execution_count": null,
   "id": "a74e917d",
   "metadata": {},
   "outputs": [],
   "source": [
    "obs.loc[obs.weight>0]"
   ]
  },
  {
   "cell_type": "code",
   "execution_count": null,
   "id": "26e7906d-1a0c-425c-9127-c9929d93180c",
   "metadata": {},
   "outputs": [],
   "source": [
    "obs.loc[obs.weight>0,:].describe()"
   ]
  },
  {
   "cell_type": "code",
   "execution_count": null,
   "id": "fd05867f-9f2a-40f7-98cd-5857eb6b4414",
   "metadata": {},
   "outputs": [],
   "source": [
    "pst.observation_data = obs\n",
    "pst.write(os.path.join(pf.new_d,'at.pst'),version=2)"
   ]
  },
  {
   "cell_type": "code",
   "execution_count": null,
   "id": "34896a1f-9945-4b7a-b440-41fc31ee7008",
   "metadata": {},
   "outputs": [],
   "source": [
    "pyemu.os_utils.run('pestpp-ies at.pst',cwd='template')"
   ]
  },
  {
   "cell_type": "code",
   "execution_count": null,
   "id": "54f395f3-db0f-4627-8b4d-ea61efc5693d",
   "metadata": {},
   "outputs": [],
   "source": [
    "phi= pst.phi\n",
    "phi"
   ]
  },
  {
   "cell_type": "code",
   "execution_count": null,
   "id": "52a7b73f-c6c0-47fe-8bb2-3a1d7ffe15e7",
   "metadata": {},
   "outputs": [],
   "source": [
    "pst.parameter_data.loc[:,\"parval1\"] = pe.loc[pe.index[0],pst.par_names].values"
   ]
  },
  {
   "cell_type": "code",
   "execution_count": null,
   "id": "7e77812a-33a1-4c10-9ef6-f03a7b4fadc4",
   "metadata": {},
   "outputs": [],
   "source": [
    "pst.parameter_data.head()"
   ]
  },
  {
   "cell_type": "code",
   "execution_count": null,
   "id": "4baab63b-7274-49a1-89e7-f9ebfc253096",
   "metadata": {},
   "outputs": [],
   "source": [
    "pst.write(os.path.join(pf.new_d,\"test.pst\"),version=2)\n",
    "pyemu.os_utils.run(\"pestpp-ies test.pst\",cwd=pf.new_d)"
   ]
  },
  {
   "cell_type": "code",
   "execution_count": null,
   "id": "60d0bc79-16c6-4220-a257-1eed63ee488d",
   "metadata": {},
   "outputs": [],
   "source": [
    "pst.set_res(os.path.join(pf.new_d,\"test.base.rei\"))\n",
    "pst.phi"
   ]
  },
  {
   "cell_type": "code",
   "execution_count": null,
   "id": "c2649910-e71f-473a-927d-928e0ea76091",
   "metadata": {},
   "outputs": [],
   "source": [
    "kobs = obs.loc[obs.obsnme.str.contains(\"k_aq\"),:].copy()\n",
    "kobs['i'] = kobs.i.astype(int)\n",
    "kobs['j'] = kobs.j.astype(int)"
   ]
  },
  {
   "cell_type": "code",
   "execution_count": null,
   "id": "7b961398-20fc-4da3-b523-9826c7258aa5",
   "metadata": {},
   "outputs": [],
   "source": [
    "arr = np.zeros((kobs.i.max()+1,kobs.j.max()+1))\n",
    "arr[kobs.i,kobs.j] = np.log10(pst.res.loc[kobs.obsnme,\"modelled\"].values)\n",
    "cb = plt.imshow(arr)\n",
    "plt.colorbar(cb)"
   ]
  },
  {
   "cell_type": "code",
   "execution_count": null,
   "id": "728afa7e-1ffb-498e-ab42-20c11c2fe1cf",
   "metadata": {},
   "outputs": [],
   "source": [
    "pst = pyemu.Pst(os.path.join(pf.new_d,\"at.pst\"))\n",
    "pst.control_data.noptmax = -2\n",
    "pst.write(os.path.join(pf.new_d,\"at.pst\"),version=2)\n",
    "pyemu.os_utils.run(\"pestpp-ies at.pst\",cwd=pf.new_d)"
   ]
  },
  {
   "cell_type": "code",
   "execution_count": null,
   "id": "f19f08c6-9a9c-480b-911d-7507bdf3729f",
   "metadata": {},
   "outputs": [],
   "source": [
    "pst.set_res(os.path.join(pf.new_d,\"at.base.rei\"))\n",
    "pst.phi"
   ]
  },
  {
   "cell_type": "code",
   "execution_count": null,
   "id": "3a4e3eab-fcbd-4dbc-be7f-9d3dff6df7a6",
   "metadata": {},
   "outputs": [],
   "source": [
    "arr = np.zeros((kobs.i.max()+1,kobs.j.max()+1))\n",
    "arr[kobs.i,kobs.j] = np.log10(pst.res.loc[kobs.obsnme,\"modelled\"].values)\n",
    "cb = plt.imshow(arr)\n",
    "plt.colorbar(cb)"
   ]
  },
  {
   "cell_type": "code",
   "execution_count": null,
   "id": "770163a9-f66a-4989-95c9-b3962f17ddff",
   "metadata": {},
   "outputs": [],
   "source": []
  },
  {
   "cell_type": "code",
   "execution_count": null,
   "id": "5e794ab3",
   "metadata": {},
   "outputs": [],
   "source": []
  }
 ],
 "metadata": {
  "language_info": {
   "name": "python"
  }
 },
 "nbformat": 4,
 "nbformat_minor": 5
}
