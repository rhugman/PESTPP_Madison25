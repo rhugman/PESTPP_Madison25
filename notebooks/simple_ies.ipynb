{
 "cells": [
  {
   "cell_type": "code",
   "execution_count": null,
   "id": "a0bcc856-86f0-47bb-b201-af2d9335ca57",
   "metadata": {},
   "outputs": [],
   "source": [
    "import os\n",
    "import sys\n",
    "sys.path.insert(0,\"..\")\n",
    "import numpy as np\n",
    "import matplotlib.pyplot as plt\n",
    "import pyemu\n",
    "print(pyemu.__file__)\n",
    "import flopy\n",
    "import platform\n",
    "from pathlib import Path\n",
    "import shutil\n",
    "import pandas as pd\n",
    "from plot_helpers import plot_ies_results"
   ]
  },
  {
   "cell_type": "code",
   "execution_count": null,
   "id": "0bc68af4-4c11-438b-9bfd-52ddded58869",
   "metadata": {},
   "outputs": [],
   "source": [
    "t_d = \"template\"\n",
    "if not os.path.exists(t_d):\n",
    "    raise Exception(\"need to run simple_pstfrom notebook\")"
   ]
  },
  {
   "cell_type": "code",
   "execution_count": null,
   "id": "4a4489e7-7066-4b3b-9d89-6080341732ae",
   "metadata": {},
   "outputs": [],
   "source": [
    "pst = pyemu.Pst(os.path.join(t_d,\"at.pst\"))\n",
    "pst.npar,pst.nobs"
   ]
  },
  {
   "cell_type": "code",
   "execution_count": null,
   "id": "ea9ff327-0b96-4231-a8b8-71367090145a",
   "metadata": {},
   "outputs": [],
   "source": [
    "pst.pestpp_options"
   ]
  },
  {
   "cell_type": "code",
   "execution_count": null,
   "id": "e1d96d0c-5b11-41d1-be28-7413358a05d1",
   "metadata": {},
   "outputs": [],
   "source": [
    "if \"ies_par_en\" not in pst.pestpp_options:\n",
    "    raise Exception(\"prior par ensemble not found\")"
   ]
  },
  {
   "cell_type": "code",
   "execution_count": null,
   "id": "5f3e9ce9-7a05-4579-a76c-a5a905401707",
   "metadata": {},
   "outputs": [],
   "source": [
    "pst.pestpp_options = {\"ies_par_en\":pst.pestpp_options[\"ies_par_en\"]}\n",
    "pst.pestpp_options[\"ies_num_reals\"] = 50\n",
    "pst.pestpp_options[\"ies_bad_phi_sigma\"] = 1.75\n",
    "pst.pestpp_options"
   ]
  },
  {
   "cell_type": "code",
   "execution_count": null,
   "id": "8c5da2b9-9c40-4f90-ae64-97a7b5617749",
   "metadata": {},
   "outputs": [],
   "source": [
    "pst.control_data.noptmax = 5"
   ]
  },
  {
   "cell_type": "code",
   "execution_count": null,
   "id": "f31795f0",
   "metadata": {},
   "outputs": [],
   "source": [
    "pst.obs_groups"
   ]
  },
  {
   "cell_type": "code",
   "execution_count": null,
   "id": "ea9570e1",
   "metadata": {},
   "outputs": [],
   "source": [
    "weighted_groups = pst.nnz_obs_groups\n",
    "weighted_groups.sort()\n",
    "weighted_groups"
   ]
  },
  {
   "cell_type": "code",
   "execution_count": null,
   "id": "04c12b25",
   "metadata": {},
   "outputs": [],
   "source": [
    "wts = [1e-30,.8,.2]"
   ]
  },
  {
   "cell_type": "code",
   "execution_count": null,
   "id": "ecf9df3b",
   "metadata": {},
   "outputs": [],
   "source": [
    "with open(f'{t_d}/phi_factors.csv', 'w') as ofp:\n",
    "    [ofp.write(f'{g},{w}\\n') for g,w in zip(weighted_groups,wts)]"
   ]
  },
  {
   "cell_type": "code",
   "execution_count": null,
   "id": "2f9c96ea",
   "metadata": {},
   "outputs": [],
   "source": [
    "pst.pestpp_options['ies_phi_factor_file']='phi_factors.csv'"
   ]
  },
  {
   "cell_type": "code",
   "execution_count": null,
   "id": "10534e3a-1dbb-4696-9a81-07833d7a4de3",
   "metadata": {},
   "outputs": [],
   "source": [
    "pst.write(os.path.join(t_d,\"at.pst\"),version=2)"
   ]
  },
  {
   "cell_type": "code",
   "execution_count": null,
   "id": "bffee342-a97e-4112-a8f7-4c295f91b026",
   "metadata": {},
   "outputs": [],
   "source": [
    "m_d = \"master_ies_simple\""
   ]
  },
  {
   "cell_type": "code",
   "execution_count": null,
   "id": "9485ba84-b53f-452e-92cc-1a90075dd01e",
   "metadata": {},
   "outputs": [],
   "source": [
    "pyemu.os_utils.start_workers(t_d,\"pestpp-ies\",\"at.pst\",num_workers=15,master_dir=m_d,worker_root='.')"
   ]
  },
  {
   "cell_type": "code",
   "execution_count": null,
   "id": "e0c8cbb6-cfa3-44cf-ab10-5729eb9087d9",
   "metadata": {},
   "outputs": [],
   "source": [
    "plot_ies_results(m_d)"
   ]
  },
  {
   "cell_type": "code",
   "execution_count": null,
   "id": "124ecb62-d834-4e5d-8d02-7ffe5ca18aea",
   "metadata": {},
   "outputs": [],
   "source": [
    "pst.pestpp_options[\"ies_no_noise\"] = True\n",
    "pst.write(os.path.join(t_d,\"at.pst\"),version=2)\n",
    "m_d = \"master_ies_nonoise\"\n",
    "pyemu.os_utils.start_workers(t_d,\"pestpp-ies\",\"at.pst\",num_workers=15,master_dir=m_d,worker_root='.')\n",
    "plot_ies_results(m_d,tag=\"no noise\")"
   ]
  },
  {
   "cell_type": "code",
   "execution_count": null,
   "id": "46594458-e09c-438e-adac-bdeb4f8193f6",
   "metadata": {},
   "outputs": [],
   "source": [
    "obs = pst.observation_data\n",
    "hobs = obs.loc[(obs.weight>0) & (obs.obgnme==\"headgroup\"),:]\n",
    "hobs.obsnme.tolist()\n",
    "assert len(hobs) > 0\n",
    "std = hobs.standard_deviation.max()\n",
    "std"
   ]
  },
  {
   "cell_type": "code",
   "execution_count": null,
   "id": "0847e0b1-f414-4e3a-9d1c-dbe324dca536",
   "metadata": {},
   "outputs": [],
   "source": [
    "offsets = np.random.normal(0.0,std,pst.ies.noise.shape[0])\n",
    "plt.hist(offsets)\n",
    "offsets.shape"
   ]
  },
  {
   "cell_type": "code",
   "execution_count": null,
   "id": "56873d25-76e1-44ac-97e7-e6b60f0d9c9c",
   "metadata": {},
   "outputs": [],
   "source": [
    "ovals = obs.loc[pst.nnz_obs_names,\"obsval\"].copy()\n",
    "noise = pst.ies.noise.copy()\n",
    "for i,idx in enumerate(noise.index):\n",
    "    if idx == \"base\":\n",
    "        offsets[i] = 0.0\n",
    "    noise.loc[idx,hobs.obsnme] = ovals[hobs.obsnme] + offsets[i]\n",
    "noise.to_csv(os.path.join(t_d,\"corrnoise.csv\"))\n",
    "#print(noise.loc[:,hobs.obsnme[0]]-ovals.loc[hobs.obsnme[0]])\n",
    "#print(noise.loc[:,hobs.obsnme[1]]-ovals.loc[hobs.obsnme[1]])"
   ]
  },
  {
   "cell_type": "code",
   "execution_count": null,
   "id": "3b1f1a91-69ef-4b4c-843e-fb086612bca1",
   "metadata": {},
   "outputs": [],
   "source": [
    "pst.pestpp_options[\"ies_obs_en\"] = \"corrnoise.csv\""
   ]
  },
  {
   "cell_type": "code",
   "execution_count": null,
   "id": "9198acfb-8d2e-476b-95aa-3ca697d74741",
   "metadata": {},
   "outputs": [],
   "source": [
    "pst.pestpp_options.pop(\"ies_no_noise\")"
   ]
  },
  {
   "cell_type": "code",
   "execution_count": null,
   "id": "8c53b396-fa4f-4f39-98ad-49b75029b577",
   "metadata": {},
   "outputs": [],
   "source": [
    "pst.write(os.path.join(t_d,\"at.pst\"),version=2)\n",
    "m_d = \"master_ies_corrnoise\"\n",
    "pyemu.os_utils.start_workers(t_d,\"pestpp-ies\",\"at.pst\",num_workers=15,master_dir=m_d,worker_root='.')\n",
    "plot_ies_results(m_d,tag=\"corr noise\")"
   ]
  },
  {
   "cell_type": "code",
   "execution_count": null,
   "id": "012edc7f-d4c8-48eb-a34c-e3bb4f692bd5",
   "metadata": {},
   "outputs": [],
   "source": []
  }
 ],
 "metadata": {
  "language_info": {
   "name": "python"
  }
 },
 "nbformat": 4,
 "nbformat_minor": 5
}
