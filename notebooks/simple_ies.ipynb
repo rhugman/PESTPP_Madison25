{
 "cells": [
  {
   "cell_type": "code",
   "execution_count": null,
   "id": "a0bcc856-86f0-47bb-b201-af2d9335ca57",
   "metadata": {},
   "outputs": [],
   "source": [
    "import os\n",
    "import sys\n",
    "sys.path.insert(0,\"..\")\n",
    "import numpy as np\n",
    "import matplotlib.pyplot as plt\n",
    "import pyemu\n",
    "print(pyemu.__file__)\n",
    "import flopy\n",
    "import platform\n",
    "from pathlib import Path\n",
    "import shutil\n",
    "import pandas as pd"
   ]
  },
  {
   "cell_type": "code",
   "execution_count": null,
   "id": "0bc68af4-4c11-438b-9bfd-52ddded58869",
   "metadata": {},
   "outputs": [],
   "source": [
    "t_d = \"template\"\n",
    "if not os.path.exists(t_d):\n",
    "    raise Exception(\"need to run simple_pstfrom notebook\")"
   ]
  },
  {
   "cell_type": "code",
   "execution_count": null,
   "id": "4a4489e7-7066-4b3b-9d89-6080341732ae",
   "metadata": {},
   "outputs": [],
   "source": [
    "pst = pyemu.Pst(os.path.join(t_d,\"at.pst\"))\n",
    "pst.npar,pst.nobs"
   ]
  },
  {
   "cell_type": "code",
   "execution_count": null,
   "id": "ea9ff327-0b96-4231-a8b8-71367090145a",
   "metadata": {},
   "outputs": [],
   "source": [
    "pst.pestpp_options"
   ]
  },
  {
   "cell_type": "code",
   "execution_count": null,
   "id": "e1d96d0c-5b11-41d1-be28-7413358a05d1",
   "metadata": {},
   "outputs": [],
   "source": [
    "if \"ies_par_en\" not in pst.pestpp_options:\n",
    "    raise Exception(\"prior par ensemble not found\")"
   ]
  },
  {
   "cell_type": "code",
   "execution_count": null,
   "id": "5f3e9ce9-7a05-4579-a76c-a5a905401707",
   "metadata": {},
   "outputs": [],
   "source": [
    "pst.pestpp_options = {\"ies_par_en\":pst.pestpp_options[\"ies_par_en\"]}\n",
    "pst.pestpp_options[\"ies_num_reals\"] = 50\n",
    "pst.pestpp_options[\"ies_bad_phi_sigma\"] = 1.75\n",
    "pst.pestpp_options"
   ]
  },
  {
   "cell_type": "code",
   "execution_count": null,
   "id": "8c5da2b9-9c40-4f90-ae64-97a7b5617749",
   "metadata": {},
   "outputs": [],
   "source": [
    "pst.control_data.noptmax = 4"
   ]
  },
  {
   "cell_type": "code",
   "execution_count": null,
   "id": "f31795f0",
   "metadata": {},
   "outputs": [],
   "source": [
    "pst.obs_groups"
   ]
  },
  {
   "cell_type": "code",
   "execution_count": null,
   "id": "ea9570e1",
   "metadata": {},
   "outputs": [],
   "source": [
    "weighted_groups = [i for i in pst.obs_groups if i.endswith('group')]\n",
    "weighted_groups"
   ]
  },
  {
   "cell_type": "code",
   "execution_count": null,
   "id": "04c12b25",
   "metadata": {},
   "outputs": [],
   "source": [
    "wts = [.4,.3,.2,.2]"
   ]
  },
  {
   "cell_type": "code",
   "execution_count": null,
   "id": "ecf9df3b",
   "metadata": {},
   "outputs": [],
   "source": [
    "with open(f'{t_d}/phi_factors.csv', 'w') as ofp:\n",
    "    [ofp.write(f'{g},{w}\\n') for g,w in zip(weighted_groups,wts)]"
   ]
  },
  {
   "cell_type": "code",
   "execution_count": null,
   "id": "2f9c96ea",
   "metadata": {},
   "outputs": [],
   "source": [
    "pst.pestpp_options['ies_phi_factor_file']='phi_factors.csv'"
   ]
  },
  {
   "cell_type": "code",
   "execution_count": null,
   "id": "2cb95024",
   "metadata": {},
   "outputs": [],
   "source": [
    "pst.obs_groups"
   ]
  },
  {
   "cell_type": "code",
   "execution_count": null,
   "id": "8a324886",
   "metadata": {},
   "outputs": [],
   "source": [
    "weighted_groups = [i for i in pst.obs_groups if i.endswith('group')]\n",
    "weighted_groups"
   ]
  },
  {
   "cell_type": "code",
   "execution_count": null,
   "id": "83cf7936",
   "metadata": {},
   "outputs": [],
   "source": [
    "wts = [.4,.3,.2,.2]"
   ]
  },
  {
   "cell_type": "code",
   "execution_count": null,
   "id": "fa644c54",
   "metadata": {},
   "outputs": [],
   "source": [
    "with open(f'{t_d}/phi_factors.csv', 'w') as ofp:\n",
    "    [ofp.write(f'{g},{w}\\n') for g,w in zip(weighted_groups,wts)]"
   ]
  },
  {
   "cell_type": "code",
   "execution_count": null,
   "id": "6fb52998",
   "metadata": {},
   "outputs": [],
   "source": [
    "pst.pestpp_options['ies_phi_factor_file']='phi_factors.csv'"
   ]
  },
  {
   "cell_type": "code",
   "execution_count": null,
   "id": "10534e3a-1dbb-4696-9a81-07833d7a4de3",
   "metadata": {},
   "outputs": [],
   "source": [
    "pst.write(os.path.join(t_d,\"at.pst\"),version=2)"
   ]
  },
  {
   "cell_type": "code",
   "execution_count": null,
   "id": "bffee342-a97e-4112-a8f7-4c295f91b026",
   "metadata": {},
   "outputs": [],
   "source": [
    "m_d = \"master_ies_simple\""
   ]
  },
  {
   "cell_type": "code",
   "execution_count": null,
   "id": "9485ba84-b53f-452e-92cc-1a90075dd01e",
   "metadata": {},
   "outputs": [],
   "source": [
    "pyemu.os_utils.start_workers(t_d,\"pestpp-ies\",\"at.pst\",num_workers=15,master_dir=m_d,worker_root='.')"
   ]
  },
  {
   "cell_type": "code",
   "execution_count": null,
   "id": "bfdfdcbf-267f-49a1-bb5b-0a0c9001818b",
   "metadata": {},
   "outputs": [],
   "source": [
    "def plot_ies_results(m_d,tag=\"\"):\n",
    "    pst = pyemu.Pst(os.path.join(m_d,\"at.pst\"))\n",
    "    \n",
    "    noise = pst.ies.noise\n",
    "    itrs = pst.ies.phiactual.iteration.values\n",
    "    obs = pst.observation_data\n",
    "    nzobs = obs.loc[obs.weight > 0,:]\n",
    "    odict = {n:v for n,v in zip(nzobs.obsnme,nzobs.obsval)}\n",
    "    ptoe = pst.ies.get(\"obsen{0}\".format(itrs.max()))\n",
    "    proe = pst.ies.obsen0\n",
    "    phivals = pst.ies.phimeas.iloc[-1,6:]\n",
    "    phimean = phivals.mean()\n",
    "    phistd = phivals.std()\n",
    "    thresh = phimean + (phistd*1.75)\n",
    "    keep = phivals[phivals<=thresh].index.values\n",
    "    ptoe = ptoe.loc[keep]\n",
    "    proe = proe.loc[keep]\n",
    "    fig,ax = plt.subplots(1,1,figsize=(6,6))\n",
    "    names = obs.loc[obs.obgnme==\"headgroup\",\"obsnme\"].values\n",
    "    for oname in names:\n",
    "        if \"at.csv\" not in oname:\n",
    "            continue\n",
    "        ovals = [odict[oname] for _ in range(noise.shape[0])]\n",
    "        ax.scatter(ovals,noise[oname],marker='.',c='r',s=100,alpha=0.25)\n",
    "        \n",
    "        ovals = [odict[oname] for _ in range(ptoe.shape[0])]\n",
    "        ax.scatter(ovals,ptoe[oname],marker='.',c='b',alpha=0.5)\n",
    "        #ylim = ax.get_ylim()\n",
    "        ovals = [odict[oname] for _ in range(proe.shape[0])]\n",
    "        ax.scatter(ovals,proe[oname],marker='.',c='0.5',alpha=0.5,zorder=0)\n",
    "        #ax.set_ylim(ylim)\n",
    "        #ax.set_xlim(ylim)\n",
    "    mn,mx = noise.loc[:,names].values.min(),noise.loc[:,names].values.max()\n",
    "    ax.plot([mn,mx],[mn,mx],\"k--\",lw=3)\n",
    "    ax.set_xlabel(\"obs\")\n",
    "    ax.set_ylabel(\"sim\")\n",
    "    ax.set_xlim(mn,mx)\n",
    "    ax.set_title(tag)\n",
    "    \n",
    "    _ = ax.set_ylim(mn,mx)\n",
    "\n",
    "    kobs = obs.loc[obs.obsnme.str.contains(\"k_aq\"),:].copy()\n",
    "    kobs['i'] = kobs.i.astype(int)\n",
    "    kobs['j'] = kobs.j.astype(int)\n",
    "\n",
    "    prarr = np.zeros((kobs.i.max()+1,kobs.j.max()+1))\n",
    "    prarr[kobs.i,kobs.j] = np.log10(ptoe.loc[:,kobs.obsnme].mean())\n",
    "    ptarr = np.zeros((kobs.i.max()+1,kobs.j.max()+1))\n",
    "    ptarr[kobs.i,kobs.j] = np.log10(ptoe.loc[\"base\",kobs.obsnme])\n",
    "    fig,axes = plt.subplots(1,2,figsize=(8,4))\n",
    "    cb = axes[0].imshow(prarr,vmin=ptarr.min())\n",
    "    plt.colorbar(cb,ax=axes[0])\n",
    "    axes[0].set_title(\"mean \"+tag)\n",
    "    \n",
    "    cb = axes[1].imshow(ptarr,vmax=prarr.max())\n",
    "    plt.colorbar(cb,ax=axes[1])\n",
    "    axes[1].set_title(\"min err var \"+tag)\n",
    "\n",
    "    prarr = np.zeros((kobs.i.max()+1,kobs.j.max()+1))\n",
    "    prarr[kobs.i,kobs.j] = np.log10(proe.loc[:,kobs.obsnme].std())\n",
    "    ptarr = np.zeros((kobs.i.max()+1,kobs.j.max()+1))\n",
    "    ptarr[kobs.i,kobs.j] = np.log10(ptoe.loc[:,kobs.obsnme].std())\n",
    "    fig,axes = plt.subplots(1,2,figsize=(8,4))\n",
    "    cb = axes[0].imshow(prarr,vmin=ptarr.min())\n",
    "    plt.colorbar(cb,ax=axes[0])\n",
    "    axes[0].set_title(\"prior stdev \"+tag)\n",
    "    cb = axes[1].imshow(ptarr,vmax=prarr.max())\n",
    "    plt.colorbar(cb,ax=axes[1])\n",
    "    axes[1].set_title(\"posterior stdev \"+tag)\n",
    "\n",
    "    bobs = obs.loc[obs.oname==\"at.budget.csv\",:]\n",
    "    for oname in bobs.obsnme:\n",
    "        if \"chd\" not in oname:\n",
    "            continue\n",
    "        fig,ax = plt.subplots(1,1,figsize=(6,6))\n",
    "        ax.hist(proe.loc[:,oname],bins=10,fc=\"0.5\",alpha=0.5,density=True)\n",
    "        ax.hist(ptoe.loc[:,oname],bins=10,fc=\"b\",alpha=0.5,density=True)\n",
    "        ax.set_title(tag+\" \"+oname)\n",
    "        ax.set_yticks([])\n",
    "    \n",
    "    names = obs.loc[obs.obgnme==\"headgroup\",\"obsnme\"].values\n",
    "    noise = pst.ies.noise\n",
    "    proe = pst.ies.obsen0\n",
    "    ptoe = pst.ies.get(\"obsen{0}\".format(pst.ies.phiactual.iteration.max()))\n",
    "    phivals = pst.ies.phimeas.iloc[-1,6:]\n",
    "    phimean = phivals.mean()\n",
    "    phistd = phivals.std()\n",
    "    thresh = phimean + (phistd*1.75)\n",
    "    keep = phivals[phivals<=thresh].index.values\n",
    "    fig,axes = plt.subplots(2,1,figsize=(10,20))\n",
    "    actual,meas = pst.ies.phiactual.iloc[:,6:],pst.ies.phimeas.iloc[:,6:]\n",
    "    actual = actual.loc[:,keep]\n",
    "    meas = meas.loc[:,keep]\n",
    "    \n",
    "    axes[0].hist(np.log10(actual.iloc[0,:].values),fc=\"0.5\",alpha=0.5)\n",
    "    axes[0].hist(np.log10(actual.iloc[-1,:].values),fc=\"b\",alpha=0.5)\n",
    "    axes[0].set_title('log-10 phi w/o noise')\n",
    "\n",
    "    axes[1].hist(np.log10(meas.iloc[0,:].values),fc=\"0.5\",alpha=0.5)\n",
    "    axes[1].hist(np.log10(meas.iloc[-1,:].values),fc=\"b\",alpha=0.5)\n",
    "    axes[1].set_title('log-10 phi w/ noise')\n",
    "    \n",
    "    \n",
    "    fig,axes = plt.subplots(2,1,figsize=(10,20))\n",
    "    ptoe = ptoe.loc[keep,:]\n",
    "    nzobs.sort_values(by=\"obsval\",inplace=True)\n",
    "    ovals = nzobs.obsval.values\n",
    "    for real in ptoe.index:\n",
    "        nvals = noise.loc[real,nzobs.obsnme].values   \n",
    "        prvals = proe.loc[real,nzobs.obsnme].values\n",
    "        ptvals = ptoe.loc[real,nzobs.obsnme].values\n",
    "        ax = axes[0]\n",
    "        #ax.plot(ovals,nvals,\"r-\",alpha=0.5,lw=0.5)\n",
    "        ax.scatter(ovals,nvals,marker='.',alpha=0.2,s=70,c='r')\n",
    "        #ax.plot(ovals,prvals,\"0.5\",alpha=0.2,lw=0.3,dashes=(1,1))\n",
    "        #ax.plot(ovals,ptvals,\"b\",alpha=0.5,lw=0.5)#,marker='.',ms=5)\n",
    "        ax.scatter(ovals,ptvals,marker='.',s=50,c='b')\n",
    "        ax = axes[1]\n",
    "        ax.plot(ovals,nvals,\"r-\",alpha=0.5,lw=0.5,zorder=0)\n",
    "        ax.scatter(ovals,nvals,marker='.',alpha=0.2,s=70,c='r')\n",
    "        #ax.plot(ovals,prvals,\"0.5\",alpha=0.2,lw=0.3,dashes=(1,1))\n",
    "        #ax.plot(ovals,ptvals,\"b\",alpha=0.5,lw=0.5,zorder=0)#,marker='.',ms=5)\n",
    "        ax.scatter(ovals,ptvals,marker='.',s=50,c='b')\n",
    "    \n",
    "    mn,mx = noise.loc[:,names].values.min(),noise.loc[:,names].values.max()\n",
    "    for ax in axes:\n",
    "        ax.plot([mn,mx],[mn,mx],\"k--\",lw=3)\n",
    "        ax.set_xlabel(\"observed\")\n",
    "        ax.set_ylabel(\"simulated\")\n",
    "        ax.set_xlim(mn,mx)\n",
    "        ax.grid()\n",
    "    \n",
    "    _ = ax.set_ylim(mn,mx)\n",
    "            \n",
    "    \n"
   ]
  },
  {
   "cell_type": "code",
   "execution_count": null,
   "id": "e0c8cbb6-cfa3-44cf-ab10-5729eb9087d9",
   "metadata": {},
   "outputs": [],
   "source": [
    "plot_ies_results(m_d,tag=\"uncor noise\")"
   ]
  },
  {
   "cell_type": "code",
   "execution_count": null,
   "id": "124ecb62-d834-4e5d-8d02-7ffe5ca18aea",
   "metadata": {},
   "outputs": [],
   "source": [
    "pst.pestpp_options[\"ies_no_noise\"] = True\n",
    "pst.write(os.path.join(t_d,\"at.pst\"),version=2)\n",
    "m_d = \"master_ies_nonoise\"\n",
    "pyemu.os_utils.start_workers(t_d,\"pestpp-ies\",\"at.pst\",num_workers=15,master_dir=m_d,worker_root='.')\n",
    "plot_ies_results(m_d,\"no noise\")"
   ]
  },
  {
   "cell_type": "code",
   "execution_count": null,
   "id": "2d2869f4-6d3a-46de-98d5-fb95224bd4a5",
   "metadata": {},
   "outputs": [],
   "source": [
    "#noise_vals = np.linspace(-2,2,pst.ies.paren0.shape[0])\n",
    "noise_vals = np.random.normal(0.0,1.5,pst.ies.paren0.shape[0])\n",
    "noise_vals"
   ]
  },
  {
   "cell_type": "code",
   "execution_count": null,
   "id": "50321535-e80c-499d-86bd-e4a34b57889b",
   "metadata": {},
   "outputs": [],
   "source": []
  },
  {
   "cell_type": "code",
   "execution_count": null,
   "id": "1524088c-fcc9-4ce8-b08a-ccab859f4a1a",
   "metadata": {},
   "outputs": [],
   "source": [
    "obs = pst.observation_data\n",
    "nzobs = obs.loc[obs.weight>0,:]"
   ]
  },
  {
   "cell_type": "code",
   "execution_count": null,
   "id": "546ad4a6-79be-42b3-a7b3-d7f54c2d6bc0",
   "metadata": {},
   "outputs": [],
   "source": [
    "\n",
    "opn = []\n",
    "for noise_val in noise_vals:\n",
    "    opn.append(nzobs.obsval+noise_val)\n",
    "df= pd.DataFrame(opn,index=np.arange(len(opn),dtype=\"int\"))\n",
    "\n",
    "df.to_csv(os.path.join(t_d,\"noise_steps.csv\"))\n",
    "pst.pestpp_options[\"ies_obs_en\"] = \"noise_steps.csv\"\n",
    "pst.pestpp_options.pop(\"ies_no_noise\",None)"
   ]
  },
  {
   "cell_type": "code",
   "execution_count": null,
   "id": "78585679-ca87-46e8-9c85-d2911a0f590b",
   "metadata": {},
   "outputs": [],
   "source": [
    "pst.write(os.path.join(t_d,\"at.pst\"),version=2)\n",
    "m_d = \"master_ies_corrnoise\"\n",
    "pyemu.os_utils.start_workers(t_d,\"pestpp-ies\",\"at.pst\",num_workers=15,master_dir=m_d,worker_root='.')\n",
    "plot_ies_results(m_d,\"corrnoise\")"
   ]
  }
 ],
 "metadata": {
  "language_info": {
   "name": "python"
  }
 },
 "nbformat": 4,
 "nbformat_minor": 5
}
