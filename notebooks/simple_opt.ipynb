{
 "cells": [
  {
   "cell_type": "markdown",
   "id": "d46d2c82",
   "metadata": {},
   "source": [
    "# Single objective optimization with (sequential) linear programming and `PESTPP-OPT`"
   ]
  },
  {
   "cell_type": "code",
   "execution_count": null,
   "id": "200e2858-3504-484a-bdc3-27e7900e2e67",
   "metadata": {},
   "outputs": [],
   "source": [
    "import os\n",
    "import sys\n",
    "sys.path.insert(0,\"..\")\n",
    "import numpy as np\n",
    "import matplotlib.pyplot as plt\n",
    "import pyemu\n",
    "print(pyemu.__file__)\n",
    "import flopy\n",
    "import platform\n",
    "from pathlib import Path\n",
    "import shutil\n",
    "import pandas as pd\n",
    "from IPython import display\n"
   ]
  },
  {
   "cell_type": "code",
   "execution_count": null,
   "id": "2f873b74",
   "metadata": {},
   "outputs": [],
   "source": [
    "display.Image(\"./mv_schematic.png\",width=650) "
   ]
  },
  {
   "cell_type": "markdown",
   "id": "ef4680ed",
   "metadata": {},
   "source": [
    "## Problem setup\n",
    " - two city wells in the south of the domain, in combination need to provide 250,000 ft^3/d of water for a city but would like as much as possible\n",
    " - the northern well needs to produce 67,000 ft^3/d although it would be acceptable to produce as little as 50,000 ft^3/d - this is for a fancy brewery making nettle-mead syrup and moss beer #soHipster\n",
    " - The two stream gages can experience some depletion, but only up to 30%"
   ]
  },
  {
   "cell_type": "code",
   "execution_count": null,
   "id": "f0027a65-09d6-43e5-9b28-bcd18cc188d8",
   "metadata": {},
   "outputs": [],
   "source": [
    "pstroot = 'mv_opt'"
   ]
  },
  {
   "cell_type": "code",
   "execution_count": null,
   "id": "552f6f11",
   "metadata": {},
   "outputs": [],
   "source": [
    "thisdir = os.getcwd()"
   ]
  },
  {
   "cell_type": "markdown",
   "id": "54aee0b2-d136-47df-b481-8e536d34f7c5",
   "metadata": {},
   "source": [
    "# Let's start with our iES setup - we need to make some changes to it"
   ]
  },
  {
   "cell_type": "code",
   "execution_count": null,
   "id": "1a0e24b7-1183-4fd7-a31b-7af516495026",
   "metadata": {},
   "outputs": [],
   "source": [
    "template_ws = Path('./template/')\n",
    "new_ws = Path('./simple_opt')"
   ]
  },
  {
   "cell_type": "code",
   "execution_count": null,
   "id": "3f1230af-7710-4186-b68f-6e400b564777",
   "metadata": {},
   "outputs": [],
   "source": [
    "if os.path.exists(new_ws):\n",
    "    shutil.rmtree(new_ws)\n",
    "shutil.copytree(template_ws, new_ws)"
   ]
  },
  {
   "cell_type": "code",
   "execution_count": null,
   "id": "88970216-b66e-4bcc-bd17-c5dd8c9ccbfc",
   "metadata": {},
   "outputs": [],
   "source": [
    "pst = pyemu.Pst(str(new_ws / 'at.pst'))"
   ]
  },
  {
   "cell_type": "markdown",
   "id": "59cb2496",
   "metadata": {},
   "source": [
    "### let's start with the base realization parameters for now"
   ]
  },
  {
   "cell_type": "code",
   "execution_count": null,
   "id": "3755ebd2",
   "metadata": {},
   "outputs": [],
   "source": [
    "pst.parrep('./master_ies_simple/at.3.base.par')"
   ]
  },
  {
   "cell_type": "markdown",
   "id": "2de31540-a02d-4563-8e80-d7f3884bcea0",
   "metadata": {},
   "source": [
    "# let's check out the parameter setup and look for WEL-related ones"
   ]
  },
  {
   "cell_type": "code",
   "execution_count": null,
   "id": "3aad7d18-19d2-456f-9a17-5b73ce640215",
   "metadata": {},
   "outputs": [],
   "source": [
    "pars = pst.parameter_data"
   ]
  },
  {
   "cell_type": "code",
   "execution_count": null,
   "id": "3ef108c0-785c-4f3f-b28c-d6f0e8b694e2",
   "metadata": {},
   "outputs": [],
   "source": [
    "pars"
   ]
  },
  {
   "cell_type": "code",
   "execution_count": null,
   "id": "4451611f-7f84-44aa-96c3-674bc49a39f5",
   "metadata": {},
   "outputs": [],
   "source": [
    "[i for i in pars.parnme if 'wflux' in i]"
   ]
  },
  {
   "cell_type": "markdown",
   "id": "e49e223a-2414-42df-b495-ef94f6804e4f",
   "metadata": {},
   "source": [
    "### what about the template files?"
   ]
  },
  {
   "cell_type": "code",
   "execution_count": null,
   "id": "5efa1a7c-2ae6-4ab8-9450-f35908d1b121",
   "metadata": {},
   "outputs": [],
   "source": [
    "pst.template_files"
   ]
  },
  {
   "cell_type": "markdown",
   "id": "922f3d3c",
   "metadata": {},
   "source": [
    "### we have some bespoke TPL files lurking in there though"
   ]
  },
  {
   "cell_type": "code",
   "execution_count": null,
   "id": "9c12b4ef-032d-4898-b8a7-c3f0cef4deb4",
   "metadata": {},
   "outputs": [],
   "source": [
    "[print(i) for i in new_ws.glob('*.tpl')];"
   ]
  },
  {
   "cell_type": "markdown",
   "id": "ed8aea28-a44f-484d-af63-dbcde8bbc7f9",
   "metadata": {},
   "source": [
    "### and - we have a WEL one. Let's have a look and, if promising, add it"
   ]
  },
  {
   "cell_type": "code",
   "execution_count": null,
   "id": "3dc39966-dd43-4297-b11e-b10d07910256",
   "metadata": {},
   "outputs": [],
   "source": [
    "[print(i.strip()) for i in open('simple_opt/at.wel.tpl').readlines()];"
   ]
  },
  {
   "cell_type": "code",
   "execution_count": null,
   "id": "bad40856-dc21-4fc4-a85e-bc08d729d094",
   "metadata": {},
   "outputs": [],
   "source": [
    "[print(i.strip()) for i in open('simple_opt/at.wel').readlines()];"
   ]
  },
  {
   "cell_type": "markdown",
   "id": "d3a69427-8e76-4f5d-a17a-399ce490b44b",
   "metadata": {},
   "source": [
    "### We can just add parameters to the PST object by letting pyemu read the TPL file"
   ]
  },
  {
   "cell_type": "code",
   "execution_count": null,
   "id": "fad1dfbf-7c2f-4fd3-82e8-dcf752e0b494",
   "metadata": {},
   "outputs": [],
   "source": [
    "pst.add_parameters('simple_opt/at.wel.tpl', pst_path='.')"
   ]
  },
  {
   "cell_type": "code",
   "execution_count": null,
   "id": "cdb62086-5963-4ae0-b828-fbbd40ce913f",
   "metadata": {},
   "outputs": [],
   "source": [
    "pars = pst.parameter_data"
   ]
  },
  {
   "cell_type": "code",
   "execution_count": null,
   "id": "36f1d4a5",
   "metadata": {},
   "outputs": [],
   "source": [
    "pars.loc[pars.index.str.contains('wflux')]"
   ]
  },
  {
   "cell_type": "code",
   "execution_count": null,
   "id": "8174fb09-1026-4e80-b0d8-5a03ed656dfd",
   "metadata": {},
   "outputs": [],
   "source": [
    "pst.template_files"
   ]
  },
  {
   "cell_type": "markdown",
   "id": "c78d6113-eaed-46a2-a728-facb0436e49c",
   "metadata": {},
   "source": [
    "# Now we can redefine these wells as _decision variables_ recalling the problem statement:\n",
    " - the wells at the higher `i` (row) value (32 and 34) in combination need to provide 268,000 ft^3/d of water for a city\n",
    " - the well at `i=5` needs to produce 67,000 ft^3/d although it would be acceptable to produce as little as 50,000 ft^3/d - this is for a fancy brewery making nettle-mead syrup and moss beer #soHipster"
   ]
  },
  {
   "cell_type": "markdown",
   "id": "45211da3",
   "metadata": {},
   "source": [
    "### first we need to fix all the parameters that will not be decision variables"
   ]
  },
  {
   "cell_type": "code",
   "execution_count": null,
   "id": "a4191b67",
   "metadata": {},
   "outputs": [],
   "source": [
    "pars['partrans'] = 'fixed'"
   ]
  },
  {
   "cell_type": "markdown",
   "id": "064ea9a3-5412-46d5-85cb-7f934e66244e",
   "metadata": {},
   "source": [
    "### then let's assign the decision variables to a group and flip the sign"
   ]
  },
  {
   "cell_type": "code",
   "execution_count": null,
   "id": "919863d1-759e-4c20-9e79-d445acb2a09b",
   "metadata": {},
   "outputs": [],
   "source": [
    "pars.loc[pars.index.str.contains('wflux_k:4_'), 'pargp'] = 'well_decision_variables'\n",
    "pars.loc[pars.index.str.contains('wflux_k:4_'), 'scale'] = -1 # let's flip the sign on pumping so more intuitive\n",
    "pars.loc[pars.index.str.contains('wflux_k:4_'), 'partrans'] = 'none' # we want zero to be acceptable value, so no log xform\n",
    "pars.loc[pars.index.str.contains('wflux_k')]"
   ]
  },
  {
   "cell_type": "markdown",
   "id": "da218e5b-34ea-43ec-9969-96be9eadd6fa",
   "metadata": {},
   "source": [
    "### let's set bounds on the pumping"
   ]
  },
  {
   "cell_type": "code",
   "execution_count": null,
   "id": "76b27173-8f87-4e59-b66b-ccc98f5acf8f",
   "metadata": {},
   "outputs": [],
   "source": [
    "pars.loc[pars.index.str.contains('wflux_k:4_i:3'), 'parlbnd'] = 0\n",
    "pars.loc[pars.index.str.contains('wflux_k:4_i:3'), 'parubnd'] = 268000\n",
    "pars.loc[pars.index.str.contains('wflux_k:4_i:5'), 'parlbnd'] = 50000\n",
    "pars.loc[pars.index.str.contains('wflux_k:4_i:5'), 'parubnd'] = 67000\n",
    "\n",
    "pars.loc[pars.index.str.contains('wflux_k:4_i:5'), 'parval1'] = 60000\n",
    "pars.loc[pars.index.str.contains('wflux_k:4_i:3'), 'parval1'] = 268000/2\n",
    "\n"
   ]
  },
  {
   "cell_type": "markdown",
   "id": "072430ae-9ebe-410e-9e01-cc8690bc92d7",
   "metadata": {},
   "source": [
    "### now constrain the wells in rows 32 and 34 to sum to 250,000 or greater"
   ]
  },
  {
   "cell_type": "code",
   "execution_count": null,
   "id": "e2a10dd3-5538-4378-86d4-dd4b6e5ef4c1",
   "metadata": {},
   "outputs": [],
   "source": [
    "pst.add_pi_equation(par_names=['wflux_k:4_i:32_j:5', 'wflux_k:4_i:34_j:15'],\n",
    "                rhs=250000,\n",
    "                weight=1,\n",
    "                pilbl='city_wells',\n",
    "                obs_group='greater_than_pumping')\n",
    "\n"
   ]
  },
  {
   "cell_type": "markdown",
   "id": "a1017b1e-078a-4f41-9d7c-6bc2a2a27681",
   "metadata": {
    "execution": {
     "iopub.execute_input": "2025-07-10T21:37:33.741594Z",
     "iopub.status.busy": "2025-07-10T21:37:33.739811Z",
     "iopub.status.idle": "2025-07-10T21:37:33.768350Z",
     "shell.execute_reply": "2025-07-10T21:37:33.767868Z",
     "shell.execute_reply.started": "2025-07-10T21:37:33.741561Z"
    }
   },
   "source": [
    "### We have contstraints also on the observations - particularly streamflow and lake flux"
   ]
  },
  {
   "cell_type": "code",
   "execution_count": null,
   "id": "089596e8-65d2-4290-8784-bbc665ba4f4d",
   "metadata": {},
   "outputs": [],
   "source": [
    "obs = pst.observation_data\n",
    "obs"
   ]
  },
  {
   "cell_type": "code",
   "execution_count": null,
   "id": "1805a446-c846-4027-9eb0-db1380cdbd5b",
   "metadata": {},
   "outputs": [],
   "source": [
    "obs.weight=0"
   ]
  },
  {
   "cell_type": "code",
   "execution_count": null,
   "id": "7b302484",
   "metadata": {},
   "outputs": [],
   "source": [
    "obs.loc[obs.obgnme=='rivgroup', 'obgnme'] = 'less_than_riv'\n",
    "obs.loc[obs.obgnme=='less_than_riv', 'weight'] = 1.0\n",
    "obs.loc[obs.obgnme=='less_than_riv', 'obsval'] *= .7\n",
    "\n",
    "\n",
    "obs"
   ]
  },
  {
   "cell_type": "markdown",
   "id": "092bfca6-e4b6-415f-aab7-a1d3934271e1",
   "metadata": {},
   "source": [
    "## now an objective function - let's maximize total pumping"
   ]
  },
  {
   "cell_type": "code",
   "execution_count": null,
   "id": "d765fc86",
   "metadata": {},
   "outputs": [],
   "source": [
    "wellnames = [i for i in pars.index if 'wflux' in i]\n",
    "wellnames"
   ]
  },
  {
   "cell_type": "code",
   "execution_count": null,
   "id": "ad2efb2c-6fd1-4060-95e7-78a2ba151c4f",
   "metadata": {},
   "outputs": [],
   "source": [
    "pst.add_pi_equation(wellnames, # parameter names to include in the equation\n",
    "                    pilbl=\"obj_well\",  # the prior information equation name\n",
    "                    obs_group=\"greater_than\") # note the \"greater_\" prefix."
   ]
  },
  {
   "cell_type": "code",
   "execution_count": null,
   "id": "b3496099",
   "metadata": {},
   "outputs": [],
   "source": [
    "pst.prior_information"
   ]
  },
  {
   "cell_type": "code",
   "execution_count": null,
   "id": "0dbded86",
   "metadata": {},
   "outputs": [],
   "source": [
    "pst.pestpp_options[\"opt_direction\"] = \"max\"\n",
    "pst.pestpp_options[\"opt_objective_function\"] = \"obj_well\""
   ]
  },
  {
   "cell_type": "code",
   "execution_count": null,
   "id": "fb153650",
   "metadata": {},
   "outputs": [],
   "source": [
    "pst.rectify_pgroups()\n",
    "pst.parameter_groups"
   ]
  },
  {
   "cell_type": "code",
   "execution_count": null,
   "id": "5854aaf0",
   "metadata": {},
   "outputs": [],
   "source": [
    "pst.parameter_groups.loc[\"well_decision_variables\",\"inctyp\"] = \"absolute\"\n",
    "pst.parameter_groups.loc[\"well_decision_variables\",\"derinc\"] = 5000 #remember these are multipliers!\n",
    "pst.parameter_groups.loc[\"well_decision_variables\",\"derinclb\"] = 500"
   ]
  },
  {
   "cell_type": "code",
   "execution_count": null,
   "id": "f3bfa90a",
   "metadata": {},
   "outputs": [],
   "source": [
    "pst.pestpp_options[\"opt_dec_var_groups\"] = \"well_decision_variables\""
   ]
  },
  {
   "cell_type": "code",
   "execution_count": null,
   "id": "6f91f45e",
   "metadata": {},
   "outputs": [],
   "source": [
    "pst.control_data.noptmax = 0\n",
    "pst.write(str(new_ws / f'{pstroot}.pst'), version=2)"
   ]
  },
  {
   "cell_type": "code",
   "execution_count": null,
   "id": "0ef9e6f3",
   "metadata": {},
   "outputs": [],
   "source": [
    "os.chdir(new_ws)\n",
    "pyemu.os_utils.run(f'pestpp-opt {pstroot}.pst')\n",
    "os.chdir(thisdir)"
   ]
  },
  {
   "cell_type": "code",
   "execution_count": null,
   "id": "2973c2dc",
   "metadata": {},
   "outputs": [],
   "source": [
    "pst.control_data.noptmax = 3\n",
    "pst.write(str(new_ws / f'{pstroot}.pst'), version=2)"
   ]
  },
  {
   "cell_type": "code",
   "execution_count": null,
   "id": "b7f4d979",
   "metadata": {},
   "outputs": [],
   "source": [
    "os.chdir(new_ws)\n",
    "pyemu.os_utils.run(f'pestpp-opt {pstroot}.pst')\n",
    "os.chdir(thisdir)"
   ]
  },
  {
   "cell_type": "markdown",
   "id": "cb26f5b1",
   "metadata": {},
   "source": [
    "# let's look at the results"
   ]
  },
  {
   "cell_type": "code",
   "execution_count": null,
   "id": "1e598259",
   "metadata": {},
   "outputs": [],
   "source": [
    "obgroups = ['greater_than','less_than_riv','greater_than_pumping']\n",
    "estimated = [pd.read_csv(e, sep=r'\\s+', skiprows=3, index_col=0)\n",
    "            for e in new_ws.glob('*est.rei')]\n",
    "simulated = [pd.read_csv(e, sep=r'\\s+', skiprows=3, index_col=0)\n",
    "            for e in new_ws.glob('*sim.rei')]\n",
    "pars = [pd.read_csv(p, sep=r'\\s+', skiprows=1, \n",
    "                    names=['parname','parval','scale','offset'], index_col=0)\n",
    "            for p in new_ws.glob('*opt.?.par')]\n",
    "\n",
    "estimated = [e.loc[e.Group.isin(obgroups)] for e in estimated]\n",
    "simulated = [s.loc[s.Group.isin(obgroups)] for s in simulated]\n",
    "par0 = pd.read_csv(new_ws / 'mv_opt.par_data.csv', index_col=0)\n",
    "pars = [par0.loc[par0.index.str.startswith('wflux'),'parval1'].to_frame().rename(\n",
    "        columns={'parval1':'parval'})] + \\\n",
    "        [p.loc[p.index.str.startswith('wflux'),'parval'].to_frame()\n",
    "           for p in pars]"
   ]
  },
  {
   "cell_type": "markdown",
   "id": "3a06948d",
   "metadata": {},
   "source": [
    "## how do the decision variables look?"
   ]
  },
  {
   "cell_type": "code",
   "execution_count": null,
   "id": "2e831053",
   "metadata": {},
   "outputs": [],
   "source": [
    "for cp in pars[0].index:\n",
    "    par_evol = pd.DataFrame(index=range(len(pars)),\n",
    "                data = {cp:[p.loc[cp, 'parval'] \n",
    "                            for p in pars]}\n",
    "    )\n",
    "    par_evol.plot.bar(figsize=(4,4))\n",
    "    "
   ]
  },
  {
   "cell_type": "code",
   "execution_count": null,
   "id": "423fade4",
   "metadata": {},
   "outputs": [],
   "source": [
    "### how about objective function?"
   ]
  },
  {
   "cell_type": "code",
   "execution_count": null,
   "id": "8362c99e",
   "metadata": {},
   "outputs": [],
   "source": [
    "obfun = pd.DataFrame(index=range(len(estimated)),\n",
    "            data={\n",
    "                'estimated_obfun':\n",
    "                    [e.loc[e.Group=='greater_than', 'Modelled'].values[0]\n",
    "                    for e in estimated],\n",
    "                'simulated_obfun': \n",
    "                    [s.loc[s.Group=='greater_than','Modelled'].values[0]\n",
    "                    for s in simulated]\n",
    "            })\n",
    "obfun.plot.bar(figsize=(4,4))"
   ]
  },
  {
   "cell_type": "markdown",
   "id": "b943f60c",
   "metadata": {},
   "source": [
    "### and constraints?"
   ]
  },
  {
   "cell_type": "code",
   "execution_count": null,
   "id": "744b46d7",
   "metadata": {},
   "outputs": [],
   "source": [
    "for cob in estimated[0].loc[estimated[0].Group=='less_than_riv'].index:\n",
    "    rivob = pd.DataFrame(index=range(len(estimated)),\n",
    "                data={\n",
    "                    f'estimated_{cob}':\n",
    "                        [e.loc[cob, 'Modelled']\n",
    "                        for e in estimated],\n",
    "                    f'simulated_{cob}': \n",
    "                        [s.loc[cob,'Modelled']\n",
    "                        for s in simulated]\n",
    "                })\n",
    "    rivob.plot.bar(figsize=(4,4))"
   ]
  },
  {
   "cell_type": "markdown",
   "id": "4e113fd8",
   "metadata": {},
   "source": [
    "### but no, really, they are a lil different!"
   ]
  },
  {
   "cell_type": "code",
   "execution_count": null,
   "id": "ff0536df",
   "metadata": {},
   "outputs": [],
   "source": [
    "rivob"
   ]
  },
  {
   "cell_type": "markdown",
   "id": "16a3f3ab",
   "metadata": {},
   "source": []
  }
 ],
 "metadata": {
  "language_info": {
   "name": "python"
  }
 },
 "nbformat": 4,
 "nbformat_minor": 5
}
