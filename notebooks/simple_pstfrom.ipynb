{
 "cells": [
  {
   "cell_type": "code",
   "execution_count": 1,
   "id": "a8f21e54-7154-4f14-9b5d-660a61daa2fa",
   "metadata": {},
   "outputs": [],
   "source": [
    "import os\n",
    "import pyemu\n",
    "import flopy\n",
    "from pathlib import Path\n",
    "import shutil\n",
    "import pandas as pd"
   ]
  },
  {
   "cell_type": "code",
   "execution_count": 2,
   "id": "4117da68-8f89-47b5-9a02-65a333f8ed0d",
   "metadata": {},
   "outputs": [],
   "source": [
    "org_ws = Path('../MV_Model_Files/')\n",
    "new_ws = 'simple_ies'\n",
    "exe_dir = Path('../bin/mac/')"
   ]
  },
  {
   "cell_type": "code",
   "execution_count": 3,
   "id": "02b82a0c-de39-417b-90e0-70fb448939d5",
   "metadata": {},
   "outputs": [
    {
     "data": {
      "text/plain": [
       "'simple_ies'"
      ]
     },
     "execution_count": 3,
     "metadata": {},
     "output_type": "execute_result"
    }
   ],
   "source": [
    "if os.path.exists(new_ws):\n",
    "    shutil.rmtree(new_ws)\n",
    "shutil.copytree(org_ws, new_ws)"
   ]
  },
  {
   "cell_type": "code",
   "execution_count": 4,
   "id": "28115f1f-028f-4578-b3a9-8e8ff9da5329",
   "metadata": {},
   "outputs": [
    {
     "name": "stdout",
     "output_type": "stream",
     "text": [
      "loading simulation...\n",
      "  loading simulation name file...\n",
      "  loading tdis package...\n",
      "  loading model gwf6...\n",
      "    loading package dis...\n",
      "    loading package ic...\n",
      "WARNING: Block \"options\" is not a valid block name for file type ic.\n",
      "    loading package npf...\n",
      "    loading package oc...\n",
      "    loading package chd...\n",
      "    loading package rch...\n",
      "    loading package riv...\n",
      "    loading package wel...\n",
      "    loading package obs...\n",
      "  loading solution package at...\n"
     ]
    }
   ],
   "source": [
    "sim = flopy.mf6.MFSimulation.load(sim_ws = new_ws)"
   ]
  },
  {
   "cell_type": "code",
   "execution_count": 5,
   "id": "8441b7e5-8293-4574-8b40-dc884e5953d8",
   "metadata": {},
   "outputs": [
    {
     "data": {
      "text/plain": [
       "'simple_ies/mf6'"
      ]
     },
     "execution_count": 5,
     "metadata": {},
     "output_type": "execute_result"
    }
   ],
   "source": [
    "shutil.copy2(os.path.join(exe_dir,'mf6'),os.path.join(new_ws,'mf6'))"
   ]
  },
  {
   "cell_type": "code",
   "execution_count": 6,
   "id": "724a342f-b3be-4263-9a63-4e1e83633413",
   "metadata": {},
   "outputs": [
    {
     "name": "stdout",
     "output_type": "stream",
     "text": [
      "                                   MODFLOW 6\n",
      "                U.S. GEOLOGICAL SURVEY MODULAR HYDROLOGIC MODEL\n",
      "                            VERSION 6.6.2 05/12/2025\n",
      "\n",
      "        MODFLOW 6 compiled May 12 2025 12:37:58 with GCC version 13.3.0\n",
      "\n",
      "This software has been approved for release by the U.S. Geological \n",
      "Survey (USGS). Although the software has been subjected to rigorous \n",
      "review, the USGS reserves the right to update the software as needed \n",
      "pursuant to further analysis and review. No warranty, expressed or \n",
      "implied, is made by the USGS or the U.S. Government as to the \n",
      "functionality of the software and related material nor shall the \n",
      "fact of release constitute any such warranty. Furthermore, the \n",
      "software is released on condition that neither the USGS nor the U.S. \n",
      "Government shall be held liable for any damages resulting from its \n",
      "authorized or unauthorized use. Also refer to the USGS Water \n",
      "Resources Software User Rights Notice for complete use, copyright, \n",
      "and distribution information.\n",
      "\n",
      "\n",
      " MODFLOW runs in SEQUENTIAL mode\n",
      "\n",
      " Run start date and time (yyyy/mm/dd hh:mm:ss): 2025/07/08 14:06:24\n",
      "\n",
      " Writing simulation list file: mfsim.lst\n",
      " Using Simulation name file: mfsim.nam\n",
      "\n",
      "    Solving:  Stress period:     1    Time step:     1\n",
      "\n",
      " Run end date and time (yyyy/mm/dd hh:mm:ss): 2025/07/08 14:06:24\n",
      " Elapsed run time:  0.052 Seconds\n",
      "\n",
      " Normal termination of simulation.\n"
     ]
    }
   ],
   "source": [
    "pyemu.os_utils.run('mf6',cwd=new_ws)"
   ]
  },
  {
   "cell_type": "code",
   "execution_count": 7,
   "id": "b3e790e9-0a97-4cca-a09e-30ae2aa7dbc9",
   "metadata": {},
   "outputs": [
    {
     "data": {
      "text/plain": [
       "xll:0.0; yll:0.0; rotation:0.0; units:feet; lenuni:1"
      ]
     },
     "execution_count": 7,
     "metadata": {},
     "output_type": "execute_result"
    }
   ],
   "source": [
    "#need a spatial reference to use pilot points. this means xoff, yoff, rotation, epsg\n",
    "m=sim.get_model()\n",
    "m.modelgrid"
   ]
  },
  {
   "cell_type": "code",
   "execution_count": 8,
   "id": "789ca711-06f7-468e-86da-351f1c1e633e",
   "metadata": {},
   "outputs": [
    {
     "name": "stdout",
     "output_type": "stream",
     "text": [
      "2025-07-08 14:06:28.893048 starting: opening PstFrom.log for logging\n",
      "2025-07-08 14:06:28.893552 starting PstFrom process\n",
      "2025-07-08 14:06:28.894227 starting: setting up dirs\n",
      "2025-07-08 14:06:28.894499 starting: removing existing new_d 'template'\n",
      "2025-07-08 14:06:28.906811 finished: removing existing new_d 'template' took: 0:00:00.012312\n",
      "2025-07-08 14:06:28.906938 starting: copying original_d 'simple_ies' to new_d 'template'\n",
      "2025-07-08 14:06:28.925021 finished: copying original_d 'simple_ies' to new_d 'template' took: 0:00:00.018083\n",
      "2025-07-08 14:06:28.925262 finished: setting up dirs took: 0:00:00.031035\n"
     ]
    }
   ],
   "source": [
    "pf = pyemu.utils.PstFrom(original_d=new_ws,\n",
    "                         new_d='template',\n",
    "                         remove_existing=True,\n",
    "                         start_datetime=\"1-1-2025\",\n",
    "                         spatial_reference=m.modelgrid)"
   ]
  },
  {
   "cell_type": "code",
   "execution_count": 9,
   "id": "2b2412d5-bdc6-4d15-ac0c-c6b4d363da31",
   "metadata": {},
   "outputs": [
    {
     "data": {
      "text/plain": [
       "\u001b[31mSignature:\u001b[39m\n",
       "pf.add_parameters(\n",
       "    filenames,\n",
       "    par_type,\n",
       "    zone_array=\u001b[38;5;28;01mNone\u001b[39;00m,\n",
       "    dist_type=\u001b[33m'gaussian'\u001b[39m,\n",
       "    sigma_range=\u001b[32m4.0\u001b[39m,\n",
       "    upper_bound=\u001b[38;5;28;01mNone\u001b[39;00m,\n",
       "    lower_bound=\u001b[38;5;28;01mNone\u001b[39;00m,\n",
       "    transform=\u001b[38;5;28;01mNone\u001b[39;00m,\n",
       "    par_name_base=\u001b[33m'p'\u001b[39m,\n",
       "    index_cols=\u001b[38;5;28;01mNone\u001b[39;00m,\n",
       "    use_cols=\u001b[38;5;28;01mNone\u001b[39;00m,\n",
       "    use_rows=\u001b[38;5;28;01mNone\u001b[39;00m,\n",
       "    pargp=\u001b[38;5;28;01mNone\u001b[39;00m,\n",
       "    pp_space=\u001b[32m10\u001b[39m,\n",
       "    use_pp_zones=\u001b[38;5;28;01mFalse\u001b[39;00m,\n",
       "    num_eig_kl=\u001b[32m100\u001b[39m,\n",
       "    spatial_reference=\u001b[38;5;28;01mNone\u001b[39;00m,\n",
       "    geostruct=\u001b[38;5;28;01mNone\u001b[39;00m,\n",
       "    datetime=\u001b[38;5;28;01mNone\u001b[39;00m,\n",
       "    mfile_fmt=\u001b[33m'free'\u001b[39m,\n",
       "    mfile_skip=\u001b[38;5;28;01mNone\u001b[39;00m,\n",
       "    mfile_sep=\u001b[38;5;28;01mNone\u001b[39;00m,\n",
       "    ult_ubound=\u001b[38;5;28;01mNone\u001b[39;00m,\n",
       "    ult_lbound=\u001b[38;5;28;01mNone\u001b[39;00m,\n",
       "    rebuild_pst=\u001b[38;5;28;01mFalse\u001b[39;00m,\n",
       "    alt_inst_str=\u001b[33m'inst'\u001b[39m,\n",
       "    comment_char=\u001b[38;5;28;01mNone\u001b[39;00m,\n",
       "    par_style=\u001b[33m'multiplier'\u001b[39m,\n",
       "    initial_value=\u001b[38;5;28;01mNone\u001b[39;00m,\n",
       ")\n",
       "\u001b[31mDocstring:\u001b[39m\n",
       "Add list or array style model input files to PstFrom object.\n",
       "This method is the main entry point for adding parameters to the\n",
       "pest interface\n",
       "\n",
       "Args:\n",
       "    filenames (`str`): Model input filenames to parameterize. By default filename should give relative\n",
       "        loction from top level of pest template directory\n",
       "        (`new_d` as passed to `PstFrom()`).\n",
       "    par_type (`str`): One of `grid` - for every element, `constant` - for single\n",
       "        parameter applied to every element, `zone` - for zone-based\n",
       "        parameterization or `pilotpoint` - for\n",
       "        pilot-point base parameterization of array style input files.\n",
       "        Note `kl` not yet implemented # TODO\n",
       "    zone_array (`np.ndarray`): array defining spatial limits or zones\n",
       "        for parameterization.\n",
       "    dist_type: not yet implemented # TODO\n",
       "    sigma_range: not yet implemented # TODO\n",
       "    upper_bound (`float`): PEST parameter upper bound.  If `None`, then 1.0e+10 is used.  Default is `None` #\n",
       "    lower_bound (`float`): PEST parameter lower bound.  If `None` and `transform` is \"log\", then 1.0e-10 is used.\n",
       "        Otherwise, if `None`, -1.0e+10 is used.  Default is `None`\n",
       "    transform (`str`): PEST parameter transformation.  Must be either \"log\",\"none\" or \"fixed.  The \"tied\" transform\n",
       "        must be used after calling `PstFrom.build_pst()`.\n",
       "    par_name_base (`str` or `list`-like): basename for parameters that\n",
       "        are set up. If parameter file is tabular list-style file\n",
       "        (`index_cols` is not None) then :\n",
       "        len(par_name_base) must equal len(use_cols)\n",
       "    index_cols (`list`-like): if not None, will attempt to parameterize\n",
       "        expecting a tabular-style model input file. `index_cols`\n",
       "        defines the unique columns used to set up pars. If passed as a\n",
       "        list of `str`, stings are expected to denote the columns\n",
       "        headers in tabular-style parameter files; if `i` and `j` in\n",
       "        list, these columns will be used to define spatial position for\n",
       "        spatial correlations (if required). WARNING: If passed as list\n",
       "        of `int`, `i` and `j` will be assumed to be in last two entries\n",
       "        in the list. Can be passed as a dictionary using the keys\n",
       "        `i` and `j` to explicitly speficy the columns that relate to\n",
       "        model rows and columns to be identified and processed to x,y.\n",
       "    use_cols (`list`-like or `int`): for tabular-style model input file,\n",
       "        defines the columns to be parameterised\n",
       "    use_rows (`list` or `tuple`): Setup parameters for\n",
       "        only specific rows in list-style model input file.\n",
       "        Action is dependent on the the dimensions of use_rows.\n",
       "        If ndim(use_rows) < 2: use_rows is assumed to represent the row number, index slicer (equiv df.iloc),\n",
       "        for all passed files (after headers stripped). So use_rows=[0,3,5], will parameterise the\n",
       "        1st, 4th and 6th rows of each passed list-like file.\n",
       "        If ndim(use_rows) = 2: use_rows represent the index value to paramterise according to index_cols.\n",
       "        e.g. [(3,5,6)] or [[3,5,6]] would attempt to set parameters where the model file\n",
       "        values for 3 `index_cols` are 3,5,6. N.B. values in tuple are the actual\n",
       "        model file entry values.\n",
       "        If no rows in the model input file match `use_rows`, parameters\n",
       "        will be set up for all rows. Only valid/effective if index_cols is not None.\n",
       "        Default is None -- setup parameters for all rows.\n",
       "    pargp (`str`): Parameter group to assign pars to. This is PESTs\n",
       "        pargp but is also used to gather correlated parameters set up\n",
       "        using multiple `add_parameters()` calls (e.g. temporal pars)\n",
       "        with common geostructs.\n",
       "    pp_space (`float`, `int`,`str` or `pd.DataFrame`): Spatial pilot point information.\n",
       "        If `float` or `int`, AND `spatial_reference` is of type VertexGrid, it is the spacing in model length untis between pilot points.\n",
       "        If `int` it is the spacing in rows and cols of where to place pilot points.\n",
       "        If `pd.DataFrame`, then this arg is treated as a prefined set of pilot points\n",
       "        and in this case, the dataframe must have \"name\", \"x\", \"y\", and optionally \"zone\" columns.\n",
       "        If `str`, then an attempt is made to load a dataframe from a csv file (if `pp_space` ends with \".csv\"),\n",
       "        shapefile (if `pp_space` ends with \".shp\") or from a pilot points file.  If `pp_space` is None,\n",
       "        an integer spacing of 10 is used.  Default is None\n",
       "    use_pp_zones (`bool`): a flag to use the greater-than-zero values\n",
       "        in the zone_array as pilot point zones.\n",
       "        If False, zone_array values greater than zero are treated as a\n",
       "        single zone.  This argument is only used if `pp_space` is None\n",
       "        or `int`. Default is False.\n",
       "    num_eig_kl: TODO - impliment with KL pars\n",
       "    spatial_reference (`pyemu.helpers.SpatialReference`): If different\n",
       "        spatial reference required for pilotpoint setup.\n",
       "        If None spatial reference passed to `PstFrom()` will be used\n",
       "        for pilot-points\n",
       "    geostruct (`pyemu.geostats.GeoStruct()`): For specifying correlation\n",
       "        geostruct for pilot-points and par covariance.\n",
       "    datetime (`str`): optional %Y%m%d string or datetime object for\n",
       "        setting up temporally correlated pars. Where datetime is passed\n",
       "        correlation axis for pars will be set to timedelta.\n",
       "    mfile_fmt (`str`): format of model input file - this will be preserved\n",
       "    mfile_skip (`int` or `str`): header in model input file to skip\n",
       "        when reading and reapply when writing. Can optionally be `str` in which case `mf_skip` will be treated\n",
       "        as a `comment_char`.\n",
       "    mfile_sep (`str`): separator/delimiter in model input file.\n",
       "        If None, separator will be interpretted from file name extension.\n",
       "        `.csv` is assumed to be comma separator. Default is None\n",
       "    ult_ubound (`float`): Ultimate upper bound for model input\n",
       "        parameter once all mults are applied - ensure physical model par vals. If not passed,\n",
       "        it is set to 1.0e+30\n",
       "    ult_lbound (`float`): Ultimate lower bound for model input\n",
       "        parameter once all mults are applied.  If not passed, it is set to\n",
       "        1.0e-30 for log transform and -1.0e+30 for non-log transform\n",
       "    rebuild_pst (`bool`): (Re)Construct PstFrom.pst object after adding\n",
       "        new parameters\n",
       "    alt_inst_str (`str`): Alternative to default `inst` string in\n",
       "        parameter names. Specify ``None`` or ``\"\"`` to exclude the instance\n",
       "        information from parameter names. For example, if parameters\n",
       "        that apply to more than one input/template file are desired.\n",
       "    comment_char (`str`): option to skip comment lines in model file.\n",
       "        This is not additive with `mfile_skip` option.\n",
       "        Warning: currently comment lines within list-style tabular data\n",
       "        will be lost.\n",
       "    par_style (`str`): either \"m\"/\"mult\"/\"multiplier\", \"a\"/\"add\"/\"addend\", or \"d\"/\"direct\" where the former sets up\n",
       "        up a multiplier and addend parameters process against the existing model input\n",
       "        array and the former sets up a template file to write the model\n",
       "        input file directly.  Default is \"multiplier\".\n",
       "\n",
       "    initial_value (`float`): the value to set for the `parval1` value in the control file\n",
       "        Default is 1.0\n",
       "Returns:\n",
       "    `pandas.DataFrame`: dataframe with info for new parameters\n",
       "\n",
       "Example::\n",
       "\n",
       "    # setup grid-scale direct parameters for an array of numbers\n",
       "    df = pf.add_parameters(\"hk.dat\",par_type=\"grid\",par_style=\"direct\")\n",
       "    # setup pilot point multiplier parameters for an array of numbers\n",
       "    # with a pilot point being set in every 5th active model cell\n",
       "    df = pf.add_parameters(\"recharge.dat\",par_type=\"pilotpoint\",pp_space=5,\n",
       "                           zone_array=\"ibound.dat\")\n",
       "    # setup a single multiplier parameter for the 4th column\n",
       "    # of a column format (list/tabular type) file\n",
       "    df = pf.add_parameters(\"wel_list_1.dat\",par_type=\"constant\",\n",
       "                           index_cols=[0,1,2],use_cols=[3])\n",
       "\u001b[31mFile:\u001b[39m      ~/Desktop/GMDSI_notebooks/dependencies/pyemu/pyemu/utils/pst_from.py\n",
       "\u001b[31mType:\u001b[39m      method"
      ]
     },
     "metadata": {},
     "output_type": "display_data"
    }
   ],
   "source": [
    "?pf.add_parameters"
   ]
  },
  {
   "cell_type": "code",
   "execution_count": 10,
   "id": "58437ee2-34d5-490b-af7e-101521070d5c",
   "metadata": {},
   "outputs": [
    {
     "name": "stdout",
     "output_type": "stream",
     "text": [
      "2025-07-08 14:06:38.911128 transform was not passed, setting default tranform to 'log'\n",
      "2025-07-08 14:06:38.911816 starting: adding constant type m style parameters for file(s) ['k_aq.ref']\n",
      "2025-07-08 14:06:38.912090 starting: loading array template/k_aq.ref\n",
      "2025-07-08 14:06:38.913374 finished: loading array template/k_aq.ref took: 0:00:00.001284\n",
      "2025-07-08 14:06:38.913611 loaded array 'simple_ies/k_aq.ref' of shape (40, 25)\n",
      "2025-07-08 14:06:38.915981 starting: writing array-style template file 'template/p_inst0_constant.csv.tpl'\n",
      "2025-07-08 14:06:38.916085 starting: writing template file template/p_inst0_constant.csv.tpl for ['p_inst:0']\n",
      "2025-07-08 14:06:38.923746 finished: writing template file template/p_inst0_constant.csv.tpl for ['p_inst:0'] took: 0:00:00.007661\n",
      "2025-07-08 14:06:38.923820 starting: writing array-based template file 'template/p_inst0_constant.csv.tpl'\n",
      "2025-07-08 14:06:38.928191 finished: adding constant type m style parameters for file(s) ['k_aq.ref'] took: 0:00:00.016375\n",
      "2025-07-08 14:06:38.928277 transform was not passed, setting default tranform to 'log'\n",
      "2025-07-08 14:06:38.928356 starting: adding constant type m style parameters for file(s) ['k_clay.ref']\n",
      "2025-07-08 14:06:38.928429 starting: loading array template/k_clay.ref\n",
      "2025-07-08 14:06:38.928809 finished: loading array template/k_clay.ref took: 0:00:00.000380\n",
      "2025-07-08 14:06:38.928859 loaded array 'simple_ies/k_clay.ref' of shape (40, 25)\n",
      "2025-07-08 14:06:38.930590 starting: writing array-style template file 'template/p_inst1_constant.csv.tpl'\n",
      "2025-07-08 14:06:38.930651 starting: writing template file template/p_inst1_constant.csv.tpl for ['p_inst:1']\n",
      "2025-07-08 14:06:38.936148 finished: writing template file template/p_inst1_constant.csv.tpl for ['p_inst:1'] took: 0:00:00.005497\n",
      "2025-07-08 14:06:38.936207 starting: writing array-based template file 'template/p_inst1_constant.csv.tpl'\n",
      "2025-07-08 14:06:38.939256 finished: adding constant type m style parameters for file(s) ['k_clay.ref'] took: 0:00:00.010900\n"
     ]
    }
   ],
   "source": [
    "k_pars = [f for f in os.listdir(new_ws) if 'k_' in f and f.endswith('.ref')]\n",
    "k_pars\n",
    "for f in k_pars:\n",
    "    pf.add_parameters(f,par_type='constant',upper_bound=20,lower_bound=0.05)"
   ]
  },
  {
   "cell_type": "code",
   "execution_count": 11,
   "id": "41e10938-c9fa-4ffd-8f83-19beb0098db3",
   "metadata": {},
   "outputs": [
    {
     "data": {
      "text/plain": [
       "<matplotlib.lines.Line2D at 0x137361250>"
      ]
     },
     "execution_count": 11,
     "metadata": {},
     "output_type": "execute_result"
    },
    {
     "data": {
      "image/png": "[encoded data removed]",
      "text/plain": [
       "<Figure size 640x480 with 1 Axes>"
      ]
     },
     "metadata": {},
     "output_type": "display_data"
    }
   ],
   "source": [
    "#for pilot points, we first need to build a variogram, which describes the underlying spatial correlation structure of the variable\n",
    "pp_v = pyemu.geostats.ExpVario(contribution=1.0, a=5000) #rule of thumb is that range should be atleast 2x pp spacing (delr= 500\n",
    "pp_gs = pyemu.geostats.GeoStruct(variograms=pp_v)\n",
    "ax=pp_gs.plot()\n",
    "ax.axvline(x=500*5*2)"
   ]
  },
  {
   "cell_type": "code",
   "execution_count": null,
   "id": "26ff0d24-fd8f-47ec-82a4-9be3f91ac23f",
   "metadata": {},
   "outputs": [],
   "source": [
    "for f in k_pars:\n",
    "    base = f.split('.')[0]\n",
    "    pf.add_parameters(f,par_type='pilotpoint',upper_bound=20,lower_bound=0.05,pp_space=5,geostruct=pp_gs)"
   ]
  },
  {
   "cell_type": "code",
   "execution_count": null,
   "id": "58464e8b-42f9-4415-80ec-90c92ebe2380",
   "metadata": {},
   "outputs": [],
   "source": [
    "?pf.add_observations"
   ]
  },
  {
   "cell_type": "code",
   "execution_count": null,
   "id": "5c345493-088a-48d0-add7-b95cf4632c42",
   "metadata": {},
   "outputs": [],
   "source": [
    "obs_csvs = [f for f in os.listdir(new_ws) if f.endswith('.csv')]\n",
    "for f in obs_csvs:\n",
    "    df = pd.read_csv(os.path.join(new_ws,f))\n",
    "    pf.add_observations(f,index_cols='time',use_cols=df.columns.tolist()[1:])"
   ]
  },
  {
   "cell_type": "code",
   "execution_count": null,
   "id": "4caa4783-6f37-49c7-a5d8-b19289062a25",
   "metadata": {},
   "outputs": [],
   "source": [
    "pf.mod_sys_cmds.append('mf6')"
   ]
  },
  {
   "cell_type": "code",
   "execution_count": null,
   "id": "8f0aa111-aa55-4ce2-ae66-b2a1bcc70cfa",
   "metadata": {},
   "outputs": [],
   "source": [
    "pf.build_pst(filename=os.path.join(pf.new_d,'at.pst'),version=2)"
   ]
  },
  {
   "cell_type": "code",
   "execution_count": null,
   "id": "87288420-69e9-4b1c-9e34-0347d1bce101",
   "metadata": {},
   "outputs": [],
   "source": [
    "pst = pyemu.Pst(filename=os.path.join(pf.new_d,'at.pst'))\n",
    "obs = pst.observation_data\n",
    "obs"
   ]
  },
  {
   "cell_type": "code",
   "execution_count": null,
   "id": "8304bd18-4acc-4208-897e-989509afff75",
   "metadata": {},
   "outputs": [],
   "source": [
    "#zero everything out for starters\n",
    "obs.weight = 0"
   ]
  },
  {
   "cell_type": "code",
   "execution_count": null,
   "id": "13288f1e-589c-44d9-b50e-eddac0a8e20a",
   "metadata": {},
   "outputs": [],
   "source": [
    "#we need to tell PEST what are the observed values and their weights, to calc the objective function\n",
    "truth = pd.read_csv(os.path.join(new_ws,'obsvalues.dat'),delim_whitespace=True)\n",
    "truth"
   ]
  },
  {
   "cell_type": "code",
   "execution_count": null,
   "id": "accc23a0-0319-479c-a1b3-69b8278f422a",
   "metadata": {},
   "outputs": [],
   "source": [
    "for i,stuff in truth.iterrows():\n",
    "    obs.loc[obs.obsnme.str.contains(stuff.obsnme),'obsval'] = stuff.obsval\n",
    "    obs.loc[obs.obsnme.str.contains(stuff.obsnme),'weight'] = stuff.weight\n",
    "    obs.loc[obs.obsnme.str.contains(stuff.obsnme),'obgnme'] = stuff.obgnme"
   ]
  },
  {
   "cell_type": "code",
   "execution_count": null,
   "id": "fd05867f-9f2a-40f7-98cd-5857eb6b4414",
   "metadata": {},
   "outputs": [],
   "source": [
    "pst.observation_data = obs\n",
    "pst.write(os.path.join(pf.new_d,'at.pst'),version=2)"
   ]
  },
  {
   "cell_type": "code",
   "execution_count": null,
   "id": "34896a1f-9945-4b7a-b440-41fc31ee7008",
   "metadata": {},
   "outputs": [],
   "source": [
    "pyemu.os_utils.run('pestpp-ies at.pst',cwd='template')"
   ]
  },
  {
   "cell_type": "code",
   "execution_count": null,
   "id": "54f395f3-db0f-4627-8b4d-ea61efc5693d",
   "metadata": {},
   "outputs": [],
   "source": [
    "phi= pst.phi\n",
    "phi"
   ]
  }
 ],
 "metadata": {
  "kernelspec": {
   "display_name": "Python 3 (ipykernel)",
   "language": "python",
   "name": "python3"
  },
  "language_info": {
   "codemirror_mode": {
    "name": "ipython",
    "version": 3
   },
   "file_extension": ".py",
   "mimetype": "text/x-python",
   "name": "python",
   "nbconvert_exporter": "python",
   "pygments_lexer": "ipython3",
   "version": "3.11.13"
  }
 },
 "nbformat": 4,
 "nbformat_minor": 5
}
