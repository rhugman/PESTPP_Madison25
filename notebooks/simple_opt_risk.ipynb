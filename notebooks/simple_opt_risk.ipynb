{
 "cells": [
  {
   "cell_type": "markdown",
   "id": "d46d2c82",
   "metadata": {},
   "source": [
    "# Single objective optimization with (sequential) linear programming and `PESTPP-OPT`: bringing in risk evaluation "
   ]
  },
  {
   "cell_type": "code",
   "execution_count": null,
   "id": "200e2858-3504-484a-bdc3-27e7900e2e67",
   "metadata": {},
   "outputs": [],
   "source": [
    "import os\n",
    "import sys\n",
    "sys.path.insert(0,\"..\")\n",
    "import numpy as np\n",
    "import matplotlib.pyplot as plt\n",
    "import pyemu\n",
    "print(pyemu.__file__)\n",
    "import flopy\n",
    "import platform\n",
    "from pathlib import Path\n",
    "import shutil\n",
    "import pandas as pd\n",
    "from IPython import display\n"
   ]
  },
  {
   "cell_type": "code",
   "execution_count": null,
   "id": "2f873b74",
   "metadata": {},
   "outputs": [],
   "source": [
    "display.Image(\"./mv_schematic.png\",width=650) "
   ]
  },
  {
   "cell_type": "markdown",
   "id": "ef4680ed",
   "metadata": {},
   "source": [
    "## Problem setup\n",
    " - two city wells in the south of the domain, in combination need to provide 150,000 ft^3/d of water for a city but would like as much as possible\n",
    " - the northern well would like to produce 50,000 ft^3/d for a fancy brewery making nettle-mead syrup and moss beer #soHipster\n",
    " - The two stream gages can experience some depletion, but only up to 30%"
   ]
  },
  {
   "cell_type": "markdown",
   "id": "7bd22a36",
   "metadata": {},
   "source": [
    "# Let's build on the previous optimization and make use of the ensemble (stack) from running iES"
   ]
  },
  {
   "cell_type": "code",
   "execution_count": null,
   "id": "f0027a65-09d6-43e5-9b28-bcd18cc188d8",
   "metadata": {},
   "outputs": [],
   "source": [
    "pstroot = 'mv_opt_risk.05'"
   ]
  },
  {
   "cell_type": "code",
   "execution_count": null,
   "id": "552f6f11",
   "metadata": {},
   "outputs": [],
   "source": [
    "thisdir = os.getcwd()"
   ]
  },
  {
   "cell_type": "markdown",
   "id": "54aee0b2-d136-47df-b481-8e536d34f7c5",
   "metadata": {},
   "source": [
    "# Let's start with our OPT setup - we need to make some changes to it"
   ]
  },
  {
   "cell_type": "code",
   "execution_count": null,
   "id": "1a0e24b7-1183-4fd7-a31b-7af516495026",
   "metadata": {},
   "outputs": [],
   "source": [
    "template_ws = Path('./simple_opt')\n",
    "new_ws = Path('./simple_opt_risk')"
   ]
  },
  {
   "cell_type": "code",
   "execution_count": null,
   "id": "3f1230af-7710-4186-b68f-6e400b564777",
   "metadata": {},
   "outputs": [],
   "source": [
    "if os.path.exists(new_ws):\n",
    "    shutil.rmtree(new_ws)\n",
    "shutil.copytree(template_ws, new_ws)"
   ]
  },
  {
   "cell_type": "code",
   "execution_count": null,
   "id": "88970216-b66e-4bcc-bd17-c5dd8c9ccbfc",
   "metadata": {},
   "outputs": [],
   "source": [
    "pst = pyemu.Pst(str(new_ws / 'mv_opt.pst'))"
   ]
  },
  {
   "cell_type": "markdown",
   "id": "e49e223a-2414-42df-b495-ef94f6804e4f",
   "metadata": {},
   "source": [
    "# To consider uncertainty of the objective function outputs, we need to bring in the stack using a couple options"
   ]
  },
  {
   "cell_type": "markdown",
   "id": "c0eafd9c",
   "metadata": {},
   "source": [
    "### first let's copy over the ensemble files from the iES run directory"
   ]
  },
  {
   "cell_type": "code",
   "execution_count": null,
   "id": "df1ccbfa",
   "metadata": {},
   "outputs": [],
   "source": [
    "[shutil.copy2(f'./master_ies_simple/at.5.{cf}.csv',new_ws/ f'at.3.{cf}.stack.csv') for cf in ['obs','par']]\n"
   ]
  },
  {
   "cell_type": "code",
   "execution_count": null,
   "id": "43cc06fb",
   "metadata": {},
   "outputs": [],
   "source": [
    "pst.pestpp_options['opt_recalc_chance_every'] = 100 # let's assume the stack is ok and doesn't need recalculating\n",
    "pst.pestpp_options['opt_par_stack'] = 'at.3.par.stack.csv'\n",
    "pst.pestpp_options['opt_obs_stack'] = 'at.3.obs.stack.csv'\n",
    "pst.pestpp_options['opt_stack_size'] = 100\n",
    "pst.pestpp_options['opt_risk'] = 0.05\n"
   ]
  },
  {
   "cell_type": "markdown",
   "id": "ebfe6f13",
   "metadata": {},
   "source": [
    "## Also have to free up parameters"
   ]
  },
  {
   "cell_type": "code",
   "execution_count": null,
   "id": "459051c6",
   "metadata": {},
   "outputs": [],
   "source": [
    "pars = pst.parameter_data\n",
    "pars.partrans='none'"
   ]
  },
  {
   "cell_type": "code",
   "execution_count": null,
   "id": "1d877ec4",
   "metadata": {},
   "outputs": [],
   "source": [
    "obs=pst.observation_data\n",
    "obs"
   ]
  },
  {
   "cell_type": "code",
   "execution_count": null,
   "id": "2973c2dc",
   "metadata": {},
   "outputs": [],
   "source": [
    "pst.control_data.noptmax = 1\n",
    "pst.write(str(new_ws / f'{pstroot}.pst'), version=2)"
   ]
  },
  {
   "cell_type": "code",
   "execution_count": null,
   "id": "b7f4d979",
   "metadata": {},
   "outputs": [],
   "source": [
    "pyemu.os_utils.run(f'pestpp-opt {pstroot}.pst',cwd=new_ws)"
   ]
  },
  {
   "cell_type": "markdown",
   "id": "61d571d8",
   "metadata": {},
   "source": [
    "## let's sweep across risk and see what happens\n"
   ]
  },
  {
   "cell_type": "code",
   "execution_count": null,
   "id": "c18f0f0a",
   "metadata": {},
   "outputs": [],
   "source": [
    "pst.pestpp_options['hotstart_resfile'] = 'mv_opt_risk.05.1.jcb.rei'\n",
    "pst.pestpp_options['base_jacobian'] = 'mv_opt_risk.05.1.jcb'\n",
    "pst.pestpp_options['opt_skip_final'] = True\n",
    "pst.control_data.noptmax = 1\n"
   ]
  },
  {
   "cell_type": "code",
   "execution_count": null,
   "id": "7908eb35",
   "metadata": {},
   "outputs": [],
   "source": [
    "os.chdir(new_ws)\n",
    "riskroots = []\n",
    "risks = np.linspace(0.01,.99,99)\n",
    "for i in risks:\n",
    "    pst.pestpp_options['opt_risk'] = i\n",
    "    pstroot = f'mv_sweep_{i:0.2f}'\n",
    "    print(pstroot)\n",
    "    riskroots.append(pstroot)\n",
    "    pst.write( f'{pstroot}.pst', version=2)\n",
    "    pyemu.os_utils.run(f'pestpp-opt {pstroot}.pst')\n",
    "\n",
    "os.chdir(thisdir)"
   ]
  },
  {
   "cell_type": "code",
   "execution_count": null,
   "id": "73be454d",
   "metadata": {},
   "outputs": [],
   "source": [
    "os.chdir(thisdir)"
   ]
  },
  {
   "cell_type": "code",
   "execution_count": null,
   "id": "5fd85563",
   "metadata": {},
   "outputs": [],
   "source": [
    "risks"
   ]
  },
  {
   "cell_type": "code",
   "execution_count": null,
   "id": "7c3dc8b9",
   "metadata": {},
   "outputs": [],
   "source": [
    "feas = []\n",
    "for cf in riskroots:\n",
    "    if 'infeasi' in  ''.join([i.strip().lower() for i in open(new_ws/ f'{cf}.rec', 'r').readlines()]):\n",
    "        feas.append(False)\n",
    "    else:\n",
    "        feas.append(True)"
   ]
  },
  {
   "cell_type": "code",
   "execution_count": null,
   "id": "e5c01491",
   "metadata": {},
   "outputs": [],
   "source": [
    "feas"
   ]
  },
  {
   "cell_type": "code",
   "execution_count": null,
   "id": "cc585339",
   "metadata": {},
   "outputs": [],
   "source": [
    "stream_ds_mod_shift = []\n",
    "stream_ds_meas = []\n",
    "stream_ds_mod = []\n",
    "\n",
    "for root in riskroots:\n",
    "    print(root, end='\\r')\n",
    "    if (new_ws / f'{root}.1.est+chance.rei').exists():\n",
    "        stream_ds_meas.append(float(open(new_ws / f'{root}.1.est+chance.rei').readlines()[4].strip().split()[2]))\n",
    "        stream_ds_mod_shift.append(float(open(new_ws / f'{root}.1.est+chance.rei').readlines()[4].strip().split()[3]))\n",
    "        stream_ds_mod.append(float(open(new_ws / f'{root}.1.est.rei').readlines()[4].strip().split()[3]))\n",
    "    else:\n",
    "        stream_ds_meas.append(stream_ds_meas[0])\n",
    "        stream_ds_mod.append(np.nan)\n",
    "        stream_ds_mod_shift.append(np.nan)\n",
    "\n",
    "stream_pf_mod_shift = []\n",
    "stream_pf_meas = []\n",
    "stream_pf_mod = []\n",
    "\n",
    "for root in riskroots:\n",
    "    print(root, end='\\r')\n",
    "    if (new_ws / f'{root}.1.est+chance.rei').exists():\n",
    "        stream_pf_meas.append(float(open(new_ws / f'{root}.1.est+chance.rei').readlines()[5].strip().split()[2]))\n",
    "        stream_pf_mod_shift.append(float(open(new_ws / f'{root}.1.est+chance.rei').readlines()[5].strip().split()[3]))\n",
    "        stream_pf_mod.append(float(open(new_ws / f'{root}.1.est.rei').readlines()[5].strip().split()[3]))\n",
    "        \n",
    "    else:\n",
    "        stream_pf_meas.append(stream_pf_meas[0])\n",
    "        stream_pf_mod.append(np.nan)\n",
    "        stream_pf_mod_shift.append(np.nan)\n",
    "        "
   ]
  },
  {
   "cell_type": "code",
   "execution_count": null,
   "id": "7b3c59cb",
   "metadata": {},
   "outputs": [],
   "source": [
    "risk_shift_results = pd.DataFrame(\n",
    "    index=risks,\n",
    "    data = {\n",
    "        'feas':feas,\n",
    "        'ds_mod': stream_ds_mod,\n",
    "        'ds_mod_risk': stream_ds_mod_shift,\n",
    "        'ds_meas': stream_ds_meas,\n",
    "        'pf_mod': stream_pf_mod,\n",
    "        'pf_mod_risk': stream_pf_mod_shift,\n",
    "        'pf_meas': stream_pf_meas,\n",
    "        \n",
    "    }\n",
    ")"
   ]
  },
  {
   "cell_type": "code",
   "execution_count": null,
   "id": "041b7f53",
   "metadata": {},
   "outputs": [],
   "source": [
    "risk_shift_results"
   ]
  },
  {
   "cell_type": "code",
   "execution_count": null,
   "id": "e92acbad",
   "metadata": {},
   "outputs": [],
   "source": [
    "ax = risk_shift_results[['ds_meas','ds_mod','ds_mod_risk']].plot()\n",
    "plt.xlabel('risk')\n",
    "ax.fill_between(risk_shift_results.index,\n",
    "                ax.get_ylim()[0],\n",
    "                ax.get_ylim()[1],\n",
    "                where=(~risk_shift_results.feas), color='red', alpha=0.5)\n"
   ]
  },
  {
   "cell_type": "code",
   "execution_count": null,
   "id": "618cddab",
   "metadata": {},
   "outputs": [],
   "source": [
    "ax = risk_shift_results[['pf_meas','pf_mod','pf_mod_risk']].plot()\n",
    "plt.xlabel('risk')\n",
    "ax.fill_between(risk_shift_results.index,\n",
    "                ax.get_ylim()[0],\n",
    "                ax.get_ylim()[1],\n",
    "                where=(~risk_shift_results.feas), color='red', alpha=0.5)"
   ]
  },
  {
   "cell_type": "markdown",
   "id": "8c089f89",
   "metadata": {},
   "source": [
    "### What about the decision variables? How are they changing across risk profiles?"
   ]
  },
  {
   "cell_type": "code",
   "execution_count": null,
   "id": "244b5fbe",
   "metadata": {},
   "outputs": [],
   "source": [
    "dvs = []\n",
    "\n",
    "for root in riskroots:\n",
    "    print(root, end='\\r')\n",
    "    if (new_ws / f'{root}.1.par').exists():\n",
    "        cp = pd.read_csv(new_ws / f'{root}.1.par',  sep=r'\\s+', header=None, skiprows=1,\n",
    "                        names=['parname','parval'], usecols=[0,1])\n",
    "        dvs.append(cp.loc[cp.parname.str.contains('wflux')].T.to_numpy()[1])\n",
    "\n",
    "    else:\n",
    "        dvs.append(np.ones(3)*np.nan)\n",
    "\n",
    "dv_df = pd.DataFrame(\n",
    "    index=risks,\n",
    "    data = np.array(dvs).astype(float),\n",
    "    columns=cp.loc[cp.parname.str.contains('wflux')].T.to_numpy()[0]\n",
    ")"
   ]
  },
  {
   "cell_type": "code",
   "execution_count": null,
   "id": "12c1a9d1",
   "metadata": {},
   "outputs": [],
   "source": [
    "dv_df['feas'] = feas\n",
    "dv_df"
   ]
  },
  {
   "cell_type": "code",
   "execution_count": null,
   "id": "c5c831e8",
   "metadata": {},
   "outputs": [],
   "source": [
    "ax = dv_df[['wflux_k:4_i:32_j:5','wflux_k:4_i:5_j:14','wflux_k:4_i:34_j:15']].plot()\n",
    "plt.xlabel('risk')\n",
    "plt.ylabel('Pumping')\n",
    "ax.fill_between(risk_shift_results.index,\n",
    "                ax.get_ylim()[0],\n",
    "                ax.get_ylim()[1],\n",
    "                where=(~dv_df.feas), color='red', alpha=0.5)"
   ]
  }
 ],
 "metadata": {
  "language_info": {
   "name": "python"
  }
 },
 "nbformat": 4,
 "nbformat_minor": 5
}
