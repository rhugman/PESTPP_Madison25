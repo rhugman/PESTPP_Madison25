{
 "cells": [
  {
   "cell_type": "markdown",
   "id": "d46d2c82",
   "metadata": {},
   "source": [
    "# Single objective optimization with (sequential) linear programming and `PESTPP-OPT`: bringing in risk evaluation "
   ]
  },
  {
   "cell_type": "code",
   "execution_count": null,
   "id": "200e2858-3504-484a-bdc3-27e7900e2e67",
   "metadata": {},
   "outputs": [],
   "source": [
    "import os\n",
    "import sys\n",
    "sys.path.insert(0,\"..\")\n",
    "import numpy as np\n",
    "import matplotlib.pyplot as plt\n",
    "import pyemu\n",
    "print(pyemu.__file__)\n",
    "import flopy\n",
    "import platform\n",
    "from pathlib import Path\n",
    "import shutil\n",
    "import pandas as pd\n",
    "from IPython import display\n"
   ]
  },
  {
   "cell_type": "code",
   "execution_count": null,
   "id": "2f873b74",
   "metadata": {},
   "outputs": [],
   "source": [
    "display.Image(\"./mv_schematic.png\",width=650) "
   ]
  },
  {
   "cell_type": "markdown",
   "id": "ef4680ed",
   "metadata": {},
   "source": [
    "## Problem setup\n",
    " - two city wells in the south of the domain, in combination need to provide 250,000 ft^3/d of water for a city but would like as much as possible\n",
    " - the northern well needs to produce 67,000 ft^3/d although it would be acceptable to produce as little as 50,000 ft^3/d - this is for a fancy brewery making nettle-mead syrup and moss beer #soHipster\n",
    " - The two stream gages can experience some depletion, but only up to 30%"
   ]
  },
  {
   "cell_type": "markdown",
   "id": "7bd22a36",
   "metadata": {},
   "source": [
    "# Let's build on the previous optimization and make use of the ensemble (stack) from running iES"
   ]
  },
  {
   "cell_type": "code",
   "execution_count": null,
   "id": "f0027a65-09d6-43e5-9b28-bcd18cc188d8",
   "metadata": {},
   "outputs": [],
   "source": [
    "pstroot = 'mv_opt_risk.05'"
   ]
  },
  {
   "cell_type": "code",
   "execution_count": null,
   "id": "552f6f11",
   "metadata": {},
   "outputs": [],
   "source": [
    "thisdir = os.getcwd()"
   ]
  },
  {
   "cell_type": "markdown",
   "id": "54aee0b2-d136-47df-b481-8e536d34f7c5",
   "metadata": {},
   "source": [
    "# Let's start with our OPT setup - we need to make some changes to it"
   ]
  },
  {
   "cell_type": "code",
   "execution_count": null,
   "id": "1a0e24b7-1183-4fd7-a31b-7af516495026",
   "metadata": {},
   "outputs": [],
   "source": [
    "template_ws = Path('./simple_opt')\n",
    "new_ws = Path('./simple_opt_risk')"
   ]
  },
  {
   "cell_type": "code",
   "execution_count": null,
   "id": "3f1230af-7710-4186-b68f-6e400b564777",
   "metadata": {},
   "outputs": [],
   "source": [
    "if os.path.exists(new_ws):\n",
    "    shutil.rmtree(new_ws)\n",
    "shutil.copytree(template_ws, new_ws)"
   ]
  },
  {
   "cell_type": "code",
   "execution_count": null,
   "id": "88970216-b66e-4bcc-bd17-c5dd8c9ccbfc",
   "metadata": {},
   "outputs": [],
   "source": [
    "pst = pyemu.Pst(str(new_ws / 'mv_opt.pst'))"
   ]
  },
  {
   "cell_type": "markdown",
   "id": "e49e223a-2414-42df-b495-ef94f6804e4f",
   "metadata": {},
   "source": [
    "# To consider uncertainty of the objective function outputs, we need to bring in the stack using a couple options"
   ]
  },
  {
   "cell_type": "markdown",
   "id": "c0eafd9c",
   "metadata": {},
   "source": [
    "### first let's copy over the ensemble files from the iES run directory"
   ]
  },
  {
   "cell_type": "code",
   "execution_count": null,
   "id": "df1ccbfa",
   "metadata": {},
   "outputs": [],
   "source": [
    "[shutil.copy2(f'./master_ies_simple/at.3.{cf}.csv',new_ws/ f'at.3.{cf}.stack.csv') for cf in ['obs','par']]\n"
   ]
  },
  {
   "cell_type": "code",
   "execution_count": null,
   "id": "43cc06fb",
   "metadata": {},
   "outputs": [],
   "source": [
    "pst.pestpp_options['opt_recalc_chance_every'] = 100 # let's assume the stack is ok and doesn't need recalculating\n",
    "pst.pestpp_options['opt_par_stack'] = 'at.3.par.stack.csv'\n",
    "pst.pestpp_options['opt_obs_stack'] = 'at.3.obs.stack.csv'\n",
    "pst.pestpp_options['opt_stack_size'] = 100\n",
    "pst.pestpp_options['opt_risk'] = 0.05\n"
   ]
  },
  {
   "cell_type": "markdown",
   "id": "ebfe6f13",
   "metadata": {},
   "source": [
    "## Also have to free up parameters"
   ]
  },
  {
   "cell_type": "code",
   "execution_count": null,
   "id": "459051c6",
   "metadata": {},
   "outputs": [],
   "source": [
    "pars = pst.parameter_data\n",
    "pars.partrans='none'"
   ]
  },
  {
   "cell_type": "code",
   "execution_count": null,
   "id": "1d877ec4",
   "metadata": {},
   "outputs": [],
   "source": [
    "obs=pst.observation_data\n",
    "obs"
   ]
  },
  {
   "cell_type": "code",
   "execution_count": null,
   "id": "2973c2dc",
   "metadata": {},
   "outputs": [],
   "source": [
    "pst.control_data.noptmax = 3\n",
    "pst.write(str(new_ws / f'{pstroot}.pst'), version=2)"
   ]
  },
  {
   "cell_type": "code",
   "execution_count": null,
   "id": "b7f4d979",
   "metadata": {},
   "outputs": [],
   "source": [
    "os.chdir(new_ws)\n",
    "pyemu.os_utils.run(f'pestpp-opt {pstroot}.pst')\n",
    "os.chdir(thisdir)"
   ]
  },
  {
   "cell_type": "code",
   "execution_count": null,
   "id": "61d571d8",
   "metadata": {},
   "outputs": [],
   "source": []
  }
 ],
 "metadata": {
  "language_info": {
   "name": "python"
  }
 },
 "nbformat": 4,
 "nbformat_minor": 5
}
