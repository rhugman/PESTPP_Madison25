{
 "cells": [
  {
   "cell_type": "code",
   "execution_count": null,
   "id": "a0bcc856-86f0-47bb-b201-af2d9335ca57",
   "metadata": {},
   "outputs": [],
   "source": [
    "import os\n",
    "import sys\n",
    "sys.path.insert(0,\"..\")\n",
    "import numpy as np\n",
    "import matplotlib.pyplot as plt\n",
    "import pyemu\n",
    "print(pyemu.__file__)\n",
    "import flopy\n",
    "import platform\n",
    "from pathlib import Path\n",
    "import shutil\n",
    "import pandas as pd"
   ]
  },
  {
   "cell_type": "code",
   "execution_count": null,
   "id": "0bc68af4-4c11-438b-9bfd-52ddded58869",
   "metadata": {},
   "outputs": [],
   "source": [
    "t_d = \"template\"\n",
    "if not os.path.exists(t_d):\n",
    "    raise Exception(\"need to run simple_pstfrom notebook\")"
   ]
  },
  {
   "cell_type": "code",
   "execution_count": null,
   "id": "4a4489e7-7066-4b3b-9d89-6080341732ae",
   "metadata": {},
   "outputs": [],
   "source": [
    "pst = pyemu.Pst(os.path.join(t_d,\"at.pst\"))\n",
    "pst.npar,pst.nobs"
   ]
  },
  {
   "cell_type": "code",
   "execution_count": null,
   "id": "ea9ff327-0b96-4231-a8b8-71367090145a",
   "metadata": {},
   "outputs": [],
   "source": [
    "pst.pestpp_options"
   ]
  },
  {
   "cell_type": "code",
   "execution_count": null,
   "id": "e1d96d0c-5b11-41d1-be28-7413358a05d1",
   "metadata": {},
   "outputs": [],
   "source": [
    "if \"ies_par_en\" not in pst.pestpp_options:\n",
    "    raise Exception(\"prior par ensemble not found\")"
   ]
  },
  {
   "cell_type": "code",
   "execution_count": null,
   "id": "5f3e9ce9-7a05-4579-a76c-a5a905401707",
   "metadata": {},
   "outputs": [],
   "source": [
    "pst.pestpp_options = {\"ies_par_en\":pst.pestpp_options[\"ies_par_en\"]}"
   ]
  },
  {
   "cell_type": "code",
   "execution_count": null,
   "id": "8c5da2b9-9c40-4f90-ae64-97a7b5617749",
   "metadata": {},
   "outputs": [],
   "source": [
    "pst.control_data.noptmax = 3"
   ]
  },
  {
   "cell_type": "code",
   "execution_count": null,
   "id": "f31795f0",
   "metadata": {},
   "outputs": [],
   "source": [
    "pst.obs_groups"
   ]
  },
  {
   "cell_type": "code",
   "execution_count": null,
   "id": "ea9570e1",
   "metadata": {},
   "outputs": [],
   "source": [
    "weighted_groups = [i for i in pst.obs_groups if i.endswith('group')]\n",
    "weighted_groups"
   ]
  },
  {
   "cell_type": "code",
   "execution_count": null,
   "id": "04c12b25",
   "metadata": {},
   "outputs": [],
   "source": [
    "wts = [.4,.3,.2,.2]"
   ]
  },
  {
   "cell_type": "code",
   "execution_count": null,
   "id": "ecf9df3b",
   "metadata": {},
   "outputs": [],
   "source": [
    "with open(f'{t_d}/phi_factors.csv', 'w') as ofp:\n",
    "    [ofp.write(f'{g},{w}\\n') for g,w in zip(weighted_groups,wts)]"
   ]
  },
  {
   "cell_type": "code",
   "execution_count": null,
   "id": "2f9c96ea",
   "metadata": {},
   "outputs": [],
   "source": [
    "pst.pestpp_options['ies_phi_factor_file']='phi_factors.csv'"
   ]
  },
  {
   "cell_type": "code",
   "execution_count": null,
   "id": "10534e3a-1dbb-4696-9a81-07833d7a4de3",
   "metadata": {},
   "outputs": [],
   "source": [
    "pst.write(os.path.join(t_d,\"at.pst\"),version=2)"
   ]
  },
  {
   "cell_type": "code",
   "execution_count": null,
   "id": "bffee342-a97e-4112-a8f7-4c295f91b026",
   "metadata": {},
   "outputs": [],
   "source": [
    "m_d = \"master_ies_simple\""
   ]
  },
  {
   "cell_type": "code",
   "execution_count": null,
   "id": "9485ba84-b53f-452e-92cc-1a90075dd01e",
   "metadata": {},
   "outputs": [],
   "source": [
    "pyemu.os_utils.start_workers(t_d,\"pestpp-ies\",\"at.pst\",num_workers=8,master_dir=m_d,worker_root='.')"
   ]
  },
  {
   "cell_type": "code",
   "execution_count": null,
   "id": "87fa2cb7-4775-4e47-b972-3fbe2c4bd43c",
   "metadata": {},
   "outputs": [],
   "source": [
    "pst = pyemu.Pst(os.path.join(m_d,\"at.pst\"))"
   ]
  },
  {
   "cell_type": "code",
   "execution_count": null,
   "id": "11d5c35f-09ab-4a89-b1b5-6a6f5781cc83",
   "metadata": {},
   "outputs": [],
   "source": [
    "oe = pst.ies.obsen\n",
    "oe"
   ]
  },
  {
   "cell_type": "code",
   "execution_count": null,
   "id": "89f6cfb0-f711-432e-965c-3daa12f49d41",
   "metadata": {},
   "outputs": [],
   "source": [
    "nzoe = oe.loc[:,pst.nnz_obs_names]\n",
    "noise = pst.ies.noise\n",
    "itrs = pst.ies.phiactual.iteration.values\n",
    "itrs"
   ]
  },
  {
   "cell_type": "code",
   "execution_count": null,
   "id": "3c60a207-d6eb-482d-80b9-16e9783d3adc",
   "metadata": {},
   "outputs": [],
   "source": [
    "obs = pst.observation_data\n",
    "nzobs = obs.loc[obs.weight > 0,:]"
   ]
  },
  {
   "cell_type": "code",
   "execution_count": null,
   "id": "899fed00-b45b-41a5-bb32-346eb07b8f0d",
   "metadata": {},
   "outputs": [],
   "source": [
    "odict = {n:v for n,v in zip(nzobs.obsnme,nzobs.obsval)}"
   ]
  },
  {
   "cell_type": "code",
   "execution_count": null,
   "id": "da6db908-b2f4-44fb-b65c-20b46a43fb3f",
   "metadata": {},
   "outputs": [],
   "source": [
    "ptoe = pst.ies.get(\"obsen{0}\".format(itrs.max()))\n",
    "proe = pst.ies.obsen0"
   ]
  },
  {
   "cell_type": "code",
   "execution_count": null,
   "id": "af22ad2d-c9a8-4edd-926f-cee4f778d927",
   "metadata": {},
   "outputs": [],
   "source": [
    "fig,ax = plt.subplots(1,1,figsize=(6,6))\n",
    "names = obs.loc[obs.obgnme==\"headgroup\",\"obsnme\"].values\n",
    "for oname in names:\n",
    "    if \"at.csv\" not in oname:\n",
    "        continue\n",
    "    ovals = [odict[oname] for _ in range(noise.shape[0])]\n",
    "    ax.scatter(ovals,noise[oname],marker='.',c='r',s=100,alpha=0.25)\n",
    "    \n",
    "    ovals = [odict[oname] for _ in range(ptoe.shape[0])]\n",
    "    ax.scatter(ovals,ptoe[oname],marker='.',c='b',alpha=0.5)\n",
    "    #ylim = ax.get_ylim()\n",
    "    ovals = [odict[oname] for _ in range(proe.shape[0])]\n",
    "    ax.scatter(ovals,proe[oname],marker='.',c='0.5',alpha=0.5,zorder=0)\n",
    "    #ax.set_ylim(ylim)\n",
    "    #ax.set_xlim(ylim)\n",
    "mn,mx = noise.loc[:,names].values.min(),noise.loc[:,names].values.max()\n",
    "ax.plot([mn,mx],[mn,mx],\"k--\",lw=3)\n",
    "ax.set_xlabel(\"obs\")\n",
    "ax.set_ylabel(\"sim\")\n",
    "ax.set_xlim(mn,mx)\n",
    "\n",
    "_ = ax.set_ylim(mn,mx)\n",
    "\n",
    "    "
   ]
  },
  {
   "cell_type": "code",
   "execution_count": null,
   "id": "82127a56",
   "metadata": {},
   "outputs": [],
   "source": [
    "obs.loc[obs.obgnme==\"rivgroup\",\"obsnme\"].values"
   ]
  },
  {
   "cell_type": "code",
   "execution_count": null,
   "id": "7b58b55d",
   "metadata": {},
   "outputs": [],
   "source": [
    "fig,ax = plt.subplots(1,1,figsize=(6,6))\n",
    "names = obs.loc[obs.obgnme==\"rivgroup\",\"obsnme\"].values\n",
    "for oname in names:\n",
    "\n",
    "    ovals = [odict[oname] for _ in range(noise.shape[0])]\n",
    "    ax.scatter(ovals,noise[oname],marker='.',c='r',s=100,alpha=0.25)\n",
    "    \n",
    "    ovals = [odict[oname] for _ in range(ptoe.shape[0])]\n",
    "    ax.scatter(ovals,ptoe[oname],marker='.',c='b',alpha=0.5)\n",
    "    #ylim = ax.get_ylim()\n",
    "    ovals = [odict[oname] for _ in range(proe.shape[0])]\n",
    "    ax.scatter(ovals,proe[oname],marker='.',c='0.5',alpha=0.5,zorder=0)\n",
    "    #ax.set_ylim(ylim)\n",
    "    #ax.set_xlim(ylim)\n",
    "mn,mx = noise.loc[:,names].values.min(),noise.loc[:,names].values.max()\n",
    "ax.plot([mn,mx],[mn,mx],\"k--\",lw=3)\n",
    "ax.set_xlabel(\"obs\")\n",
    "ax.set_ylabel(\"sim\")\n",
    "ax.set_xlim(mn,mx)\n",
    "\n",
    "_ = ax.set_ylim(mn,mx)"
   ]
  },
  {
   "cell_type": "code",
   "execution_count": null,
   "id": "8701d658-3202-4dad-bb2f-d215194f5c9a",
   "metadata": {},
   "outputs": [],
   "source": [
    "kobs = obs.loc[obs.obsnme.str.contains(\"k_aq\"),:].copy()\n",
    "kobs['i'] = kobs.i.astype(int)\n",
    "kobs['j'] = kobs.j.astype(int)"
   ]
  },
  {
   "cell_type": "code",
   "execution_count": null,
   "id": "7d25b993-f72c-4fcb-99f8-6f23789f0441",
   "metadata": {},
   "outputs": [],
   "source": [
    "prarr = np.zeros((kobs.i.max()+1,kobs.j.max()+1))\n",
    "prarr[kobs.i,kobs.j] = np.log10(ptoe.loc[:,kobs.obsnme].mean())\n",
    "ptarr = np.zeros((kobs.i.max()+1,kobs.j.max()+1))\n",
    "ptarr[kobs.i,kobs.j] = np.log10(ptoe.loc[\"base\",kobs.obsnme])\n",
    "fig,axes = plt.subplots(1,2,figsize=(8,4))\n",
    "cb = axes[0].imshow(prarr,vmin=ptarr.min())\n",
    "plt.colorbar(cb,ax=axes[0])\n",
    "axes[0].set_title(\"mean\")\n",
    "\n",
    "cb = axes[1].imshow(ptarr,vmax=prarr.max())\n",
    "plt.colorbar(cb,ax=axes[1])\n",
    "axes[1].set_title(\"min err var\")\n"
   ]
  },
  {
   "cell_type": "code",
   "execution_count": null,
   "id": "b5ff77ed-3a65-4a10-b80d-bf5f4477289d",
   "metadata": {},
   "outputs": [],
   "source": [
    "prarr = np.zeros((kobs.i.max()+1,kobs.j.max()+1))\n",
    "prarr[kobs.i,kobs.j] = np.log10(proe.loc[:,kobs.obsnme].std())\n",
    "ptarr = np.zeros((kobs.i.max()+1,kobs.j.max()+1))\n",
    "ptarr[kobs.i,kobs.j] = np.log10(ptoe.loc[:,kobs.obsnme].std())\n",
    "fig,axes = plt.subplots(1,2,figsize=(8,4))\n",
    "cb = axes[0].imshow(prarr,vmin=ptarr.min())\n",
    "plt.colorbar(cb,ax=axes[0])\n",
    "axes[0].set_title(\"prior stdev\")\n",
    "cb = axes[1].imshow(ptarr,vmax=prarr.max())\n",
    "plt.colorbar(cb,ax=axes[1])\n",
    "axes[1].set_title(\"posterior stdev\")"
   ]
  },
  {
   "cell_type": "code",
   "execution_count": null,
   "id": "da637fc0-c9ae-413d-861f-762108b9d22d",
   "metadata": {},
   "outputs": [],
   "source": [
    "bobs = obs.loc[obs.oname==\"at.budget.csv\",:]\n",
    "for oname in bobs.obsnme:\n",
    "    fig,ax = plt.subplots(1,1,figsize=(6,6))\n",
    "    ax.hist(proe.loc[:,oname],bins=10,fc=\"0.5\",alpha=0.5,density=True)\n",
    "    ax.hist(ptoe.loc[:,oname],bins=10,fc=\"b\",alpha=0.5,density=True)\n",
    "    ax.set_title(oname)\n",
    "    ax.set_yticks([])\n",
    "    "
   ]
  },
  {
   "cell_type": "code",
   "execution_count": null,
   "id": "2d2869f4-6d3a-46de-98d5-fb95224bd4a5",
   "metadata": {},
   "outputs": [],
   "source": []
  }
 ],
 "metadata": {
  "language_info": {
   "name": "python"
  }
 },
 "nbformat": 4,
 "nbformat_minor": 5
}
