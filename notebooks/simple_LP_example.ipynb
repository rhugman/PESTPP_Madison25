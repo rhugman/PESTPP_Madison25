{
 "cells": [
  {
   "cell_type": "markdown",
   "id": "839c4a9b-1e21-456e-91b2-5cc3d69eaf58",
   "metadata": {},
   "source": [
    "# Simple Linear Programming Example \n",
    "In this notebook we are going to dig into the basics of optimization underpinning PESTPP-OPT (and to an extent, PESTPP-MOU) through a very simple linear programming example, reproduced from https://realpython.com/linear-programming-python/ \n"
   ]
  },
  {
   "cell_type": "code",
   "execution_count": null,
   "id": "22e03317-7871-4b2e-8c92-92be03516f94",
   "metadata": {},
   "outputs": [],
   "source": [
    "import os\n",
    "import matplotlib.pyplot as plt\n",
    "import numpy as np\n",
    "import warnings\n",
    "warnings.filterwarnings(\"ignore\")\n",
    "warnings.filterwarnings(\"ignore\", category=DeprecationWarning) \n",
    "\n",
    "from scipy.optimize import linprog"
   ]
  },
  {
   "cell_type": "markdown",
   "id": "00638ba9-5afd-4002-a864-3d9f4a039bdd",
   "metadata": {},
   "source": [
    "# First, some optimization terminology \n",
    "- __parameter__: an uncertain model input whose value we want to estimate and whose uncertainty we want to propagate to important model outputs.\n",
    "- __decision variable__: a model input whose value can be \"controlled\" by human activity.  For example, groundwater extraction rates or surface-water structure operations.  Like a parameter, a decision variable also influences important model outputs.\n",
    "- __constraint__: an uncertain model output whose real-world equivalent value has a range of \"undesired values\".  In management optimization, \"constraints\" are typically \"inequality\" constraints, meaning the constraint can take any value other than the undesired values.  Think \"surface-water/groundwater exchange flux must be greater than XXX to support ecological flows\".\n",
    "- __objective function__: a (potentially nonlinear) function of the decision variables that is to be maximized or minimized, depending on the problem.  For example, in the case of groundwater extraction, the objective is to maximize the volume of groundwater extracted (subject to not violating the constraints)."
   ]
  },
  {
   "cell_type": "markdown",
   "id": "c17cac81-7145-4fd9-8856-d1b1b5f5db28",
   "metadata": {},
   "source": [
    "# Problem Setup\n",
    "Let's set up a linear optimization problem where we seek to maximize __z__ given the objective function equation in black below. The two decision variables are __x__ and __y__. The decision variables are subject to a bound constraint, where they both must be equal or greater to zero. The linear combination of x and y is also subject to three constraint equations, shown in red, blue, and yellow. "
   ]
  },
  {
   "cell_type": "markdown",
   "id": "f3446444-8eff-4369-9fb3-d1848bd9422a",
   "metadata": {},
   "source": [
    "![lp](lp-py-eq-2.png)"
   ]
  },
  {
   "cell_type": "markdown",
   "id": "0647fcb6-54ef-434f-9990-ec9ad44b9035",
   "metadata": {},
   "source": [
    "Conveniently, we can visualize the five constraints on a 2-d plot, where the white space is the feasible region. Woops, that's another key optimization term! \n",
    "- __feasible__:a set of decision variables that satisfies all constraints\n"
   ]
  },
  {
   "cell_type": "code",
   "execution_count": null,
   "id": "37bf08dd-2d13-43d4-83f0-3cc0504b112f",
   "metadata": {},
   "outputs": [],
   "source": [
    "x = np.linspace(0,1000)\n",
    "y = 20 - 2*x\n",
    "plt.fill_between(x, y,1000, color='red', alpha=0.3)\n",
    "\n",
    "x = np.linspace(0,1000)\n",
    "y = (10 + 4*x)/5\n",
    "plt.fill_between(x, y,1000, color='blue', alpha=0.3)\n",
    "\n",
    "x = np.linspace(0,1000)\n",
    "y = (-2 + x)/2\n",
    "plt.fill_between(x, y, color='yellow', alpha=0.3)\n",
    "\n",
    "plt.xlim(0,10)\n",
    "plt.ylim(0,10)\n",
    "plt.text(3.5,3,'feasible region')"
   ]
  },
  {
   "cell_type": "markdown",
   "id": "f252b13b-be77-4f1f-b46a-437a91b995c8",
   "metadata": {},
   "source": [
    "## Now, let's set up and solve the optimization problem."
   ]
  },
  {
   "cell_type": "code",
   "execution_count": null,
   "id": "9d9a2926-ccad-4693-9ba9-bd81ca8dff9d",
   "metadata": {},
   "outputs": [],
   "source": [
    "obj = [-1, -2]\n",
    "#wait why does z= x+2y have coefficients of -1 and -2 instead of 1 and 2? \n",
    "#because scipy linprog assumes minimization. to \"maximize,\" we flip them to negative\n",
    "\n",
    "lhs_ineq = [[ 2,  1],  # Red constraint left side\n",
    "             [-4,  5],  # Blue constraint left side\n",
    "             [ 1, -2]]  # Yellow constraint left side \n",
    "#(again, note that coefficient signs are flipped because it's a greater than constraint rather than less than)\n",
    "\n",
    "rhs_ineq = [20,  # Red constraint right side\n",
    "            10,  # Blue constraint right side\n",
    "            -2]  # Yellow constraint right side"
   ]
  },
  {
   "cell_type": "code",
   "execution_count": null,
   "id": "07fb4d5c-3862-4c95-b606-d2688336f521",
   "metadata": {},
   "outputs": [],
   "source": [
    "bnd = [(0, float(\"inf\")),  # Bounds of x\n",
    "        (0, float(\"inf\"))]  # Bounds of y"
   ]
  },
  {
   "cell_type": "code",
   "execution_count": null,
   "id": "b9f85bc6-e3ab-42ee-af10-2a738f7cfd65",
   "metadata": {},
   "outputs": [],
   "source": [
    "opt = linprog(c=obj, A_ub=lhs_ineq, b_ub=rhs_ineq,\n",
    "               bounds=bnd, method=\"simplex\")"
   ]
  },
  {
   "cell_type": "markdown",
   "id": "4e439c64-2af9-4188-80fb-7df108e55964",
   "metadata": {},
   "source": [
    "We can print the objective function value. "
   ]
  },
  {
   "cell_type": "code",
   "execution_count": null,
   "id": "9ea58f74-fd83-4723-9031-dc8c45f26261",
   "metadata": {},
   "outputs": [],
   "source": [
    "opt.fun "
   ]
  },
  {
   "cell_type": "markdown",
   "id": "aa5296d1-12a9-46c2-9e6c-2f34d2d86ba1",
   "metadata": {},
   "source": [
    "And check to see if an optimal solution (value of x and y) was found"
   ]
  },
  {
   "cell_type": "code",
   "execution_count": null,
   "id": "34b68641-3fb1-4738-88cf-10877379e4a5",
   "metadata": {},
   "outputs": [],
   "source": [
    "opt.success "
   ]
  },
  {
   "cell_type": "markdown",
   "id": "26e2b1cf-6ae0-489d-a88f-83625fe2b660",
   "metadata": {},
   "source": [
    "Let's print out the decision variable values for that optimal solution"
   ]
  },
  {
   "cell_type": "code",
   "execution_count": null,
   "id": "49838fb5-caa7-4ddc-8c0d-d66b4d7014ee",
   "metadata": {},
   "outputs": [],
   "source": [
    "opt.x "
   ]
  },
  {
   "cell_type": "markdown",
   "id": "cd3efcab-cd69-4c40-a3d6-c8181ee92691",
   "metadata": {},
   "source": [
    "And we can visualize those decision variable values on our plot."
   ]
  },
  {
   "cell_type": "code",
   "execution_count": null,
   "id": "2b9eb306-c08b-4276-8661-f0d2a2128091",
   "metadata": {},
   "outputs": [],
   "source": [
    "x = np.linspace(0,1000)\n",
    "y = 20 - 2*x\n",
    "plt.fill_between(x, y,1000, color='red', alpha=0.3)\n",
    "\n",
    "x = np.linspace(0,1000)\n",
    "y = (10 + 4*x)/5\n",
    "plt.fill_between(x, y,1000, color='blue', alpha=0.3)\n",
    "\n",
    "x = np.linspace(0,1000)\n",
    "y = (-2 + x)/2\n",
    "plt.fill_between(x, y, color='yellow', alpha=0.3)\n",
    "\n",
    "plt.xlim(0,10)\n",
    "plt.ylim(0,10)\n",
    "\n",
    "plt.scatter(opt.x[0],opt.x[1],c='black')"
   ]
  },
  {
   "cell_type": "markdown",
   "id": "f1641e8a-62b6-4228-90e8-6a2407a46cd9",
   "metadata": {},
   "source": [
    "Notice that the solution is in the feasible region but right at the boundary of two of the constraints. This is where optimization departs from parameter estimation, as it is normal and even optimal for parameters to hit their bounds. "
   ]
  },
  {
   "cell_type": "markdown",
   "id": "76034b1d-4a82-49a7-9a65-c3c510c8e47c",
   "metadata": {},
   "source": [
    "## What if we further bounded the decision variables x and y?"
   ]
  },
  {
   "cell_type": "code",
   "execution_count": null,
   "id": "17aba069-a9b5-45aa-beb8-1b4a976b2109",
   "metadata": {},
   "outputs": [],
   "source": [
    "bnd = [(0, 3),  # Bounds of decision variable x\n",
    "        (0, 4)]  # Bounds of decision variable y"
   ]
  },
  {
   "cell_type": "code",
   "execution_count": null,
   "id": "e929da44-57bd-4430-8757-a4d0ca1c4de9",
   "metadata": {},
   "outputs": [],
   "source": [
    "opt = linprog(c=obj, A_ub=lhs_ineq, b_ub=rhs_ineq,\n",
    "               bounds=bnd, method=\"simplex\")"
   ]
  },
  {
   "cell_type": "code",
   "execution_count": null,
   "id": "06d00c7d-1a1f-4bb1-98d5-6c66b0c353fd",
   "metadata": {},
   "outputs": [],
   "source": [
    "x = np.linspace(0,1000)\n",
    "y = 20 - 2*x\n",
    "plt.fill_between(x, y,1000, color='red', alpha=0.3)\n",
    "\n",
    "x = np.linspace(0,1000)\n",
    "y = (10 + 4*x)/5\n",
    "plt.fill_between(x, y,1000, color='blue', alpha=0.3)\n",
    "\n",
    "x = np.linspace(0,1000)\n",
    "y = (-2 + x)/2\n",
    "plt.fill_between(x, y, color='yellow', alpha=0.3)\n",
    "\n",
    "plt.xlim(0,10)\n",
    "plt.ylim(0,10)\n",
    "\n",
    "plt.axvline(bnd[0][1],ls='--',c='black')\n",
    "plt.axhline(bnd[1][1],ls='--',c='black')\n",
    "\n",
    "plt.scatter(opt.x[0],opt.x[1],c='black')"
   ]
  },
  {
   "cell_type": "markdown",
   "id": "29ab6d22-bec5-4ce9-a29e-e650dca1eba0",
   "metadata": {},
   "source": [
    "Now, the optimal solution is entirely constrained by the bounded values of the decision variables. Thus, in linear optimization, the constraints are key and decision variable bounds should be carefully designed. For example, for maximizing pumping subject to the constraint of not capturing too much streamflow, we still want to set bounds on our pumping wells based on actual pump capacity and yield. "
   ]
  }
 ],
 "metadata": {
  "language_info": {
   "name": "python"
  }
 },
 "nbformat": 4,
 "nbformat_minor": 5
}
