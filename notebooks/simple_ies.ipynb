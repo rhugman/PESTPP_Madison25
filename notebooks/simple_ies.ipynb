{
 "cells": [
  {
   "cell_type": "code",
   "execution_count": null,
   "id": "a0bcc856-86f0-47bb-b201-af2d9335ca57",
   "metadata": {},
   "outputs": [],
   "source": [
    "import os\n",
    "import sys\n",
    "sys.path.insert(0,\"..\")\n",
    "import numpy as np\n",
    "import matplotlib.pyplot as plt\n",
    "import pyemu\n",
    "print(pyemu.__file__)\n",
    "import flopy\n",
    "import platform\n",
    "from pathlib import Path\n",
    "import shutil\n",
    "import pandas as pd"
   ]
  },
  {
   "cell_type": "code",
   "execution_count": null,
   "id": "0bc68af4-4c11-438b-9bfd-52ddded58869",
   "metadata": {},
   "outputs": [],
   "source": [
    "t_d = \"template\"\n",
    "if not os.path.exists(t_d):\n",
    "    raise Exception(\"need to run simple_pstfrom notebook\")"
   ]
  },
  {
   "cell_type": "code",
   "execution_count": null,
   "id": "4a4489e7-7066-4b3b-9d89-6080341732ae",
   "metadata": {},
   "outputs": [],
   "source": [
    "pst = pyemu.Pst(os.path.join(t_d,\"at.pst\"))\n",
    "pst.npar,pst.nobs"
   ]
  },
  {
   "cell_type": "code",
   "execution_count": null,
   "id": "ea9ff327-0b96-4231-a8b8-71367090145a",
   "metadata": {},
   "outputs": [],
   "source": [
    "pst.pestpp_options"
   ]
  },
  {
   "cell_type": "code",
   "execution_count": null,
   "id": "e1d96d0c-5b11-41d1-be28-7413358a05d1",
   "metadata": {},
   "outputs": [],
   "source": [
    "if \"ies_par_en\" not in pst.pestpp_options:\n",
    "    raise Exception(\"prior par ensemble not found\")"
   ]
  },
  {
   "cell_type": "code",
   "execution_count": null,
   "id": "5f3e9ce9-7a05-4579-a76c-a5a905401707",
   "metadata": {},
   "outputs": [],
   "source": [
    "pst.pestpp_options = {\"ies_par_en\":pst.pestpp_options[\"ies_par_en\"]}\n",
    "pst.pestpp_options[\"ies_num_reals\"] = 50\n",
    "pst.pestpp_options[\"ies_bad_phi_sigma\"] = 1.75\n",
    "pst.pestpp_options"
   ]
  },
  {
   "cell_type": "code",
   "execution_count": null,
   "id": "8c5da2b9-9c40-4f90-ae64-97a7b5617749",
   "metadata": {},
   "outputs": [],
   "source": [
    "pst.control_data.noptmax = 5"
   ]
  },
  {
   "cell_type": "code",
   "execution_count": null,
   "id": "f31795f0",
   "metadata": {},
   "outputs": [],
   "source": [
    "pst.obs_groups"
   ]
  },
  {
   "cell_type": "code",
   "execution_count": null,
   "id": "ea9570e1",
   "metadata": {},
   "outputs": [],
   "source": [
    "weighted_groups = pst.nnz_obs_groups\n",
    "weighted_groups.sort()\n",
    "weighted_groups"
   ]
  },
  {
   "cell_type": "code",
   "execution_count": null,
   "id": "04c12b25",
   "metadata": {},
   "outputs": [],
   "source": [
    "wts = [1e-30,.8,.2]"
   ]
  },
  {
   "cell_type": "code",
   "execution_count": null,
   "id": "ecf9df3b",
   "metadata": {},
   "outputs": [],
   "source": [
    "with open(f'{t_d}/phi_factors.csv', 'w') as ofp:\n",
    "    [ofp.write(f'{g},{w}\\n') for g,w in zip(weighted_groups,wts)]"
   ]
  },
  {
   "cell_type": "code",
   "execution_count": null,
   "id": "2f9c96ea",
   "metadata": {},
   "outputs": [],
   "source": [
    "pst.pestpp_options['ies_phi_factor_file']='phi_factors.csv'"
   ]
  },
  {
   "cell_type": "code",
   "execution_count": null,
   "id": "10534e3a-1dbb-4696-9a81-07833d7a4de3",
   "metadata": {},
   "outputs": [],
   "source": [
    "pst.write(os.path.join(t_d,\"at.pst\"),version=2)"
   ]
  },
  {
   "cell_type": "code",
   "execution_count": null,
   "id": "bffee342-a97e-4112-a8f7-4c295f91b026",
   "metadata": {},
   "outputs": [],
   "source": [
    "m_d = \"master_ies_simple\""
   ]
  },
  {
   "cell_type": "code",
   "execution_count": null,
   "id": "9485ba84-b53f-452e-92cc-1a90075dd01e",
   "metadata": {},
   "outputs": [],
   "source": [
    "pyemu.os_utils.start_workers(t_d,\"pestpp-ies\",\"at.pst\",num_workers=15,master_dir=m_d,worker_root='.')"
   ]
  },
  {
   "cell_type": "code",
   "execution_count": null,
   "id": "bfdfdcbf-267f-49a1-bb5b-0a0c9001818b",
   "metadata": {},
   "outputs": [],
   "source": [
    "def plot_ies_results(m_d,tag=\"\",noptmax=None):\n",
    "    pst = pyemu.Pst(os.path.join(m_d,\"at.pst\"))\n",
    "    \n",
    "    noise = pst.ies.noise\n",
    "    itrs = pst.ies.phiactual.iteration.values\n",
    "    if noptmax is None:\n",
    "        noptmax = itrs.max()\n",
    "    obs = pst.observation_data\n",
    "    nzobs = obs.loc[obs.obgnme=='headgroup',:]\n",
    "    odict = {n:v for n,v in zip(nzobs.obsnme,nzobs.obsval)}\n",
    "    #ptoe = pst.ies.get(\"obsen{0}\".format(noptmax))\n",
    "    ptoe = pst.ies.get(\"obsen\",noptmax)\n",
    "    proe = pst.ies.obsen0\n",
    "    phivals = pst.ies.phimeas.iloc[noptmax,6:]\n",
    "    phimean = phivals.mean()\n",
    "    phistd = phivals.std()\n",
    "    thresh = phimean + (phistd*1.75)\n",
    "    keep = phivals[phivals<=thresh].index.values\n",
    "    print(\"keeping \",len(keep),\" of \",ptoe.shape[0])\n",
    "    ptoe = ptoe.loc[keep]\n",
    "    proe = proe.loc[keep]\n",
    "    noise = noise.loc[keep]\n",
    "    \n",
    "\n",
    "    kobs = obs.loc[obs.obsnme.str.contains(\"k_aq\"),:].copy()\n",
    "    kobs['i'] = kobs.i.astype(int)\n",
    "    kobs['j'] = kobs.j.astype(int)\n",
    "\n",
    "    prarr = np.zeros((kobs.i.max()+1,kobs.j.max()+1))\n",
    "    prarr[kobs.i,kobs.j] = np.log10(ptoe.loc[:,kobs.obsnme].mean())\n",
    "    ptarr = np.zeros((kobs.i.max()+1,kobs.j.max()+1))\n",
    "    ptarr[kobs.i,kobs.j] = np.log10(ptoe.loc[\"base\",kobs.obsnme])\n",
    "    fig,axes = plt.subplots(1,2,figsize=(8,4))\n",
    "    cb = axes[0].imshow(prarr,vmin=ptarr.min())\n",
    "    plt.colorbar(cb,ax=axes[0])\n",
    "    axes[0].set_title(\"mean \"+tag)\n",
    "    \n",
    "    cb = axes[1].imshow(ptarr,vmax=prarr.max())\n",
    "    plt.colorbar(cb,ax=axes[1])\n",
    "    axes[1].set_title(\"min err var \"+tag)\n",
    "\n",
    "    prarr = np.zeros((kobs.i.max()+1,kobs.j.max()+1))\n",
    "    prarr[kobs.i,kobs.j] = np.log10(proe.loc[:,kobs.obsnme].std())\n",
    "    ptarr = np.zeros((kobs.i.max()+1,kobs.j.max()+1))\n",
    "    ptarr[kobs.i,kobs.j] = np.log10(ptoe.loc[:,kobs.obsnme].std())\n",
    "    fig,axes = plt.subplots(1,2,figsize=(8,4))\n",
    "    cb = axes[0].imshow(prarr,vmin=ptarr.min())\n",
    "    plt.colorbar(cb,ax=axes[0])\n",
    "    axes[0].set_title(\"prior stdev \"+tag)\n",
    "    cb = axes[1].imshow(ptarr,vmax=prarr.max())\n",
    "    plt.colorbar(cb,ax=axes[1])\n",
    "    axes[1].set_title(\"posterior stdev \"+tag)\n",
    "\n",
    "    bobs = obs.loc[obs.oname==\"at.budget.csv\",:]\n",
    "    for oname in bobs.obsnme:\n",
    "        if \"chd\" not in oname:\n",
    "            continue\n",
    "        fig,ax = plt.subplots(1,1,figsize=(6,6))\n",
    "        ax.hist(proe.loc[:,oname],bins=10,fc=\"0.5\",alpha=0.5,density=True)\n",
    "        ax.hist(ptoe.loc[:,oname],bins=10,fc=\"b\",alpha=0.5,density=True)\n",
    "        ax.set_title(tag+\" \"+oname)\n",
    "        ax.set_yticks([])\n",
    "    \n",
    "    names = obs.loc[obs.obgnme==\"headgroup\",\"obsnme\"].values\n",
    "    noise = pst.ies.noise\n",
    "    proe = pst.ies.obsen0\n",
    "    ptoe = pst.ies.get(\"obsen{0}\".format(pst.ies.phiactual.iteration.max()))\n",
    "    phivals = pst.ies.phimeas.iloc[-1,6:]\n",
    "    phimean = phivals.mean()\n",
    "    phistd = phivals.std()\n",
    "    thresh = phimean + (phistd*1.75)\n",
    "    keep = phivals[phivals<=thresh].index.values\n",
    "    fig,axes = plt.subplots(2,1,figsize=(5,10))\n",
    "    actual,meas = pst.ies.phiactual.iloc[:,6:],pst.ies.phimeas.iloc[:,6:]\n",
    "    actual = actual.loc[:,keep]\n",
    "    meas = meas.loc[:,keep]\n",
    "    \n",
    "    axes[0].hist(np.log10(actual.iloc[0,:].values),fc=\"0.5\",alpha=0.5)\n",
    "    axes[0].hist(np.log10(actual.iloc[-1,:].values),fc=\"b\",alpha=0.5)\n",
    "    axes[0].set_title('log-10 phi w/o noise')\n",
    "    axes[0].grid()\n",
    "\n",
    "    axes[1].hist(np.log10(meas.iloc[0,:].values),fc=\"0.5\",alpha=0.5)\n",
    "    axes[1].hist(np.log10(meas.iloc[-1,:].values),fc=\"b\",alpha=0.5)\n",
    "    axes[1].set_title('log-10 phi w/ noise')\n",
    "    axes[1].grid()\n",
    "    \n",
    "    fig,axes = plt.subplots(2,1,figsize=(5,10))\n",
    "    nzobs = nzobs.loc[(nzobs.obgnme==\"headgroup\") & (nzobs.oname==\"at.wt.csv\"),:]\n",
    "    #print(nzobs)\n",
    "    ptoe = ptoe.loc[keep,:]\n",
    "    nzobs.sort_values(by=\"obsval\",inplace=True)\n",
    "    ovals = nzobs.obsval.values\n",
    "    for real in ptoe.index:\n",
    "        nvals = noise.loc[real,nzobs.obsnme].values   \n",
    "        prvals = proe.loc[real,nzobs.obsnme].values\n",
    "        ptvals = ptoe.loc[real,nzobs.obsnme].values\n",
    "        ax = axes[0]\n",
    "        #ax.plot(ovals,nvals,\"r-\",alpha=0.5,lw=0.5)\n",
    "        ax.scatter(ovals,nvals,marker='.',alpha=0.2,s=70,c='r')\n",
    "        ax.scatter(ovals,ptvals,marker='.',s=50,c='b')\n",
    "        ax = axes[1]\n",
    "        ax.plot(ovals,nvals,\"r-\",alpha=0.5,lw=0.5,zorder=0)\n",
    "        ax.scatter(ovals,nvals,marker='.',alpha=0.2,s=70,c='r')\n",
    "        ax.scatter(ovals,ptvals,marker='.',s=50,c='b')\n",
    "    \n",
    "    mn,mx = noise.loc[:,names].values.min(),noise.loc[:,names].values.max()\n",
    "    for ax in axes:\n",
    "        ax.plot([mn,mx],[mn,mx],\"k--\",lw=3)\n",
    "        ax.set_xlabel(\"observed\")\n",
    "        ax.set_ylabel(\"simulated\")\n",
    "        ax.set_xlim(mn,mx)\n",
    "        ax.grid()\n",
    "    \n",
    "    _ = ax.set_ylim(mn,mx)\n",
    "            \n",
    "    \n"
   ]
  },
  {
   "cell_type": "code",
   "execution_count": null,
   "id": "e0c8cbb6-cfa3-44cf-ab10-5729eb9087d9",
   "metadata": {},
   "outputs": [],
   "source": [
    "plot_ies_results(m_d)"
   ]
  },
  {
   "cell_type": "code",
   "execution_count": null,
   "id": "124ecb62-d834-4e5d-8d02-7ffe5ca18aea",
   "metadata": {},
   "outputs": [],
   "source": [
    "pst.pestpp_options[\"ies_no_noise\"] = True\n",
    "pst.write(os.path.join(t_d,\"at.pst\"),version=2)\n",
    "m_d = \"master_ies_nonoise\"\n",
    "pyemu.os_utils.start_workers(t_d,\"pestpp-ies\",\"at.pst\",num_workers=15,master_dir=m_d,worker_root='.')\n",
    "plot_ies_results(m_d,\"no noise\")"
   ]
  },
  {
   "cell_type": "code",
   "execution_count": null,
   "id": "46594458-e09c-438e-adac-bdeb4f8193f6",
   "metadata": {},
   "outputs": [],
   "source": [
    "obs = pst.observation_data\n",
    "hobs = obs.loc[(obs.weight>0) & (obs.obgnme==\"headgroup\"),:]\n",
    "hobs.obsnme.tolist()\n",
    "assert len(hobs) > 0\n",
    "std = hobs.standard_deviation.max()\n",
    "std"
   ]
  },
  {
   "cell_type": "code",
   "execution_count": null,
   "id": "0847e0b1-f414-4e3a-9d1c-dbe324dca536",
   "metadata": {},
   "outputs": [],
   "source": [
    "offsets = np.random.normal(0.0,std,pst.ies.noise.shape[0])\n",
    "plt.hist(offsets)\n",
    "offsets.shape"
   ]
  },
  {
   "cell_type": "code",
   "execution_count": null,
   "id": "56873d25-76e1-44ac-97e7-e6b60f0d9c9c",
   "metadata": {},
   "outputs": [],
   "source": [
    "ovals = obs.loc[pst.nnz_obs_names,\"obsval\"].copy()\n",
    "noise = pst.ies.noise.copy()\n",
    "for i,idx in enumerate(noise.index):\n",
    "    if idx == \"base\":\n",
    "        offsets[i] = 0.0\n",
    "    noise.loc[idx,hobs.obsnme] = ovals[hobs.obsnme] + offsets[i]\n",
    "noise.to_csv(os.path.join(t_d,\"corrnoise.csv\"))\n",
    "#print(noise.loc[:,hobs.obsnme[0]]-ovals.loc[hobs.obsnme[0]])\n",
    "#print(noise.loc[:,hobs.obsnme[1]]-ovals.loc[hobs.obsnme[1]])"
   ]
  },
  {
   "cell_type": "code",
   "execution_count": null,
   "id": "3b1f1a91-69ef-4b4c-843e-fb086612bca1",
   "metadata": {},
   "outputs": [],
   "source": [
    "pst.pestpp_options[\"ies_obs_en\"] = \"corrnoise.csv\""
   ]
  },
  {
   "cell_type": "code",
   "execution_count": null,
   "id": "9198acfb-8d2e-476b-95aa-3ca697d74741",
   "metadata": {},
   "outputs": [],
   "source": [
    "pst.pestpp_options.pop(\"ies_no_noise\")"
   ]
  },
  {
   "cell_type": "code",
   "execution_count": null,
   "id": "8c53b396-fa4f-4f39-98ad-49b75029b577",
   "metadata": {},
   "outputs": [],
   "source": [
    "pst.write(os.path.join(t_d,\"at.pst\"),version=2)\n",
    "m_d = \"master_ies_corrnoise\"\n",
    "pyemu.os_utils.start_workers(t_d,\"pestpp-ies\",\"at.pst\",num_workers=15,master_dir=m_d,worker_root='.')\n",
    "plot_ies_results(m_d,\"corr noise\")"
   ]
  },
  {
   "cell_type": "code",
   "execution_count": null,
   "id": "9616f4a3-d5e4-4d77-b8df-069e7fba6aca",
   "metadata": {},
   "outputs": [],
   "source": []
  }
 ],
 "metadata": {
  "language_info": {
   "name": "python"
  }
 },
 "nbformat": 4,
 "nbformat_minor": 5
}
