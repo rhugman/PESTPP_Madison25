{
 "cells": [
  {
   "cell_type": "code",
   "execution_count": null,
   "id": "a8f21e54-7154-4f14-9b5d-660a61daa2fa",
   "metadata": {},
   "outputs": [],
   "source": [
    "import os\n",
    "import pyemu\n",
    "import flopy\n",
    "from pathlib import Path\n",
    "import shutil\n",
    "import pandas as pd"
   ]
  },
  {
   "cell_type": "code",
   "execution_count": null,
   "id": "4117da68-8f89-47b5-9a02-65a333f8ed0d",
   "metadata": {},
   "outputs": [],
   "source": [
    "org_ws = Path('../MV_Model_Files/')\n",
    "new_ws = 'simple_ies'\n",
    "exe_dir = Path('../bin/mac/')"
   ]
  },
  {
   "cell_type": "code",
   "execution_count": null,
   "id": "02b82a0c-de39-417b-90e0-70fb448939d5",
   "metadata": {},
   "outputs": [],
   "source": [
    "if os.path.exists(new_ws):\n",
    "    shutil.rmtree(new_ws)\n",
    "shutil.copytree(org_ws, new_ws)"
   ]
  },
  {
   "cell_type": "code",
   "execution_count": null,
   "id": "28115f1f-028f-4578-b3a9-8e8ff9da5329",
   "metadata": {},
   "outputs": [],
   "source": [
    "sim = flopy.mf6.MFSimulation.load(sim_ws = new_ws)"
   ]
  },
  {
   "cell_type": "code",
   "execution_count": null,
   "id": "8441b7e5-8293-4574-8b40-dc884e5953d8",
   "metadata": {},
   "outputs": [],
   "source": [
    "shutil.copy2(os.path.join(exe_dir,'mf6'),os.path.join(new_ws,'mf6'))"
   ]
  },
  {
   "cell_type": "code",
   "execution_count": null,
   "id": "724a342f-b3be-4263-9a63-4e1e83633413",
   "metadata": {},
   "outputs": [],
   "source": [
    "pyemu.os_utils.run('mf6',cwd=new_ws)"
   ]
  },
  {
   "cell_type": "code",
   "execution_count": null,
   "id": "b3e790e9-0a97-4cca-a09e-30ae2aa7dbc9",
   "metadata": {},
   "outputs": [],
   "source": [
    "#need a spatial reference to use pilot points. this means xoff, yoff, rotation, epsg\n",
    "m=sim.get_model()\n",
    "m.modelgrid"
   ]
  },
  {
   "cell_type": "code",
   "execution_count": null,
   "id": "789ca711-06f7-468e-86da-351f1c1e633e",
   "metadata": {},
   "outputs": [],
   "source": [
    "pf = pyemu.utils.PstFrom(original_d=new_ws,new_d='template',remove_existing=True,start_datetime=\"1-1-2025\",spatial_reference=m.modelgrid)"
   ]
  },
  {
   "cell_type": "code",
   "execution_count": null,
   "id": "2b2412d5-bdc6-4d15-ac0c-c6b4d363da31",
   "metadata": {},
   "outputs": [],
   "source": [
    "?pf.add_parameters"
   ]
  },
  {
   "cell_type": "code",
   "execution_count": null,
   "id": "58437ee2-34d5-490b-af7e-101521070d5c",
   "metadata": {},
   "outputs": [],
   "source": [
    "k_pars = [f for f in os.listdir(new_ws) if 'k_' in f and f.endswith('.ref')]\n",
    "k_pars\n",
    "for f in k_pars:\n",
    "    pf.add_parameters(f,par_type='constant',upper_bound=20,lower_bound=0.05)"
   ]
  },
  {
   "cell_type": "code",
   "execution_count": null,
   "id": "41e10938-c9fa-4ffd-8f83-19beb0098db3",
   "metadata": {},
   "outputs": [],
   "source": [
    "#for pilot points, we first need to build a variogram, which describes the underlying spatial correlation structure of the variable\n",
    "pp_v = pyemu.geostats.ExpVario(contribution=1.0, a=5000) #rule of thumb is that range should be atleast 2x pp spacing (delr= 500\n",
    "pp_gs = pyemu.geostats.GeoStruct(variograms=pp_v)\n",
    "ax=pp_gs.plot()\n",
    "ax.axvline(x=500*5*2)"
   ]
  },
  {
   "cell_type": "code",
   "execution_count": null,
   "id": "26ff0d24-fd8f-47ec-82a4-9be3f91ac23f",
   "metadata": {},
   "outputs": [],
   "source": [
    "for f in k_pars:\n",
    "    pf.add_parameters(f,par_type='pilotpoint',upper_bound=20,lower_bound=0.05,pp_space=5,geostruct=pp_gs)"
   ]
  },
  {
   "cell_type": "code",
   "execution_count": null,
   "id": "58464e8b-42f9-4415-80ec-90c92ebe2380",
   "metadata": {},
   "outputs": [],
   "source": [
    "?pf.add_observations"
   ]
  },
  {
   "cell_type": "code",
   "execution_count": null,
   "id": "5c345493-088a-48d0-add7-b95cf4632c42",
   "metadata": {},
   "outputs": [],
   "source": [
    "obs_csvs = [f for f in os.listdir(new_ws) if f.endswith('.csv')]\n",
    "for f in obs_csvs:\n",
    "    df = pd.read_csv(os.path.join(new_ws,f))\n",
    "    pf.add_observations(f,index_cols='time',use_cols=df.columns.tolist()[1:])"
   ]
  },
  {
   "cell_type": "code",
   "execution_count": null,
   "id": "4caa4783-6f37-49c7-a5d8-b19289062a25",
   "metadata": {},
   "outputs": [],
   "source": [
    "pf.mod_sys_cmds.append('mf6')"
   ]
  },
  {
   "cell_type": "code",
   "execution_count": null,
   "id": "8f0aa111-aa55-4ce2-ae66-b2a1bcc70cfa",
   "metadata": {},
   "outputs": [],
   "source": [
    "pf.build_pst(filename=os.path.join(pf.new_d,'at.pst'),version=2)"
   ]
  },
  {
   "cell_type": "code",
   "execution_count": null,
   "id": "87288420-69e9-4b1c-9e34-0347d1bce101",
   "metadata": {},
   "outputs": [],
   "source": [
    "pst = pyemu.Pst(filename=os.path.join(pf.new_d,'at.pst'))\n",
    "obs = pst.observation_data\n",
    "obs"
   ]
  },
  {
   "cell_type": "code",
   "execution_count": null,
   "id": "8304bd18-4acc-4208-897e-989509afff75",
   "metadata": {},
   "outputs": [],
   "source": [
    "#zero everything out for starters\n",
    "obs.weight = 0"
   ]
  },
  {
   "cell_type": "code",
   "execution_count": null,
   "id": "13288f1e-589c-44d9-b50e-eddac0a8e20a",
   "metadata": {},
   "outputs": [],
   "source": [
    "#we need to tell PEST what are the observed values and their weights, to calc the objective function\n",
    "truth = pd.read_csv(os.path.join(new_ws,'obsvalues.dat'),delim_whitespace=True)\n",
    "truth"
   ]
  },
  {
   "cell_type": "code",
   "execution_count": null,
   "id": "accc23a0-0319-479c-a1b3-69b8278f422a",
   "metadata": {},
   "outputs": [],
   "source": [
    "for i,stuff in truth.iterrows():\n",
    "    obs.loc[obs.obsnme.str.contains(stuff.obsnme),'obsval'] = stuff.obsval\n",
    "    obs.loc[obs.obsnme.str.contains(stuff.obsnme),'weight'] = stuff.weight\n",
    "    obs.loc[obs.obsnme.str.contains(stuff.obsnme),'obgnme'] = stuff.obgnme"
   ]
  },
  {
   "cell_type": "code",
   "execution_count": null,
   "id": "fd05867f-9f2a-40f7-98cd-5857eb6b4414",
   "metadata": {},
   "outputs": [],
   "source": [
    "pst.observation_data = obs\n",
    "pst.write(os.path.join(pf.new_d,'at.pst'),version=2)"
   ]
  },
  {
   "cell_type": "code",
   "execution_count": null,
   "id": "34896a1f-9945-4b7a-b440-41fc31ee7008",
   "metadata": {},
   "outputs": [],
   "source": [
    "pyemu.os_utils.run('pestpp-ies at.pst',cwd='template')"
   ]
  },
  {
   "cell_type": "code",
   "execution_count": null,
   "id": "54f395f3-db0f-4627-8b4d-ea61efc5693d",
   "metadata": {},
   "outputs": [],
   "source": [
    "phi= pst.phi\n",
    "phi"
   ]
  }
 ],
 "metadata": {
  "kernelspec": {
   "display_name": "Python 3 (ipykernel)",
   "language": "python",
   "name": "python3"
  },
  "language_info": {
   "codemirror_mode": {
    "name": "ipython",
    "version": 3
   },
   "file_extension": ".py",
   "mimetype": "text/x-python",
   "name": "python",
   "nbconvert_exporter": "python",
   "pygments_lexer": "ipython3",
   "version": "3.11.13"
  }
 },
 "nbformat": 4,
 "nbformat_minor": 5
}
