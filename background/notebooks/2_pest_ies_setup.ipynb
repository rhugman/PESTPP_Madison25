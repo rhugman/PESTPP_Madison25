{
 "cells": [
  {
   "cell_type": "markdown",
   "id": "7caa50ba",
   "metadata": {},
   "source": [
    "# U.S. Geological Survey Intro to MODFLOW Class\n",
    "San Diego, CA\\\n",
    "January 6-10, 2025\n",
    "\n",
    "## Setting up and Running Prior Monte Carlo and PEST++"
   ]
  },
  {
   "cell_type": "code",
   "execution_count": 1,
   "id": "06518042",
   "metadata": {
    "execution": {
     "iopub.execute_input": "2025-07-03T18:19:39.763978Z",
     "iopub.status.busy": "2025-07-03T18:19:39.763840Z",
     "iopub.status.idle": "2025-07-03T18:19:41.009529Z",
     "shell.execute_reply": "2025-07-03T18:19:41.009255Z",
     "shell.execute_reply.started": "2025-07-03T18:19:39.763963Z"
    }
   },
   "outputs": [],
   "source": [
    "import os\n",
    "import shutil\n",
    "from pathlib import Path\n",
    "\n",
    "import flopy as fp\n",
    "import matplotlib.pyplot as plt\n",
    "import numpy as np\n",
    "import pandas as pd\n",
    "import pyemu\n",
    "import platform"
   ]
  },
  {
   "cell_type": "markdown",
   "id": "82b710c3",
   "metadata": {},
   "source": [
    "### *quick note* - if you want to fiddle with options, you can change where you will write the results by setting the following variable"
   ]
  },
  {
   "cell_type": "code",
   "execution_count": 2,
   "id": "678fe68d",
   "metadata": {
    "execution": {
     "iopub.execute_input": "2025-07-03T18:19:41.009986Z",
     "iopub.status.busy": "2025-07-03T18:19:41.009848Z",
     "iopub.status.idle": "2025-07-03T18:19:41.011611Z",
     "shell.execute_reply": "2025-07-03T18:19:41.011383Z",
     "shell.execute_reply.started": "2025-07-03T18:19:41.009976Z"
    }
   },
   "outputs": [],
   "source": [
    "rundir = Path(\"../tmprun\")"
   ]
  },
  {
   "cell_type": "markdown",
   "id": "7523cc86",
   "metadata": {},
   "source": [
    "### We are going to make heavy use of python and `pyemu` (basically the `flopy` of the PEST world). There are a couple more high-level (but more abstract) ways to do this that are powerful and performant. In particular, one is `PstFrom` which is discussed in this [GMDSI Tutorial](https://github.com/gmdsi/GMDSI_notebooks/tree/main/tutorials/part2_01_pstfrom_pest_setup). Also, a new advance in parameterization is in the [`pypestutils`](https://github.com/pypest/pypestutils) package we we will touch on a bit later.\n",
    "\n",
    "### For now, though, we will work through \"the hard way\" to better see what we are actually doing. #showyerwork"
   ]
  },
  {
   "cell_type": "markdown",
   "id": "a064e278-36c8-429a-aed2-543647eaa41e",
   "metadata": {},
   "source": [
    "## So, first up we need to define a location for the background files to start with, and a setup directory to copy to and work in"
   ]
  },
  {
   "cell_type": "code",
   "execution_count": 3,
   "id": "60e40df9",
   "metadata": {
    "execution": {
     "iopub.execute_input": "2025-07-03T18:19:41.011942Z",
     "iopub.status.busy": "2025-07-03T18:19:41.011870Z",
     "iopub.status.idle": "2025-07-03T18:19:41.018214Z",
     "shell.execute_reply": "2025-07-03T18:19:41.017879Z",
     "shell.execute_reply.started": "2025-07-03T18:19:41.011934Z"
    }
   },
   "outputs": [],
   "source": [
    "org_d = Path(\"../pest_background_files/\")\n",
    "t_d = Path(\"../pest_ies_setup\")"
   ]
  },
  {
   "cell_type": "markdown",
   "id": "be8abaab-96bb-426e-b04d-58b948693ca7",
   "metadata": {},
   "source": [
    "### Now we need to also get the binaries in place"
   ]
  },
  {
   "cell_type": "code",
   "execution_count": 4,
   "id": "af77add5-4eb3-4f2c-869b-24662e9afaad",
   "metadata": {
    "execution": {
     "iopub.execute_input": "2025-07-03T18:19:41.018608Z",
     "iopub.status.busy": "2025-07-03T18:19:41.018520Z",
     "iopub.status.idle": "2025-07-03T18:19:41.100252Z",
     "shell.execute_reply": "2025-07-03T18:19:41.099988Z",
     "shell.execute_reply.started": "2025-07-03T18:19:41.018598Z"
    }
   },
   "outputs": [
    {
     "name": "stderr",
     "output_type": "stream",
     "text": [
      "xattr: ../pest_background_files/pestpp-ies: No such xattr: com.apple.quarantine\n"
     ]
    }
   ],
   "source": [
    "bindir = Path('../bin/')\n",
    "if 'window' in platform.platform().lower():\n",
    "    shutil.copy2(bindir / 'win' / 'pestpp-ies.exe', org_d / 'pestpp-ies.exe')\n",
    "elif 'macos' in platform.platform().lower():\n",
    "    shutil.copy2(bindir / 'mac' / 'pestpp-ies', org_d / 'pestpp-ies')\n",
    "    os.system(f'xattr -d com.apple.quarantine {str(org_d / \"pestpp-ies\")}')\n",
    "else:\n",
    "    shutil.copy2(bindir / 'linux' / 'pestpp-ies', org_d / 'pestpp-ies')"
   ]
  },
  {
   "cell_type": "code",
   "execution_count": 5,
   "id": "db1c558d",
   "metadata": {
    "execution": {
     "iopub.execute_input": "2025-07-03T18:19:41.100701Z",
     "iopub.status.busy": "2025-07-03T18:19:41.100609Z",
     "iopub.status.idle": "2025-07-03T18:19:41.179807Z",
     "shell.execute_reply": "2025-07-03T18:19:41.179512Z",
     "shell.execute_reply.started": "2025-07-03T18:19:41.100691Z"
    }
   },
   "outputs": [
    {
     "data": {
      "text/plain": [
       "PosixPath('../pest_ies_setup')"
      ]
     },
     "execution_count": 5,
     "metadata": {},
     "output_type": "execute_result"
    }
   ],
   "source": [
    "if t_d.exists():\n",
    "    shutil.rmtree(t_d)\n",
    "shutil.copytree(org_d, t_d)"
   ]
  },
  {
   "cell_type": "markdown",
   "id": "923f7dfd",
   "metadata": {},
   "source": [
    "### Let's start out with pilot points for HK in the aquifer and the clay layer"
   ]
  },
  {
   "attachments": {},
   "cell_type": "markdown",
   "id": "b585e264",
   "metadata": {},
   "source": [
    "### get spatial reference for the model - pilot points are based on geographic coordinates (not on layer/row/column)\n",
    "\n",
    "More information on pilot point parameterization at this [GMDSI Tutorial](https://github.com/gmdsi/GMDSI_notebooks/tree/main/tutorials/part1_07_pilotpoints_setup) or in this [USGS Scientific Investigations Report](https://pubs.usgs.gov/sir/2010/5168/pdf/sir20105168.pdf)\n",
    "![image.png](./pp.png)"
   ]
  },
  {
   "cell_type": "code",
   "execution_count": 6,
   "id": "8f82424d",
   "metadata": {
    "execution": {
     "iopub.execute_input": "2025-07-03T18:19:41.181436Z",
     "iopub.status.busy": "2025-07-03T18:19:41.181333Z",
     "iopub.status.idle": "2025-07-03T18:19:41.284694Z",
     "shell.execute_reply": "2025-07-03T18:19:41.284289Z",
     "shell.execute_reply.started": "2025-07-03T18:19:41.181427Z"
    }
   },
   "outputs": [
    {
     "name": "stdout",
     "output_type": "stream",
     "text": [
      "loading simulation...\n",
      "  loading simulation name file...\n",
      "  loading tdis package...\n",
      "  loading model gwf6...\n",
      "    loading package dis...\n",
      "    loading package ic...\n",
      "WARNING: Block \"options\" is not a valid block name for file type ic.\n",
      "    loading package npf...\n",
      "    loading package oc...\n",
      "    loading package chd...\n",
      "    loading package rch...\n",
      "    loading package riv...\n",
      "    loading package wel...\n",
      "    loading package obs...\n",
      "  loading solution package at...\n"
     ]
    }
   ],
   "source": [
    "sim = fp.mf6.MFSimulation.load(sim_ws=str(t_d))\n",
    "gwf = sim.get_model()"
   ]
  },
  {
   "cell_type": "code",
   "execution_count": 7,
   "id": "a6b4508e",
   "metadata": {
    "execution": {
     "iopub.execute_input": "2025-07-03T18:19:41.285138Z",
     "iopub.status.busy": "2025-07-03T18:19:41.285041Z",
     "iopub.status.idle": "2025-07-03T18:19:41.288369Z",
     "shell.execute_reply": "2025-07-03T18:19:41.288125Z",
     "shell.execute_reply.started": "2025-07-03T18:19:41.285129Z"
    }
   },
   "outputs": [
    {
     "name": "stdout",
     "output_type": "stream",
     "text": [
      "   could not remove start_datetime\n"
     ]
    },
    {
     "data": {
      "text/plain": [
       "xul:0; yul:20000; rotation:0; proj4_str:None; units:meters; lenuni:2; length_multiplier:1.0"
      ]
     },
     "execution_count": 7,
     "metadata": {},
     "output_type": "execute_result"
    }
   ],
   "source": [
    "sr = pyemu.helpers.SpatialReference.from_namfile(\n",
    "    str(t_d / \"at.nam\"), delr=gwf.dis.delr.array, delc=gwf.dis.delc.array\n",
    ")\n",
    "sr"
   ]
  },
  {
   "cell_type": "markdown",
   "id": "341adf62",
   "metadata": {},
   "source": [
    "### set up variograms for K pilot points\n",
    "\n",
    "For more background on variograms and geostatistics, check out this [GMDSI tutorial](https://github.com/gmdsi/GMDSI_notebooks/tree/main/tutorials/part0_intro_to_geostatistics)"
   ]
  },
  {
   "cell_type": "code",
   "execution_count": 8,
   "id": "ccb8e4e3",
   "metadata": {
    "execution": {
     "iopub.execute_input": "2025-07-03T18:19:41.289570Z",
     "iopub.status.busy": "2025-07-03T18:19:41.289347Z",
     "iopub.status.idle": "2025-07-03T18:19:41.293112Z",
     "shell.execute_reply": "2025-07-03T18:19:41.292656Z",
     "shell.execute_reply.started": "2025-07-03T18:19:41.289547Z"
    }
   },
   "outputs": [],
   "source": [
    "pp_aq = 3\n",
    "# exponential variogram for spatially varying parameters\n",
    "v_aq = pyemu.geostats.ExpVario(\n",
    "    contribution=1.0,  # sill\n",
    "    a=pp_aq\n",
    "    * 3\n",
    "    * sr.delc[\n",
    "        0\n",
    "    ],  # range of correlation; length units of the model. In our case 'meters'\n",
    "    anisotropy=1.0,  # name says it all\n",
    "    bearing=0.0,  # angle in degrees East of North corresponding to anisotropy ellipse\n",
    ")\n",
    "\n",
    "# geostatistical structure for spatially varying parameters\n",
    "aq_gs = pyemu.geostats.GeoStruct(variograms=v_aq, transform=\"log\")"
   ]
  },
  {
   "cell_type": "code",
   "execution_count": 9,
   "id": "ccd7e6c3-c122-4a58-98dd-a48acee0cfa3",
   "metadata": {
    "execution": {
     "iopub.execute_input": "2025-07-03T18:19:41.293876Z",
     "iopub.status.busy": "2025-07-03T18:19:41.293767Z",
     "iopub.status.idle": "2025-07-03T18:19:41.406404Z",
     "shell.execute_reply": "2025-07-03T18:19:41.406106Z",
     "shell.execute_reply.started": "2025-07-03T18:19:41.293867Z"
    }
   },
   "outputs": [
    {
     "data": {
      "text/plain": [
       "<Axes: xlabel='distance', ylabel='$\\\\gamma$'>"
      ]
     },
     "execution_count": 9,
     "metadata": {},
     "output_type": "execute_result"
    },
    {
     "data": {
      "image/png": "[encoded data removed]",
      "text/plain": [
       "<Figure size 640x480 with 1 Axes>"
      ]
     },
     "metadata": {},
     "output_type": "display_data"
    }
   ],
   "source": [
    "v_aq.plot()"
   ]
  },
  {
   "cell_type": "code",
   "execution_count": 10,
   "id": "d20d1937",
   "metadata": {
    "execution": {
     "iopub.execute_input": "2025-07-03T18:19:41.406905Z",
     "iopub.status.busy": "2025-07-03T18:19:41.406800Z",
     "iopub.status.idle": "2025-07-03T18:19:41.408965Z",
     "shell.execute_reply": "2025-07-03T18:19:41.408742Z",
     "shell.execute_reply.started": "2025-07-03T18:19:41.406895Z"
    }
   },
   "outputs": [],
   "source": [
    "pp_clay = 6\n",
    "# exponential variogram for spatially varying parameters\n",
    "v_clay = pyemu.geostats.ExpVario(\n",
    "    contribution=1.0,  # sill\n",
    "    a=pp_clay\n",
    "    * 5\n",
    "    * sr.delc[\n",
    "        0\n",
    "    ],  # range of correlation; length units of the model. In our case 'meters'\n",
    "    anisotropy=1.0,  # name says it all\n",
    "    bearing=0.0,  # angle in degrees East of North corresponding to anisotropy ellipse\n",
    ")\n",
    "\n",
    "# geostatistical structure for spatially varying parameters\n",
    "clay_gs = pyemu.geostats.GeoStruct(variograms=v_clay, transform=\"log\")"
   ]
  },
  {
   "cell_type": "code",
   "execution_count": 11,
   "id": "9dde88c4-a101-4d25-94f4-cdbd10902839",
   "metadata": {
    "execution": {
     "iopub.execute_input": "2025-07-03T18:19:41.409300Z",
     "iopub.status.busy": "2025-07-03T18:19:41.409230Z",
     "iopub.status.idle": "2025-07-03T18:19:41.452874Z",
     "shell.execute_reply": "2025-07-03T18:19:41.452622Z",
     "shell.execute_reply.started": "2025-07-03T18:19:41.409292Z"
    }
   },
   "outputs": [
    {
     "data": {
      "text/plain": [
       "<Axes: xlabel='distance', ylabel='$\\\\gamma$'>"
      ]
     },
     "execution_count": 11,
     "metadata": {},
     "output_type": "execute_result"
    },
    {
     "data": {
      "image/png": "[encoded data removed]",
      "text/plain": [
       "<Figure size 640x480 with 1 Axes>"
      ]
     },
     "metadata": {},
     "output_type": "display_data"
    }
   ],
   "source": [
    "v_clay.plot()"
   ]
  },
  {
   "cell_type": "code",
   "execution_count": 12,
   "id": "4afe4c1b",
   "metadata": {
    "execution": {
     "iopub.execute_input": "2025-07-03T18:19:41.453347Z",
     "iopub.status.busy": "2025-07-03T18:19:41.453272Z",
     "iopub.status.idle": "2025-07-03T18:19:41.456067Z",
     "shell.execute_reply": "2025-07-03T18:19:41.455866Z",
     "shell.execute_reply.started": "2025-07-03T18:19:41.453338Z"
    }
   },
   "outputs": [],
   "source": [
    "ib = gwf.dis.idomain.array[0]"
   ]
  },
  {
   "cell_type": "markdown",
   "id": "4222c3ea",
   "metadata": {},
   "source": [
    "### we only need pilot points for two unique K files - k_aq and k_clay"
   ]
  },
  {
   "cell_type": "code",
   "execution_count": 13,
   "id": "a1678f96",
   "metadata": {
    "execution": {
     "iopub.execute_input": "2025-07-03T18:19:41.456376Z",
     "iopub.status.busy": "2025-07-03T18:19:41.456310Z",
     "iopub.status.idle": "2025-07-03T18:19:41.473328Z",
     "shell.execute_reply": "2025-07-03T18:19:41.473068Z",
     "shell.execute_reply.started": "2025-07-03T18:19:41.456368Z"
    }
   },
   "outputs": [],
   "source": [
    "k_aq = np.loadtxt(t_d / \"k_aq.ref\")\n",
    "k_clay = np.loadtxt(t_d / \"k_clay.ref\")"
   ]
  },
  {
   "cell_type": "code",
   "execution_count": 14,
   "id": "f2d0e49c-6a65-4fa8-af24-af4be45799e7",
   "metadata": {
    "execution": {
     "iopub.execute_input": "2025-07-03T18:19:41.473855Z",
     "iopub.status.busy": "2025-07-03T18:19:41.473739Z",
     "iopub.status.idle": "2025-07-03T18:19:41.601861Z",
     "shell.execute_reply": "2025-07-03T18:19:41.601596Z",
     "shell.execute_reply.started": "2025-07-03T18:19:41.473846Z"
    }
   },
   "outputs": [
    {
     "data": {
      "image/png": "[encoded data removed]",
      "text/plain": [
       "<Figure size 800x400 with 4 Axes>"
      ]
     },
     "metadata": {},
     "output_type": "display_data"
    }
   ],
   "source": [
    "fig, ax = plt.subplots(1, 2, figsize=(8, 4))\n",
    "c = ax[0].imshow(k_aq)\n",
    "plt.colorbar(c, ax=ax[0])\n",
    "ax[0].set_title(\"aquifer\")\n",
    "c1 = ax[1].imshow(k_clay)\n",
    "plt.colorbar(c1, ax=ax[1])\n",
    "ax[1].set_title(\"clay\");"
   ]
  },
  {
   "cell_type": "markdown",
   "id": "20b57295-c924-4533-8af5-ed0fee4fcc3c",
   "metadata": {},
   "source": [
    "### we can define spatial zones based on the initial K values, assuming they are grouped as homogeneous and unique values"
   ]
  },
  {
   "cell_type": "code",
   "execution_count": 15,
   "id": "66afa108",
   "metadata": {
    "execution": {
     "iopub.execute_input": "2025-07-03T18:19:41.602370Z",
     "iopub.status.busy": "2025-07-03T18:19:41.602282Z",
     "iopub.status.idle": "2025-07-03T18:19:41.604748Z",
     "shell.execute_reply": "2025-07-03T18:19:41.604516Z",
     "shell.execute_reply.started": "2025-07-03T18:19:41.602361Z"
    }
   },
   "outputs": [
    {
     "data": {
      "text/plain": [
       "{1: 2.0876697546,\n",
       " 2: 34.962617819,\n",
       " 3: 225.52388062,\n",
       " 4: 289.48642696,\n",
       " 5: 666.73361113}"
      ]
     },
     "execution_count": 15,
     "metadata": {},
     "output_type": "execute_result"
    }
   ],
   "source": [
    "uniq_aq = np.unique(k_aq)\n",
    "aq_zones_dict = dict(zip(np.arange(1, len(uniq_aq) + 1), uniq_aq))\n",
    "aq_zones_dict"
   ]
  },
  {
   "cell_type": "code",
   "execution_count": 16,
   "id": "b57b85bd",
   "metadata": {
    "execution": {
     "iopub.execute_input": "2025-07-03T18:19:41.605108Z",
     "iopub.status.busy": "2025-07-03T18:19:41.605025Z",
     "iopub.status.idle": "2025-07-03T18:19:41.611022Z",
     "shell.execute_reply": "2025-07-03T18:19:41.610648Z",
     "shell.execute_reply.started": "2025-07-03T18:19:41.605100Z"
    }
   },
   "outputs": [
    {
     "data": {
      "text/plain": [
       "{1: 0.76160437974, 2: 289.48642696}"
      ]
     },
     "execution_count": 16,
     "metadata": {},
     "output_type": "execute_result"
    }
   ],
   "source": [
    "uniq_clay = np.unique(k_clay)\n",
    "clay_zones_dict = dict(zip(np.arange(1, len(uniq_clay) + 1), uniq_clay))\n",
    "clay_zones_dict"
   ]
  },
  {
   "cell_type": "markdown",
   "id": "8b4f1fd4-63bc-43b9-8951-f4d8ceb45eaa",
   "metadata": {},
   "source": [
    "### make integer arrays of zones for the unique values of the aquifer ... "
   ]
  },
  {
   "cell_type": "code",
   "execution_count": 17,
   "id": "06adf3d2-4de7-4289-b02f-63b478a09f90",
   "metadata": {
    "execution": {
     "iopub.execute_input": "2025-07-03T18:19:41.611519Z",
     "iopub.status.busy": "2025-07-03T18:19:41.611429Z",
     "iopub.status.idle": "2025-07-03T18:19:41.614215Z",
     "shell.execute_reply": "2025-07-03T18:19:41.613845Z",
     "shell.execute_reply.started": "2025-07-03T18:19:41.611510Z"
    }
   },
   "outputs": [],
   "source": [
    "aq_zones = np.zeros_like(k_aq)\n",
    "for ck, cv in aq_zones_dict.items():\n",
    "    aq_zones[k_aq == cv] = ck"
   ]
  },
  {
   "cell_type": "markdown",
   "id": "d947275d-9113-4830-b515-6281657249f6",
   "metadata": {},
   "source": [
    "### ... and the clay"
   ]
  },
  {
   "cell_type": "code",
   "execution_count": 18,
   "id": "95494bf4-e7f4-4877-b2c0-e8d898136da3",
   "metadata": {
    "execution": {
     "iopub.execute_input": "2025-07-03T18:19:41.614637Z",
     "iopub.status.busy": "2025-07-03T18:19:41.614561Z",
     "iopub.status.idle": "2025-07-03T18:19:41.616805Z",
     "shell.execute_reply": "2025-07-03T18:19:41.616354Z",
     "shell.execute_reply.started": "2025-07-03T18:19:41.614629Z"
    }
   },
   "outputs": [],
   "source": [
    "# only put pilot points in the clay where the clay is actually present\n",
    "clay_zones = np.zeros_like(k_aq)\n",
    "clay_zones[k_clay == clay_zones_dict[1]] = 1"
   ]
  },
  {
   "cell_type": "code",
   "execution_count": 19,
   "id": "3ad060d4-1dd8-4ec0-a177-96f523de7c22",
   "metadata": {
    "execution": {
     "iopub.execute_input": "2025-07-03T18:19:41.617281Z",
     "iopub.status.busy": "2025-07-03T18:19:41.617179Z",
     "iopub.status.idle": "2025-07-03T18:19:41.852442Z",
     "shell.execute_reply": "2025-07-03T18:19:41.852035Z",
     "shell.execute_reply.started": "2025-07-03T18:19:41.617272Z"
    }
   },
   "outputs": [
    {
     "data": {
      "image/png": "[encoded data removed]",
      "text/plain": [
       "<Figure size 800x600 with 8 Axes>"
      ]
     },
     "metadata": {},
     "output_type": "display_data"
    }
   ],
   "source": [
    "fig, ax = plt.subplots(2, 2, figsize=(8, 6))\n",
    "ax = ax.ravel()\n",
    "c = ax[0].imshow(k_aq)\n",
    "plt.colorbar(c, ax=ax[0])\n",
    "ax[0].set_title(\"K aquifer\")\n",
    "c1 = ax[1].imshow(k_clay)\n",
    "plt.colorbar(c1, ax=ax[1])\n",
    "ax[1].set_title(\"K clay\")\n",
    "\n",
    "c2 = ax[2].imshow(aq_zones)\n",
    "plt.colorbar(c2, ax=ax[2])\n",
    "ax[2].set_title(\"Zones aquifer\")\n",
    "\n",
    "c3 = ax[3].imshow(clay_zones)\n",
    "plt.colorbar(c3, ax=ax[3])\n",
    "ax[3].set_title(\"Zones clay\");"
   ]
  },
  {
   "cell_type": "markdown",
   "id": "6a0584f0",
   "metadata": {},
   "source": [
    "## let's set up pilot points for the k files "
   ]
  },
  {
   "cell_type": "code",
   "execution_count": 20,
   "id": "0a786de6",
   "metadata": {
    "execution": {
     "iopub.execute_input": "2025-07-03T18:19:41.852909Z",
     "iopub.status.busy": "2025-07-03T18:19:41.852815Z",
     "iopub.status.idle": "2025-07-03T18:19:42.022797Z",
     "shell.execute_reply": "2025-07-03T18:19:42.022305Z",
     "shell.execute_reply.started": "2025-07-03T18:19:41.852900Z"
    }
   },
   "outputs": [],
   "source": [
    "aq_pp_df = pyemu.pp_utils.setup_pilotpoints_grid(\n",
    "    sr=sr,  # model spatial reference\n",
    "    ibound=aq_zones,  # to which cells to setup ppoints\n",
    "    # ibound=np.ones_like(aq_zones),\n",
    "    prefix_dict={0: [\"hk_aq\"]},  # prefix to add to parameter names\n",
    "    pp_dir=t_d,\n",
    "    tpl_dir=t_d,\n",
    "    shapename=str(t_d / \"pp_aq.shp\"),\n",
    "    use_ibound_zones=True,\n",
    "    every_n_cell=pp_aq,\n",
    ")  # pilot point spacing"
   ]
  },
  {
   "cell_type": "code",
   "execution_count": 21,
   "id": "410b77f8",
   "metadata": {
    "execution": {
     "iopub.execute_input": "2025-07-03T18:19:42.028520Z",
     "iopub.status.busy": "2025-07-03T18:19:42.028332Z",
     "iopub.status.idle": "2025-07-03T18:19:42.080118Z",
     "shell.execute_reply": "2025-07-03T18:19:42.079870Z",
     "shell.execute_reply.started": "2025-07-03T18:19:42.028507Z"
    }
   },
   "outputs": [
    {
     "data": {
      "text/plain": [
       "(0.0, 12500.0)"
      ]
     },
     "execution_count": 21,
     "metadata": {},
     "output_type": "execute_result"
    },
    {
     "data": {
      "image/png": "[encoded data removed]",
      "text/plain": [
       "<Figure size 640x480 with 1 Axes>"
      ]
     },
     "metadata": {},
     "output_type": "display_data"
    }
   ],
   "source": [
    "plt.scatter(x=aq_pp_df.x, y=aq_pp_df.y, c=aq_pp_df.zone)\n",
    "plt.axis(\"square\")\n",
    "plt.xlim([0, 12500])"
   ]
  },
  {
   "cell_type": "code",
   "execution_count": 22,
   "id": "e21a604b",
   "metadata": {
    "execution": {
     "iopub.execute_input": "2025-07-03T18:19:42.080621Z",
     "iopub.status.busy": "2025-07-03T18:19:42.080529Z",
     "iopub.status.idle": "2025-07-03T18:19:42.119699Z",
     "shell.execute_reply": "2025-07-03T18:19:42.119390Z",
     "shell.execute_reply.started": "2025-07-03T18:19:42.080612Z"
    }
   },
   "outputs": [],
   "source": [
    "clay_pp_df = pyemu.pp_utils.setup_pilotpoints_grid(\n",
    "    sr=sr,  # model spatial reference\n",
    "    ibound=clay_zones,  # to which cells to setup ppoints\n",
    "    prefix_dict={0: [\"hk_clay\"]},  # prefix to add to parameter names\n",
    "    pp_dir=t_d,\n",
    "    tpl_dir=t_d,\n",
    "    shapename=str(t_d / \"pp_clay.shp\"),\n",
    "    use_ibound_zones=True,\n",
    "    every_n_cell=pp_clay,\n",
    ")  # pilot point spacing"
   ]
  },
  {
   "cell_type": "code",
   "execution_count": 23,
   "id": "aa719032",
   "metadata": {
    "execution": {
     "iopub.execute_input": "2025-07-03T18:19:42.120246Z",
     "iopub.status.busy": "2025-07-03T18:19:42.120161Z",
     "iopub.status.idle": "2025-07-03T18:19:42.166167Z",
     "shell.execute_reply": "2025-07-03T18:19:42.165920Z",
     "shell.execute_reply.started": "2025-07-03T18:19:42.120237Z"
    }
   },
   "outputs": [
    {
     "data": {
      "text/plain": [
       "(0.0, 12500.0)"
      ]
     },
     "execution_count": 23,
     "metadata": {},
     "output_type": "execute_result"
    },
    {
     "data": {
      "image/png": "[encoded data removed]",
      "text/plain": [
       "<Figure size 640x480 with 1 Axes>"
      ]
     },
     "metadata": {},
     "output_type": "display_data"
    }
   ],
   "source": [
    "plt.scatter(x=clay_pp_df.x, y=clay_pp_df.y, c=clay_pp_df.zone)\n",
    "plt.axis(\"square\")\n",
    "plt.ylim([0, 20000])\n",
    "plt.xlim([0, 12500])"
   ]
  },
  {
   "cell_type": "markdown",
   "id": "6e38c763",
   "metadata": {},
   "source": [
    "### Now we make an `OrdinaryKrige` object for each pilot point network. This holds the information needed for setting up interpolation, and also has methods to perform the interpolation."
   ]
  },
  {
   "cell_type": "code",
   "execution_count": 24,
   "id": "4b3d8e61",
   "metadata": {
    "execution": {
     "iopub.execute_input": "2025-07-03T18:19:42.166713Z",
     "iopub.status.busy": "2025-07-03T18:19:42.166621Z",
     "iopub.status.idle": "2025-07-03T18:19:42.176020Z",
     "shell.execute_reply": "2025-07-03T18:19:42.175754Z",
     "shell.execute_reply.started": "2025-07-03T18:19:42.166703Z"
    }
   },
   "outputs": [],
   "source": [
    "ok_aq = pyemu.geostats.OrdinaryKrige(\n",
    "    aq_gs, aq_pp_df.loc[aq_pp_df.pargp == \"hk_aq\"]\n",
    ")\n",
    "ok_clay = pyemu.geostats.OrdinaryKrige(\n",
    "    clay_gs, clay_pp_df.loc[clay_pp_df.pargp == \"hk_clay\"]\n",
    ")"
   ]
  },
  {
   "cell_type": "markdown",
   "id": "ca010d56",
   "metadata": {},
   "source": [
    "### We need factors for the interpolation here. Basically a set of weights for each grid cell, based on distance from the nearest pilot points, from which a weighted average of pilot point values is used to calculate the value in each cell. The function of weight by distance is informed by the variogram above. "
   ]
  },
  {
   "cell_type": "code",
   "execution_count": 25,
   "id": "82425ee6",
   "metadata": {
    "execution": {
     "iopub.execute_input": "2025-07-03T18:19:42.176519Z",
     "iopub.status.busy": "2025-07-03T18:19:42.176413Z",
     "iopub.status.idle": "2025-07-03T18:19:43.608548Z",
     "shell.execute_reply": "2025-07-03T18:19:43.608271Z",
     "shell.execute_reply.started": "2025-07-03T18:19:42.176511Z"
    }
   },
   "outputs": [
    {
     "name": "stdout",
     "output_type": "stream",
     "text": [
      "starting interp point loop for 1000 points\n",
      "took 0.692639 seconds\n",
      "starting interp point loop for 1000 points\n",
      "took 0.736067 seconds\n"
     ]
    }
   ],
   "source": [
    "aq_fac_df = ok_aq.calc_factors_grid(\n",
    "    sr,\n",
    "    minpts_interp=1,\n",
    "    maxpts_interp=10,\n",
    ")\n",
    "clay_fac_df = ok_clay.calc_factors_grid(\n",
    "    sr,\n",
    "    minpts_interp=1,\n",
    "    maxpts_interp=10,\n",
    ")"
   ]
  },
  {
   "cell_type": "code",
   "execution_count": 26,
   "id": "fa37160f",
   "metadata": {
    "execution": {
     "iopub.execute_input": "2025-07-03T18:19:43.608995Z",
     "iopub.status.busy": "2025-07-03T18:19:43.608911Z",
     "iopub.status.idle": "2025-07-03T18:19:43.630069Z",
     "shell.execute_reply": "2025-07-03T18:19:43.629772Z",
     "shell.execute_reply.started": "2025-07-03T18:19:43.608987Z"
    }
   },
   "outputs": [],
   "source": [
    "# just gotta save these factors out to a file\n",
    "ok_aq.to_grid_factors_file(str(t_d / \"pp_aq.fac\"))\n",
    "ok_clay.to_grid_factors_file(str(t_d / \"pp_clay.fac\"))"
   ]
  },
  {
   "cell_type": "code",
   "execution_count": 27,
   "id": "b3e14807",
   "metadata": {
    "execution": {
     "iopub.execute_input": "2025-07-03T18:19:43.630531Z",
     "iopub.status.busy": "2025-07-03T18:19:43.630452Z",
     "iopub.status.idle": "2025-07-03T18:19:43.633195Z",
     "shell.execute_reply": "2025-07-03T18:19:43.632999Z",
     "shell.execute_reply.started": "2025-07-03T18:19:43.630523Z"
    }
   },
   "outputs": [
    {
     "data": {
      "text/plain": [
       "[PosixPath('../pest_ies_setup/pp_clay.fac'),\n",
       " PosixPath('../pest_ies_setup/pp_aq.fac')]"
      ]
     },
     "execution_count": 27,
     "metadata": {},
     "output_type": "execute_result"
    }
   ],
   "source": [
    "list(t_d.glob(\"*.fac\"))"
   ]
  },
  {
   "cell_type": "code",
   "execution_count": 28,
   "id": "93593257",
   "metadata": {
    "execution": {
     "iopub.execute_input": "2025-07-03T18:19:43.633515Z",
     "iopub.status.busy": "2025-07-03T18:19:43.633452Z",
     "iopub.status.idle": "2025-07-03T18:19:43.644355Z",
     "shell.execute_reply": "2025-07-03T18:19:43.644106Z",
     "shell.execute_reply.started": "2025-07-03T18:19:43.633507Z"
    }
   },
   "outputs": [
    {
     "data": {
      "text/html": [
       "<div>\n",
       "<style scoped>\n",
       "    .dataframe tbody tr th:only-of-type {\n",
       "        vertical-align: middle;\n",
       "    }\n",
       "\n",
       "    .dataframe tbody tr th {\n",
       "        vertical-align: top;\n",
       "    }\n",
       "\n",
       "    .dataframe thead th {\n",
       "        text-align: right;\n",
       "    }\n",
       "</style>\n",
       "<table border=\"1\" class=\"dataframe\">\n",
       "  <thead>\n",
       "    <tr style=\"text-align: right;\">\n",
       "      <th></th>\n",
       "      <th>x</th>\n",
       "      <th>y</th>\n",
       "      <th>idist</th>\n",
       "      <th>inames</th>\n",
       "      <th>ifacts</th>\n",
       "      <th>err_var</th>\n",
       "    </tr>\n",
       "  </thead>\n",
       "  <tbody>\n",
       "    <tr>\n",
       "      <th>0</th>\n",
       "      <td>250.0</td>\n",
       "      <td>19750.0</td>\n",
       "      <td>[707.1067811865476, 2061.5528128088304, 2061.5528128088304, 3535.5339059327375, 3535.53390593273...</td>\n",
       "      <td>[pp_0000, pp_0001, pp_0008, pp_0002, pp_0016, pp_0018, pp_0003]</td>\n",
       "      <td>[0.7736179117782175, 0.05089159447134091, 0.05037739169795752, 0.02155424462216176, 0.0448270508...</td>\n",
       "      <td>0.133189</td>\n",
       "    </tr>\n",
       "    <tr>\n",
       "      <th>1</th>\n",
       "      <td>750.0</td>\n",
       "      <td>19750.0</td>\n",
       "      <td>[500.0, 1581.1388300841897, 3041.38126514911, 3500.0, 4527.6925690687085, 4609.772228646444]</td>\n",
       "      <td>[pp_0000, pp_0001, pp_0002, pp_0016, pp_0003, pp_0018]</td>\n",
       "      <td>[0.7843888886459814, 0.13541864223493308, 0.02318743266002807, 0.01831260443412193, 0.0279338127...</td>\n",
       "      <td>0.107867</td>\n",
       "    </tr>\n",
       "    <tr>\n",
       "      <th>2</th>\n",
       "      <td>1250.0</td>\n",
       "      <td>19750.0</td>\n",
       "      <td>[707.1067811865476, 1118.033988749895, 2549.5097567963926, 3535.5339059327375, 4031.128874149275...</td>\n",
       "      <td>[pp_0000, pp_0001, pp_0002, pp_0016, pp_0003, pp_0018]</td>\n",
       "      <td>[0.6011194011821877, 0.33078768259614405, 0.03065277716852215, 0.005782102319957127, 0.025250820...</td>\n",
       "      <td>0.148857</td>\n",
       "    </tr>\n",
       "    <tr>\n",
       "      <th>3</th>\n",
       "      <td>1750.0</td>\n",
       "      <td>19750.0</td>\n",
       "      <td>[707.1067811865476, 1118.033988749895, 2061.5528128088304, 3535.5339059327375, 3640.054944640259...</td>\n",
       "      <td>[pp_0001, pp_0000, pp_0002, pp_0003, pp_0016, pp_0018]</td>\n",
       "      <td>[0.5600859642844322, 0.35025856030235564, 0.05402016804187807, 0.02695502845743709, 0.0039420316...</td>\n",
       "      <td>0.154230</td>\n",
       "    </tr>\n",
       "    <tr>\n",
       "      <th>4</th>\n",
       "      <td>2250.0</td>\n",
       "      <td>19750.0</td>\n",
       "      <td>[500.0, 1581.1388300841897, 1581.1388300841897, 3041.38126514911, 3500.0, 3807.886552931954]</td>\n",
       "      <td>[pp_0001, pp_0000, pp_0002, pp_0003, pp_0017, pp_0018]</td>\n",
       "      <td>[0.6770413164906338, 0.15025792389373333, 0.13286255283924858, 0.032148952809166645, 0.003163240...</td>\n",
       "      <td>0.127366</td>\n",
       "    </tr>\n",
       "    <tr>\n",
       "      <th>...</th>\n",
       "      <td>...</td>\n",
       "      <td>...</td>\n",
       "      <td>...</td>\n",
       "      <td>...</td>\n",
       "      <td>...</td>\n",
       "      <td>...</td>\n",
       "    </tr>\n",
       "    <tr>\n",
       "      <th>995</th>\n",
       "      <td>10250.0</td>\n",
       "      <td>250.0</td>\n",
       "      <td>[1118.033988749895, 1414.213562373095, 2236.06797749979, 3640.0549446402592, 4031.128874149275, ...</td>\n",
       "      <td>[pp_0102, pp_0103, pp_0101, pp_0100, pp_0086, pp_0087, pp_0092]</td>\n",
       "      <td>[0.43970862281869355, 0.36619504938290687, 0.10859184829498857, 0.05739905229012797, 0.006931027...</td>\n",
       "      <td>0.200424</td>\n",
       "    </tr>\n",
       "    <tr>\n",
       "      <th>996</th>\n",
       "      <td>10750.0</td>\n",
       "      <td>250.0</td>\n",
       "      <td>[1118.033988749895, 1414.213562373095, 2692.582403567252, 4031.128874149275, 4123.105625617661, ...</td>\n",
       "      <td>[pp_0103, pp_0102, pp_0101, pp_0087, pp_0100, pp_0086, pp_0085]</td>\n",
       "      <td>[0.5243873674289161, 0.31486280305451214, 0.06899838438360371, 0.021714392461016616, 0.053493192...</td>\n",
       "      <td>0.194072</td>\n",
       "    </tr>\n",
       "    <tr>\n",
       "      <th>997</th>\n",
       "      <td>11250.0</td>\n",
       "      <td>250.0</td>\n",
       "      <td>[1000.0, 1802.7756377319947, 3162.2776601683795, 4000.0, 4272.001872658766, 4609.772228646444, 5...</td>\n",
       "      <td>[pp_0103, pp_0102, pp_0101, pp_0087, pp_0086, pp_0100, pp_0085]</td>\n",
       "      <td>[0.6475592262793268, 0.1925534368544475, 0.05008431603937684, 0.03364689968778511, 0.00043367930...</td>\n",
       "      <td>0.181107</td>\n",
       "    </tr>\n",
       "    <tr>\n",
       "      <th>998</th>\n",
       "      <td>11750.0</td>\n",
       "      <td>250.0</td>\n",
       "      <td>[1118.033988749895, 2236.06797749979, 2549.5097567963926, 3640.0549446402592, 4031.128874149275,...</td>\n",
       "      <td>[pp_0103, pp_0102, pp_0095, pp_0101, pp_0087, pp_0100, pp_0085]</td>\n",
       "      <td>[0.6822250583264885, 0.10994162681244529, 0.023471091602661167, 0.04066141482321463, 0.053619358...</td>\n",
       "      <td>0.190696</td>\n",
       "    </tr>\n",
       "    <tr>\n",
       "      <th>999</th>\n",
       "      <td>12250.0</td>\n",
       "      <td>250.0</td>\n",
       "      <td>[1414.213562373095, 2692.582403567252, 2692.582403567252, 4123.105625617661, 4123.105625617661, ...</td>\n",
       "      <td>[pp_0103, pp_0095, pp_0102, pp_0101, pp_0087, pp_0100, pp_0079]</td>\n",
       "      <td>[0.6545950637809408, 0.06581892421931694, 0.06581892421931694, 0.034783351108020055, 0.034783351...</td>\n",
       "      <td>0.235176</td>\n",
       "    </tr>\n",
       "  </tbody>\n",
       "</table>\n",
       "<p>1000 rows × 6 columns</p>\n",
       "</div>"
      ],
      "text/plain": [
       "           x        y  \\\n",
       "0      250.0  19750.0   \n",
       "1      750.0  19750.0   \n",
       "2     1250.0  19750.0   \n",
       "3     1750.0  19750.0   \n",
       "4     2250.0  19750.0   \n",
       "..       ...      ...   \n",
       "995  10250.0    250.0   \n",
       "996  10750.0    250.0   \n",
       "997  11250.0    250.0   \n",
       "998  11750.0    250.0   \n",
       "999  12250.0    250.0   \n",
       "\n",
       "                                                                                                   idist  \\\n",
       "0    [707.1067811865476, 2061.5528128088304, 2061.5528128088304, 3535.5339059327375, 3535.53390593273...   \n",
       "1           [500.0, 1581.1388300841897, 3041.38126514911, 3500.0, 4527.6925690687085, 4609.772228646444]   \n",
       "2    [707.1067811865476, 1118.033988749895, 2549.5097567963926, 3535.5339059327375, 4031.128874149275...   \n",
       "3    [707.1067811865476, 1118.033988749895, 2061.5528128088304, 3535.5339059327375, 3640.054944640259...   \n",
       "4           [500.0, 1581.1388300841897, 1581.1388300841897, 3041.38126514911, 3500.0, 3807.886552931954]   \n",
       "..                                                                                                   ...   \n",
       "995  [1118.033988749895, 1414.213562373095, 2236.06797749979, 3640.0549446402592, 4031.128874149275, ...   \n",
       "996  [1118.033988749895, 1414.213562373095, 2692.582403567252, 4031.128874149275, 4123.105625617661, ...   \n",
       "997  [1000.0, 1802.7756377319947, 3162.2776601683795, 4000.0, 4272.001872658766, 4609.772228646444, 5...   \n",
       "998  [1118.033988749895, 2236.06797749979, 2549.5097567963926, 3640.0549446402592, 4031.128874149275,...   \n",
       "999  [1414.213562373095, 2692.582403567252, 2692.582403567252, 4123.105625617661, 4123.105625617661, ...   \n",
       "\n",
       "                                                              inames  \\\n",
       "0    [pp_0000, pp_0001, pp_0008, pp_0002, pp_0016, pp_0018, pp_0003]   \n",
       "1             [pp_0000, pp_0001, pp_0002, pp_0016, pp_0003, pp_0018]   \n",
       "2             [pp_0000, pp_0001, pp_0002, pp_0016, pp_0003, pp_0018]   \n",
       "3             [pp_0001, pp_0000, pp_0002, pp_0003, pp_0016, pp_0018]   \n",
       "4             [pp_0001, pp_0000, pp_0002, pp_0003, pp_0017, pp_0018]   \n",
       "..                                                               ...   \n",
       "995  [pp_0102, pp_0103, pp_0101, pp_0100, pp_0086, pp_0087, pp_0092]   \n",
       "996  [pp_0103, pp_0102, pp_0101, pp_0087, pp_0100, pp_0086, pp_0085]   \n",
       "997  [pp_0103, pp_0102, pp_0101, pp_0087, pp_0086, pp_0100, pp_0085]   \n",
       "998  [pp_0103, pp_0102, pp_0095, pp_0101, pp_0087, pp_0100, pp_0085]   \n",
       "999  [pp_0103, pp_0095, pp_0102, pp_0101, pp_0087, pp_0100, pp_0079]   \n",
       "\n",
       "                                                                                                  ifacts  \\\n",
       "0    [0.7736179117782175, 0.05089159447134091, 0.05037739169795752, 0.02155424462216176, 0.0448270508...   \n",
       "1    [0.7843888886459814, 0.13541864223493308, 0.02318743266002807, 0.01831260443412193, 0.0279338127...   \n",
       "2    [0.6011194011821877, 0.33078768259614405, 0.03065277716852215, 0.005782102319957127, 0.025250820...   \n",
       "3    [0.5600859642844322, 0.35025856030235564, 0.05402016804187807, 0.02695502845743709, 0.0039420316...   \n",
       "4    [0.6770413164906338, 0.15025792389373333, 0.13286255283924858, 0.032148952809166645, 0.003163240...   \n",
       "..                                                                                                   ...   \n",
       "995  [0.43970862281869355, 0.36619504938290687, 0.10859184829498857, 0.05739905229012797, 0.006931027...   \n",
       "996  [0.5243873674289161, 0.31486280305451214, 0.06899838438360371, 0.021714392461016616, 0.053493192...   \n",
       "997  [0.6475592262793268, 0.1925534368544475, 0.05008431603937684, 0.03364689968778511, 0.00043367930...   \n",
       "998  [0.6822250583264885, 0.10994162681244529, 0.023471091602661167, 0.04066141482321463, 0.053619358...   \n",
       "999  [0.6545950637809408, 0.06581892421931694, 0.06581892421931694, 0.034783351108020055, 0.034783351...   \n",
       "\n",
       "      err_var  \n",
       "0    0.133189  \n",
       "1    0.107867  \n",
       "2    0.148857  \n",
       "3    0.154230  \n",
       "4    0.127366  \n",
       "..        ...  \n",
       "995  0.200424  \n",
       "996  0.194072  \n",
       "997  0.181107  \n",
       "998  0.190696  \n",
       "999  0.235176  \n",
       "\n",
       "[1000 rows x 6 columns]"
      ]
     },
     "execution_count": 28,
     "metadata": {},
     "output_type": "execute_result"
    }
   ],
   "source": [
    "# let's check out all the useful information we have in factors dataframe\n",
    "aq_fac_df"
   ]
  },
  {
   "cell_type": "markdown",
   "id": "db4febd8",
   "metadata": {},
   "source": [
    "# now make a PST file to pull this all together\n",
    "### recall the general structure of the PST interface"
   ]
  },
  {
   "cell_type": "code",
   "execution_count": 29,
   "id": "0e1201fa",
   "metadata": {
    "execution": {
     "iopub.execute_input": "2025-07-03T18:19:43.644849Z",
     "iopub.status.busy": "2025-07-03T18:19:43.644771Z",
     "iopub.status.idle": "2025-07-03T18:19:43.647700Z",
     "shell.execute_reply": "2025-07-03T18:19:43.647421Z",
     "shell.execute_reply.started": "2025-07-03T18:19:43.644841Z"
    }
   },
   "outputs": [
    {
     "data": {
      "text/html": [
       "<img src=\"../background/pest_flow1.gif\"/>"
      ],
      "text/plain": [
       "<IPython.core.display.Image object>"
      ]
     },
     "metadata": {},
     "output_type": "display_data"
    }
   ],
   "source": [
    "from IPython.display import Image, display\n",
    "\n",
    "display(Image(url=\"../background/pest_flow1.gif\"))"
   ]
  },
  {
   "cell_type": "markdown",
   "id": "de8ad54d",
   "metadata": {},
   "source": [
    "### so, let's have a look at the interface files (`tpl` and `ins`)"
   ]
  },
  {
   "cell_type": "code",
   "execution_count": 30,
   "id": "ec59d02b",
   "metadata": {
    "execution": {
     "iopub.execute_input": "2025-07-03T18:19:43.648203Z",
     "iopub.status.busy": "2025-07-03T18:19:43.648114Z",
     "iopub.status.idle": "2025-07-03T18:19:43.651115Z",
     "shell.execute_reply": "2025-07-03T18:19:43.650865Z",
     "shell.execute_reply.started": "2025-07-03T18:19:43.648195Z"
    }
   },
   "outputs": [
    {
     "data": {
      "text/plain": [
       "[PosixPath('../pest_ies_setup/hk_aqpp.dat.tpl'),\n",
       " PosixPath('../pest_ies_setup/at.rch.tpl'),\n",
       " PosixPath('../pest_ies_setup/riv.ref.tpl'),\n",
       " PosixPath('../pest_ies_setup/hk_claypp.dat.tpl'),\n",
       " PosixPath('../pest_ies_setup/at.npf.tpl')]"
      ]
     },
     "execution_count": 30,
     "metadata": {},
     "output_type": "execute_result"
    }
   ],
   "source": [
    "list(t_d.glob(\"*.tpl\"))"
   ]
  },
  {
   "cell_type": "markdown",
   "id": "303d35b5",
   "metadata": {},
   "source": [
    "### So we have two `pp` related `tpl` files, and some homebrewed other ones made ahead of time. Let's check those out as well."
   ]
  },
  {
   "cell_type": "code",
   "execution_count": 31,
   "id": "05dabfd9",
   "metadata": {
    "execution": {
     "iopub.execute_input": "2025-07-03T18:19:43.651633Z",
     "iopub.status.busy": "2025-07-03T18:19:43.651510Z",
     "iopub.status.idle": "2025-07-03T18:19:43.657585Z",
     "shell.execute_reply": "2025-07-03T18:19:43.657374Z",
     "shell.execute_reply.started": "2025-07-03T18:19:43.651624Z"
    }
   },
   "outputs": [
    {
     "name": "stdout",
     "output_type": "stream",
     "text": [
      "ptf #\n",
      "1        23         9 1.750E+00 #rv1     # -2.000E+0 pf\n",
      "1        24         9 1.650E+00 #rv1     # -2.000E+0 pf\n",
      "1        25         9 1.550E+00 #rv1     # -2.000E+0 ds\n",
      "1        26         9 1.450E+00 #rv1     # -2.000E+0 ds\n",
      "1        27         9 1.350E+00 #rv1     # -2.000E+0 ds\n",
      "1        28         9 1.250E+00 #rv1     # -2.000E+0 ds\n",
      "1        29         9 1.150E+00 #rv1     # -2.000E+0 ds\n",
      "1        30         9 1.050E+00 #rv1     # -2.000E+0 ds\n",
      "1        31         9 9.500E-01 #rv1     # -2.000E+0 ds\n",
      "1        32         9 8.500E-01 #rv1     # -2.000E+0 ds\n",
      "1        33         9 7.500E-01 #rv1     # -2.000E+0 ds\n",
      "1        34         9 6.500E-01 #rv1     # -2.000E+0 ds\n",
      "1        35         9 5.500E-01 #rv1     # -2.000E+0 ds\n",
      "1        36         9 4.500E-01 #rv1     # -2.000E+0 ds\n",
      "1        37         9 3.500E-01 #rv1     # -2.000E+0 ds\n",
      "1        38         9 2.500E-01 #rv1     # -2.000E+0 ds\n",
      "1        39         9 1.500E-01 #rv1     # -2.000E+0 ds\n",
      "1        40         9 5.000E-02 #rv1     # -2.000E+0 ds\n"
     ]
    }
   ],
   "source": [
    "# here's the river file - looks like we gonna\n",
    "# parameterize conductance as homog (is that cool???)\n",
    "[print(i.strip()) for i in open(t_d / \"riv.ref.tpl\", \"r\").readlines()];"
   ]
  },
  {
   "cell_type": "code",
   "execution_count": 32,
   "id": "3c95d68b",
   "metadata": {
    "execution": {
     "iopub.execute_input": "2025-07-03T18:19:43.658036Z",
     "iopub.status.busy": "2025-07-03T18:19:43.657948Z",
     "iopub.status.idle": "2025-07-03T18:19:43.667361Z",
     "shell.execute_reply": "2025-07-03T18:19:43.667117Z",
     "shell.execute_reply.started": "2025-07-03T18:19:43.658028Z"
    }
   },
   "outputs": [
    {
     "name": "stdout",
     "output_type": "stream",
     "text": [
      "ptf ~\n",
      "BEGIN OPTIONS\n",
      "SAVE_FLOWS\n",
      "READASARRAYS\n",
      "END OPTIONS\n",
      "\n",
      "BEGIN PERIOD 1\n",
      "RECHARGE\n",
      "CONSTANT ~   rch         ~\n",
      "END PERIOD\n"
     ]
    }
   ],
   "source": [
    "# rch is easy - just a constant value\n",
    "[print(i.strip()) for i in open(t_d / \"at.rch.tpl\", \"r\").readlines()];"
   ]
  },
  {
   "cell_type": "code",
   "execution_count": 33,
   "id": "fe293d7b",
   "metadata": {
    "execution": {
     "iopub.execute_input": "2025-07-03T18:19:43.667859Z",
     "iopub.status.busy": "2025-07-03T18:19:43.667746Z",
     "iopub.status.idle": "2025-07-03T18:19:43.671824Z",
     "shell.execute_reply": "2025-07-03T18:19:43.671560Z",
     "shell.execute_reply.started": "2025-07-03T18:19:43.667850Z"
    }
   },
   "outputs": [
    {
     "name": "stdout",
     "output_type": "stream",
     "text": [
      "ptf ~\n",
      "BEGIN OPTIONS\n",
      "SAVE_FLOWS\n",
      "END OPTIONS\n",
      "\n",
      "BEGIN GRIDDATA\n",
      "ICELLTYPE LAYERED\n",
      "CONSTANT 1\n",
      "CONSTANT 0\n",
      "CONSTANT 0\n",
      "CONSTANT 0\n",
      "CONSTANT 0\n",
      "K LAYERED\n",
      "OPEN/CLOSE k_aq.ref\n",
      "OPEN/CLOSE k_aq.ref\n",
      "OPEN/CLOSE k_clay.ref IPRN 5\n",
      "OPEN/CLOSE k_aq.ref\n",
      "OPEN/CLOSE k_aq.ref\n",
      "K33 LAYERED\n",
      "OPEN/CLOSE k_aq.ref FACTOR ~   Kaniso    ~\n",
      "OPEN/CLOSE k_aq.ref FACTOR ~   Kaniso    ~\n",
      "OPEN/CLOSE k_clay.ref FACTOR ~ Kaniso_clay ~\n",
      "OPEN/CLOSE k_aq.ref FACTOR ~   Kaniso    ~\n",
      "OPEN/CLOSE k_aq.ref FACTOR ~   Kaniso    ~\n",
      "END GRIDDATA\n"
     ]
    }
   ],
   "source": [
    "# npf has some shenanigans going on\n",
    "[print(i.strip()) for i in open(t_d / \"at.npf.tpl\", \"r\").readlines()];"
   ]
  },
  {
   "cell_type": "markdown",
   "id": "38ea0bf7",
   "metadata": {},
   "source": [
    "#### for `npf`, we have just the two files we assume are being made my the pilot point interpolation - `k_aq.ref` for the aquifer and `k_clay.ref` for the clay. These two files get assigned across the 5 layers based on lithology. Not a bad idea! Then the `FACTOR` capability is used to assign a fraction to anisotropy for `k33` (queue Alden's dance). "
   ]
  },
  {
   "cell_type": "markdown",
   "id": "f5d6375a",
   "metadata": {},
   "source": [
    "#### how about `ins` files?"
   ]
  },
  {
   "cell_type": "code",
   "execution_count": 34,
   "id": "8cbff941",
   "metadata": {
    "execution": {
     "iopub.execute_input": "2025-07-03T18:19:43.672364Z",
     "iopub.status.busy": "2025-07-03T18:19:43.672232Z",
     "iopub.status.idle": "2025-07-03T18:19:43.674609Z",
     "shell.execute_reply": "2025-07-03T18:19:43.674401Z",
     "shell.execute_reply.started": "2025-07-03T18:19:43.672355Z"
    }
   },
   "outputs": [
    {
     "data": {
      "text/plain": [
       "[PosixPath('../pest_ies_setup/allobs.dat.ins')]"
      ]
     },
     "execution_count": 34,
     "metadata": {},
     "output_type": "execute_result"
    }
   ],
   "source": [
    "list(t_d.glob(\"*.ins\"))"
   ]
  },
  {
   "cell_type": "code",
   "execution_count": 35,
   "id": "fa607fb4",
   "metadata": {
    "execution": {
     "iopub.execute_input": "2025-07-03T18:19:43.674917Z",
     "iopub.status.busy": "2025-07-03T18:19:43.674855Z",
     "iopub.status.idle": "2025-07-03T18:19:43.680199Z",
     "shell.execute_reply": "2025-07-03T18:19:43.679959Z",
     "shell.execute_reply.started": "2025-07-03T18:19:43.674910Z"
    }
   },
   "outputs": [
    {
     "name": "stdout",
     "output_type": "stream",
     "text": [
      "pif ~\n",
      "l2 w !w01!\n",
      "l1 w !w02!\n",
      "l1 w !w03!\n",
      "l1 w !w04!\n",
      "l1 w !w05!\n",
      "l1 w !w06!\n",
      "l1 w !w07!\n",
      "l1 w !w08!\n",
      "l1 w !w09!\n",
      "l1 w !w10!\n",
      "l1 w !w11!\n",
      "l1 w !w12!\n",
      "l1 w !w13!\n",
      "l1 w !w14!\n",
      "l1 w !w15!\n",
      "l1 w !w16!\n",
      "l1 w !w17!\n",
      "l1 w !u01!\n",
      "l1 w !u02!\n",
      "l1 w !u03!\n",
      "l1 w !u04!\n",
      "l1 w !u05!\n",
      "l1 w !u06!\n",
      "l1 w !u07!\n",
      "l1 w !u08!\n",
      "l1 w !u09!\n",
      "l1 w !u10!\n",
      "l1 w !u11!\n",
      "l1 w !u12!\n",
      "l1 w !u13!\n",
      "l1 w !u14!\n",
      "l1 w !u15!\n",
      "l1 w !u16!\n",
      "l1 w !u17!\n",
      "l1 w !chdflow!\n",
      "l1 w !pf!\n",
      "l1 w !ds!\n",
      "l1 w !uw02!\n",
      "l1 w !uw08!\n",
      "l1 w !uw15!\n"
     ]
    }
   ],
   "source": [
    "# just the one we made in the previous notebook\n",
    "[print(i.strip()) for i in open(t_d / \"allobs.dat.ins\", \"r\").readlines()];"
   ]
  },
  {
   "cell_type": "markdown",
   "id": "ea1e714c",
   "metadata": {},
   "source": [
    "#### OK! Given all this info, the method below (`Pst.from_io_files`) reads all the `tpl` and `ins` files in a directory, scrapes the parameter and observation information from them, and populated a `Pst` object in memory that contains defaults and specifics covering basically everything the PEST interface will, ultimately, need."
   ]
  },
  {
   "cell_type": "code",
   "execution_count": 36,
   "id": "0f435b54",
   "metadata": {
    "execution": {
     "iopub.execute_input": "2025-07-03T18:19:43.680738Z",
     "iopub.status.busy": "2025-07-03T18:19:43.680611Z",
     "iopub.status.idle": "2025-07-03T18:19:43.691833Z",
     "shell.execute_reply": "2025-07-03T18:19:43.691339Z",
     "shell.execute_reply.started": "2025-07-03T18:19:43.680729Z"
    }
   },
   "outputs": [],
   "source": [
    "cwd = Path(os.getcwd())\n",
    "os.chdir(t_d)\n",
    "pst = pyemu.Pst.from_io_files(*pyemu.helpers.parse_dir_for_io_files(\".\"))\n",
    "os.chdir(cwd)"
   ]
  },
  {
   "cell_type": "markdown",
   "id": "e1337c24",
   "metadata": {},
   "source": [
    "### Both the `parameter_data` and `observation_data` are populated as `pandas DataFrames` (i know, easier if `recarrays` but....) so you can view and change values easily"
   ]
  },
  {
   "cell_type": "code",
   "execution_count": 37,
   "id": "c341b7a3",
   "metadata": {
    "execution": {
     "iopub.execute_input": "2025-07-03T18:19:43.692755Z",
     "iopub.status.busy": "2025-07-03T18:19:43.692656Z",
     "iopub.status.idle": "2025-07-03T18:19:43.716594Z",
     "shell.execute_reply": "2025-07-03T18:19:43.712722Z",
     "shell.execute_reply.started": "2025-07-03T18:19:43.692746Z"
    }
   },
   "outputs": [
    {
     "data": {
      "text/html": [
       "<div>\n",
       "<style scoped>\n",
       "    .dataframe tbody tr th:only-of-type {\n",
       "        vertical-align: middle;\n",
       "    }\n",
       "\n",
       "    .dataframe tbody tr th {\n",
       "        vertical-align: top;\n",
       "    }\n",
       "\n",
       "    .dataframe thead th {\n",
       "        text-align: right;\n",
       "    }\n",
       "</style>\n",
       "<table border=\"1\" class=\"dataframe\">\n",
       "  <thead>\n",
       "    <tr style=\"text-align: right;\">\n",
       "      <th></th>\n",
       "      <th>parnme</th>\n",
       "      <th>partrans</th>\n",
       "      <th>parchglim</th>\n",
       "      <th>parval1</th>\n",
       "      <th>parlbnd</th>\n",
       "      <th>parubnd</th>\n",
       "      <th>pargp</th>\n",
       "      <th>scale</th>\n",
       "      <th>offset</th>\n",
       "      <th>dercom</th>\n",
       "      <th>i</th>\n",
       "      <th>j</th>\n",
       "      <th>zone</th>\n",
       "    </tr>\n",
       "  </thead>\n",
       "  <tbody>\n",
       "    <tr>\n",
       "      <th>hk_aq_i:10_j:10_zone:5</th>\n",
       "      <td>hk_aq_i:10_j:10_zone:5</td>\n",
       "      <td>log</td>\n",
       "      <td>factor</td>\n",
       "      <td>1.0</td>\n",
       "      <td>1.100000e-10</td>\n",
       "      <td>1.100000e+10</td>\n",
       "      <td>pargp</td>\n",
       "      <td>1.0</td>\n",
       "      <td>0.0</td>\n",
       "      <td>1</td>\n",
       "      <td>10</td>\n",
       "      <td>10</td>\n",
       "      <td>5</td>\n",
       "    </tr>\n",
       "    <tr>\n",
       "      <th>hk_aq_i:10_j:13_zone:5</th>\n",
       "      <td>hk_aq_i:10_j:13_zone:5</td>\n",
       "      <td>log</td>\n",
       "      <td>factor</td>\n",
       "      <td>1.0</td>\n",
       "      <td>1.100000e-10</td>\n",
       "      <td>1.100000e+10</td>\n",
       "      <td>pargp</td>\n",
       "      <td>1.0</td>\n",
       "      <td>0.0</td>\n",
       "      <td>1</td>\n",
       "      <td>10</td>\n",
       "      <td>13</td>\n",
       "      <td>5</td>\n",
       "    </tr>\n",
       "    <tr>\n",
       "      <th>hk_aq_i:10_j:16_zone:5</th>\n",
       "      <td>hk_aq_i:10_j:16_zone:5</td>\n",
       "      <td>log</td>\n",
       "      <td>factor</td>\n",
       "      <td>1.0</td>\n",
       "      <td>1.100000e-10</td>\n",
       "      <td>1.100000e+10</td>\n",
       "      <td>pargp</td>\n",
       "      <td>1.0</td>\n",
       "      <td>0.0</td>\n",
       "      <td>1</td>\n",
       "      <td>10</td>\n",
       "      <td>16</td>\n",
       "      <td>5</td>\n",
       "    </tr>\n",
       "    <tr>\n",
       "      <th>hk_aq_i:10_j:19_zone:5</th>\n",
       "      <td>hk_aq_i:10_j:19_zone:5</td>\n",
       "      <td>log</td>\n",
       "      <td>factor</td>\n",
       "      <td>1.0</td>\n",
       "      <td>1.100000e-10</td>\n",
       "      <td>1.100000e+10</td>\n",
       "      <td>pargp</td>\n",
       "      <td>1.0</td>\n",
       "      <td>0.0</td>\n",
       "      <td>1</td>\n",
       "      <td>10</td>\n",
       "      <td>19</td>\n",
       "      <td>5</td>\n",
       "    </tr>\n",
       "    <tr>\n",
       "      <th>hk_aq_i:10_j:1_zone:4</th>\n",
       "      <td>hk_aq_i:10_j:1_zone:4</td>\n",
       "      <td>log</td>\n",
       "      <td>factor</td>\n",
       "      <td>1.0</td>\n",
       "      <td>1.100000e-10</td>\n",
       "      <td>1.100000e+10</td>\n",
       "      <td>pargp</td>\n",
       "      <td>1.0</td>\n",
       "      <td>0.0</td>\n",
       "      <td>1</td>\n",
       "      <td>10</td>\n",
       "      <td>1</td>\n",
       "      <td>4</td>\n",
       "    </tr>\n",
       "    <tr>\n",
       "      <th>...</th>\n",
       "      <td>...</td>\n",
       "      <td>...</td>\n",
       "      <td>...</td>\n",
       "      <td>...</td>\n",
       "      <td>...</td>\n",
       "      <td>...</td>\n",
       "      <td>...</td>\n",
       "      <td>...</td>\n",
       "      <td>...</td>\n",
       "      <td>...</td>\n",
       "      <td>...</td>\n",
       "      <td>...</td>\n",
       "      <td>...</td>\n",
       "    </tr>\n",
       "    <tr>\n",
       "      <th>hk_clay_i:9_j:9_zone:1</th>\n",
       "      <td>hk_clay_i:9_j:9_zone:1</td>\n",
       "      <td>log</td>\n",
       "      <td>factor</td>\n",
       "      <td>1.0</td>\n",
       "      <td>1.100000e-10</td>\n",
       "      <td>1.100000e+10</td>\n",
       "      <td>pargp</td>\n",
       "      <td>1.0</td>\n",
       "      <td>0.0</td>\n",
       "      <td>1</td>\n",
       "      <td>9</td>\n",
       "      <td>9</td>\n",
       "      <td>1</td>\n",
       "    </tr>\n",
       "    <tr>\n",
       "      <th>kaniso</th>\n",
       "      <td>kaniso</td>\n",
       "      <td>log</td>\n",
       "      <td>factor</td>\n",
       "      <td>1.0</td>\n",
       "      <td>1.100000e-10</td>\n",
       "      <td>1.100000e+10</td>\n",
       "      <td>pargp</td>\n",
       "      <td>1.0</td>\n",
       "      <td>0.0</td>\n",
       "      <td>1</td>\n",
       "      <td>NaN</td>\n",
       "      <td>NaN</td>\n",
       "      <td>NaN</td>\n",
       "    </tr>\n",
       "    <tr>\n",
       "      <th>kaniso_clay</th>\n",
       "      <td>kaniso_clay</td>\n",
       "      <td>log</td>\n",
       "      <td>factor</td>\n",
       "      <td>1.0</td>\n",
       "      <td>1.100000e-10</td>\n",
       "      <td>1.100000e+10</td>\n",
       "      <td>pargp</td>\n",
       "      <td>1.0</td>\n",
       "      <td>0.0</td>\n",
       "      <td>1</td>\n",
       "      <td>NaN</td>\n",
       "      <td>NaN</td>\n",
       "      <td>NaN</td>\n",
       "    </tr>\n",
       "    <tr>\n",
       "      <th>rch</th>\n",
       "      <td>rch</td>\n",
       "      <td>log</td>\n",
       "      <td>factor</td>\n",
       "      <td>1.0</td>\n",
       "      <td>1.100000e-10</td>\n",
       "      <td>1.100000e+10</td>\n",
       "      <td>pargp</td>\n",
       "      <td>1.0</td>\n",
       "      <td>0.0</td>\n",
       "      <td>1</td>\n",
       "      <td>NaN</td>\n",
       "      <td>NaN</td>\n",
       "      <td>NaN</td>\n",
       "    </tr>\n",
       "    <tr>\n",
       "      <th>rv1</th>\n",
       "      <td>rv1</td>\n",
       "      <td>log</td>\n",
       "      <td>factor</td>\n",
       "      <td>1.0</td>\n",
       "      <td>1.100000e-10</td>\n",
       "      <td>1.100000e+10</td>\n",
       "      <td>pargp</td>\n",
       "      <td>1.0</td>\n",
       "      <td>0.0</td>\n",
       "      <td>1</td>\n",
       "      <td>NaN</td>\n",
       "      <td>NaN</td>\n",
       "      <td>NaN</td>\n",
       "    </tr>\n",
       "  </tbody>\n",
       "</table>\n",
       "<p>119 rows × 13 columns</p>\n",
       "</div>"
      ],
      "text/plain": [
       "                                        parnme partrans parchglim  parval1  \\\n",
       "hk_aq_i:10_j:10_zone:5  hk_aq_i:10_j:10_zone:5      log    factor      1.0   \n",
       "hk_aq_i:10_j:13_zone:5  hk_aq_i:10_j:13_zone:5      log    factor      1.0   \n",
       "hk_aq_i:10_j:16_zone:5  hk_aq_i:10_j:16_zone:5      log    factor      1.0   \n",
       "hk_aq_i:10_j:19_zone:5  hk_aq_i:10_j:19_zone:5      log    factor      1.0   \n",
       "hk_aq_i:10_j:1_zone:4    hk_aq_i:10_j:1_zone:4      log    factor      1.0   \n",
       "...                                        ...      ...       ...      ...   \n",
       "hk_clay_i:9_j:9_zone:1  hk_clay_i:9_j:9_zone:1      log    factor      1.0   \n",
       "kaniso                                  kaniso      log    factor      1.0   \n",
       "kaniso_clay                        kaniso_clay      log    factor      1.0   \n",
       "rch                                        rch      log    factor      1.0   \n",
       "rv1                                        rv1      log    factor      1.0   \n",
       "\n",
       "                             parlbnd       parubnd  pargp  scale  offset  \\\n",
       "hk_aq_i:10_j:10_zone:5  1.100000e-10  1.100000e+10  pargp    1.0     0.0   \n",
       "hk_aq_i:10_j:13_zone:5  1.100000e-10  1.100000e+10  pargp    1.0     0.0   \n",
       "hk_aq_i:10_j:16_zone:5  1.100000e-10  1.100000e+10  pargp    1.0     0.0   \n",
       "hk_aq_i:10_j:19_zone:5  1.100000e-10  1.100000e+10  pargp    1.0     0.0   \n",
       "hk_aq_i:10_j:1_zone:4   1.100000e-10  1.100000e+10  pargp    1.0     0.0   \n",
       "...                              ...           ...    ...    ...     ...   \n",
       "hk_clay_i:9_j:9_zone:1  1.100000e-10  1.100000e+10  pargp    1.0     0.0   \n",
       "kaniso                  1.100000e-10  1.100000e+10  pargp    1.0     0.0   \n",
       "kaniso_clay             1.100000e-10  1.100000e+10  pargp    1.0     0.0   \n",
       "rch                     1.100000e-10  1.100000e+10  pargp    1.0     0.0   \n",
       "rv1                     1.100000e-10  1.100000e+10  pargp    1.0     0.0   \n",
       "\n",
       "                        dercom    i    j zone  \n",
       "hk_aq_i:10_j:10_zone:5       1   10   10    5  \n",
       "hk_aq_i:10_j:13_zone:5       1   10   13    5  \n",
       "hk_aq_i:10_j:16_zone:5       1   10   16    5  \n",
       "hk_aq_i:10_j:19_zone:5       1   10   19    5  \n",
       "hk_aq_i:10_j:1_zone:4        1   10    1    4  \n",
       "...                        ...  ...  ...  ...  \n",
       "hk_clay_i:9_j:9_zone:1       1    9    9    1  \n",
       "kaniso                       1  NaN  NaN  NaN  \n",
       "kaniso_clay                  1  NaN  NaN  NaN  \n",
       "rch                          1  NaN  NaN  NaN  \n",
       "rv1                          1  NaN  NaN  NaN  \n",
       "\n",
       "[119 rows x 13 columns]"
      ]
     },
     "execution_count": 37,
     "metadata": {},
     "output_type": "execute_result"
    }
   ],
   "source": [
    "pars = pst.parameter_data\n",
    "pars"
   ]
  },
  {
   "cell_type": "markdown",
   "id": "44b2b299",
   "metadata": {},
   "source": [
    "### We need to set meaningful starting values"
   ]
  },
  {
   "cell_type": "markdown",
   "id": "48aaa9d1",
   "metadata": {},
   "source": [
    "### first set constant parameter values"
   ]
  },
  {
   "cell_type": "code",
   "execution_count": 38,
   "id": "8bf86a65",
   "metadata": {
    "execution": {
     "iopub.execute_input": "2025-07-03T18:19:43.720288Z",
     "iopub.status.busy": "2025-07-03T18:19:43.719144Z",
     "iopub.status.idle": "2025-07-03T18:19:43.730588Z",
     "shell.execute_reply": "2025-07-03T18:19:43.730134Z",
     "shell.execute_reply.started": "2025-07-03T18:19:43.720272Z"
    }
   },
   "outputs": [
    {
     "data": {
      "text/html": [
       "<div>\n",
       "<style scoped>\n",
       "    .dataframe tbody tr th:only-of-type {\n",
       "        vertical-align: middle;\n",
       "    }\n",
       "\n",
       "    .dataframe tbody tr th {\n",
       "        vertical-align: top;\n",
       "    }\n",
       "\n",
       "    .dataframe thead th {\n",
       "        text-align: right;\n",
       "    }\n",
       "</style>\n",
       "<table border=\"1\" class=\"dataframe\">\n",
       "  <thead>\n",
       "    <tr style=\"text-align: right;\">\n",
       "      <th></th>\n",
       "      <th>parnme</th>\n",
       "      <th>partrans</th>\n",
       "      <th>parchglim</th>\n",
       "      <th>parval1</th>\n",
       "      <th>parlbnd</th>\n",
       "      <th>parubnd</th>\n",
       "      <th>pargp</th>\n",
       "      <th>scale</th>\n",
       "      <th>offset</th>\n",
       "      <th>dercom</th>\n",
       "      <th>i</th>\n",
       "      <th>j</th>\n",
       "      <th>zone</th>\n",
       "    </tr>\n",
       "  </thead>\n",
       "  <tbody>\n",
       "    <tr>\n",
       "      <th>kaniso</th>\n",
       "      <td>kaniso</td>\n",
       "      <td>log</td>\n",
       "      <td>factor</td>\n",
       "      <td>1.0</td>\n",
       "      <td>1.100000e-10</td>\n",
       "      <td>1.100000e+10</td>\n",
       "      <td>pargp</td>\n",
       "      <td>1.0</td>\n",
       "      <td>0.0</td>\n",
       "      <td>1</td>\n",
       "      <td>NaN</td>\n",
       "      <td>NaN</td>\n",
       "      <td>NaN</td>\n",
       "    </tr>\n",
       "    <tr>\n",
       "      <th>kaniso_clay</th>\n",
       "      <td>kaniso_clay</td>\n",
       "      <td>log</td>\n",
       "      <td>factor</td>\n",
       "      <td>1.0</td>\n",
       "      <td>1.100000e-10</td>\n",
       "      <td>1.100000e+10</td>\n",
       "      <td>pargp</td>\n",
       "      <td>1.0</td>\n",
       "      <td>0.0</td>\n",
       "      <td>1</td>\n",
       "      <td>NaN</td>\n",
       "      <td>NaN</td>\n",
       "      <td>NaN</td>\n",
       "    </tr>\n",
       "  </tbody>\n",
       "</table>\n",
       "</div>"
      ],
      "text/plain": [
       "                  parnme partrans parchglim  parval1       parlbnd  \\\n",
       "kaniso            kaniso      log    factor      1.0  1.100000e-10   \n",
       "kaniso_clay  kaniso_clay      log    factor      1.0  1.100000e-10   \n",
       "\n",
       "                  parubnd  pargp  scale  offset  dercom    i    j zone  \n",
       "kaniso       1.100000e+10  pargp    1.0     0.0       1  NaN  NaN  NaN  \n",
       "kaniso_clay  1.100000e+10  pargp    1.0     0.0       1  NaN  NaN  NaN  "
      ]
     },
     "execution_count": 38,
     "metadata": {},
     "output_type": "execute_result"
    }
   ],
   "source": [
    "pars.loc[pars.parnme.str.contains(\"aniso\")]"
   ]
  },
  {
   "cell_type": "code",
   "execution_count": 39,
   "id": "2bc5fb13",
   "metadata": {
    "execution": {
     "iopub.execute_input": "2025-07-03T18:19:43.731234Z",
     "iopub.status.busy": "2025-07-03T18:19:43.731103Z",
     "iopub.status.idle": "2025-07-03T18:19:43.740546Z",
     "shell.execute_reply": "2025-07-03T18:19:43.740245Z",
     "shell.execute_reply.started": "2025-07-03T18:19:43.731224Z"
    }
   },
   "outputs": [],
   "source": [
    "pars.loc[\"rv1\", \"parval1\"] = 1e05  # starting value\n",
    "pars.loc[\"rv1\", \"parlbnd\"] = 1e03  # lower bound\n",
    "pars.loc[\"rv1\", \"parubnd\"] = 1e06  # upper bound\n",
    "pars.loc[\"rv1\", \"pargp\"] = \"riv_cond\"  # group (same for those below)\n",
    "\n",
    "pars.loc[\"rch\", \"parval1\"] = 0.003641\n",
    "pars.loc[\"rch\", \"parlbnd\"] = 0.003641 * 0.9\n",
    "pars.loc[\"rch\", \"parubnd\"] = 0.003641 * 1.1\n",
    "pars.loc[\"rch\", \"pargp\"] = \"rch\"\n",
    "\n",
    "pars.loc[\"kaniso\", \"parval1\"] = 0.2\n",
    "pars.loc[\"kaniso\", \"parlbnd\"] = 0.001\n",
    "pars.loc[\"kaniso\", \"parubnd\"] = 0.85\n",
    "pars.loc[\"kaniso\", \"pargp\"] = \"anisotropy\"\n",
    "\n",
    "pars.loc[\"kaniso_clay\", \"parval1\"] = 0.5\n",
    "pars.loc[\"kaniso_clay\", \"parlbnd\"] = 0.001\n",
    "pars.loc[\"kaniso_clay\", \"parubnd\"] = 0.85\n",
    "pars.loc[\"kaniso_clay\", \"pargp\"] = \"anisotropy_clay\""
   ]
  },
  {
   "cell_type": "markdown",
   "id": "9fc682e9",
   "metadata": {},
   "source": [
    "### next let's use the \"zone\" information from the pilot points to assign groups by array _and_ zone"
   ]
  },
  {
   "cell_type": "code",
   "execution_count": 40,
   "id": "24f44c82",
   "metadata": {
    "execution": {
     "iopub.execute_input": "2025-07-03T18:19:43.741190Z",
     "iopub.status.busy": "2025-07-03T18:19:43.741064Z",
     "iopub.status.idle": "2025-07-03T18:19:43.744295Z",
     "shell.execute_reply": "2025-07-03T18:19:43.743937Z",
     "shell.execute_reply.started": "2025-07-03T18:19:43.741181Z"
    }
   },
   "outputs": [],
   "source": [
    "pars.loc[~pars.zone.isnull(), \"pargp\"] = [\n",
    "    f\"{i.split('_i:')[0]}_{int(float(z))}\"\n",
    "    for i, z in zip(\n",
    "        pars.loc[~pars.zone.isnull()].parnme,\n",
    "        pars.loc[~pars.zone.isnull()].zone,\n",
    "    )\n",
    "]"
   ]
  },
  {
   "cell_type": "code",
   "execution_count": 41,
   "id": "979eb3cc",
   "metadata": {
    "execution": {
     "iopub.execute_input": "2025-07-03T18:19:43.744877Z",
     "iopub.status.busy": "2025-07-03T18:19:43.744775Z",
     "iopub.status.idle": "2025-07-03T18:19:43.750711Z",
     "shell.execute_reply": "2025-07-03T18:19:43.750474Z",
     "shell.execute_reply.started": "2025-07-03T18:19:43.744868Z"
    }
   },
   "outputs": [
    {
     "data": {
      "text/html": [
       "<div>\n",
       "<style scoped>\n",
       "    .dataframe tbody tr th:only-of-type {\n",
       "        vertical-align: middle;\n",
       "    }\n",
       "\n",
       "    .dataframe tbody tr th {\n",
       "        vertical-align: top;\n",
       "    }\n",
       "\n",
       "    .dataframe thead th {\n",
       "        text-align: right;\n",
       "    }\n",
       "</style>\n",
       "<table border=\"1\" class=\"dataframe\">\n",
       "  <thead>\n",
       "    <tr style=\"text-align: right;\">\n",
       "      <th></th>\n",
       "      <th>parnme</th>\n",
       "      <th>partrans</th>\n",
       "      <th>parchglim</th>\n",
       "      <th>parval1</th>\n",
       "      <th>parlbnd</th>\n",
       "      <th>parubnd</th>\n",
       "      <th>pargp</th>\n",
       "      <th>scale</th>\n",
       "      <th>offset</th>\n",
       "      <th>dercom</th>\n",
       "      <th>i</th>\n",
       "      <th>j</th>\n",
       "      <th>zone</th>\n",
       "    </tr>\n",
       "  </thead>\n",
       "  <tbody>\n",
       "    <tr>\n",
       "      <th>hk_aq_i:28_j:7_zone:3</th>\n",
       "      <td>hk_aq_i:28_j:7_zone:3</td>\n",
       "      <td>log</td>\n",
       "      <td>factor</td>\n",
       "      <td>1.0</td>\n",
       "      <td>1.100000e-10</td>\n",
       "      <td>1.100000e+10</td>\n",
       "      <td>hk_aq_3</td>\n",
       "      <td>1.0</td>\n",
       "      <td>0.0</td>\n",
       "      <td>1</td>\n",
       "      <td>28</td>\n",
       "      <td>7</td>\n",
       "      <td>3.0</td>\n",
       "    </tr>\n",
       "    <tr>\n",
       "      <th>hk_aq_i:22_j:10_zone:2</th>\n",
       "      <td>hk_aq_i:22_j:10_zone:2</td>\n",
       "      <td>log</td>\n",
       "      <td>factor</td>\n",
       "      <td>1.0</td>\n",
       "      <td>1.100000e-10</td>\n",
       "      <td>1.100000e+10</td>\n",
       "      <td>hk_aq_2</td>\n",
       "      <td>1.0</td>\n",
       "      <td>0.0</td>\n",
       "      <td>1</td>\n",
       "      <td>22</td>\n",
       "      <td>10</td>\n",
       "      <td>2.0</td>\n",
       "    </tr>\n",
       "    <tr>\n",
       "      <th>hk_aq_i:1_j:16_zone:5</th>\n",
       "      <td>hk_aq_i:1_j:16_zone:5</td>\n",
       "      <td>log</td>\n",
       "      <td>factor</td>\n",
       "      <td>1.0</td>\n",
       "      <td>1.100000e-10</td>\n",
       "      <td>1.100000e+10</td>\n",
       "      <td>hk_aq_5</td>\n",
       "      <td>1.0</td>\n",
       "      <td>0.0</td>\n",
       "      <td>1</td>\n",
       "      <td>1</td>\n",
       "      <td>16</td>\n",
       "      <td>5.0</td>\n",
       "    </tr>\n",
       "    <tr>\n",
       "      <th>hk_aq_i:22_j:7_zone:2</th>\n",
       "      <td>hk_aq_i:22_j:7_zone:2</td>\n",
       "      <td>log</td>\n",
       "      <td>factor</td>\n",
       "      <td>1.0</td>\n",
       "      <td>1.100000e-10</td>\n",
       "      <td>1.100000e+10</td>\n",
       "      <td>hk_aq_2</td>\n",
       "      <td>1.0</td>\n",
       "      <td>0.0</td>\n",
       "      <td>1</td>\n",
       "      <td>22</td>\n",
       "      <td>7</td>\n",
       "      <td>2.0</td>\n",
       "    </tr>\n",
       "    <tr>\n",
       "      <th>hk_aq_i:1_j:13_zone:5</th>\n",
       "      <td>hk_aq_i:1_j:13_zone:5</td>\n",
       "      <td>log</td>\n",
       "      <td>factor</td>\n",
       "      <td>1.0</td>\n",
       "      <td>1.100000e-10</td>\n",
       "      <td>1.100000e+10</td>\n",
       "      <td>hk_aq_5</td>\n",
       "      <td>1.0</td>\n",
       "      <td>0.0</td>\n",
       "      <td>1</td>\n",
       "      <td>1</td>\n",
       "      <td>13</td>\n",
       "      <td>5.0</td>\n",
       "    </tr>\n",
       "  </tbody>\n",
       "</table>\n",
       "</div>"
      ],
      "text/plain": [
       "                                        parnme partrans parchglim  parval1  \\\n",
       "hk_aq_i:28_j:7_zone:3    hk_aq_i:28_j:7_zone:3      log    factor      1.0   \n",
       "hk_aq_i:22_j:10_zone:2  hk_aq_i:22_j:10_zone:2      log    factor      1.0   \n",
       "hk_aq_i:1_j:16_zone:5    hk_aq_i:1_j:16_zone:5      log    factor      1.0   \n",
       "hk_aq_i:22_j:7_zone:2    hk_aq_i:22_j:7_zone:2      log    factor      1.0   \n",
       "hk_aq_i:1_j:13_zone:5    hk_aq_i:1_j:13_zone:5      log    factor      1.0   \n",
       "\n",
       "                             parlbnd       parubnd    pargp  scale  offset  \\\n",
       "hk_aq_i:28_j:7_zone:3   1.100000e-10  1.100000e+10  hk_aq_3    1.0     0.0   \n",
       "hk_aq_i:22_j:10_zone:2  1.100000e-10  1.100000e+10  hk_aq_2    1.0     0.0   \n",
       "hk_aq_i:1_j:16_zone:5   1.100000e-10  1.100000e+10  hk_aq_5    1.0     0.0   \n",
       "hk_aq_i:22_j:7_zone:2   1.100000e-10  1.100000e+10  hk_aq_2    1.0     0.0   \n",
       "hk_aq_i:1_j:13_zone:5   1.100000e-10  1.100000e+10  hk_aq_5    1.0     0.0   \n",
       "\n",
       "                        dercom   i   j  zone  \n",
       "hk_aq_i:28_j:7_zone:3        1  28   7   3.0  \n",
       "hk_aq_i:22_j:10_zone:2       1  22  10   2.0  \n",
       "hk_aq_i:1_j:16_zone:5        1   1  16   5.0  \n",
       "hk_aq_i:22_j:7_zone:2        1  22   7   2.0  \n",
       "hk_aq_i:1_j:13_zone:5        1   1  13   5.0  "
      ]
     },
     "execution_count": 41,
     "metadata": {},
     "output_type": "execute_result"
    }
   ],
   "source": [
    "pars.zone = [float(i) for i in pars.zone]\n",
    "pars.sample(5)"
   ]
  },
  {
   "cell_type": "markdown",
   "id": "d7ec8608",
   "metadata": {},
   "source": [
    "### Without enforcing too much structure, we can adjust a few starting values and bounds to inform ies of at least some of the general patterns of K values"
   ]
  },
  {
   "cell_type": "code",
   "execution_count": 42,
   "id": "b8766150",
   "metadata": {
    "execution": {
     "iopub.execute_input": "2025-07-03T18:19:43.751318Z",
     "iopub.status.busy": "2025-07-03T18:19:43.751194Z",
     "iopub.status.idle": "2025-07-03T18:19:43.757852Z",
     "shell.execute_reply": "2025-07-03T18:19:43.757512Z",
     "shell.execute_reply.started": "2025-07-03T18:19:43.751304Z"
    }
   },
   "outputs": [],
   "source": [
    "pars.loc[pars.pargp.str.contains(\"hk_aq\"), \"parval1\"] = 200\n",
    "pars.loc[pars.pargp.str.contains(\"hk_aq\"), \"parlbnd\"] = 0.01\n",
    "pars.loc[pars.pargp.str.contains(\"hk_aq\"), \"parubnd\"] = 1e3\n",
    "pars.loc[pars.pargp.str.contains(\"hk_clay\"), \"parval1\"] = 1\n",
    "pars.loc[pars.pargp.str.contains(\"hk_clay\"), \"parlbnd\"] = 0.0001\n",
    "pars.loc[pars.pargp.str.contains(\"hk_clay\"), \"parubnd\"] = 1e2\n",
    "pars.loc[pars.pargp == \"hk_aq_5\", \"parval1\"] = 200\n",
    "pars.loc[pars.pargp == \"hk_aq_4\", \"parval1\"] = 200\n",
    "pars.loc[pars.pargp == \"hk_aq_3\", \"parval1\"] = 200\n",
    "pars.loc[pars.pargp == \"hk_aq_4\", \"parubnd\"] = 750\n",
    "pars.loc[pars.pargp == \"hk_aq_3\", \"parubnd\"] = 500\n",
    "pars.loc[pars.pargp == \"hk_clay_1\", \"parval1\"] = 1\n",
    "pars.loc[pars.pargp == \"hk_clay_2\", \"parval1\"] = 150\n",
    "pars.loc[pars.pargp == \"hk_clay_2\", \"parlbnd\"] = 1\n",
    "pars.loc[pars.pargp == \"hk_clay_2\", \"parubnd\"] = 1000"
   ]
  },
  {
   "cell_type": "markdown",
   "id": "3f05700d",
   "metadata": {},
   "source": [
    "## next we need to read in the observation values (the known values that is) and set them"
   ]
  },
  {
   "cell_type": "code",
   "execution_count": 43,
   "id": "56b7ea50",
   "metadata": {
    "execution": {
     "iopub.execute_input": "2025-07-03T18:19:43.758571Z",
     "iopub.status.busy": "2025-07-03T18:19:43.758402Z",
     "iopub.status.idle": "2025-07-03T18:19:43.765921Z",
     "shell.execute_reply": "2025-07-03T18:19:43.765694Z",
     "shell.execute_reply.started": "2025-07-03T18:19:43.758556Z"
    }
   },
   "outputs": [
    {
     "data": {
      "text/html": [
       "<div>\n",
       "<style scoped>\n",
       "    .dataframe tbody tr th:only-of-type {\n",
       "        vertical-align: middle;\n",
       "    }\n",
       "\n",
       "    .dataframe tbody tr th {\n",
       "        vertical-align: top;\n",
       "    }\n",
       "\n",
       "    .dataframe thead th {\n",
       "        text-align: right;\n",
       "    }\n",
       "</style>\n",
       "<table border=\"1\" class=\"dataframe\">\n",
       "  <thead>\n",
       "    <tr style=\"text-align: right;\">\n",
       "      <th></th>\n",
       "      <th>obsval</th>\n",
       "      <th>weight</th>\n",
       "      <th>obgnme</th>\n",
       "    </tr>\n",
       "    <tr>\n",
       "      <th>obsnme</th>\n",
       "      <th></th>\n",
       "      <th></th>\n",
       "      <th></th>\n",
       "    </tr>\n",
       "  </thead>\n",
       "  <tbody>\n",
       "    <tr>\n",
       "      <th>u03</th>\n",
       "      <td>12.15</td>\n",
       "      <td>1.000000</td>\n",
       "      <td>headgroup</td>\n",
       "    </tr>\n",
       "    <tr>\n",
       "      <th>w03</th>\n",
       "      <td>11.83</td>\n",
       "      <td>1.000000</td>\n",
       "      <td>headgroup</td>\n",
       "    </tr>\n",
       "    <tr>\n",
       "      <th>u09</th>\n",
       "      <td>8.86</td>\n",
       "      <td>1.000000</td>\n",
       "      <td>headgroup</td>\n",
       "    </tr>\n",
       "    <tr>\n",
       "      <th>pf</th>\n",
       "      <td>-96402.00</td>\n",
       "      <td>0.000104</td>\n",
       "      <td>rivgroup</td>\n",
       "    </tr>\n",
       "    <tr>\n",
       "      <th>w07</th>\n",
       "      <td>9.13</td>\n",
       "      <td>1.000000</td>\n",
       "      <td>headgroup</td>\n",
       "    </tr>\n",
       "  </tbody>\n",
       "</table>\n",
       "</div>"
      ],
      "text/plain": [
       "          obsval    weight     obgnme\n",
       "obsnme                               \n",
       "u03        12.15  1.000000  headgroup\n",
       "w03        11.83  1.000000  headgroup\n",
       "u09         8.86  1.000000  headgroup\n",
       "pf     -96402.00  0.000104   rivgroup\n",
       "w07         9.13  1.000000  headgroup"
      ]
     },
     "execution_count": 43,
     "metadata": {},
     "output_type": "execute_result"
    }
   ],
   "source": [
    "obsvals = pd.read_csv(t_d / \"obsvalues.dat\", sep=r\"\\s+\", index_col=0)\n",
    "obsvals.sample(5)"
   ]
  },
  {
   "cell_type": "code",
   "execution_count": 44,
   "id": "62106c31",
   "metadata": {
    "execution": {
     "iopub.execute_input": "2025-07-03T18:19:43.766458Z",
     "iopub.status.busy": "2025-07-03T18:19:43.766306Z",
     "iopub.status.idle": "2025-07-03T18:19:43.770086Z",
     "shell.execute_reply": "2025-07-03T18:19:43.769727Z",
     "shell.execute_reply.started": "2025-07-03T18:19:43.766448Z"
    }
   },
   "outputs": [
    {
     "data": {
      "text/html": [
       "<div>\n",
       "<style scoped>\n",
       "    .dataframe tbody tr th:only-of-type {\n",
       "        vertical-align: middle;\n",
       "    }\n",
       "\n",
       "    .dataframe tbody tr th {\n",
       "        vertical-align: top;\n",
       "    }\n",
       "\n",
       "    .dataframe thead th {\n",
       "        text-align: right;\n",
       "    }\n",
       "</style>\n",
       "<table border=\"1\" class=\"dataframe\">\n",
       "  <thead>\n",
       "    <tr style=\"text-align: right;\">\n",
       "      <th></th>\n",
       "      <th>obsnme</th>\n",
       "      <th>obsval</th>\n",
       "      <th>weight</th>\n",
       "      <th>obgnme</th>\n",
       "    </tr>\n",
       "  </thead>\n",
       "  <tbody>\n",
       "    <tr>\n",
       "      <th>w15</th>\n",
       "      <td>w15</td>\n",
       "      <td>6.837839</td>\n",
       "      <td>1.0</td>\n",
       "      <td>obgnme</td>\n",
       "    </tr>\n",
       "    <tr>\n",
       "      <th>u01</th>\n",
       "      <td>u01</td>\n",
       "      <td>15.737069</td>\n",
       "      <td>1.0</td>\n",
       "      <td>obgnme</td>\n",
       "    </tr>\n",
       "    <tr>\n",
       "      <th>w01</th>\n",
       "      <td>w01</td>\n",
       "      <td>15.704923</td>\n",
       "      <td>1.0</td>\n",
       "      <td>obgnme</td>\n",
       "    </tr>\n",
       "    <tr>\n",
       "      <th>w14</th>\n",
       "      <td>w14</td>\n",
       "      <td>3.303968</td>\n",
       "      <td>1.0</td>\n",
       "      <td>obgnme</td>\n",
       "    </tr>\n",
       "    <tr>\n",
       "      <th>u17</th>\n",
       "      <td>u17</td>\n",
       "      <td>10.279639</td>\n",
       "      <td>1.0</td>\n",
       "      <td>obgnme</td>\n",
       "    </tr>\n",
       "  </tbody>\n",
       "</table>\n",
       "</div>"
      ],
      "text/plain": [
       "    obsnme     obsval  weight  obgnme\n",
       "w15    w15   6.837839     1.0  obgnme\n",
       "u01    u01  15.737069     1.0  obgnme\n",
       "w01    w01  15.704923     1.0  obgnme\n",
       "w14    w14   3.303968     1.0  obgnme\n",
       "u17    u17  10.279639     1.0  obgnme"
      ]
     },
     "execution_count": 44,
     "metadata": {},
     "output_type": "execute_result"
    }
   ],
   "source": [
    "pst.observation_data.sample(5)"
   ]
  },
  {
   "cell_type": "code",
   "execution_count": 45,
   "id": "3c96dd44",
   "metadata": {
    "execution": {
     "iopub.execute_input": "2025-07-03T18:19:43.770655Z",
     "iopub.status.busy": "2025-07-03T18:19:43.770534Z",
     "iopub.status.idle": "2025-07-03T18:19:43.775720Z",
     "shell.execute_reply": "2025-07-03T18:19:43.775426Z",
     "shell.execute_reply.started": "2025-07-03T18:19:43.770645Z"
    }
   },
   "outputs": [],
   "source": [
    "pst.observation_data[\"standard_deviation\"] = -99999"
   ]
  },
  {
   "cell_type": "code",
   "execution_count": 46,
   "id": "3182a624",
   "metadata": {
    "execution": {
     "iopub.execute_input": "2025-07-03T18:19:43.776393Z",
     "iopub.status.busy": "2025-07-03T18:19:43.776297Z",
     "iopub.status.idle": "2025-07-03T18:19:43.783362Z",
     "shell.execute_reply": "2025-07-03T18:19:43.783116Z",
     "shell.execute_reply.started": "2025-07-03T18:19:43.776384Z"
    }
   },
   "outputs": [
    {
     "data": {
      "text/html": [
       "<div>\n",
       "<style scoped>\n",
       "    .dataframe tbody tr th:only-of-type {\n",
       "        vertical-align: middle;\n",
       "    }\n",
       "\n",
       "    .dataframe tbody tr th {\n",
       "        vertical-align: top;\n",
       "    }\n",
       "\n",
       "    .dataframe thead th {\n",
       "        text-align: right;\n",
       "    }\n",
       "</style>\n",
       "<table border=\"1\" class=\"dataframe\">\n",
       "  <thead>\n",
       "    <tr style=\"text-align: right;\">\n",
       "      <th></th>\n",
       "      <th>obsnme</th>\n",
       "      <th>obsval</th>\n",
       "      <th>weight</th>\n",
       "      <th>obgnme</th>\n",
       "      <th>standard_deviation</th>\n",
       "    </tr>\n",
       "  </thead>\n",
       "  <tbody>\n",
       "    <tr>\n",
       "      <th>chdflow</th>\n",
       "      <td>chdflow</td>\n",
       "      <td>33390.41096</td>\n",
       "      <td>0.000299</td>\n",
       "      <td>lakegroup</td>\n",
       "      <td>-99999</td>\n",
       "    </tr>\n",
       "    <tr>\n",
       "      <th>ds</th>\n",
       "      <td>ds</td>\n",
       "      <td>-894494.00000</td>\n",
       "      <td>0.000013</td>\n",
       "      <td>rivgroup</td>\n",
       "      <td>-99999</td>\n",
       "    </tr>\n",
       "    <tr>\n",
       "      <th>pf</th>\n",
       "      <td>pf</td>\n",
       "      <td>-96402.00000</td>\n",
       "      <td>0.000104</td>\n",
       "      <td>rivgroup</td>\n",
       "      <td>-99999</td>\n",
       "    </tr>\n",
       "    <tr>\n",
       "      <th>u01</th>\n",
       "      <td>u01</td>\n",
       "      <td>12.05000</td>\n",
       "      <td>1.000000</td>\n",
       "      <td>headgroup</td>\n",
       "      <td>-99999</td>\n",
       "    </tr>\n",
       "    <tr>\n",
       "      <th>u02</th>\n",
       "      <td>u02</td>\n",
       "      <td>11.63000</td>\n",
       "      <td>1.000000</td>\n",
       "      <td>headgroup</td>\n",
       "      <td>-99999</td>\n",
       "    </tr>\n",
       "    <tr>\n",
       "      <th>u03</th>\n",
       "      <td>u03</td>\n",
       "      <td>12.15000</td>\n",
       "      <td>1.000000</td>\n",
       "      <td>headgroup</td>\n",
       "      <td>-99999</td>\n",
       "    </tr>\n",
       "    <tr>\n",
       "      <th>u04</th>\n",
       "      <td>u04</td>\n",
       "      <td>11.44000</td>\n",
       "      <td>1.000000</td>\n",
       "      <td>headgroup</td>\n",
       "      <td>-99999</td>\n",
       "    </tr>\n",
       "    <tr>\n",
       "      <th>u05</th>\n",
       "      <td>u05</td>\n",
       "      <td>10.86000</td>\n",
       "      <td>1.000000</td>\n",
       "      <td>headgroup</td>\n",
       "      <td>-99999</td>\n",
       "    </tr>\n",
       "    <tr>\n",
       "      <th>u06</th>\n",
       "      <td>u06</td>\n",
       "      <td>10.80000</td>\n",
       "      <td>1.000000</td>\n",
       "      <td>headgroup</td>\n",
       "      <td>-99999</td>\n",
       "    </tr>\n",
       "    <tr>\n",
       "      <th>u07</th>\n",
       "      <td>u07</td>\n",
       "      <td>9.16000</td>\n",
       "      <td>1.000000</td>\n",
       "      <td>headgroup</td>\n",
       "      <td>-99999</td>\n",
       "    </tr>\n",
       "    <tr>\n",
       "      <th>u08</th>\n",
       "      <td>u08</td>\n",
       "      <td>8.82000</td>\n",
       "      <td>1.000000</td>\n",
       "      <td>headgroup</td>\n",
       "      <td>-99999</td>\n",
       "    </tr>\n",
       "    <tr>\n",
       "      <th>u09</th>\n",
       "      <td>u09</td>\n",
       "      <td>8.86000</td>\n",
       "      <td>1.000000</td>\n",
       "      <td>headgroup</td>\n",
       "      <td>-99999</td>\n",
       "    </tr>\n",
       "    <tr>\n",
       "      <th>u10</th>\n",
       "      <td>u10</td>\n",
       "      <td>10.65000</td>\n",
       "      <td>1.000000</td>\n",
       "      <td>headgroup</td>\n",
       "      <td>-99999</td>\n",
       "    </tr>\n",
       "    <tr>\n",
       "      <th>u11</th>\n",
       "      <td>u11</td>\n",
       "      <td>4.26000</td>\n",
       "      <td>1.000000</td>\n",
       "      <td>headgroup</td>\n",
       "      <td>-99999</td>\n",
       "    </tr>\n",
       "    <tr>\n",
       "      <th>u12</th>\n",
       "      <td>u12</td>\n",
       "      <td>4.19000</td>\n",
       "      <td>1.000000</td>\n",
       "      <td>headgroup</td>\n",
       "      <td>-99999</td>\n",
       "    </tr>\n",
       "    <tr>\n",
       "      <th>u13</th>\n",
       "      <td>u13</td>\n",
       "      <td>7.57000</td>\n",
       "      <td>1.000000</td>\n",
       "      <td>headgroup</td>\n",
       "      <td>-99999</td>\n",
       "    </tr>\n",
       "    <tr>\n",
       "      <th>u14</th>\n",
       "      <td>u14</td>\n",
       "      <td>2.70000</td>\n",
       "      <td>1.000000</td>\n",
       "      <td>headgroup</td>\n",
       "      <td>-99999</td>\n",
       "    </tr>\n",
       "    <tr>\n",
       "      <th>u15</th>\n",
       "      <td>u15</td>\n",
       "      <td>4.59000</td>\n",
       "      <td>1.000000</td>\n",
       "      <td>headgroup</td>\n",
       "      <td>-99999</td>\n",
       "    </tr>\n",
       "    <tr>\n",
       "      <th>u16</th>\n",
       "      <td>u16</td>\n",
       "      <td>2.76000</td>\n",
       "      <td>1.000000</td>\n",
       "      <td>headgroup</td>\n",
       "      <td>-99999</td>\n",
       "    </tr>\n",
       "    <tr>\n",
       "      <th>u17</th>\n",
       "      <td>u17</td>\n",
       "      <td>6.23000</td>\n",
       "      <td>1.000000</td>\n",
       "      <td>headgroup</td>\n",
       "      <td>-99999</td>\n",
       "    </tr>\n",
       "    <tr>\n",
       "      <th>uw02</th>\n",
       "      <td>uw02</td>\n",
       "      <td>0.28000</td>\n",
       "      <td>0.010000</td>\n",
       "      <td>headdiffgroup</td>\n",
       "      <td>-99999</td>\n",
       "    </tr>\n",
       "    <tr>\n",
       "      <th>uw08</th>\n",
       "      <td>uw08</td>\n",
       "      <td>0.03000</td>\n",
       "      <td>0.010000</td>\n",
       "      <td>headdiffgroup</td>\n",
       "      <td>-99999</td>\n",
       "    </tr>\n",
       "    <tr>\n",
       "      <th>uw15</th>\n",
       "      <td>uw15</td>\n",
       "      <td>0.02000</td>\n",
       "      <td>0.010000</td>\n",
       "      <td>headdiffgroup</td>\n",
       "      <td>-99999</td>\n",
       "    </tr>\n",
       "    <tr>\n",
       "      <th>w01</th>\n",
       "      <td>w01</td>\n",
       "      <td>11.85000</td>\n",
       "      <td>1.000000</td>\n",
       "      <td>headgroup</td>\n",
       "      <td>-99999</td>\n",
       "    </tr>\n",
       "    <tr>\n",
       "      <th>w02</th>\n",
       "      <td>w02</td>\n",
       "      <td>11.35000</td>\n",
       "      <td>1.000000</td>\n",
       "      <td>headgroup</td>\n",
       "      <td>-99999</td>\n",
       "    </tr>\n",
       "    <tr>\n",
       "      <th>w03</th>\n",
       "      <td>w03</td>\n",
       "      <td>11.83000</td>\n",
       "      <td>1.000000</td>\n",
       "      <td>headgroup</td>\n",
       "      <td>-99999</td>\n",
       "    </tr>\n",
       "    <tr>\n",
       "      <th>w04</th>\n",
       "      <td>w04</td>\n",
       "      <td>11.43000</td>\n",
       "      <td>1.000000</td>\n",
       "      <td>headgroup</td>\n",
       "      <td>-99999</td>\n",
       "    </tr>\n",
       "    <tr>\n",
       "      <th>w05</th>\n",
       "      <td>w05</td>\n",
       "      <td>10.50000</td>\n",
       "      <td>1.000000</td>\n",
       "      <td>headgroup</td>\n",
       "      <td>-99999</td>\n",
       "    </tr>\n",
       "    <tr>\n",
       "      <th>w06</th>\n",
       "      <td>w06</td>\n",
       "      <td>10.79000</td>\n",
       "      <td>1.000000</td>\n",
       "      <td>headgroup</td>\n",
       "      <td>-99999</td>\n",
       "    </tr>\n",
       "    <tr>\n",
       "      <th>w07</th>\n",
       "      <td>w07</td>\n",
       "      <td>9.13000</td>\n",
       "      <td>1.000000</td>\n",
       "      <td>headgroup</td>\n",
       "      <td>-99999</td>\n",
       "    </tr>\n",
       "    <tr>\n",
       "      <th>w08</th>\n",
       "      <td>w08</td>\n",
       "      <td>8.79000</td>\n",
       "      <td>1.000000</td>\n",
       "      <td>headgroup</td>\n",
       "      <td>-99999</td>\n",
       "    </tr>\n",
       "    <tr>\n",
       "      <th>w09</th>\n",
       "      <td>w09</td>\n",
       "      <td>8.83000</td>\n",
       "      <td>1.000000</td>\n",
       "      <td>headgroup</td>\n",
       "      <td>-99999</td>\n",
       "    </tr>\n",
       "    <tr>\n",
       "      <th>w10</th>\n",
       "      <td>w10</td>\n",
       "      <td>10.64000</td>\n",
       "      <td>1.000000</td>\n",
       "      <td>headgroup</td>\n",
       "      <td>-99999</td>\n",
       "    </tr>\n",
       "    <tr>\n",
       "      <th>w11</th>\n",
       "      <td>w11</td>\n",
       "      <td>4.25000</td>\n",
       "      <td>1.000000</td>\n",
       "      <td>headgroup</td>\n",
       "      <td>-99999</td>\n",
       "    </tr>\n",
       "    <tr>\n",
       "      <th>w12</th>\n",
       "      <td>w12</td>\n",
       "      <td>4.18000</td>\n",
       "      <td>1.000000</td>\n",
       "      <td>headgroup</td>\n",
       "      <td>-99999</td>\n",
       "    </tr>\n",
       "    <tr>\n",
       "      <th>w13</th>\n",
       "      <td>w13</td>\n",
       "      <td>7.56000</td>\n",
       "      <td>1.000000</td>\n",
       "      <td>headgroup</td>\n",
       "      <td>-99999</td>\n",
       "    </tr>\n",
       "    <tr>\n",
       "      <th>w14</th>\n",
       "      <td>w14</td>\n",
       "      <td>2.69000</td>\n",
       "      <td>1.000000</td>\n",
       "      <td>headgroup</td>\n",
       "      <td>-99999</td>\n",
       "    </tr>\n",
       "    <tr>\n",
       "      <th>w15</th>\n",
       "      <td>w15</td>\n",
       "      <td>4.57000</td>\n",
       "      <td>1.000000</td>\n",
       "      <td>headgroup</td>\n",
       "      <td>-99999</td>\n",
       "    </tr>\n",
       "    <tr>\n",
       "      <th>w16</th>\n",
       "      <td>w16</td>\n",
       "      <td>2.73000</td>\n",
       "      <td>1.000000</td>\n",
       "      <td>headgroup</td>\n",
       "      <td>-99999</td>\n",
       "    </tr>\n",
       "    <tr>\n",
       "      <th>w17</th>\n",
       "      <td>w17</td>\n",
       "      <td>6.22000</td>\n",
       "      <td>1.000000</td>\n",
       "      <td>headgroup</td>\n",
       "      <td>-99999</td>\n",
       "    </tr>\n",
       "  </tbody>\n",
       "</table>\n",
       "</div>"
      ],
      "text/plain": [
       "          obsnme        obsval    weight         obgnme  standard_deviation\n",
       "chdflow  chdflow   33390.41096  0.000299      lakegroup              -99999\n",
       "ds            ds -894494.00000  0.000013       rivgroup              -99999\n",
       "pf            pf  -96402.00000  0.000104       rivgroup              -99999\n",
       "u01          u01      12.05000  1.000000      headgroup              -99999\n",
       "u02          u02      11.63000  1.000000      headgroup              -99999\n",
       "u03          u03      12.15000  1.000000      headgroup              -99999\n",
       "u04          u04      11.44000  1.000000      headgroup              -99999\n",
       "u05          u05      10.86000  1.000000      headgroup              -99999\n",
       "u06          u06      10.80000  1.000000      headgroup              -99999\n",
       "u07          u07       9.16000  1.000000      headgroup              -99999\n",
       "u08          u08       8.82000  1.000000      headgroup              -99999\n",
       "u09          u09       8.86000  1.000000      headgroup              -99999\n",
       "u10          u10      10.65000  1.000000      headgroup              -99999\n",
       "u11          u11       4.26000  1.000000      headgroup              -99999\n",
       "u12          u12       4.19000  1.000000      headgroup              -99999\n",
       "u13          u13       7.57000  1.000000      headgroup              -99999\n",
       "u14          u14       2.70000  1.000000      headgroup              -99999\n",
       "u15          u15       4.59000  1.000000      headgroup              -99999\n",
       "u16          u16       2.76000  1.000000      headgroup              -99999\n",
       "u17          u17       6.23000  1.000000      headgroup              -99999\n",
       "uw02        uw02       0.28000  0.010000  headdiffgroup              -99999\n",
       "uw08        uw08       0.03000  0.010000  headdiffgroup              -99999\n",
       "uw15        uw15       0.02000  0.010000  headdiffgroup              -99999\n",
       "w01          w01      11.85000  1.000000      headgroup              -99999\n",
       "w02          w02      11.35000  1.000000      headgroup              -99999\n",
       "w03          w03      11.83000  1.000000      headgroup              -99999\n",
       "w04          w04      11.43000  1.000000      headgroup              -99999\n",
       "w05          w05      10.50000  1.000000      headgroup              -99999\n",
       "w06          w06      10.79000  1.000000      headgroup              -99999\n",
       "w07          w07       9.13000  1.000000      headgroup              -99999\n",
       "w08          w08       8.79000  1.000000      headgroup              -99999\n",
       "w09          w09       8.83000  1.000000      headgroup              -99999\n",
       "w10          w10      10.64000  1.000000      headgroup              -99999\n",
       "w11          w11       4.25000  1.000000      headgroup              -99999\n",
       "w12          w12       4.18000  1.000000      headgroup              -99999\n",
       "w13          w13       7.56000  1.000000      headgroup              -99999\n",
       "w14          w14       2.69000  1.000000      headgroup              -99999\n",
       "w15          w15       4.57000  1.000000      headgroup              -99999\n",
       "w16          w16       2.73000  1.000000      headgroup              -99999\n",
       "w17          w17       6.22000  1.000000      headgroup              -99999"
      ]
     },
     "execution_count": 46,
     "metadata": {},
     "output_type": "execute_result"
    }
   ],
   "source": [
    "pst.observation_data.loc[obsvals.index, \"obgnme\"] = obsvals.obgnme\n",
    "pst.observation_data.loc[obsvals.index, \"obsval\"] = obsvals.obsval\n",
    "pst.observation_data.loc[obsvals.index, \"weight\"] = obsvals.weight\n",
    "\n",
    "pst.observation_data"
   ]
  },
  {
   "cell_type": "markdown",
   "id": "65fbe507",
   "metadata": {},
   "source": [
    "### we need to set standard deviation values for the observations to account for their uncertainty. This uncertainty stems from multiple sources including measurement error, the process of assigning a single value to represent more than an infinitesimal snapshot in space and time, model imperfections, etc. etc. It may seem like we don't know anything!"
   ]
  },
  {
   "cell_type": "code",
   "execution_count": 47,
   "id": "40df747d",
   "metadata": {
    "execution": {
     "iopub.execute_input": "2025-07-03T18:19:43.783929Z",
     "iopub.status.busy": "2025-07-03T18:19:43.783780Z",
     "iopub.status.idle": "2025-07-03T18:19:43.788304Z",
     "shell.execute_reply": "2025-07-03T18:19:43.787990Z",
     "shell.execute_reply.started": "2025-07-03T18:19:43.783917Z"
    }
   },
   "outputs": [
    {
     "name": "stderr",
     "output_type": "stream",
     "text": [
      "/var/folders/gs/23hp3rd15qd6tyrfwt0r90qxz48f2r/T/ipykernel_51110/1938067274.py:2: FutureWarning: Setting an item of incompatible dtype is deprecated and will raise an error in a future version of pandas. Value '0.25' has dtype incompatible with int64, please explicitly cast to a compatible dtype first.\n"
     ]
    }
   ],
   "source": [
    "# for heads, let's go with 0.25 m\n",
    "pst.observation_data.loc[\n",
    "    obsvals.obgnme == \"headgroup\", \"standard_deviation\"\n",
    "] = 0.25\n",
    "# for head differences, this can be lower as the values are quite a bit lower as well\n",
    "pst.observation_data.loc[\n",
    "    obsvals.obgnme == \"headdiffgroup\", \"standard_deviation\"\n",
    "] = 0.025\n",
    "# for the river flux and lake flux observations, we can assume 10% error around the observed values\n",
    "pst.observation_data.loc[\n",
    "    ~obsvals.obgnme.str.contains(\"head\"), \"standard_deviation\"\n",
    "] = 0.1 * np.abs(\n",
    "    pst.observation_data.loc[~obsvals.obgnme.str.contains(\"head\"), \"obsval\"]\n",
    ")"
   ]
  },
  {
   "cell_type": "code",
   "execution_count": 48,
   "id": "bbe9f081",
   "metadata": {
    "execution": {
     "iopub.execute_input": "2025-07-03T18:19:43.788975Z",
     "iopub.status.busy": "2025-07-03T18:19:43.788815Z",
     "iopub.status.idle": "2025-07-03T18:19:43.793948Z",
     "shell.execute_reply": "2025-07-03T18:19:43.793592Z",
     "shell.execute_reply.started": "2025-07-03T18:19:43.788964Z"
    }
   },
   "outputs": [
    {
     "data": {
      "text/html": [
       "<div>\n",
       "<style scoped>\n",
       "    .dataframe tbody tr th:only-of-type {\n",
       "        vertical-align: middle;\n",
       "    }\n",
       "\n",
       "    .dataframe tbody tr th {\n",
       "        vertical-align: top;\n",
       "    }\n",
       "\n",
       "    .dataframe thead th {\n",
       "        text-align: right;\n",
       "    }\n",
       "</style>\n",
       "<table border=\"1\" class=\"dataframe\">\n",
       "  <thead>\n",
       "    <tr style=\"text-align: right;\">\n",
       "      <th></th>\n",
       "      <th>obsnme</th>\n",
       "      <th>obsval</th>\n",
       "      <th>weight</th>\n",
       "      <th>obgnme</th>\n",
       "      <th>standard_deviation</th>\n",
       "    </tr>\n",
       "  </thead>\n",
       "  <tbody>\n",
       "    <tr>\n",
       "      <th>chdflow</th>\n",
       "      <td>chdflow</td>\n",
       "      <td>33390.41096</td>\n",
       "      <td>0.000299</td>\n",
       "      <td>lakegroup</td>\n",
       "      <td>3339.041096</td>\n",
       "    </tr>\n",
       "    <tr>\n",
       "      <th>ds</th>\n",
       "      <td>ds</td>\n",
       "      <td>-894494.00000</td>\n",
       "      <td>0.000013</td>\n",
       "      <td>rivgroup</td>\n",
       "      <td>89449.400000</td>\n",
       "    </tr>\n",
       "    <tr>\n",
       "      <th>pf</th>\n",
       "      <td>pf</td>\n",
       "      <td>-96402.00000</td>\n",
       "      <td>0.000104</td>\n",
       "      <td>rivgroup</td>\n",
       "      <td>9640.200000</td>\n",
       "    </tr>\n",
       "    <tr>\n",
       "      <th>u01</th>\n",
       "      <td>u01</td>\n",
       "      <td>12.05000</td>\n",
       "      <td>1.000000</td>\n",
       "      <td>headgroup</td>\n",
       "      <td>0.250000</td>\n",
       "    </tr>\n",
       "    <tr>\n",
       "      <th>u02</th>\n",
       "      <td>u02</td>\n",
       "      <td>11.63000</td>\n",
       "      <td>1.000000</td>\n",
       "      <td>headgroup</td>\n",
       "      <td>0.250000</td>\n",
       "    </tr>\n",
       "    <tr>\n",
       "      <th>u03</th>\n",
       "      <td>u03</td>\n",
       "      <td>12.15000</td>\n",
       "      <td>1.000000</td>\n",
       "      <td>headgroup</td>\n",
       "      <td>0.250000</td>\n",
       "    </tr>\n",
       "    <tr>\n",
       "      <th>u04</th>\n",
       "      <td>u04</td>\n",
       "      <td>11.44000</td>\n",
       "      <td>1.000000</td>\n",
       "      <td>headgroup</td>\n",
       "      <td>0.250000</td>\n",
       "    </tr>\n",
       "    <tr>\n",
       "      <th>u05</th>\n",
       "      <td>u05</td>\n",
       "      <td>10.86000</td>\n",
       "      <td>1.000000</td>\n",
       "      <td>headgroup</td>\n",
       "      <td>0.250000</td>\n",
       "    </tr>\n",
       "    <tr>\n",
       "      <th>u06</th>\n",
       "      <td>u06</td>\n",
       "      <td>10.80000</td>\n",
       "      <td>1.000000</td>\n",
       "      <td>headgroup</td>\n",
       "      <td>0.250000</td>\n",
       "    </tr>\n",
       "    <tr>\n",
       "      <th>u07</th>\n",
       "      <td>u07</td>\n",
       "      <td>9.16000</td>\n",
       "      <td>1.000000</td>\n",
       "      <td>headgroup</td>\n",
       "      <td>0.250000</td>\n",
       "    </tr>\n",
       "    <tr>\n",
       "      <th>u08</th>\n",
       "      <td>u08</td>\n",
       "      <td>8.82000</td>\n",
       "      <td>1.000000</td>\n",
       "      <td>headgroup</td>\n",
       "      <td>0.250000</td>\n",
       "    </tr>\n",
       "    <tr>\n",
       "      <th>u09</th>\n",
       "      <td>u09</td>\n",
       "      <td>8.86000</td>\n",
       "      <td>1.000000</td>\n",
       "      <td>headgroup</td>\n",
       "      <td>0.250000</td>\n",
       "    </tr>\n",
       "    <tr>\n",
       "      <th>u10</th>\n",
       "      <td>u10</td>\n",
       "      <td>10.65000</td>\n",
       "      <td>1.000000</td>\n",
       "      <td>headgroup</td>\n",
       "      <td>0.250000</td>\n",
       "    </tr>\n",
       "    <tr>\n",
       "      <th>u11</th>\n",
       "      <td>u11</td>\n",
       "      <td>4.26000</td>\n",
       "      <td>1.000000</td>\n",
       "      <td>headgroup</td>\n",
       "      <td>0.250000</td>\n",
       "    </tr>\n",
       "    <tr>\n",
       "      <th>u12</th>\n",
       "      <td>u12</td>\n",
       "      <td>4.19000</td>\n",
       "      <td>1.000000</td>\n",
       "      <td>headgroup</td>\n",
       "      <td>0.250000</td>\n",
       "    </tr>\n",
       "    <tr>\n",
       "      <th>u13</th>\n",
       "      <td>u13</td>\n",
       "      <td>7.57000</td>\n",
       "      <td>1.000000</td>\n",
       "      <td>headgroup</td>\n",
       "      <td>0.250000</td>\n",
       "    </tr>\n",
       "    <tr>\n",
       "      <th>u14</th>\n",
       "      <td>u14</td>\n",
       "      <td>2.70000</td>\n",
       "      <td>1.000000</td>\n",
       "      <td>headgroup</td>\n",
       "      <td>0.250000</td>\n",
       "    </tr>\n",
       "    <tr>\n",
       "      <th>u15</th>\n",
       "      <td>u15</td>\n",
       "      <td>4.59000</td>\n",
       "      <td>1.000000</td>\n",
       "      <td>headgroup</td>\n",
       "      <td>0.250000</td>\n",
       "    </tr>\n",
       "    <tr>\n",
       "      <th>u16</th>\n",
       "      <td>u16</td>\n",
       "      <td>2.76000</td>\n",
       "      <td>1.000000</td>\n",
       "      <td>headgroup</td>\n",
       "      <td>0.250000</td>\n",
       "    </tr>\n",
       "    <tr>\n",
       "      <th>u17</th>\n",
       "      <td>u17</td>\n",
       "      <td>6.23000</td>\n",
       "      <td>1.000000</td>\n",
       "      <td>headgroup</td>\n",
       "      <td>0.250000</td>\n",
       "    </tr>\n",
       "    <tr>\n",
       "      <th>uw02</th>\n",
       "      <td>uw02</td>\n",
       "      <td>0.28000</td>\n",
       "      <td>0.010000</td>\n",
       "      <td>headdiffgroup</td>\n",
       "      <td>0.025000</td>\n",
       "    </tr>\n",
       "    <tr>\n",
       "      <th>uw08</th>\n",
       "      <td>uw08</td>\n",
       "      <td>0.03000</td>\n",
       "      <td>0.010000</td>\n",
       "      <td>headdiffgroup</td>\n",
       "      <td>0.025000</td>\n",
       "    </tr>\n",
       "    <tr>\n",
       "      <th>uw15</th>\n",
       "      <td>uw15</td>\n",
       "      <td>0.02000</td>\n",
       "      <td>0.010000</td>\n",
       "      <td>headdiffgroup</td>\n",
       "      <td>0.025000</td>\n",
       "    </tr>\n",
       "    <tr>\n",
       "      <th>w01</th>\n",
       "      <td>w01</td>\n",
       "      <td>11.85000</td>\n",
       "      <td>1.000000</td>\n",
       "      <td>headgroup</td>\n",
       "      <td>0.250000</td>\n",
       "    </tr>\n",
       "    <tr>\n",
       "      <th>w02</th>\n",
       "      <td>w02</td>\n",
       "      <td>11.35000</td>\n",
       "      <td>1.000000</td>\n",
       "      <td>headgroup</td>\n",
       "      <td>0.250000</td>\n",
       "    </tr>\n",
       "    <tr>\n",
       "      <th>w03</th>\n",
       "      <td>w03</td>\n",
       "      <td>11.83000</td>\n",
       "      <td>1.000000</td>\n",
       "      <td>headgroup</td>\n",
       "      <td>0.250000</td>\n",
       "    </tr>\n",
       "    <tr>\n",
       "      <th>w04</th>\n",
       "      <td>w04</td>\n",
       "      <td>11.43000</td>\n",
       "      <td>1.000000</td>\n",
       "      <td>headgroup</td>\n",
       "      <td>0.250000</td>\n",
       "    </tr>\n",
       "    <tr>\n",
       "      <th>w05</th>\n",
       "      <td>w05</td>\n",
       "      <td>10.50000</td>\n",
       "      <td>1.000000</td>\n",
       "      <td>headgroup</td>\n",
       "      <td>0.250000</td>\n",
       "    </tr>\n",
       "    <tr>\n",
       "      <th>w06</th>\n",
       "      <td>w06</td>\n",
       "      <td>10.79000</td>\n",
       "      <td>1.000000</td>\n",
       "      <td>headgroup</td>\n",
       "      <td>0.250000</td>\n",
       "    </tr>\n",
       "    <tr>\n",
       "      <th>w07</th>\n",
       "      <td>w07</td>\n",
       "      <td>9.13000</td>\n",
       "      <td>1.000000</td>\n",
       "      <td>headgroup</td>\n",
       "      <td>0.250000</td>\n",
       "    </tr>\n",
       "    <tr>\n",
       "      <th>w08</th>\n",
       "      <td>w08</td>\n",
       "      <td>8.79000</td>\n",
       "      <td>1.000000</td>\n",
       "      <td>headgroup</td>\n",
       "      <td>0.250000</td>\n",
       "    </tr>\n",
       "    <tr>\n",
       "      <th>w09</th>\n",
       "      <td>w09</td>\n",
       "      <td>8.83000</td>\n",
       "      <td>1.000000</td>\n",
       "      <td>headgroup</td>\n",
       "      <td>0.250000</td>\n",
       "    </tr>\n",
       "    <tr>\n",
       "      <th>w10</th>\n",
       "      <td>w10</td>\n",
       "      <td>10.64000</td>\n",
       "      <td>1.000000</td>\n",
       "      <td>headgroup</td>\n",
       "      <td>0.250000</td>\n",
       "    </tr>\n",
       "    <tr>\n",
       "      <th>w11</th>\n",
       "      <td>w11</td>\n",
       "      <td>4.25000</td>\n",
       "      <td>1.000000</td>\n",
       "      <td>headgroup</td>\n",
       "      <td>0.250000</td>\n",
       "    </tr>\n",
       "    <tr>\n",
       "      <th>w12</th>\n",
       "      <td>w12</td>\n",
       "      <td>4.18000</td>\n",
       "      <td>1.000000</td>\n",
       "      <td>headgroup</td>\n",
       "      <td>0.250000</td>\n",
       "    </tr>\n",
       "    <tr>\n",
       "      <th>w13</th>\n",
       "      <td>w13</td>\n",
       "      <td>7.56000</td>\n",
       "      <td>1.000000</td>\n",
       "      <td>headgroup</td>\n",
       "      <td>0.250000</td>\n",
       "    </tr>\n",
       "    <tr>\n",
       "      <th>w14</th>\n",
       "      <td>w14</td>\n",
       "      <td>2.69000</td>\n",
       "      <td>1.000000</td>\n",
       "      <td>headgroup</td>\n",
       "      <td>0.250000</td>\n",
       "    </tr>\n",
       "    <tr>\n",
       "      <th>w15</th>\n",
       "      <td>w15</td>\n",
       "      <td>4.57000</td>\n",
       "      <td>1.000000</td>\n",
       "      <td>headgroup</td>\n",
       "      <td>0.250000</td>\n",
       "    </tr>\n",
       "    <tr>\n",
       "      <th>w16</th>\n",
       "      <td>w16</td>\n",
       "      <td>2.73000</td>\n",
       "      <td>1.000000</td>\n",
       "      <td>headgroup</td>\n",
       "      <td>0.250000</td>\n",
       "    </tr>\n",
       "    <tr>\n",
       "      <th>w17</th>\n",
       "      <td>w17</td>\n",
       "      <td>6.22000</td>\n",
       "      <td>1.000000</td>\n",
       "      <td>headgroup</td>\n",
       "      <td>0.250000</td>\n",
       "    </tr>\n",
       "  </tbody>\n",
       "</table>\n",
       "</div>"
      ],
      "text/plain": [
       "          obsnme        obsval    weight         obgnme  standard_deviation\n",
       "chdflow  chdflow   33390.41096  0.000299      lakegroup         3339.041096\n",
       "ds            ds -894494.00000  0.000013       rivgroup        89449.400000\n",
       "pf            pf  -96402.00000  0.000104       rivgroup         9640.200000\n",
       "u01          u01      12.05000  1.000000      headgroup            0.250000\n",
       "u02          u02      11.63000  1.000000      headgroup            0.250000\n",
       "u03          u03      12.15000  1.000000      headgroup            0.250000\n",
       "u04          u04      11.44000  1.000000      headgroup            0.250000\n",
       "u05          u05      10.86000  1.000000      headgroup            0.250000\n",
       "u06          u06      10.80000  1.000000      headgroup            0.250000\n",
       "u07          u07       9.16000  1.000000      headgroup            0.250000\n",
       "u08          u08       8.82000  1.000000      headgroup            0.250000\n",
       "u09          u09       8.86000  1.000000      headgroup            0.250000\n",
       "u10          u10      10.65000  1.000000      headgroup            0.250000\n",
       "u11          u11       4.26000  1.000000      headgroup            0.250000\n",
       "u12          u12       4.19000  1.000000      headgroup            0.250000\n",
       "u13          u13       7.57000  1.000000      headgroup            0.250000\n",
       "u14          u14       2.70000  1.000000      headgroup            0.250000\n",
       "u15          u15       4.59000  1.000000      headgroup            0.250000\n",
       "u16          u16       2.76000  1.000000      headgroup            0.250000\n",
       "u17          u17       6.23000  1.000000      headgroup            0.250000\n",
       "uw02        uw02       0.28000  0.010000  headdiffgroup            0.025000\n",
       "uw08        uw08       0.03000  0.010000  headdiffgroup            0.025000\n",
       "uw15        uw15       0.02000  0.010000  headdiffgroup            0.025000\n",
       "w01          w01      11.85000  1.000000      headgroup            0.250000\n",
       "w02          w02      11.35000  1.000000      headgroup            0.250000\n",
       "w03          w03      11.83000  1.000000      headgroup            0.250000\n",
       "w04          w04      11.43000  1.000000      headgroup            0.250000\n",
       "w05          w05      10.50000  1.000000      headgroup            0.250000\n",
       "w06          w06      10.79000  1.000000      headgroup            0.250000\n",
       "w07          w07       9.13000  1.000000      headgroup            0.250000\n",
       "w08          w08       8.79000  1.000000      headgroup            0.250000\n",
       "w09          w09       8.83000  1.000000      headgroup            0.250000\n",
       "w10          w10      10.64000  1.000000      headgroup            0.250000\n",
       "w11          w11       4.25000  1.000000      headgroup            0.250000\n",
       "w12          w12       4.18000  1.000000      headgroup            0.250000\n",
       "w13          w13       7.56000  1.000000      headgroup            0.250000\n",
       "w14          w14       2.69000  1.000000      headgroup            0.250000\n",
       "w15          w15       4.57000  1.000000      headgroup            0.250000\n",
       "w16          w16       2.73000  1.000000      headgroup            0.250000\n",
       "w17          w17       6.22000  1.000000      headgroup            0.250000"
      ]
     },
     "execution_count": 48,
     "metadata": {},
     "output_type": "execute_result"
    }
   ],
   "source": [
    "pst.observation_data"
   ]
  },
  {
   "cell_type": "markdown",
   "id": "f27cb2cb",
   "metadata": {},
   "source": [
    "### now we need to write out the `forward_run` script that includes pilot point interpolation, running MF6, and postprocesses the observations to prepare them for reading\n",
    "\n",
    "#### this is hella meta - writing python using python. careful with quote marks!"
   ]
  },
  {
   "cell_type": "code",
   "execution_count": 49,
   "id": "c1d8a44e",
   "metadata": {
    "execution": {
     "iopub.execute_input": "2025-07-03T18:19:43.794419Z",
     "iopub.status.busy": "2025-07-03T18:19:43.794335Z",
     "iopub.status.idle": "2025-07-03T18:19:43.798724Z",
     "shell.execute_reply": "2025-07-03T18:19:43.798458Z",
     "shell.execute_reply.started": "2025-07-03T18:19:43.794410Z"
    }
   },
   "outputs": [],
   "source": [
    "with open(t_d / \"forward_run.py\", \"w\") as f:\n",
    "    # add imports\n",
    "    f.write(\n",
    "        \"import os\\nimport shutil\\nimport numpy as np\\nimport pyemu\\nimport flopy\\n\"\n",
    "    )\n",
    "    f.write(\"import pandas as pd\\n\")\n",
    "    # preprocess pilot points to grid\n",
    "    f.write(\n",
    "        \"_ = pyemu.geostats.fac2real('hk_aqpp.dat', factors_file='pp_aq.fac',out_file='k_aq.ref')\\n\"\n",
    "    )\n",
    "    f.write(\n",
    "        \"_ = pyemu.geostats.fac2real('hk_claypp.dat', factors_file='pp_clay.fac',out_file='k_clay.ref')\\n\"\n",
    "    )\n",
    "    # run MF6\n",
    "    f.write(\"pyemu.os_utils.run('mf6')\\n\")\n",
    "    # process the observations\n",
    "    # remember to sort the glob results!\n",
    "    outfiles = [\n",
    "        f\"./{i.name}\"\n",
    "        for i in sorted(list(Path(\"../pest_obs_prototype\").glob(\"*.csv\")))\n",
    "    ]\n",
    "    f.write(f\"outfiles = {outfiles}\\n\")\n",
    "    f.write(\"obs = pd.concat([pd.read_csv(i).T.iloc[1:] for i in outfiles])\\n\")\n",
    "    f.write(\n",
    "        \"obs.loc['DS'] = obs.loc['DS'] + obs.loc['PF']\\n\"\n",
    "    )  # note that we have to add the two river obs\n",
    "    f.write(\n",
    "        \"obs.loc['UW02'] = obs.loc['U02']-obs.loc['W02']\\n\"\n",
    "    )  # head difference targets\n",
    "    f.write(\n",
    "        \"obs.loc['UW08'] = obs.loc['U08']-obs.loc['W08']\\n\"\n",
    "    )  # head difference targets\n",
    "    f.write(\n",
    "        \"obs.loc['UW15'] = obs.loc['U15']-obs.loc['W15']\\n\"\n",
    "    )  # head difference targets\n",
    "    f.write(\"obs.columns=['obsname']\\n\")\n",
    "    f.write('obs.to_csv(\"allobs.dat\", sep = \" \")')"
   ]
  },
  {
   "cell_type": "code",
   "execution_count": 50,
   "id": "40239e46",
   "metadata": {
    "execution": {
     "iopub.execute_input": "2025-07-03T18:19:43.799213Z",
     "iopub.status.busy": "2025-07-03T18:19:43.799121Z",
     "iopub.status.idle": "2025-07-03T18:19:43.814209Z",
     "shell.execute_reply": "2025-07-03T18:19:43.813838Z",
     "shell.execute_reply.started": "2025-07-03T18:19:43.799205Z"
    }
   },
   "outputs": [
    {
     "name": "stdout",
     "output_type": "stream",
     "text": [
      "import os\n",
      "import shutil\n",
      "import numpy as np\n",
      "import pyemu\n",
      "import flopy\n",
      "import pandas as pd\n",
      "_ = pyemu.geostats.fac2real('hk_aqpp.dat', factors_file='pp_aq.fac',out_file='k_aq.ref')\n",
      "_ = pyemu.geostats.fac2real('hk_claypp.dat', factors_file='pp_clay.fac',out_file='k_clay.ref')\n",
      "pyemu.os_utils.run('mf6')\n",
      "outfiles = ['./at.csv', './at.wt.csv', './chd.csv', './riv.csv']\n",
      "obs = pd.concat([pd.read_csv(i).T.iloc[1:] for i in outfiles])\n",
      "obs.loc['DS'] = obs.loc['DS'] + obs.loc['PF']\n",
      "obs.loc['UW02'] = obs.loc['U02']-obs.loc['W02']\n",
      "obs.loc['UW08'] = obs.loc['U08']-obs.loc['W08']\n",
      "obs.loc['UW15'] = obs.loc['U15']-obs.loc['W15']\n",
      "obs.columns=['obsname']\n",
      "obs.to_csv(\"allobs.dat\", sep = \" \")\n"
     ]
    }
   ],
   "source": [
    "# so how does it look?\n",
    "[print(i.strip()) for i in open(t_d / \"forward_run.py\", \"r\").readlines()];"
   ]
  },
  {
   "cell_type": "markdown",
   "id": "bff79fa3",
   "metadata": {},
   "source": [
    "### now set a few ies-specific values and write out the file"
   ]
  },
  {
   "cell_type": "code",
   "execution_count": 51,
   "id": "015fac2e",
   "metadata": {
    "execution": {
     "iopub.execute_input": "2025-07-03T18:19:43.814996Z",
     "iopub.status.busy": "2025-07-03T18:19:43.814844Z",
     "iopub.status.idle": "2025-07-03T18:19:43.833526Z",
     "shell.execute_reply": "2025-07-03T18:19:43.833221Z",
     "shell.execute_reply.started": "2025-07-03T18:19:43.814978Z"
    }
   },
   "outputs": [
    {
     "name": "stdout",
     "output_type": "stream",
     "text": [
      "noptmax:0, npar_adj:119, nnz_obs:40\n"
     ]
    }
   ],
   "source": [
    "pst.model_command = [\"python forward_run.py\"]\n",
    "pst.control_data.noptmax = 0  # --> we need to run once for weight rebalancing\n",
    "\n",
    "pst.pestpp_options[\"ies_num_reals\"] = 100\n",
    "pst.pestpp_options[\"par_sigma_range\"] = 6\n",
    "pst.pestpp_options[\"ies_no_noise\"] = \"false\"\n",
    "pst.write(str(t_d / \"mv.ies.pst\"), version=2)"
   ]
  },
  {
   "cell_type": "markdown",
   "id": "c637de29",
   "metadata": {},
   "source": [
    "### copy the run folder over to be a master for parallel runs"
   ]
  },
  {
   "cell_type": "code",
   "execution_count": 52,
   "id": "80cefdf4",
   "metadata": {
    "execution": {
     "iopub.execute_input": "2025-07-03T18:19:43.833986Z",
     "iopub.status.busy": "2025-07-03T18:19:43.833910Z",
     "iopub.status.idle": "2025-07-03T18:19:43.923206Z",
     "shell.execute_reply": "2025-07-03T18:19:43.922882Z",
     "shell.execute_reply.started": "2025-07-03T18:19:43.833978Z"
    }
   },
   "outputs": [
    {
     "data": {
      "text/plain": [
       "PosixPath('../tmprun')"
      ]
     },
     "execution_count": 52,
     "metadata": {},
     "output_type": "execute_result"
    }
   ],
   "source": [
    "if rundir.exists():\n",
    "    shutil.rmtree(rundir)\n",
    "shutil.copytree(t_d, rundir)"
   ]
  },
  {
   "cell_type": "markdown",
   "id": "fdab1f89-087a-42d3-b17e-fccb13d04d79",
   "metadata": {},
   "source": [
    "## now we need to balance the objective function - we can start based on the initial run"
   ]
  },
  {
   "cell_type": "markdown",
   "id": "390a2039-93a5-42fd-a81a-dace7492bdce",
   "metadata": {},
   "source": [
    "### run the model once through PEST"
   ]
  },
  {
   "cell_type": "code",
   "execution_count": 53,
   "id": "afd43aa3-f302-4754-978a-2193a6362541",
   "metadata": {
    "execution": {
     "iopub.execute_input": "2025-07-03T18:19:43.923904Z",
     "iopub.status.busy": "2025-07-03T18:19:43.923785Z",
     "iopub.status.idle": "2025-07-03T18:19:46.616029Z",
     "shell.execute_reply": "2025-07-03T18:19:46.615737Z",
     "shell.execute_reply.started": "2025-07-03T18:19:43.923893Z"
    }
   },
   "outputs": [
    {
     "name": "stdout",
     "output_type": "stream",
     "text": [
      "\n",
      "\n",
      "             pestpp-ies: a GLM iterative ensemble smoother\n",
      "\n",
      "                   by the PEST++ development team\n",
      "\n",
      "\n",
      "version: 5.2.16\n",
      "binary compiled on Dec  1 2024 at 18:51:00\n",
      "\n",
      "started at 07/03/25 13:19:44\n",
      "...processing command line: ' ./pestpp-ies mv.ies.pst'\n",
      "...using serial run manager\n",
      "\n",
      "using control file: \"mv.ies.pst\"\n",
      "in directory: \"/Users/mnfienen/Documents/GIT/modflow-sandiego-2025/exercises/tmp/PEST/tmprun\"\n",
      "on host: \"IGSACB116LHMNFI\"\n",
      "\n",
      "processing control file mv.ies.pst\n",
      "\n",
      "Note: 'NOPTMAX' == 0, switching to forgiveness mode when checking inputs\n",
      "\n",
      "noptmax = 0, resetting max_run_fail = 1\n",
      "checking model IO files...done\n",
      "              starting serial run manager ...\n",
      "\n",
      "\n",
      "  ---  initializing  ---  \n",
      "\n",
      "  ---  'noptmax'=0, running control file parameter values and quitting  ---  \n",
      "...saving control file parameter ensemble to  mv.ies.base.par.csv\n",
      "...initializing prior parameter covariance matrix\n",
      "...parcov loaded  from parameter bounds, using par_sigma_range 6\n",
      "...running control file parameter values\n",
      "\n",
      "\n",
      "\n",
      "    ---  starting serial run manager for 1 runs ---    \n",
      "\n",
      "\n",
      "07/03/25 13:19:44 processing template files with 1 threads...\n",
      "07/03/25 13:19:44 done, took 0.01 seconds\n",
      "07/03/25 13:19:44 calling forward run command(s)\n",
      "07/03/25 13:19:44 calling forward run command: 'python forward_run.py' \n",
      "...pid: 51126\n",
      "                                   MODFLOW 6\n",
      "                U.S. GEOLOGICAL SURVEY MODULAR HYDROLOGIC MODEL\n",
      "                        VERSION 6.4.1 Release 12/09/2022\n",
      "\n",
      "   MODFLOW 6 compiled Apr 12 2023 19:02:02 with Intel(R) Fortran Intel(R) 64\n",
      "   Compiler Classic for applications running on Intel(R) 64, Version 2021.7.0\n",
      "                             Build 20220726_000000\n",
      "\n",
      "This software has been approved for release by the U.S. Geological \n",
      "Survey (USGS). Although the software has been subjected to rigorous \n",
      "review, the USGS reserves the right to update the software as needed \n",
      "pursuant to further analysis and review. No warranty, expressed or \n",
      "implied, is made by the USGS or the U.S. Government as to the \n",
      "functionality of the software and related material nor shall the \n",
      "fact of release constitute any such warranty. Furthermore, the \n",
      "software is released on condition that neither the USGS nor the U.S. \n",
      "Government shall be held liable for any damages resulting from its \n",
      "authorized or unauthorized use. Also refer to the USGS Water \n",
      "Resources Software User Rights Notice for complete use, copyright, \n",
      "and distribution information.\n",
      "\n",
      " \n",
      " Run start date and time (yyyy/mm/dd hh:mm:ss): 2025/07/03 13:19:46\n",
      " \n",
      " Writing simulation list file: mfsim.lst\n",
      " Using Simulation name file: mfsim.nam\n",
      " \n",
      "    Solving:  Stress period:     1    Time step:     1\n",
      " \n",
      " Run end date and time (yyyy/mm/dd hh:mm:ss): 2025/07/03 13:19:46\n",
      " Elapsed run time:  0.139 Seconds\n",
      " \n",
      " Normal termination of simulation.\n",
      "...exit_code: 51126\n",
      "...status: 0\n",
      "07/03/25 13:19:46 forward run command(s) finished, took 2.275 seconds\n",
      "07/03/25 13:19:46 processing instruction files with 1 threads...\n",
      "thread 0 processed 1 instruction files\n",
      "07/03/25 13:19:46 done, took 0.001 seconds\n",
      "\n",
      "\n",
      "-->07/03/25 13:19:46 run complete, took: 2.302 seconds\n",
      "-->1 of 1 complete, 0 failed\n",
      "\n",
      "\n",
      "\n",
      "\n",
      "\n",
      "    ---  serial run manager runs summary:  ---    \n",
      "    1 of 1 complete, 0 failed\n",
      "    process took : 2.303 seconds\n",
      "\n",
      "\n",
      "\n",
      "\n",
      "...saving results from control file parameter value run to  mv.ies.base.obs.csv\n",
      "\n",
      "  ---  control file parameter phi report:  ---  \n",
      "       phi type           mean            std            min            max\n",
      "       measured        1209.41              0        1209.41        1209.41\n",
      "         actual        1209.41              0        1209.41        1209.41\n",
      "     note: 'measured' phi reported above includes \n",
      "           realizations of measurement noise, \n",
      "           'actual' phi does not.\n",
      "  ---  observation group phi summary ---  \n",
      "       (computed using 'actual' phi)\n",
      "           (sorted by mean phi)\n",
      "group          count  nconflict      mean       std       min       max   percent       std\n",
      "lakegroup          1          1  1.06e+03         0  1.06e+03  1.06e+03      87.6         0\n",
      "rivgroup           2          2       145         0       145       145        12         0\n",
      "headgroup         34         34      4.34         0      4.34      4.34     0.359         0\n",
      "headdiffgroup      3          3  7.08e-06         0  7.08e-06  7.08e-06  5.86e-07         0\n",
      "    Note: 'percent' is the percentage of the actual phi for each realization.\n",
      "\n",
      "saved par and rei files for realization BASE\n",
      "\n",
      "\n",
      "pestpp-ies analysis complete...\n",
      "started at 07/03/25 13:19:44\n",
      "finished at 07/03/25 13:19:46\n",
      "took 0.0333333 minutes\n"
     ]
    }
   ],
   "source": [
    "pyemu.os_utils.run(\"pestpp-ies mv.ies.pst\", str(rundir))"
   ]
  },
  {
   "cell_type": "markdown",
   "id": "65466bd4-f7a5-409b-8c1e-b55b9203c15e",
   "metadata": {},
   "source": [
    "### now read in the residuals and see how things look"
   ]
  },
  {
   "cell_type": "code",
   "execution_count": 54,
   "id": "0b5fb354-e916-4f73-8186-8243f507d6dc",
   "metadata": {
    "execution": {
     "iopub.execute_input": "2025-07-03T18:19:46.616579Z",
     "iopub.status.busy": "2025-07-03T18:19:46.616475Z",
     "iopub.status.idle": "2025-07-03T18:19:46.635040Z",
     "shell.execute_reply": "2025-07-03T18:19:46.634716Z",
     "shell.execute_reply.started": "2025-07-03T18:19:46.616570Z"
    }
   },
   "outputs": [],
   "source": [
    "pst_new = pyemu.Pst(str(rundir / \"mv.ies.pst\"))"
   ]
  },
  {
   "cell_type": "code",
   "execution_count": 55,
   "id": "8bf679df-1b3b-4fa8-a2f0-6563500dafe3",
   "metadata": {
    "execution": {
     "iopub.execute_input": "2025-07-03T18:19:46.635508Z",
     "iopub.status.busy": "2025-07-03T18:19:46.635388Z",
     "iopub.status.idle": "2025-07-03T18:19:46.694485Z",
     "shell.execute_reply": "2025-07-03T18:19:46.694208Z",
     "shell.execute_reply.started": "2025-07-03T18:19:46.635498Z"
    }
   },
   "outputs": [
    {
     "data": {
      "text/plain": [
       "<Axes: >"
      ]
     },
     "execution_count": 55,
     "metadata": {},
     "output_type": "execute_result"
    },
    {
     "data": {
      "image/png": "[encoded data removed]",
      "text/plain": [
       "<Figure size 800x1050 with 1 Axes>"
      ]
     },
     "metadata": {},
     "output_type": "display_data"
    }
   ],
   "source": [
    "pst_new.plot(kind=\"phi_pie\")"
   ]
  },
  {
   "cell_type": "markdown",
   "id": "d36190b6-0006-4232-9c31-72e74205142e",
   "metadata": {},
   "source": [
    "### what are the components of the objective function?"
   ]
  },
  {
   "cell_type": "code",
   "execution_count": 56,
   "id": "05042365-570c-495c-9afd-f41b0c4ada48",
   "metadata": {
    "execution": {
     "iopub.execute_input": "2025-07-03T18:19:46.694928Z",
     "iopub.status.busy": "2025-07-03T18:19:46.694845Z",
     "iopub.status.idle": "2025-07-03T18:19:46.700542Z",
     "shell.execute_reply": "2025-07-03T18:19:46.700215Z",
     "shell.execute_reply.started": "2025-07-03T18:19:46.694920Z"
    }
   },
   "outputs": [
    {
     "data": {
      "text/plain": [
       "{'headdiffgroup': 7.084328174028386e-06,\n",
       " 'headgroup': 4.341162000475988,\n",
       " 'lakegroup': 1059.9920169070535,\n",
       " 'rivgroup': 145.07415497942932}"
      ]
     },
     "execution_count": 56,
     "metadata": {},
     "output_type": "execute_result"
    }
   ],
   "source": [
    "pst_new.phi_components"
   ]
  },
  {
   "cell_type": "code",
   "execution_count": 57,
   "id": "68899866-f5e7-434f-8ba7-df1ecbb55286",
   "metadata": {
    "execution": {
     "iopub.execute_input": "2025-07-03T18:19:46.701115Z",
     "iopub.status.busy": "2025-07-03T18:19:46.701031Z",
     "iopub.status.idle": "2025-07-03T18:19:46.708383Z",
     "shell.execute_reply": "2025-07-03T18:19:46.707995Z",
     "shell.execute_reply.started": "2025-07-03T18:19:46.701106Z"
    }
   },
   "outputs": [
    {
     "data": {
      "text/plain": [
       "1209.4073409712869"
      ]
     },
     "execution_count": 57,
     "metadata": {},
     "output_type": "execute_result"
    }
   ],
   "source": [
    "phi = pst_new.phi\n",
    "phi"
   ]
  },
  {
   "cell_type": "code",
   "execution_count": 58,
   "id": "efef2f44",
   "metadata": {
    "execution": {
     "iopub.execute_input": "2025-07-03T18:19:46.709421Z",
     "iopub.status.busy": "2025-07-03T18:19:46.709145Z",
     "iopub.status.idle": "2025-07-03T18:19:46.711426Z",
     "shell.execute_reply": "2025-07-03T18:19:46.711054Z",
     "shell.execute_reply.started": "2025-07-03T18:19:46.709402Z"
    }
   },
   "outputs": [],
   "source": [
    "# REFERENCE BALANCE\n",
    "# new_components = {\n",
    "#     \"headdiffgroup\": phi * 0.15,\n",
    "#     \"headgroup\": phi * 0.225,\n",
    "#     \"lakegroup\": phi * 0.225,\n",
    "#     \"rivgroup\": phi * 0.4,\n",
    "# }"
   ]
  },
  {
   "cell_type": "code",
   "execution_count": 59,
   "id": "59e253a7-e467-4024-880b-b32c58cc58ae",
   "metadata": {
    "execution": {
     "iopub.execute_input": "2025-07-03T18:19:46.711827Z",
     "iopub.status.busy": "2025-07-03T18:19:46.711736Z",
     "iopub.status.idle": "2025-07-03T18:19:46.713885Z",
     "shell.execute_reply": "2025-07-03T18:19:46.713520Z",
     "shell.execute_reply.started": "2025-07-03T18:19:46.711818Z"
    }
   },
   "outputs": [],
   "source": [
    "new_components = {\n",
    "    \"headdiffgroup\": phi * 0.15,\n",
    "    \"headgroup\": phi * 0.225,\n",
    "    \"lakegroup\": phi * 0.225,\n",
    "    \"rivgroup\": phi * 0.4,\n",
    "}"
   ]
  },
  {
   "cell_type": "code",
   "execution_count": 60,
   "id": "d4a8c693-329e-45f5-a9a4-81095fa6ba3d",
   "metadata": {
    "execution": {
     "iopub.execute_input": "2025-07-03T18:19:46.714572Z",
     "iopub.status.busy": "2025-07-03T18:19:46.714427Z",
     "iopub.status.idle": "2025-07-03T18:19:46.722630Z",
     "shell.execute_reply": "2025-07-03T18:19:46.722354Z",
     "shell.execute_reply.started": "2025-07-03T18:19:46.714562Z"
    }
   },
   "outputs": [],
   "source": [
    "pst_new.adjust_weights(obsgrp_dict=new_components)"
   ]
  },
  {
   "cell_type": "code",
   "execution_count": 61,
   "id": "17b03ba7-b7e0-406f-8ef7-03390c3b4609",
   "metadata": {
    "execution": {
     "iopub.execute_input": "2025-07-03T18:19:46.723016Z",
     "iopub.status.busy": "2025-07-03T18:19:46.722931Z",
     "iopub.status.idle": "2025-07-03T18:19:46.731759Z",
     "shell.execute_reply": "2025-07-03T18:19:46.731460Z",
     "shell.execute_reply.started": "2025-07-03T18:19:46.723008Z"
    }
   },
   "outputs": [
    {
     "data": {
      "text/plain": [
       "{'headdiffgroup': 181.41110114569304,\n",
       " 'headgroup': 272.1166517185397,\n",
       " 'lakegroup': 272.1166517185395,\n",
       " 'rivgroup': 483.7629363885148}"
      ]
     },
     "execution_count": 61,
     "metadata": {},
     "output_type": "execute_result"
    }
   ],
   "source": [
    "pst_new.phi_components"
   ]
  },
  {
   "cell_type": "code",
   "execution_count": 62,
   "id": "9dcf6cdb-771d-4971-8c75-1740c45e4121",
   "metadata": {
    "execution": {
     "iopub.execute_input": "2025-07-03T18:19:46.732327Z",
     "iopub.status.busy": "2025-07-03T18:19:46.732226Z",
     "iopub.status.idle": "2025-07-03T18:19:46.782501Z",
     "shell.execute_reply": "2025-07-03T18:19:46.782243Z",
     "shell.execute_reply.started": "2025-07-03T18:19:46.732319Z"
    }
   },
   "outputs": [
    {
     "data": {
      "text/plain": [
       "<Axes: >"
      ]
     },
     "execution_count": 62,
     "metadata": {},
     "output_type": "execute_result"
    },
    {
     "data": {
      "image/png": "[encoded data removed]",
      "text/plain": [
       "<Figure size 800x1050 with 1 Axes>"
      ]
     },
     "metadata": {},
     "output_type": "display_data"
    }
   ],
   "source": [
    "pst_new.plot(kind=\"phi_pie\")"
   ]
  },
  {
   "cell_type": "code",
   "execution_count": 63,
   "id": "a43140e3-b4fe-4e74-b099-7c97c03ae707",
   "metadata": {
    "execution": {
     "iopub.execute_input": "2025-07-03T18:19:46.782931Z",
     "iopub.status.busy": "2025-07-03T18:19:46.782852Z",
     "iopub.status.idle": "2025-07-03T18:19:46.788956Z",
     "shell.execute_reply": "2025-07-03T18:19:46.788593Z",
     "shell.execute_reply.started": "2025-07-03T18:19:46.782923Z"
    }
   },
   "outputs": [
    {
     "data": {
      "text/html": [
       "<div>\n",
       "<style scoped>\n",
       "    .dataframe tbody tr th:only-of-type {\n",
       "        vertical-align: middle;\n",
       "    }\n",
       "\n",
       "    .dataframe tbody tr th {\n",
       "        vertical-align: top;\n",
       "    }\n",
       "\n",
       "    .dataframe thead th {\n",
       "        text-align: right;\n",
       "    }\n",
       "</style>\n",
       "<table border=\"1\" class=\"dataframe\">\n",
       "  <thead>\n",
       "    <tr style=\"text-align: right;\">\n",
       "      <th></th>\n",
       "      <th>obsnme</th>\n",
       "      <th>obsval</th>\n",
       "      <th>weight</th>\n",
       "      <th>obgnme</th>\n",
       "      <th>standard_deviation</th>\n",
       "    </tr>\n",
       "    <tr>\n",
       "      <th>obsnme</th>\n",
       "      <th></th>\n",
       "      <th></th>\n",
       "      <th></th>\n",
       "      <th></th>\n",
       "      <th></th>\n",
       "    </tr>\n",
       "  </thead>\n",
       "  <tbody>\n",
       "    <tr>\n",
       "      <th>chdflow</th>\n",
       "      <td>chdflow</td>\n",
       "      <td>33390.41096</td>\n",
       "      <td>0.000152</td>\n",
       "      <td>lakegroup</td>\n",
       "      <td>3339.041096</td>\n",
       "    </tr>\n",
       "    <tr>\n",
       "      <th>ds</th>\n",
       "      <td>ds</td>\n",
       "      <td>-894494.00000</td>\n",
       "      <td>0.000023</td>\n",
       "      <td>rivgroup</td>\n",
       "      <td>89449.400000</td>\n",
       "    </tr>\n",
       "    <tr>\n",
       "      <th>pf</th>\n",
       "      <td>pf</td>\n",
       "      <td>-96402.00000</td>\n",
       "      <td>0.000189</td>\n",
       "      <td>rivgroup</td>\n",
       "      <td>9640.200000</td>\n",
       "    </tr>\n",
       "    <tr>\n",
       "      <th>u01</th>\n",
       "      <td>u01</td>\n",
       "      <td>12.05000</td>\n",
       "      <td>7.917254</td>\n",
       "      <td>headgroup</td>\n",
       "      <td>0.250000</td>\n",
       "    </tr>\n",
       "    <tr>\n",
       "      <th>u02</th>\n",
       "      <td>u02</td>\n",
       "      <td>11.63000</td>\n",
       "      <td>7.917254</td>\n",
       "      <td>headgroup</td>\n",
       "      <td>0.250000</td>\n",
       "    </tr>\n",
       "    <tr>\n",
       "      <th>u03</th>\n",
       "      <td>u03</td>\n",
       "      <td>12.15000</td>\n",
       "      <td>7.917254</td>\n",
       "      <td>headgroup</td>\n",
       "      <td>0.250000</td>\n",
       "    </tr>\n",
       "    <tr>\n",
       "      <th>u04</th>\n",
       "      <td>u04</td>\n",
       "      <td>11.44000</td>\n",
       "      <td>7.917254</td>\n",
       "      <td>headgroup</td>\n",
       "      <td>0.250000</td>\n",
       "    </tr>\n",
       "    <tr>\n",
       "      <th>u05</th>\n",
       "      <td>u05</td>\n",
       "      <td>10.86000</td>\n",
       "      <td>7.917254</td>\n",
       "      <td>headgroup</td>\n",
       "      <td>0.250000</td>\n",
       "    </tr>\n",
       "    <tr>\n",
       "      <th>u06</th>\n",
       "      <td>u06</td>\n",
       "      <td>10.80000</td>\n",
       "      <td>7.917254</td>\n",
       "      <td>headgroup</td>\n",
       "      <td>0.250000</td>\n",
       "    </tr>\n",
       "    <tr>\n",
       "      <th>u07</th>\n",
       "      <td>u07</td>\n",
       "      <td>9.16000</td>\n",
       "      <td>7.917254</td>\n",
       "      <td>headgroup</td>\n",
       "      <td>0.250000</td>\n",
       "    </tr>\n",
       "    <tr>\n",
       "      <th>u08</th>\n",
       "      <td>u08</td>\n",
       "      <td>8.82000</td>\n",
       "      <td>7.917254</td>\n",
       "      <td>headgroup</td>\n",
       "      <td>0.250000</td>\n",
       "    </tr>\n",
       "    <tr>\n",
       "      <th>u09</th>\n",
       "      <td>u09</td>\n",
       "      <td>8.86000</td>\n",
       "      <td>7.917254</td>\n",
       "      <td>headgroup</td>\n",
       "      <td>0.250000</td>\n",
       "    </tr>\n",
       "    <tr>\n",
       "      <th>u10</th>\n",
       "      <td>u10</td>\n",
       "      <td>10.65000</td>\n",
       "      <td>7.917254</td>\n",
       "      <td>headgroup</td>\n",
       "      <td>0.250000</td>\n",
       "    </tr>\n",
       "    <tr>\n",
       "      <th>u11</th>\n",
       "      <td>u11</td>\n",
       "      <td>4.26000</td>\n",
       "      <td>7.917254</td>\n",
       "      <td>headgroup</td>\n",
       "      <td>0.250000</td>\n",
       "    </tr>\n",
       "    <tr>\n",
       "      <th>u12</th>\n",
       "      <td>u12</td>\n",
       "      <td>4.19000</td>\n",
       "      <td>7.917254</td>\n",
       "      <td>headgroup</td>\n",
       "      <td>0.250000</td>\n",
       "    </tr>\n",
       "    <tr>\n",
       "      <th>u13</th>\n",
       "      <td>u13</td>\n",
       "      <td>7.57000</td>\n",
       "      <td>7.917254</td>\n",
       "      <td>headgroup</td>\n",
       "      <td>0.250000</td>\n",
       "    </tr>\n",
       "    <tr>\n",
       "      <th>u14</th>\n",
       "      <td>u14</td>\n",
       "      <td>2.70000</td>\n",
       "      <td>7.917254</td>\n",
       "      <td>headgroup</td>\n",
       "      <td>0.250000</td>\n",
       "    </tr>\n",
       "    <tr>\n",
       "      <th>u15</th>\n",
       "      <td>u15</td>\n",
       "      <td>4.59000</td>\n",
       "      <td>7.917254</td>\n",
       "      <td>headgroup</td>\n",
       "      <td>0.250000</td>\n",
       "    </tr>\n",
       "    <tr>\n",
       "      <th>u16</th>\n",
       "      <td>u16</td>\n",
       "      <td>2.76000</td>\n",
       "      <td>7.917254</td>\n",
       "      <td>headgroup</td>\n",
       "      <td>0.250000</td>\n",
       "    </tr>\n",
       "    <tr>\n",
       "      <th>u17</th>\n",
       "      <td>u17</td>\n",
       "      <td>6.23000</td>\n",
       "      <td>7.917254</td>\n",
       "      <td>headgroup</td>\n",
       "      <td>0.250000</td>\n",
       "    </tr>\n",
       "    <tr>\n",
       "      <th>uw02</th>\n",
       "      <td>uw02</td>\n",
       "      <td>0.28000</td>\n",
       "      <td>50.603737</td>\n",
       "      <td>headdiffgroup</td>\n",
       "      <td>0.025000</td>\n",
       "    </tr>\n",
       "    <tr>\n",
       "      <th>uw08</th>\n",
       "      <td>uw08</td>\n",
       "      <td>0.03000</td>\n",
       "      <td>50.603737</td>\n",
       "      <td>headdiffgroup</td>\n",
       "      <td>0.025000</td>\n",
       "    </tr>\n",
       "    <tr>\n",
       "      <th>uw15</th>\n",
       "      <td>uw15</td>\n",
       "      <td>0.02000</td>\n",
       "      <td>50.603737</td>\n",
       "      <td>headdiffgroup</td>\n",
       "      <td>0.025000</td>\n",
       "    </tr>\n",
       "    <tr>\n",
       "      <th>w01</th>\n",
       "      <td>w01</td>\n",
       "      <td>11.85000</td>\n",
       "      <td>7.917254</td>\n",
       "      <td>headgroup</td>\n",
       "      <td>0.250000</td>\n",
       "    </tr>\n",
       "    <tr>\n",
       "      <th>w02</th>\n",
       "      <td>w02</td>\n",
       "      <td>11.35000</td>\n",
       "      <td>7.917254</td>\n",
       "      <td>headgroup</td>\n",
       "      <td>0.250000</td>\n",
       "    </tr>\n",
       "    <tr>\n",
       "      <th>w03</th>\n",
       "      <td>w03</td>\n",
       "      <td>11.83000</td>\n",
       "      <td>7.917254</td>\n",
       "      <td>headgroup</td>\n",
       "      <td>0.250000</td>\n",
       "    </tr>\n",
       "    <tr>\n",
       "      <th>w04</th>\n",
       "      <td>w04</td>\n",
       "      <td>11.43000</td>\n",
       "      <td>7.917254</td>\n",
       "      <td>headgroup</td>\n",
       "      <td>0.250000</td>\n",
       "    </tr>\n",
       "    <tr>\n",
       "      <th>w05</th>\n",
       "      <td>w05</td>\n",
       "      <td>10.50000</td>\n",
       "      <td>7.917254</td>\n",
       "      <td>headgroup</td>\n",
       "      <td>0.250000</td>\n",
       "    </tr>\n",
       "    <tr>\n",
       "      <th>w06</th>\n",
       "      <td>w06</td>\n",
       "      <td>10.79000</td>\n",
       "      <td>7.917254</td>\n",
       "      <td>headgroup</td>\n",
       "      <td>0.250000</td>\n",
       "    </tr>\n",
       "    <tr>\n",
       "      <th>w07</th>\n",
       "      <td>w07</td>\n",
       "      <td>9.13000</td>\n",
       "      <td>7.917254</td>\n",
       "      <td>headgroup</td>\n",
       "      <td>0.250000</td>\n",
       "    </tr>\n",
       "    <tr>\n",
       "      <th>w08</th>\n",
       "      <td>w08</td>\n",
       "      <td>8.79000</td>\n",
       "      <td>7.917254</td>\n",
       "      <td>headgroup</td>\n",
       "      <td>0.250000</td>\n",
       "    </tr>\n",
       "    <tr>\n",
       "      <th>w09</th>\n",
       "      <td>w09</td>\n",
       "      <td>8.83000</td>\n",
       "      <td>7.917254</td>\n",
       "      <td>headgroup</td>\n",
       "      <td>0.250000</td>\n",
       "    </tr>\n",
       "    <tr>\n",
       "      <th>w10</th>\n",
       "      <td>w10</td>\n",
       "      <td>10.64000</td>\n",
       "      <td>7.917254</td>\n",
       "      <td>headgroup</td>\n",
       "      <td>0.250000</td>\n",
       "    </tr>\n",
       "    <tr>\n",
       "      <th>w11</th>\n",
       "      <td>w11</td>\n",
       "      <td>4.25000</td>\n",
       "      <td>7.917254</td>\n",
       "      <td>headgroup</td>\n",
       "      <td>0.250000</td>\n",
       "    </tr>\n",
       "    <tr>\n",
       "      <th>w12</th>\n",
       "      <td>w12</td>\n",
       "      <td>4.18000</td>\n",
       "      <td>7.917254</td>\n",
       "      <td>headgroup</td>\n",
       "      <td>0.250000</td>\n",
       "    </tr>\n",
       "    <tr>\n",
       "      <th>w13</th>\n",
       "      <td>w13</td>\n",
       "      <td>7.56000</td>\n",
       "      <td>7.917254</td>\n",
       "      <td>headgroup</td>\n",
       "      <td>0.250000</td>\n",
       "    </tr>\n",
       "    <tr>\n",
       "      <th>w14</th>\n",
       "      <td>w14</td>\n",
       "      <td>2.69000</td>\n",
       "      <td>7.917254</td>\n",
       "      <td>headgroup</td>\n",
       "      <td>0.250000</td>\n",
       "    </tr>\n",
       "    <tr>\n",
       "      <th>w15</th>\n",
       "      <td>w15</td>\n",
       "      <td>4.57000</td>\n",
       "      <td>7.917254</td>\n",
       "      <td>headgroup</td>\n",
       "      <td>0.250000</td>\n",
       "    </tr>\n",
       "    <tr>\n",
       "      <th>w16</th>\n",
       "      <td>w16</td>\n",
       "      <td>2.73000</td>\n",
       "      <td>7.917254</td>\n",
       "      <td>headgroup</td>\n",
       "      <td>0.250000</td>\n",
       "    </tr>\n",
       "    <tr>\n",
       "      <th>w17</th>\n",
       "      <td>w17</td>\n",
       "      <td>6.22000</td>\n",
       "      <td>7.917254</td>\n",
       "      <td>headgroup</td>\n",
       "      <td>0.250000</td>\n",
       "    </tr>\n",
       "  </tbody>\n",
       "</table>\n",
       "</div>"
      ],
      "text/plain": [
       "          obsnme        obsval     weight         obgnme  standard_deviation\n",
       "obsnme                                                                      \n",
       "chdflow  chdflow   33390.41096   0.000152      lakegroup         3339.041096\n",
       "ds            ds -894494.00000   0.000023       rivgroup        89449.400000\n",
       "pf            pf  -96402.00000   0.000189       rivgroup         9640.200000\n",
       "u01          u01      12.05000   7.917254      headgroup            0.250000\n",
       "u02          u02      11.63000   7.917254      headgroup            0.250000\n",
       "u03          u03      12.15000   7.917254      headgroup            0.250000\n",
       "u04          u04      11.44000   7.917254      headgroup            0.250000\n",
       "u05          u05      10.86000   7.917254      headgroup            0.250000\n",
       "u06          u06      10.80000   7.917254      headgroup            0.250000\n",
       "u07          u07       9.16000   7.917254      headgroup            0.250000\n",
       "u08          u08       8.82000   7.917254      headgroup            0.250000\n",
       "u09          u09       8.86000   7.917254      headgroup            0.250000\n",
       "u10          u10      10.65000   7.917254      headgroup            0.250000\n",
       "u11          u11       4.26000   7.917254      headgroup            0.250000\n",
       "u12          u12       4.19000   7.917254      headgroup            0.250000\n",
       "u13          u13       7.57000   7.917254      headgroup            0.250000\n",
       "u14          u14       2.70000   7.917254      headgroup            0.250000\n",
       "u15          u15       4.59000   7.917254      headgroup            0.250000\n",
       "u16          u16       2.76000   7.917254      headgroup            0.250000\n",
       "u17          u17       6.23000   7.917254      headgroup            0.250000\n",
       "uw02        uw02       0.28000  50.603737  headdiffgroup            0.025000\n",
       "uw08        uw08       0.03000  50.603737  headdiffgroup            0.025000\n",
       "uw15        uw15       0.02000  50.603737  headdiffgroup            0.025000\n",
       "w01          w01      11.85000   7.917254      headgroup            0.250000\n",
       "w02          w02      11.35000   7.917254      headgroup            0.250000\n",
       "w03          w03      11.83000   7.917254      headgroup            0.250000\n",
       "w04          w04      11.43000   7.917254      headgroup            0.250000\n",
       "w05          w05      10.50000   7.917254      headgroup            0.250000\n",
       "w06          w06      10.79000   7.917254      headgroup            0.250000\n",
       "w07          w07       9.13000   7.917254      headgroup            0.250000\n",
       "w08          w08       8.79000   7.917254      headgroup            0.250000\n",
       "w09          w09       8.83000   7.917254      headgroup            0.250000\n",
       "w10          w10      10.64000   7.917254      headgroup            0.250000\n",
       "w11          w11       4.25000   7.917254      headgroup            0.250000\n",
       "w12          w12       4.18000   7.917254      headgroup            0.250000\n",
       "w13          w13       7.56000   7.917254      headgroup            0.250000\n",
       "w14          w14       2.69000   7.917254      headgroup            0.250000\n",
       "w15          w15       4.57000   7.917254      headgroup            0.250000\n",
       "w16          w16       2.73000   7.917254      headgroup            0.250000\n",
       "w17          w17       6.22000   7.917254      headgroup            0.250000"
      ]
     },
     "execution_count": 63,
     "metadata": {},
     "output_type": "execute_result"
    }
   ],
   "source": [
    "pst_new.observation_data"
   ]
  },
  {
   "cell_type": "code",
   "execution_count": 64,
   "id": "b5b5db1d-10fc-414c-ae29-362491441eca",
   "metadata": {
    "execution": {
     "iopub.execute_input": "2025-07-03T18:19:46.789394Z",
     "iopub.status.busy": "2025-07-03T18:19:46.789309Z",
     "iopub.status.idle": "2025-07-03T18:19:46.800759Z",
     "shell.execute_reply": "2025-07-03T18:19:46.800409Z",
     "shell.execute_reply.started": "2025-07-03T18:19:46.789385Z"
    }
   },
   "outputs": [],
   "source": [
    "pst_new.control_data.noptmax = 3"
   ]
  },
  {
   "cell_type": "code",
   "execution_count": 65,
   "id": "97a8ec94-92ee-48b6-a4ed-cf5ef4a8036c",
   "metadata": {
    "execution": {
     "iopub.execute_input": "2025-07-03T18:19:46.801299Z",
     "iopub.status.busy": "2025-07-03T18:19:46.801210Z",
     "iopub.status.idle": "2025-07-03T18:19:46.837865Z",
     "shell.execute_reply": "2025-07-03T18:19:46.837482Z",
     "shell.execute_reply.started": "2025-07-03T18:19:46.801290Z"
    }
   },
   "outputs": [
    {
     "name": "stdout",
     "output_type": "stream",
     "text": [
      "noptmax:3, npar_adj:119, nnz_obs:40\n",
      "noptmax:3, npar_adj:119, nnz_obs:40\n"
     ]
    }
   ],
   "source": [
    "pst_new.write(str(rundir / \"mv.ies.pst\"), version=2)\n",
    "pst_new.write(str(t_d / \"mv.ies.pst\"), version=2)"
   ]
  },
  {
   "cell_type": "markdown",
   "id": "f9b29743",
   "metadata": {},
   "source": [
    "### now run the parameter estimation in parallel"
   ]
  },
  {
   "cell_type": "code",
   "execution_count": 66,
   "id": "1aa6a0a1",
   "metadata": {
    "execution": {
     "iopub.execute_input": "2025-07-03T18:19:46.845202Z",
     "iopub.status.busy": "2025-07-03T18:19:46.845059Z",
     "iopub.status.idle": "2025-07-03T18:23:11.138894Z",
     "shell.execute_reply": "2025-07-03T18:23:11.138526Z",
     "shell.execute_reply.started": "2025-07-03T18:19:46.845192Z"
    }
   },
   "outputs": [
    {
     "name": "stdout",
     "output_type": "stream",
     "text": [
      "\n",
      "\n",
      "             pestpp-ies: a GLM iterative ensemble smoother\n",
      "\n",
      "                   by the PEST++ development team\n",
      "\n",
      "\n",
      "version: 5.2.16\n",
      "binary compiled on Dec  1 2024 at 18:51:00\n",
      "\n",
      "started at 07/03/25 13:19:47\n",
      "...processing command line: ' ./pestpp-ies mv.ies.pst /h :4004'\n",
      "...using panther run manager in master mode using port 4004\n",
      "\n",
      "using control file: \"mv.ies.pst\"\n",
      "in directory: \"/Users/mnfienen/Documents/GIT/modflow-sandiego-2025/exercises/tmp/PEST/tmprun\"\n",
      "on host: \"IGSACB116LHMNFI\"\n",
      "\n",
      "processing control file mv.ies.pst\n",
      "\n",
      "\n",
      ":~-._                                                 _.-~:\n",
      ": :.~^o._        ________---------________        _.o^~.:.:\n",
      " : ::.`?88booo~~~.::::::::...::::::::::::..~~oood88P'.::.:\n",
      " :  ::: `?88P .:::....         ........:::::. ?88P' :::. :\n",
      "  :  :::. `? .::.            . ...........:::. P' .:::. :\n",
      "   :  :::   ... ..  ...       .. .::::......::.   :::. :\n",
      "   `  :' .... ..  .:::::.     . ..:::::::....:::.  `: .'\n",
      "    :..    ____:::::::::.  . . ....:::::::::____  ... :\n",
      "   :... `:~    ^~-:::::..  .........:::::-~^    ~::.::::\n",
      "   `.::. `\\   (8)  \\b:::..::.:.:::::::d/  (8)   /'.::::'\n",
      "    ::::.  ~-._v    |b.::::::::::::::d|    v_.-~..:::::\n",
      "    `.:::::... ~~^?888b..:::::::::::d888P^~...::::::::'\n",
      "     `.::::::::::....~~~ .:::::::::~~~:::::::::::::::'\n",
      "      `..:::::::::::   .   ....::::    ::::::::::::,'\n",
      "        `. .:::::::    .      .::::.    ::::::::'.'\n",
      "          `._ .:::    .        :::::.    :::::_.'\n",
      "             `-. :    .        :::::      :,-'\n",
      "                :.   :___     .:::___   .::\n",
      "      ..--~~~~--:+::. ~~^?b..:::dP^~~.::++:--~~~~--..\n",
      "        ___....--`+:::.    `~8~'    .:::+'--....___\n",
      "      ~~   __..---`_=:: ___gd8bg___ :==_'---..__   ~~\n",
      "       -~~~  _.--~~`-.~~~~~~~~~~~~~~~,-' ~~--._ ~~~-\n",
      "\n",
      "\n",
      "               starting PANTHER master...\n",
      "\n",
      "IP addresses:\n",
      "  0.0.0.0:4004 (IPv4)\n",
      "\n",
      "PANTHER master listening on socket: 0.0.0.0:4004 (IPv4)\n",
      "\n",
      "  ---  initializing  ---  \n",
      "...using glm algorithm\n",
      "...using REDSVD for truncated svd solve\n",
      "...maxsing: 10000000\n",
      "...eigthresh:  1e-06\n",
      "...initializing localizer\n",
      "...not using localization\n",
      "...using lambda multipliers: 0.1 , 1 , 10 , \n",
      "...using lambda scaling factors: 0.75 , 1 , 1.1 , \n",
      "...acceptable phi factor:  1.05\n",
      "...lambda increase factor:  10\n",
      "...lambda decrease factor:  0.75\n",
      "...max run fail:  1\n",
      "...initializing prior parameter covariance matrix\n",
      "...parcov loaded  from parameter bounds, using par_sigma_range 6\n",
      "...initializing observation noise covariance matrix\n",
      "...obscov loaded  from observation weights\n",
      "...using reg_factor:  0\n",
      "...drawing parameter realizations:  100\n",
      "parameters not grouped by parameter groups, reordering par ensemble\n",
      "...not using prior parameter covariance matrix scaling\n",
      "...drawing observation noise realizations:  100\n",
      "observations not grouped by observations groups, reordering obs ensemble\n",
      "...setting weights ensemble from control file weights\n",
      "...saved weight ensemble to  mv.ies.weights.csv\n",
      "...adding 'base' parameter values to ensemble\n",
      "...adding 'base' observation values to ensemble\n",
      "...adding 'base' weight values to weight ensemble\n",
      "...saved initial parameter ensemble to  mv.ies.0.par.csv\n",
      "...saved obs+noise observation ensemble (obsval + noise realizations) to  mv.ies.obs+noise.csv\n",
      "...using subset in lambda testing, percentage of realizations used in subset testing:  10\n",
      "...subset how:  RANDOM\n",
      "...centering on ensemble mean vector\n",
      "...running initial ensemble of size 100\n",
      "    running model 100 times\n",
      "    starting at 07/03/25 13:19:47\n",
      "\n",
      "    waiting for agents to appear...\n",
      "\n",
      "\n",
      "PANTHER progress\n",
      "   avg = average model run time in minutes\n",
      "   runs(C = completed | F = failed | T = timed out)\n",
      "   agents(R = running | W = waiting | U = unavailable)\n",
      "--------------------------------------------------------------------------------\n",
      "07/03 13:20:15 remaining file transfers: 0                                       \n",
      "\n",
      "   100 runs complete :  0 runs failed\n",
      "   0.0561 avg run time (min) : 0.466 run mgr time (min)\n",
      "   15 agents connected\n",
      "\n",
      "\n",
      "...saved initial obs ensemble to mv.ies.0.obs.csv\n",
      "saved par and rei files for realization BASE for iteration 0\n",
      "saved par and rei files for realization BASE\n",
      "\n",
      "  ---  pre-drop initial phi summary  ---  \n",
      "       phi type           mean            std            min            max\n",
      "       measured         7739.2        10117.2        1209.41        77794.1\n",
      "         actual        7563.84        10026.9         1028.2        76615.9\n",
      "     note: 'measured' phi reported above includes \n",
      "           realizations of measurement noise, \n",
      "           'actual' phi does not.\n",
      "  ---  observation group phi summary ---  \n",
      "       (computed using 'actual' phi)\n",
      "           (sorted by mean phi)\n",
      "group          count  nconflict      mean       std       min       max   percent       std\n",
      "headgroup         34          0  6.32e+03  9.75e+03       272  7.38e+04      76.3      20.7\n",
      "rivgroup           2          0       661  1.24e+03      3.03  1.03e+04      13.3      15.4\n",
      "lakegroup          1          0       416       587  0.000321  2.54e+03      6.35       7.9\n",
      "headdiffgroup      3          0       163       101     0.882  1.01e+03      4.13      3.62\n",
      "    Note: 'percent' is the percentage of the actual phi for each realization.\n",
      "\n",
      "...checking for prior-data conflict\n",
      "\n",
      "  ---  initial phi summary  ---  \n",
      "       phi type           mean            std            min            max\n",
      "       measured         7739.2        10117.2        1209.41        77794.1\n",
      "         actual        7563.84        10026.9         1028.2        76615.9\n",
      "     note: 'measured' phi reported above includes \n",
      "           realizations of measurement noise, \n",
      "           'actual' phi does not.\n",
      "  ---  observation group phi summary ---  \n",
      "       (computed using 'actual' phi)\n",
      "           (sorted by mean phi)\n",
      "group          count  nconflict      mean       std       min       max   percent       std\n",
      "headgroup         34          0  6.32e+03  9.75e+03       272  7.38e+04      76.3      20.7\n",
      "rivgroup           2          0       661  1.24e+03      3.03  1.03e+04      13.3      15.4\n",
      "lakegroup          1          0       416       587  0.000321  2.54e+03      6.35       7.9\n",
      "headdiffgroup      3          0       163       101     0.882  1.01e+03      4.13      3.62\n",
      "    Note: 'percent' is the percentage of the actual phi for each realization.\n",
      "\n",
      "...current lambda: 10\n",
      "\n",
      "  ---  initialization complete  ---  \n",
      "\n",
      "  ---  starting solve for iteration: 1  ---  \n",
      "...current lambda:  10\n",
      "...starting calcs for glm factor 1\n",
      "...finished calcs for: 1\n",
      "...starting calcs for glm factor 10\n",
      "...finished calcs for: 10\n",
      "...starting calcs for glm factor 100\n",
      "...finished calcs for: 100\n",
      "\n",
      "  ---  running upgrade ensembles  ---  \n",
      "...subset idx:pe real name:  9:9, 10:10, 17:17, 25:25, 41:41, 46:46, 73:73, 85:85, 90:90, 99:BASE, \n",
      "...subset idx:oe real name:  9:9, 10:10, 17:17, 25:25, 41:41, 46:46, 73:73, 85:85, 90:90, 99:BASE, \n",
      "    running model 90 times\n",
      "    starting at 07/03/25 13:20:15\n",
      "    15 agents ready\n",
      "\n",
      "\n",
      "PANTHER progress\n",
      "   avg = average model run time in minutes\n",
      "   runs(C = completed | F = failed | T = timed out)\n",
      "   agents(R = running | W = waiting | U = unavailable)\n",
      "--------------------------------------------------------------------------------\n",
      "07/03 13:20:44 remaining file transfers: 0                                       \n",
      "\n",
      "   90 runs complete :  0 runs failed\n",
      "   0.0812 avg run time (min) : 0.485 run mgr time (min)\n",
      "   15 agents connected\n",
      "\n",
      "\n",
      "\n",
      "  ---  evaluating upgrade ensembles  ---  \n",
      "...last mean:  7739.2\n",
      "...last stdev:  10117.2\n",
      "\n",
      "  ---  phi summary for best lambda, scale fac: 100 , 1.1 ,   ---  \n",
      "       phi type           mean            std            min            max\n",
      "       measured        1525.08        698.582        346.743        3021.05\n",
      "         actual        1454.97        688.655        346.743           2863\n",
      "     note: 'measured' phi reported above includes \n",
      "           realizations of measurement noise, \n",
      "           'actual' phi does not.\n",
      "\n",
      "  ---  running remaining realizations for best lambda, scale:100 , 1.1 ,   ---  \n",
      "    running model 90 times\n",
      "    starting at 07/03/25 13:20:44\n",
      "    15 agents ready\n",
      "\n",
      "\n",
      "PANTHER progress\n",
      "   avg = average model run time in minutes\n",
      "   runs(C = completed | F = failed | T = timed out)\n",
      "   agents(R = running | W = waiting | U = unavailable)\n",
      "--------------------------------------------------------------------------------\n",
      "07/03 13:21:13 remaining file transfers: 0                                       \n",
      "\n",
      "   90 runs complete :  0 runs failed\n",
      "   0.08 avg run time (min) : 0.489 run mgr time (min)\n",
      "   15 agents connected\n",
      "\n",
      "\n",
      "...phi summary for entire ensemble using lambda,scale_fac 100 , 1.1 , \n",
      "       phi type           mean            std            min            max\n",
      "       measured         1398.3        587.611        346.743        3384.62\n",
      "         actual        1281.72        583.772        346.743        3221.81\n",
      "     note: 'measured' phi reported above includes \n",
      "           realizations of measurement noise, \n",
      "           'actual' phi does not.\n",
      "...last best mean phi * acceptable phi factor:  8126.16\n",
      "...current best mean phi:  1398.3\n",
      "\n",
      "  ---  updating parameter ensemble  ---  \n",
      "\n",
      "  ---  updating lambda to  75  ---  \n",
      "\n",
      "  ---  EnsembleMethod iteration 1 report  ---  \n",
      "   number of active realizations:   100\n",
      "   number of model runs:            280\n",
      "      current obs ensemble saved to mv.ies.1.obs.csv\n",
      "      current par ensemble saved to mv.ies.1.par.csv\n",
      "saved par and rei files for realization BASE for iteration 1\n",
      "saved par and rei files for realization BASE\n",
      "       phi type           mean            std            min            max\n",
      "       measured         1398.3        587.611        346.743        3384.62\n",
      "         actual        1281.72        583.772        346.743        3221.81\n",
      "     note: 'measured' phi reported above includes \n",
      "           realizations of measurement noise, \n",
      "           'actual' phi does not.\n",
      "  ---  observation group phi summary ---  \n",
      "       (computed using 'actual' phi)\n",
      "           (sorted by mean phi)\n",
      "group          count  nconflict      mean       std       min       max   percent       std\n",
      "headgroup         34          0       988       543       118   2.8e+03      74.3      13.2\n",
      "headdiffgroup      3          0       134      52.3     0.757       219      12.2      7.36\n",
      "rivgroup           2          0       115       126       1.1       851      10.1        10\n",
      "lakegroup          1          0      44.6      63.3  0.000832       451      3.44      3.94\n",
      "    Note: 'percent' is the percentage of the actual phi for each realization.\n",
      "\n",
      "\n",
      "   ---  parameter group change summmary  ---    \n",
      "group           count  mean chg  std chg  n at ubnd  % at ubnd  n at lbnd  % at lbnd  n std decr\n",
      "hk_aq_5            21     6.164    13.73        420         20          0          0           0\n",
      "hk_aq_3            37     4.027    13.64        767      20.73          0          0           0\n",
      "hk_aq_1             6     7.144    14.28        120         20          0          0           0\n",
      "rch                 1    0.2539    9.217          5          5          8          8           0\n",
      "hk_aq_4            34       4.7    11.51        460      13.53          0          0           0\n",
      "anisotropy          1    0.9239    19.63          6          6          0          0           0\n",
      "hk_aq_2             6     5.358    17.16         32      5.333          0          0           0\n",
      "riv_cond            1     2.913    28.29          2          2          0          0           0\n",
      "hk_clay_1          11     464.9    5.673          5     0.4545          0          0           0\n",
      "anisotropy_clay     1     31.07    4.911          0          0          0          0           0\n",
      "    Note: parameter change summary sorted according to percent at bounds.\n",
      "    Note: the parameter change statistics implicitly include the effect of \n",
      "          realizations that have failed or have been dropped.\n",
      "    Note: the 'n std decr' is the number of parameters with current\n",
      "          std less 5% of their initial std.\n",
      "\n",
      "...saved parameter change summary to mv.ies.1.pcs.csv\n",
      "\n",
      "  ---  phi-based termination criteria check  ---  \n",
      "...phiredstp:  0.01\n",
      "...nphistp:  3\n",
      "...nphinored (also used for consecutive bad lambda cycles):  3\n",
      "...best mean phi sequence: 7739.2 , 1398.3 , \n",
      "...best phi yet:  1398.3\n",
      "...number of consecutive bad lambda testing cycles:  0\n",
      "...number of iterations satisfying phiredstp criteria:  1\n",
      "...number of iterations since best yet mean phi:  0\n",
      "\n",
      "  ---  starting solve for iteration: 2  ---  \n",
      "...current lambda:  75\n",
      "...starting calcs for glm factor 7.5\n",
      "...finished calcs for: 7.5\n",
      "...starting calcs for glm factor 75\n",
      "...finished calcs for: 75\n",
      "...starting calcs for glm factor 750\n",
      "...finished calcs for: 750\n",
      "\n",
      "  ---  running upgrade ensembles  ---  \n",
      "...subset idx:pe real name:  8:90, 9:BASE, 36:30, 44:38, 45:39, 49:44, 60:56, 76:72, 95:94, 96:95, \n",
      "...subset idx:oe real name:  8:90, 9:BASE, 36:30, 44:38, 45:39, 49:44, 60:56, 76:72, 95:94, 96:95, \n",
      "    running model 90 times\n",
      "    starting at 07/03/25 13:21:13\n",
      "    15 agents ready\n",
      "\n",
      "\n",
      "PANTHER progress\n",
      "   avg = average model run time in minutes\n",
      "   runs(C = completed | F = failed | T = timed out)\n",
      "   agents(R = running | W = waiting | U = unavailable)\n",
      "--------------------------------------------------------------------------------\n",
      "07/03 13:21:46 remaining file transfers: 0                                       \n",
      "\n",
      "   90 runs complete :  0 runs failed\n",
      "   0.0833 avg run time (min) : 0.537 run mgr time (min)\n",
      "   15 agents connected\n",
      "\n",
      "\n",
      "\n",
      "  ---  evaluating upgrade ensembles  ---  \n",
      "...last mean:  1398.3\n",
      "...last stdev:  587.611\n",
      "\n",
      "  ---  phi summary for best lambda, scale fac: 7.5 , 1.1 ,   ---  \n",
      "       phi type           mean            std            min            max\n",
      "       measured        441.389        201.723         103.49        745.652\n",
      "         actual        377.073        199.195         103.49        675.573\n",
      "     note: 'measured' phi reported above includes \n",
      "           realizations of measurement noise, \n",
      "           'actual' phi does not.\n",
      "\n",
      "  ---  running remaining realizations for best lambda, scale:7.5 , 1.1 ,   ---  \n",
      "    running model 90 times\n",
      "    starting at 07/03/25 13:21:46\n",
      "    15 agents ready\n",
      "\n",
      "\n",
      "PANTHER progress\n",
      "   avg = average model run time in minutes\n",
      "   runs(C = completed | F = failed | T = timed out)\n",
      "   agents(R = running | W = waiting | U = unavailable)\n",
      "--------------------------------------------------------------------------------\n",
      "07/03 13:22:13 remaining file transfers: 0                                       \n",
      "\n",
      "   90 runs complete :  0 runs failed\n",
      "   0.0711 avg run time (min) : 0.459 run mgr time (min)\n",
      "   15 agents connected\n",
      "\n",
      "\n",
      "...phi summary for entire ensemble using lambda,scale_fac 7.5 , 1.1 , \n",
      "       phi type           mean            std            min            max\n",
      "       measured        480.229        189.955         103.49        1354.73\n",
      "         actual        420.423        190.124         103.49        1297.01\n",
      "     note: 'measured' phi reported above includes \n",
      "           realizations of measurement noise, \n",
      "           'actual' phi does not.\n",
      "...last best mean phi * acceptable phi factor:  1468.21\n",
      "...current best mean phi:  480.229\n",
      "\n",
      "  ---  updating parameter ensemble  ---  \n",
      "\n",
      "  ---  updating lambda to  5.625  ---  \n",
      "\n",
      "  ---  EnsembleMethod iteration 2 report  ---  \n",
      "   number of active realizations:   100\n",
      "   number of model runs:            460\n",
      "      current obs ensemble saved to mv.ies.2.obs.csv\n",
      "      current par ensemble saved to mv.ies.2.par.csv\n",
      "saved par and rei files for realization BASE for iteration 2\n",
      "saved par and rei files for realization BASE\n",
      "       phi type           mean            std            min            max\n",
      "       measured        480.229        189.955         103.49        1354.73\n",
      "         actual        420.423        190.124         103.49        1297.01\n",
      "     note: 'measured' phi reported above includes \n",
      "           realizations of measurement noise, \n",
      "           'actual' phi does not.\n",
      "  ---  observation group phi summary ---  \n",
      "       (computed using 'actual' phi)\n",
      "           (sorted by mean phi)\n",
      "group          count  nconflict      mean       std       min       max   percent       std\n",
      "headgroup         34          0       340       165      65.6  1.14e+03      80.5      11.1\n",
      "headdiffgroup      3          0      35.5      42.5      0.49       204      9.22        10\n",
      "lakegroup          1          0      28.8      33.6   0.00153       158      6.09      6.16\n",
      "rivgroup           2          0      16.3      23.2     0.223       133      4.15      5.52\n",
      "    Note: 'percent' is the percentage of the actual phi for each realization.\n",
      "\n",
      "\n",
      "   ---  parameter group change summmary  ---    \n",
      "group           count  mean chg  std chg  n at ubnd  % at ubnd  n at lbnd  % at lbnd  n std decr\n",
      "hk_aq_1             6     20.12     29.3        156         26          0          0           0\n",
      "hk_aq_5            21     11.11    26.38        472      22.48          0          0           0\n",
      "hk_aq_3            37      7.93    26.94        753      20.35          0          0           0\n",
      "hk_aq_4            34     8.327    23.19        443      13.03          0          0           0\n",
      "rch                 1      0.32    18.27          2          2          8          8           0\n",
      "hk_aq_2             6     14.56    34.48         41      6.833          0          0           0\n",
      "riv_cond            1     6.617    37.58          4          4          0          0           0\n",
      "hk_clay_1          11     735.9    12.05          6     0.5455          0          0           0\n",
      "anisotropy_clay     1     126.6    13.68          0          0          0          0           0\n",
      "anisotropy          1    0.7611    40.78          0          0          0          0           0\n",
      "    Note: parameter change summary sorted according to percent at bounds.\n",
      "    Note: the parameter change statistics implicitly include the effect of \n",
      "          realizations that have failed or have been dropped.\n",
      "    Note: the 'n std decr' is the number of parameters with current\n",
      "          std less 5% of their initial std.\n",
      "\n",
      "...saved parameter change summary to mv.ies.2.pcs.csv\n",
      "\n",
      "  ---  phi-based termination criteria check  ---  \n",
      "...phiredstp:  0.01\n",
      "...nphistp:  3\n",
      "...nphinored (also used for consecutive bad lambda cycles):  3\n",
      "...best mean phi sequence: 7739.2 , 1398.3 , 480.229 , \n",
      "...best phi yet:  480.229\n",
      "...number of consecutive bad lambda testing cycles:  0\n",
      "...number of iterations satisfying phiredstp criteria:  1\n",
      "...number of iterations since best yet mean phi:  0\n",
      "\n",
      "  ---  starting solve for iteration: 3  ---  \n",
      "...current lambda:  5.625\n",
      "...starting calcs for glm factor 0.5625\n",
      "...finished calcs for: 0.5625\n",
      "...starting calcs for glm factor 5.625\n",
      "...finished calcs for: 5.625\n",
      "...starting calcs for glm factor 56.25\n",
      "...finished calcs for: 56.25\n",
      "\n",
      "  ---  running upgrade ensembles  ---  \n",
      "...subset idx:pe real name:  1:BASE, 9:95, 14:41, 19:1, 26:8, 37:22, 44:31, 52:42, 57:49, 73:66, \n",
      "...subset idx:oe real name:  1:BASE, 9:95, 14:41, 19:1, 26:8, 37:22, 44:31, 52:42, 57:49, 73:66, \n",
      "    running model 90 times\n",
      "    starting at 07/03/25 13:22:13\n",
      "    15 agents ready\n",
      "\n",
      "\n",
      "PANTHER progress\n",
      "   avg = average model run time in minutes\n",
      "   runs(C = completed | F = failed | T = timed out)\n",
      "   agents(R = running | W = waiting | U = unavailable)\n",
      "--------------------------------------------------------------------------------\n",
      "07/03 13:22:41 remaining file transfers: 0                                       \n",
      "\n",
      "   90 runs complete :  0 runs failed\n",
      "   0.0761 avg run time (min) : 0.459 run mgr time (min)\n",
      "   15 agents connected\n",
      "\n",
      "\n",
      "\n",
      "  ---  evaluating upgrade ensembles  ---  \n",
      "...last mean:  480.229\n",
      "...last stdev:  189.955\n",
      "\n",
      "  ---  phi summary for best lambda, scale fac: 5.625 , 1.1 ,   ---  \n",
      "       phi type           mean            std            min            max\n",
      "       measured         234.74        94.0929         27.204        368.063\n",
      "         actual        184.507        102.501         27.204        332.137\n",
      "     note: 'measured' phi reported above includes \n",
      "           realizations of measurement noise, \n",
      "           'actual' phi does not.\n",
      "\n",
      "  ---  running remaining realizations for best lambda, scale:5.625 , 1.1 ,   ---  \n",
      "    running model 90 times\n",
      "    starting at 07/03/25 13:22:41\n",
      "    15 agents ready\n",
      "\n",
      "\n",
      "PANTHER progress\n",
      "   avg = average model run time in minutes\n",
      "   runs(C = completed | F = failed | T = timed out)\n",
      "   agents(R = running | W = waiting | U = unavailable)\n",
      "--------------------------------------------------------------------------------\n",
      "07/03 13:23:09 remaining file transfers: 0                                       \n",
      "\n",
      "   90 runs complete :  0 runs failed\n",
      "   0.0773 avg run time (min) : 0.467 run mgr time (min)\n",
      "   15 agents connected\n",
      "\n",
      "\n",
      "...phi summary for entire ensemble using lambda,scale_fac 5.625 , 1.1 , \n",
      "       phi type           mean            std            min            max\n",
      "       measured        254.639        91.9357         27.204        642.045\n",
      "         actual        203.127        87.0153         27.204        545.788\n",
      "     note: 'measured' phi reported above includes \n",
      "           realizations of measurement noise, \n",
      "           'actual' phi does not.\n"
     ]
    }
   ],
   "source": [
    "run_flag = True\n",
    "if run_flag:\n",
    "    pyemu.os_utils.start_workers(\n",
    "        str(t_d),\n",
    "        num_workers=15,\n",
    "        master_dir=str(rundir),\n",
    "        exe_rel_path=\"pestpp-ies\",\n",
    "        pst_rel_path=\"mv.ies.pst\",\n",
    "    )"
   ]
  },
  {
   "cell_type": "code",
   "execution_count": null,
   "id": "2e8b79df-fc19-4050-aeaf-eca0fae4994f",
   "metadata": {},
   "outputs": [],
   "source": []
  }
 ],
 "metadata": {
  "kernelspec": {
   "display_name": "Python 3 (ipykernel)",
   "language": "python",
   "name": "python3"
  },
  "language_info": {
   "codemirror_mode": {
    "name": "ipython",
    "version": 3
   },
   "file_extension": ".py",
   "mimetype": "text/x-python",
   "name": "python",
   "nbconvert_exporter": "python",
   "pygments_lexer": "ipython3",
   "version": "3.11.13"
  }
 },
 "nbformat": 4,
 "nbformat_minor": 5
}
