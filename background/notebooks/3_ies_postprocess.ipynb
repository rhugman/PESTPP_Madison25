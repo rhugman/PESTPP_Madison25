{
 "cells": [
  {
   "cell_type": "markdown",
   "id": "39908c6b",
   "metadata": {},
   "source": [
    "# U.S. Geological Survey Intro to MODFLOW Class\n",
    "San Diego, CA\\\n",
    "January 6-10, 2025\n",
    "\n",
    "\n",
    "## Examining and Visualizing PEST++ Output"
   ]
  },
  {
   "cell_type": "code",
   "execution_count": 1,
   "id": "19620d13",
   "metadata": {
    "execution": {
     "iopub.execute_input": "2025-07-03T18:27:32.178851Z",
     "iopub.status.busy": "2025-07-03T18:27:32.178745Z",
     "iopub.status.idle": "2025-07-03T18:27:33.737738Z",
     "shell.execute_reply": "2025-07-03T18:27:33.737430Z",
     "shell.execute_reply.started": "2025-07-03T18:27:32.178841Z"
    }
   },
   "outputs": [],
   "source": [
    "import shutil\n",
    "from pathlib import Path\n",
    "\n",
    "import flopy as fp\n",
    "import matplotlib as mpl\n",
    "import matplotlib.pyplot as plt\n",
    "import numpy as np\n",
    "import pandas as pd\n",
    "import pyemu\n",
    "from matplotlib.backends.backend_pdf import PdfPages"
   ]
  },
  {
   "cell_type": "markdown",
   "id": "7c8617bd",
   "metadata": {},
   "source": [
    "#### *quick note* feel free to change the paths in the next cell to account for running different options. the `ies_dir` should match `rundir` in the previous notebook, and you can drop your plots wherever you like"
   ]
  },
  {
   "cell_type": "code",
   "execution_count": 2,
   "id": "e8130527",
   "metadata": {
    "execution": {
     "iopub.execute_input": "2025-07-03T18:27:33.738416Z",
     "iopub.status.busy": "2025-07-03T18:27:33.738231Z",
     "iopub.status.idle": "2025-07-03T18:27:33.769492Z",
     "shell.execute_reply": "2025-07-03T18:27:33.769134Z",
     "shell.execute_reply.started": "2025-07-03T18:27:33.738399Z"
    }
   },
   "outputs": [],
   "source": [
    "ies_dir = Path(\"../tmprun/\")\n",
    "plotdir = Path(\"./plotting\")\n",
    "if not plotdir.exists():\n",
    "    plotdir.mkdir()\n",
    "pst = pyemu.Pst(str(ies_dir / \"mv.ies.pst\"))"
   ]
  },
  {
   "cell_type": "code",
   "execution_count": 3,
   "id": "ab593b95-2062-4408-839c-5b3eeb9d34b2",
   "metadata": {
    "execution": {
     "iopub.execute_input": "2025-07-03T18:27:33.769948Z",
     "iopub.status.busy": "2025-07-03T18:27:33.769854Z",
     "iopub.status.idle": "2025-07-03T18:27:33.785429Z",
     "shell.execute_reply": "2025-07-03T18:27:33.785162Z",
     "shell.execute_reply.started": "2025-07-03T18:27:33.769939Z"
    }
   },
   "outputs": [
    {
     "data": {
      "text/html": [
       "<div>\n",
       "<style scoped>\n",
       "    .dataframe tbody tr th:only-of-type {\n",
       "        vertical-align: middle;\n",
       "    }\n",
       "\n",
       "    .dataframe tbody tr th {\n",
       "        vertical-align: top;\n",
       "    }\n",
       "\n",
       "    .dataframe thead th {\n",
       "        text-align: right;\n",
       "    }\n",
       "</style>\n",
       "<table border=\"1\" class=\"dataframe\">\n",
       "  <thead>\n",
       "    <tr style=\"text-align: right;\">\n",
       "      <th></th>\n",
       "      <th>parnme</th>\n",
       "      <th>partrans</th>\n",
       "      <th>parchglim</th>\n",
       "      <th>parval1</th>\n",
       "      <th>parlbnd</th>\n",
       "      <th>parubnd</th>\n",
       "      <th>pargp</th>\n",
       "      <th>scale</th>\n",
       "      <th>offset</th>\n",
       "      <th>dercom</th>\n",
       "      <th>i</th>\n",
       "      <th>j</th>\n",
       "      <th>zone</th>\n",
       "    </tr>\n",
       "    <tr>\n",
       "      <th>parnme</th>\n",
       "      <th></th>\n",
       "      <th></th>\n",
       "      <th></th>\n",
       "      <th></th>\n",
       "      <th></th>\n",
       "      <th></th>\n",
       "      <th></th>\n",
       "      <th></th>\n",
       "      <th></th>\n",
       "      <th></th>\n",
       "      <th></th>\n",
       "      <th></th>\n",
       "      <th></th>\n",
       "    </tr>\n",
       "  </thead>\n",
       "  <tbody>\n",
       "    <tr>\n",
       "      <th>hk_aq_i:10_j:10_zone:5</th>\n",
       "      <td>hk_aq_i:10_j:10_zone:5</td>\n",
       "      <td>log</td>\n",
       "      <td>factor</td>\n",
       "      <td>200.000000</td>\n",
       "      <td>0.010000</td>\n",
       "      <td>1000.000000</td>\n",
       "      <td>hk_aq_5</td>\n",
       "      <td>1.0</td>\n",
       "      <td>0.0</td>\n",
       "      <td>1</td>\n",
       "      <td>10</td>\n",
       "      <td>10</td>\n",
       "      <td>5</td>\n",
       "    </tr>\n",
       "    <tr>\n",
       "      <th>hk_aq_i:10_j:13_zone:5</th>\n",
       "      <td>hk_aq_i:10_j:13_zone:5</td>\n",
       "      <td>log</td>\n",
       "      <td>factor</td>\n",
       "      <td>200.000000</td>\n",
       "      <td>0.010000</td>\n",
       "      <td>1000.000000</td>\n",
       "      <td>hk_aq_5</td>\n",
       "      <td>1.0</td>\n",
       "      <td>0.0</td>\n",
       "      <td>1</td>\n",
       "      <td>10</td>\n",
       "      <td>13</td>\n",
       "      <td>5</td>\n",
       "    </tr>\n",
       "    <tr>\n",
       "      <th>hk_aq_i:10_j:16_zone:5</th>\n",
       "      <td>hk_aq_i:10_j:16_zone:5</td>\n",
       "      <td>log</td>\n",
       "      <td>factor</td>\n",
       "      <td>200.000000</td>\n",
       "      <td>0.010000</td>\n",
       "      <td>1000.000000</td>\n",
       "      <td>hk_aq_5</td>\n",
       "      <td>1.0</td>\n",
       "      <td>0.0</td>\n",
       "      <td>1</td>\n",
       "      <td>10</td>\n",
       "      <td>16</td>\n",
       "      <td>5</td>\n",
       "    </tr>\n",
       "    <tr>\n",
       "      <th>hk_aq_i:10_j:19_zone:5</th>\n",
       "      <td>hk_aq_i:10_j:19_zone:5</td>\n",
       "      <td>log</td>\n",
       "      <td>factor</td>\n",
       "      <td>200.000000</td>\n",
       "      <td>0.010000</td>\n",
       "      <td>1000.000000</td>\n",
       "      <td>hk_aq_5</td>\n",
       "      <td>1.0</td>\n",
       "      <td>0.0</td>\n",
       "      <td>1</td>\n",
       "      <td>10</td>\n",
       "      <td>19</td>\n",
       "      <td>5</td>\n",
       "    </tr>\n",
       "    <tr>\n",
       "      <th>hk_aq_i:10_j:1_zone:4</th>\n",
       "      <td>hk_aq_i:10_j:1_zone:4</td>\n",
       "      <td>log</td>\n",
       "      <td>factor</td>\n",
       "      <td>200.000000</td>\n",
       "      <td>0.010000</td>\n",
       "      <td>750.000000</td>\n",
       "      <td>hk_aq_4</td>\n",
       "      <td>1.0</td>\n",
       "      <td>0.0</td>\n",
       "      <td>1</td>\n",
       "      <td>10</td>\n",
       "      <td>1</td>\n",
       "      <td>4</td>\n",
       "    </tr>\n",
       "    <tr>\n",
       "      <th>...</th>\n",
       "      <td>...</td>\n",
       "      <td>...</td>\n",
       "      <td>...</td>\n",
       "      <td>...</td>\n",
       "      <td>...</td>\n",
       "      <td>...</td>\n",
       "      <td>...</td>\n",
       "      <td>...</td>\n",
       "      <td>...</td>\n",
       "      <td>...</td>\n",
       "      <td>...</td>\n",
       "      <td>...</td>\n",
       "      <td>...</td>\n",
       "    </tr>\n",
       "    <tr>\n",
       "      <th>hk_clay_i:9_j:9_zone:1</th>\n",
       "      <td>hk_clay_i:9_j:9_zone:1</td>\n",
       "      <td>log</td>\n",
       "      <td>factor</td>\n",
       "      <td>1.000000</td>\n",
       "      <td>0.000100</td>\n",
       "      <td>100.000000</td>\n",
       "      <td>hk_clay_1</td>\n",
       "      <td>1.0</td>\n",
       "      <td>0.0</td>\n",
       "      <td>1</td>\n",
       "      <td>9</td>\n",
       "      <td>9</td>\n",
       "      <td>1</td>\n",
       "    </tr>\n",
       "    <tr>\n",
       "      <th>kaniso</th>\n",
       "      <td>kaniso</td>\n",
       "      <td>log</td>\n",
       "      <td>factor</td>\n",
       "      <td>0.200000</td>\n",
       "      <td>0.001000</td>\n",
       "      <td>0.850000</td>\n",
       "      <td>anisotropy</td>\n",
       "      <td>1.0</td>\n",
       "      <td>0.0</td>\n",
       "      <td>1</td>\n",
       "      <td>NaN</td>\n",
       "      <td>NaN</td>\n",
       "      <td>NaN</td>\n",
       "    </tr>\n",
       "    <tr>\n",
       "      <th>kaniso_clay</th>\n",
       "      <td>kaniso_clay</td>\n",
       "      <td>log</td>\n",
       "      <td>factor</td>\n",
       "      <td>0.500000</td>\n",
       "      <td>0.001000</td>\n",
       "      <td>0.850000</td>\n",
       "      <td>anisotropy_clay</td>\n",
       "      <td>1.0</td>\n",
       "      <td>0.0</td>\n",
       "      <td>1</td>\n",
       "      <td>NaN</td>\n",
       "      <td>NaN</td>\n",
       "      <td>NaN</td>\n",
       "    </tr>\n",
       "    <tr>\n",
       "      <th>rch</th>\n",
       "      <td>rch</td>\n",
       "      <td>log</td>\n",
       "      <td>factor</td>\n",
       "      <td>0.003641</td>\n",
       "      <td>0.003277</td>\n",
       "      <td>0.004005</td>\n",
       "      <td>rch</td>\n",
       "      <td>1.0</td>\n",
       "      <td>0.0</td>\n",
       "      <td>1</td>\n",
       "      <td>NaN</td>\n",
       "      <td>NaN</td>\n",
       "      <td>NaN</td>\n",
       "    </tr>\n",
       "    <tr>\n",
       "      <th>rv1</th>\n",
       "      <td>rv1</td>\n",
       "      <td>log</td>\n",
       "      <td>factor</td>\n",
       "      <td>100000.000000</td>\n",
       "      <td>1000.000000</td>\n",
       "      <td>1000000.000000</td>\n",
       "      <td>riv_cond</td>\n",
       "      <td>1.0</td>\n",
       "      <td>0.0</td>\n",
       "      <td>1</td>\n",
       "      <td>NaN</td>\n",
       "      <td>NaN</td>\n",
       "      <td>NaN</td>\n",
       "    </tr>\n",
       "  </tbody>\n",
       "</table>\n",
       "<p>119 rows × 13 columns</p>\n",
       "</div>"
      ],
      "text/plain": [
       "                                        parnme partrans parchglim  \\\n",
       "parnme                                                              \n",
       "hk_aq_i:10_j:10_zone:5  hk_aq_i:10_j:10_zone:5      log    factor   \n",
       "hk_aq_i:10_j:13_zone:5  hk_aq_i:10_j:13_zone:5      log    factor   \n",
       "hk_aq_i:10_j:16_zone:5  hk_aq_i:10_j:16_zone:5      log    factor   \n",
       "hk_aq_i:10_j:19_zone:5  hk_aq_i:10_j:19_zone:5      log    factor   \n",
       "hk_aq_i:10_j:1_zone:4    hk_aq_i:10_j:1_zone:4      log    factor   \n",
       "...                                        ...      ...       ...   \n",
       "hk_clay_i:9_j:9_zone:1  hk_clay_i:9_j:9_zone:1      log    factor   \n",
       "kaniso                                  kaniso      log    factor   \n",
       "kaniso_clay                        kaniso_clay      log    factor   \n",
       "rch                                        rch      log    factor   \n",
       "rv1                                        rv1      log    factor   \n",
       "\n",
       "                              parval1      parlbnd         parubnd  \\\n",
       "parnme                                                               \n",
       "hk_aq_i:10_j:10_zone:5     200.000000     0.010000     1000.000000   \n",
       "hk_aq_i:10_j:13_zone:5     200.000000     0.010000     1000.000000   \n",
       "hk_aq_i:10_j:16_zone:5     200.000000     0.010000     1000.000000   \n",
       "hk_aq_i:10_j:19_zone:5     200.000000     0.010000     1000.000000   \n",
       "hk_aq_i:10_j:1_zone:4      200.000000     0.010000      750.000000   \n",
       "...                               ...          ...             ...   \n",
       "hk_clay_i:9_j:9_zone:1       1.000000     0.000100      100.000000   \n",
       "kaniso                       0.200000     0.001000        0.850000   \n",
       "kaniso_clay                  0.500000     0.001000        0.850000   \n",
       "rch                          0.003641     0.003277        0.004005   \n",
       "rv1                     100000.000000  1000.000000  1000000.000000   \n",
       "\n",
       "                                  pargp  scale  offset  dercom    i    j zone  \n",
       "parnme                                                                         \n",
       "hk_aq_i:10_j:10_zone:5          hk_aq_5    1.0     0.0       1   10   10    5  \n",
       "hk_aq_i:10_j:13_zone:5          hk_aq_5    1.0     0.0       1   10   13    5  \n",
       "hk_aq_i:10_j:16_zone:5          hk_aq_5    1.0     0.0       1   10   16    5  \n",
       "hk_aq_i:10_j:19_zone:5          hk_aq_5    1.0     0.0       1   10   19    5  \n",
       "hk_aq_i:10_j:1_zone:4           hk_aq_4    1.0     0.0       1   10    1    4  \n",
       "...                                 ...    ...     ...     ...  ...  ...  ...  \n",
       "hk_clay_i:9_j:9_zone:1        hk_clay_1    1.0     0.0       1    9    9    1  \n",
       "kaniso                       anisotropy    1.0     0.0       1  NaN  NaN  NaN  \n",
       "kaniso_clay             anisotropy_clay    1.0     0.0       1  NaN  NaN  NaN  \n",
       "rch                                 rch    1.0     0.0       1  NaN  NaN  NaN  \n",
       "rv1                            riv_cond    1.0     0.0       1  NaN  NaN  NaN  \n",
       "\n",
       "[119 rows x 13 columns]"
      ]
     },
     "execution_count": 3,
     "metadata": {},
     "output_type": "execute_result"
    }
   ],
   "source": [
    "pst.parameter_data"
   ]
  },
  {
   "cell_type": "code",
   "execution_count": 4,
   "id": "bc01ecad-0390-42de-ab4a-cabea5c2a2b7",
   "metadata": {
    "execution": {
     "iopub.execute_input": "2025-07-03T18:27:33.786005Z",
     "iopub.status.busy": "2025-07-03T18:27:33.785888Z",
     "iopub.status.idle": "2025-07-03T18:27:33.790232Z",
     "shell.execute_reply": "2025-07-03T18:27:33.789950Z",
     "shell.execute_reply.started": "2025-07-03T18:27:33.785995Z"
    }
   },
   "outputs": [
    {
     "data": {
      "text/html": [
       "<div>\n",
       "<style scoped>\n",
       "    .dataframe tbody tr th:only-of-type {\n",
       "        vertical-align: middle;\n",
       "    }\n",
       "\n",
       "    .dataframe tbody tr th {\n",
       "        vertical-align: top;\n",
       "    }\n",
       "\n",
       "    .dataframe thead th {\n",
       "        text-align: right;\n",
       "    }\n",
       "</style>\n",
       "<table border=\"1\" class=\"dataframe\">\n",
       "  <thead>\n",
       "    <tr style=\"text-align: right;\">\n",
       "      <th></th>\n",
       "      <th>obsnme</th>\n",
       "      <th>obsval</th>\n",
       "      <th>weight</th>\n",
       "      <th>obgnme</th>\n",
       "      <th>standard_deviation</th>\n",
       "    </tr>\n",
       "    <tr>\n",
       "      <th>obsnme</th>\n",
       "      <th></th>\n",
       "      <th></th>\n",
       "      <th></th>\n",
       "      <th></th>\n",
       "      <th></th>\n",
       "    </tr>\n",
       "  </thead>\n",
       "  <tbody>\n",
       "    <tr>\n",
       "      <th>u16</th>\n",
       "      <td>u16</td>\n",
       "      <td>2.76</td>\n",
       "      <td>7.917254</td>\n",
       "      <td>headgroup</td>\n",
       "      <td>0.25</td>\n",
       "    </tr>\n",
       "    <tr>\n",
       "      <th>u01</th>\n",
       "      <td>u01</td>\n",
       "      <td>12.05</td>\n",
       "      <td>7.917254</td>\n",
       "      <td>headgroup</td>\n",
       "      <td>0.25</td>\n",
       "    </tr>\n",
       "    <tr>\n",
       "      <th>w17</th>\n",
       "      <td>w17</td>\n",
       "      <td>6.22</td>\n",
       "      <td>7.917254</td>\n",
       "      <td>headgroup</td>\n",
       "      <td>0.25</td>\n",
       "    </tr>\n",
       "    <tr>\n",
       "      <th>w10</th>\n",
       "      <td>w10</td>\n",
       "      <td>10.64</td>\n",
       "      <td>7.917254</td>\n",
       "      <td>headgroup</td>\n",
       "      <td>0.25</td>\n",
       "    </tr>\n",
       "    <tr>\n",
       "      <th>ds</th>\n",
       "      <td>ds</td>\n",
       "      <td>-894494.00</td>\n",
       "      <td>0.000023</td>\n",
       "      <td>rivgroup</td>\n",
       "      <td>89449.40</td>\n",
       "    </tr>\n",
       "  </tbody>\n",
       "</table>\n",
       "</div>"
      ],
      "text/plain": [
       "       obsnme     obsval    weight     obgnme  standard_deviation\n",
       "obsnme                                                           \n",
       "u16       u16       2.76  7.917254  headgroup                0.25\n",
       "u01       u01      12.05  7.917254  headgroup                0.25\n",
       "w17       w17       6.22  7.917254  headgroup                0.25\n",
       "w10       w10      10.64  7.917254  headgroup                0.25\n",
       "ds         ds -894494.00  0.000023   rivgroup            89449.40"
      ]
     },
     "execution_count": 4,
     "metadata": {},
     "output_type": "execute_result"
    }
   ],
   "source": [
    "obs_true = pst.observation_data\n",
    "obs_true.sample(5)"
   ]
  },
  {
   "cell_type": "code",
   "execution_count": 5,
   "id": "59bc3d0e",
   "metadata": {
    "execution": {
     "iopub.execute_input": "2025-07-03T18:27:33.790749Z",
     "iopub.status.busy": "2025-07-03T18:27:33.790613Z",
     "iopub.status.idle": "2025-07-03T18:27:33.804726Z",
     "shell.execute_reply": "2025-07-03T18:27:33.804422Z",
     "shell.execute_reply.started": "2025-07-03T18:27:33.790736Z"
    }
   },
   "outputs": [
    {
     "data": {
      "text/html": [
       "<div>\n",
       "<style scoped>\n",
       "    .dataframe tbody tr th:only-of-type {\n",
       "        vertical-align: middle;\n",
       "    }\n",
       "\n",
       "    .dataframe tbody tr th {\n",
       "        vertical-align: top;\n",
       "    }\n",
       "\n",
       "    .dataframe thead th {\n",
       "        text-align: right;\n",
       "    }\n",
       "</style>\n",
       "<table border=\"1\" class=\"dataframe\">\n",
       "  <thead>\n",
       "    <tr style=\"text-align: right;\">\n",
       "      <th></th>\n",
       "      <th>chdflow</th>\n",
       "      <th>ds</th>\n",
       "      <th>pf</th>\n",
       "      <th>u01</th>\n",
       "      <th>u02</th>\n",
       "      <th>u03</th>\n",
       "      <th>u04</th>\n",
       "      <th>u05</th>\n",
       "      <th>u06</th>\n",
       "      <th>u07</th>\n",
       "      <th>...</th>\n",
       "      <th>w08</th>\n",
       "      <th>w09</th>\n",
       "      <th>w10</th>\n",
       "      <th>w11</th>\n",
       "      <th>w12</th>\n",
       "      <th>w13</th>\n",
       "      <th>w14</th>\n",
       "      <th>w15</th>\n",
       "      <th>w16</th>\n",
       "      <th>w17</th>\n",
       "    </tr>\n",
       "    <tr>\n",
       "      <th>real_name</th>\n",
       "      <th></th>\n",
       "      <th></th>\n",
       "      <th></th>\n",
       "      <th></th>\n",
       "      <th></th>\n",
       "      <th></th>\n",
       "      <th></th>\n",
       "      <th></th>\n",
       "      <th></th>\n",
       "      <th></th>\n",
       "      <th></th>\n",
       "      <th></th>\n",
       "      <th></th>\n",
       "      <th></th>\n",
       "      <th></th>\n",
       "      <th></th>\n",
       "      <th></th>\n",
       "      <th></th>\n",
       "      <th></th>\n",
       "      <th></th>\n",
       "      <th></th>\n",
       "    </tr>\n",
       "  </thead>\n",
       "  <tbody>\n",
       "    <tr>\n",
       "      <th>23</th>\n",
       "      <td>31715.2</td>\n",
       "      <td>-876661.0</td>\n",
       "      <td>-106066.0</td>\n",
       "      <td>12.1183</td>\n",
       "      <td>11.9802</td>\n",
       "      <td>11.7177</td>\n",
       "      <td>11.4219</td>\n",
       "      <td>11.1317</td>\n",
       "      <td>10.7297</td>\n",
       "      <td>9.30892</td>\n",
       "      <td>...</td>\n",
       "      <td>8.85198</td>\n",
       "      <td>8.75137</td>\n",
       "      <td>10.5334</td>\n",
       "      <td>4.42994</td>\n",
       "      <td>4.48753</td>\n",
       "      <td>7.26588</td>\n",
       "      <td>2.74035</td>\n",
       "      <td>4.57313</td>\n",
       "      <td>2.75999</td>\n",
       "      <td>5.93544</td>\n",
       "    </tr>\n",
       "    <tr>\n",
       "      <th>45</th>\n",
       "      <td>31123.6</td>\n",
       "      <td>-898002.0</td>\n",
       "      <td>-90746.5</td>\n",
       "      <td>11.8955</td>\n",
       "      <td>11.4696</td>\n",
       "      <td>12.5883</td>\n",
       "      <td>11.6722</td>\n",
       "      <td>10.7201</td>\n",
       "      <td>11.0696</td>\n",
       "      <td>9.34737</td>\n",
       "      <td>...</td>\n",
       "      <td>8.95129</td>\n",
       "      <td>8.60782</td>\n",
       "      <td>10.6885</td>\n",
       "      <td>3.81879</td>\n",
       "      <td>4.40691</td>\n",
       "      <td>7.67058</td>\n",
       "      <td>3.10115</td>\n",
       "      <td>4.84890</td>\n",
       "      <td>2.88271</td>\n",
       "      <td>6.15536</td>\n",
       "    </tr>\n",
       "    <tr>\n",
       "      <th>46</th>\n",
       "      <td>31128.6</td>\n",
       "      <td>-724090.0</td>\n",
       "      <td>-100053.0</td>\n",
       "      <td>12.5374</td>\n",
       "      <td>11.5711</td>\n",
       "      <td>12.2914</td>\n",
       "      <td>11.9149</td>\n",
       "      <td>11.2632</td>\n",
       "      <td>10.6570</td>\n",
       "      <td>9.21432</td>\n",
       "      <td>...</td>\n",
       "      <td>8.83797</td>\n",
       "      <td>8.76241</td>\n",
       "      <td>10.6889</td>\n",
       "      <td>4.28309</td>\n",
       "      <td>4.31268</td>\n",
       "      <td>7.54274</td>\n",
       "      <td>2.78484</td>\n",
       "      <td>4.80925</td>\n",
       "      <td>2.71963</td>\n",
       "      <td>6.32535</td>\n",
       "    </tr>\n",
       "    <tr>\n",
       "      <th>96</th>\n",
       "      <td>29101.8</td>\n",
       "      <td>-865126.0</td>\n",
       "      <td>-89499.3</td>\n",
       "      <td>11.9432</td>\n",
       "      <td>11.4107</td>\n",
       "      <td>12.0757</td>\n",
       "      <td>11.3081</td>\n",
       "      <td>10.8945</td>\n",
       "      <td>11.1981</td>\n",
       "      <td>9.15494</td>\n",
       "      <td>...</td>\n",
       "      <td>8.72980</td>\n",
       "      <td>8.86781</td>\n",
       "      <td>11.0047</td>\n",
       "      <td>3.90154</td>\n",
       "      <td>4.37899</td>\n",
       "      <td>7.33257</td>\n",
       "      <td>2.62585</td>\n",
       "      <td>4.45403</td>\n",
       "      <td>2.79349</td>\n",
       "      <td>6.39494</td>\n",
       "    </tr>\n",
       "    <tr>\n",
       "      <th>97</th>\n",
       "      <td>31626.0</td>\n",
       "      <td>-924790.0</td>\n",
       "      <td>-86908.7</td>\n",
       "      <td>11.7583</td>\n",
       "      <td>11.5504</td>\n",
       "      <td>12.0858</td>\n",
       "      <td>11.4082</td>\n",
       "      <td>11.0717</td>\n",
       "      <td>10.7451</td>\n",
       "      <td>8.73547</td>\n",
       "      <td>...</td>\n",
       "      <td>8.86617</td>\n",
       "      <td>8.73003</td>\n",
       "      <td>10.6180</td>\n",
       "      <td>4.41059</td>\n",
       "      <td>4.27123</td>\n",
       "      <td>7.43103</td>\n",
       "      <td>2.63573</td>\n",
       "      <td>4.22406</td>\n",
       "      <td>2.99816</td>\n",
       "      <td>6.11121</td>\n",
       "    </tr>\n",
       "  </tbody>\n",
       "</table>\n",
       "<p>5 rows × 40 columns</p>\n",
       "</div>"
      ],
      "text/plain": [
       "           chdflow        ds        pf      u01      u02      u03      u04  \\\n",
       "real_name                                                                    \n",
       "23         31715.2 -876661.0 -106066.0  12.1183  11.9802  11.7177  11.4219   \n",
       "45         31123.6 -898002.0  -90746.5  11.8955  11.4696  12.5883  11.6722   \n",
       "46         31128.6 -724090.0 -100053.0  12.5374  11.5711  12.2914  11.9149   \n",
       "96         29101.8 -865126.0  -89499.3  11.9432  11.4107  12.0757  11.3081   \n",
       "97         31626.0 -924790.0  -86908.7  11.7583  11.5504  12.0858  11.4082   \n",
       "\n",
       "               u05      u06      u07  ...      w08      w09      w10      w11  \\\n",
       "real_name                             ...                                       \n",
       "23         11.1317  10.7297  9.30892  ...  8.85198  8.75137  10.5334  4.42994   \n",
       "45         10.7201  11.0696  9.34737  ...  8.95129  8.60782  10.6885  3.81879   \n",
       "46         11.2632  10.6570  9.21432  ...  8.83797  8.76241  10.6889  4.28309   \n",
       "96         10.8945  11.1981  9.15494  ...  8.72980  8.86781  11.0047  3.90154   \n",
       "97         11.0717  10.7451  8.73547  ...  8.86617  8.73003  10.6180  4.41059   \n",
       "\n",
       "               w12      w13      w14      w15      w16      w17  \n",
       "real_name                                                        \n",
       "23         4.48753  7.26588  2.74035  4.57313  2.75999  5.93544  \n",
       "45         4.40691  7.67058  3.10115  4.84890  2.88271  6.15536  \n",
       "46         4.31268  7.54274  2.78484  4.80925  2.71963  6.32535  \n",
       "96         4.37899  7.33257  2.62585  4.45403  2.79349  6.39494  \n",
       "97         4.27123  7.43103  2.63573  4.22406  2.99816  6.11121  \n",
       "\n",
       "[5 rows x 40 columns]"
      ]
     },
     "execution_count": 5,
     "metadata": {},
     "output_type": "execute_result"
    }
   ],
   "source": [
    "obs_noise = pd.read_csv(\"../tmprun/mv.ies.obs+noise.csv\", index_col=0)\n",
    "obs_noise.sample(5)"
   ]
  },
  {
   "cell_type": "markdown",
   "id": "36e3c8ae",
   "metadata": {},
   "source": [
    "## take a look at the prior MC "
   ]
  },
  {
   "cell_type": "code",
   "execution_count": 6,
   "id": "5b2cdc30",
   "metadata": {
    "execution": {
     "iopub.execute_input": "2025-07-03T18:27:33.805443Z",
     "iopub.status.busy": "2025-07-03T18:27:33.805276Z",
     "iopub.status.idle": "2025-07-03T18:27:33.809628Z",
     "shell.execute_reply": "2025-07-03T18:27:33.809319Z",
     "shell.execute_reply.started": "2025-07-03T18:27:33.805431Z"
    }
   },
   "outputs": [],
   "source": [
    "phi = pd.read_csv(ies_dir / \"mv.ies.phi.actual.csv\").T.iloc[6:]\n",
    "phi0 = phi[0]"
   ]
  },
  {
   "cell_type": "code",
   "execution_count": 7,
   "id": "6a39ed13",
   "metadata": {
    "execution": {
     "iopub.execute_input": "2025-07-03T18:27:33.810185Z",
     "iopub.status.busy": "2025-07-03T18:27:33.810080Z",
     "iopub.status.idle": "2025-07-03T18:27:33.970806Z",
     "shell.execute_reply": "2025-07-03T18:27:33.970505Z",
     "shell.execute_reply.started": "2025-07-03T18:27:33.810177Z"
    }
   },
   "outputs": [
    {
     "data": {
      "text/plain": [
       "<Axes: >"
      ]
     },
     "execution_count": 7,
     "metadata": {},
     "output_type": "execute_result"
    },
    {
     "data": {
      "image/png": "[encoded data removed]",
      "text/plain": [
       "<Figure size 640x480 with 1 Axes>"
      ]
     },
     "metadata": {},
     "output_type": "display_data"
    }
   ],
   "source": [
    "phi0.hist(bins=50)"
   ]
  },
  {
   "cell_type": "markdown",
   "id": "599f167c-a50e-4415-9d0e-75561dcdead4",
   "metadata": {},
   "source": [
    "## but we need to reject \"bad\" PHI values "
   ]
  },
  {
   "cell_type": "code",
   "execution_count": 8,
   "id": "48c82e10-71de-4c6b-8852-1fdf7bda753b",
   "metadata": {
    "execution": {
     "iopub.execute_input": "2025-07-03T18:27:33.971349Z",
     "iopub.status.busy": "2025-07-03T18:27:33.971226Z",
     "iopub.status.idle": "2025-07-03T18:27:33.973602Z",
     "shell.execute_reply": "2025-07-03T18:27:33.973345Z",
     "shell.execute_reply.started": "2025-07-03T18:27:33.971339Z"
    }
   },
   "outputs": [],
   "source": [
    "phitoohigh_prior = 10000  # baseline is 10000\n",
    "indobskeep_prior = phi.loc[phi[0] <= phitoohigh_prior].index"
   ]
  },
  {
   "cell_type": "code",
   "execution_count": 9,
   "id": "ab888595-692e-47fc-ad9f-aa56c204f08d",
   "metadata": {
    "execution": {
     "iopub.execute_input": "2025-07-03T18:27:33.974000Z",
     "iopub.status.busy": "2025-07-03T18:27:33.973921Z",
     "iopub.status.idle": "2025-07-03T18:27:33.978961Z",
     "shell.execute_reply": "2025-07-03T18:27:33.978525Z",
     "shell.execute_reply.started": "2025-07-03T18:27:33.973991Z"
    }
   },
   "outputs": [
    {
     "data": {
      "text/plain": [
       "0       8218.63\n",
       "2       6800.13\n",
       "4       2561.26\n",
       "5       6021.57\n",
       "6       6197.10\n",
       "         ...   \n",
       "95      3216.61\n",
       "96      1476.81\n",
       "97      2799.66\n",
       "98      4128.65\n",
       "base    1209.41\n",
       "Name: 0, Length: 83, dtype: float64"
      ]
     },
     "execution_count": 9,
     "metadata": {},
     "output_type": "execute_result"
    }
   ],
   "source": [
    "phi0.loc[indobskeep_prior]"
   ]
  },
  {
   "cell_type": "code",
   "execution_count": 10,
   "id": "cc5fbcf5-b5e1-4a32-b0ff-f69fc96eef08",
   "metadata": {
    "execution": {
     "iopub.execute_input": "2025-07-03T18:27:33.979763Z",
     "iopub.status.busy": "2025-07-03T18:27:33.979645Z",
     "iopub.status.idle": "2025-07-03T18:27:34.046754Z",
     "shell.execute_reply": "2025-07-03T18:27:34.046428Z",
     "shell.execute_reply.started": "2025-07-03T18:27:33.979754Z"
    }
   },
   "outputs": [
    {
     "data": {
      "text/plain": [
       "<Axes: >"
      ]
     },
     "execution_count": 10,
     "metadata": {},
     "output_type": "execute_result"
    },
    {
     "data": {
      "image/png": "[encoded data removed]",
      "text/plain": [
       "<Figure size 640x480 with 1 Axes>"
      ]
     },
     "metadata": {},
     "output_type": "display_data"
    }
   ],
   "source": [
    "phi0.loc[indobskeep_prior].hist(bins=50)"
   ]
  },
  {
   "cell_type": "markdown",
   "id": "91bc7f0f",
   "metadata": {},
   "source": [
    "### How about prior-data conflict?"
   ]
  },
  {
   "cell_type": "code",
   "execution_count": 11,
   "id": "10f49f97",
   "metadata": {
    "execution": {
     "iopub.execute_input": "2025-07-03T18:27:34.047289Z",
     "iopub.status.busy": "2025-07-03T18:27:34.047194Z",
     "iopub.status.idle": "2025-07-03T18:27:34.050064Z",
     "shell.execute_reply": "2025-07-03T18:27:34.049615Z",
     "shell.execute_reply.started": "2025-07-03T18:27:34.047279Z"
    }
   },
   "outputs": [
    {
     "name": "stdout",
     "output_type": "stream",
     "text": [
      "No PDC detected\n"
     ]
    }
   ],
   "source": [
    "if (ies_dir / \"mv.ies.pdc.csv\").exists():\n",
    "    pdc = pd.read_csv(ies_dir / \"mv.ies.pdc.csv\")\n",
    "    pdc\n",
    "else:\n",
    "    print('No PDC detected')"
   ]
  },
  {
   "cell_type": "markdown",
   "id": "6689ce76",
   "metadata": {},
   "source": [
    "## let's check out the observations from prior MC and iES"
   ]
  },
  {
   "cell_type": "code",
   "execution_count": 12,
   "id": "bec653d4",
   "metadata": {
    "execution": {
     "iopub.execute_input": "2025-07-03T18:27:34.050510Z",
     "iopub.status.busy": "2025-07-03T18:27:34.050421Z",
     "iopub.status.idle": "2025-07-03T18:27:34.062796Z",
     "shell.execute_reply": "2025-07-03T18:27:34.062472Z",
     "shell.execute_reply.started": "2025-07-03T18:27:34.050501Z"
    }
   },
   "outputs": [],
   "source": [
    "pst = pyemu.Pst(str(ies_dir / \"mv.ies.pst\"))"
   ]
  },
  {
   "cell_type": "code",
   "execution_count": 13,
   "id": "0eec8357",
   "metadata": {
    "execution": {
     "iopub.execute_input": "2025-07-03T18:27:34.063407Z",
     "iopub.status.busy": "2025-07-03T18:27:34.063269Z",
     "iopub.status.idle": "2025-07-03T18:27:34.068032Z",
     "shell.execute_reply": "2025-07-03T18:27:34.067679Z",
     "shell.execute_reply.started": "2025-07-03T18:27:34.063395Z"
    }
   },
   "outputs": [
    {
     "data": {
      "text/html": [
       "<div>\n",
       "<style scoped>\n",
       "    .dataframe tbody tr th:only-of-type {\n",
       "        vertical-align: middle;\n",
       "    }\n",
       "\n",
       "    .dataframe tbody tr th {\n",
       "        vertical-align: top;\n",
       "    }\n",
       "\n",
       "    .dataframe thead th {\n",
       "        text-align: right;\n",
       "    }\n",
       "</style>\n",
       "<table border=\"1\" class=\"dataframe\">\n",
       "  <thead>\n",
       "    <tr style=\"text-align: right;\">\n",
       "      <th></th>\n",
       "      <th>obsnme</th>\n",
       "      <th>obsval</th>\n",
       "      <th>weight</th>\n",
       "      <th>obgnme</th>\n",
       "      <th>standard_deviation</th>\n",
       "    </tr>\n",
       "    <tr>\n",
       "      <th>obsnme</th>\n",
       "      <th></th>\n",
       "      <th></th>\n",
       "      <th></th>\n",
       "      <th></th>\n",
       "      <th></th>\n",
       "    </tr>\n",
       "  </thead>\n",
       "  <tbody>\n",
       "    <tr>\n",
       "      <th>w10</th>\n",
       "      <td>w10</td>\n",
       "      <td>10.64</td>\n",
       "      <td>7.917254</td>\n",
       "      <td>headgroup</td>\n",
       "      <td>0.25</td>\n",
       "    </tr>\n",
       "    <tr>\n",
       "      <th>pf</th>\n",
       "      <td>pf</td>\n",
       "      <td>-96402.00</td>\n",
       "      <td>0.000189</td>\n",
       "      <td>rivgroup</td>\n",
       "      <td>9640.20</td>\n",
       "    </tr>\n",
       "    <tr>\n",
       "      <th>u09</th>\n",
       "      <td>u09</td>\n",
       "      <td>8.86</td>\n",
       "      <td>7.917254</td>\n",
       "      <td>headgroup</td>\n",
       "      <td>0.25</td>\n",
       "    </tr>\n",
       "    <tr>\n",
       "      <th>w05</th>\n",
       "      <td>w05</td>\n",
       "      <td>10.50</td>\n",
       "      <td>7.917254</td>\n",
       "      <td>headgroup</td>\n",
       "      <td>0.25</td>\n",
       "    </tr>\n",
       "    <tr>\n",
       "      <th>u04</th>\n",
       "      <td>u04</td>\n",
       "      <td>11.44</td>\n",
       "      <td>7.917254</td>\n",
       "      <td>headgroup</td>\n",
       "      <td>0.25</td>\n",
       "    </tr>\n",
       "  </tbody>\n",
       "</table>\n",
       "</div>"
      ],
      "text/plain": [
       "       obsnme    obsval    weight     obgnme  standard_deviation\n",
       "obsnme                                                          \n",
       "w10       w10     10.64  7.917254  headgroup                0.25\n",
       "pf         pf -96402.00  0.000189   rivgroup             9640.20\n",
       "u09       u09      8.86  7.917254  headgroup                0.25\n",
       "w05       w05     10.50  7.917254  headgroup                0.25\n",
       "u04       u04     11.44  7.917254  headgroup                0.25"
      ]
     },
     "execution_count": 13,
     "metadata": {},
     "output_type": "execute_result"
    }
   ],
   "source": [
    "obsdat = pst.observation_data.copy()\n",
    "obsdat.sample(5)"
   ]
  },
  {
   "cell_type": "code",
   "execution_count": 14,
   "id": "fa9c32c8",
   "metadata": {
    "execution": {
     "iopub.execute_input": "2025-07-03T18:27:34.068658Z",
     "iopub.status.busy": "2025-07-03T18:27:34.068502Z",
     "iopub.status.idle": "2025-07-03T18:27:34.416827Z",
     "shell.execute_reply": "2025-07-03T18:27:34.416547Z",
     "shell.execute_reply.started": "2025-07-03T18:27:34.068646Z"
    }
   },
   "outputs": [
    {
     "data": {
      "image/png": "[encoded data removed]",
      "text/plain": [
       "<Figure size 800x500 with 2 Axes>"
      ]
     },
     "metadata": {},
     "output_type": "display_data"
    }
   ],
   "source": [
    "fig, ax = plt.subplots(1, 2, figsize=(8, 5))\n",
    "phi.T.plot(legend=False, color=\"grey\", alpha=0.2, lw=0.5, ax=ax[0])\n",
    "phi.loc[\"base\"].plot(color=\"b\", ax=ax[0])\n",
    "ax[0].set_yscale(\"log\")\n",
    "ax[0].set_title(\"log-scale $\\\\Phi$\")\n",
    "phi.T.plot(legend=False, color=\"grey\", alpha=0.2, lw=0.5, ax=ax[1])\n",
    "phi.loc[\"base\"].plot(color=\"b\", ax=ax[1])\n",
    "ax[1].set_title(\"linear-scale $\\\\Phi$\");"
   ]
  },
  {
   "cell_type": "code",
   "execution_count": 15,
   "id": "3905cc63",
   "metadata": {
    "execution": {
     "iopub.execute_input": "2025-07-03T18:27:34.417385Z",
     "iopub.status.busy": "2025-07-03T18:27:34.417288Z",
     "iopub.status.idle": "2025-07-03T18:27:34.422444Z",
     "shell.execute_reply": "2025-07-03T18:27:34.422153Z",
     "shell.execute_reply.started": "2025-07-03T18:27:34.417377Z"
    }
   },
   "outputs": [],
   "source": [
    "phi = pd.read_csv(ies_dir / \"mv.ies.phi.actual.csv\").T.iloc[6:]\n",
    "for cc in phi.columns:\n",
    "    phi.loc[phi[cc] > 1e6, cc] = np.nan"
   ]
  },
  {
   "cell_type": "markdown",
   "id": "e9026de6-3d08-492f-b7aa-2f73f38a70a7",
   "metadata": {},
   "source": [
    "## We can focus in on iteration 3 as \"best\" and see how things changed due to iES"
   ]
  },
  {
   "cell_type": "code",
   "execution_count": 16,
   "id": "ac31a6bb",
   "metadata": {
    "execution": {
     "iopub.execute_input": "2025-07-03T18:27:34.422923Z",
     "iopub.status.busy": "2025-07-03T18:27:34.422831Z",
     "iopub.status.idle": "2025-07-03T18:27:34.432719Z",
     "shell.execute_reply": "2025-07-03T18:27:34.432407Z",
     "shell.execute_reply.started": "2025-07-03T18:27:34.422915Z"
    }
   },
   "outputs": [],
   "source": [
    "citer = 3\n",
    "obs = pd.read_csv(ies_dir / \"mv.ies.0.obs.csv\", index_col=0)\n",
    "obs_final = pd.read_csv(ies_dir / f\"mv.ies.{citer}.obs.csv\", index_col=0)"
   ]
  },
  {
   "cell_type": "markdown",
   "id": "bea54a76-7e56-4486-be7f-f4e9b9d29422",
   "metadata": {},
   "source": [
    "### drop the bad prior realizations"
   ]
  },
  {
   "cell_type": "code",
   "execution_count": 17,
   "id": "cc8634fd-d381-45d2-bc19-538f5fb37bc4",
   "metadata": {
    "execution": {
     "iopub.execute_input": "2025-07-03T18:27:34.433473Z",
     "iopub.status.busy": "2025-07-03T18:27:34.433187Z",
     "iopub.status.idle": "2025-07-03T18:27:34.494279Z",
     "shell.execute_reply": "2025-07-03T18:27:34.494002Z",
     "shell.execute_reply.started": "2025-07-03T18:27:34.433460Z"
    }
   },
   "outputs": [
    {
     "data": {
      "text/plain": [
       "<Axes: >"
      ]
     },
     "execution_count": 17,
     "metadata": {},
     "output_type": "execute_result"
    },
    {
     "data": {
      "image/png": "[encoded data removed]",
      "text/plain": [
       "<Figure size 640x480 with 1 Axes>"
      ]
     },
     "metadata": {},
     "output_type": "display_data"
    }
   ],
   "source": [
    "phi[3].hist(bins=50)"
   ]
  },
  {
   "cell_type": "markdown",
   "id": "fdb99d07-bbf6-4cb2-badb-a19edf0e142c",
   "metadata": {},
   "source": [
    "## but we need to reject \"bad\" PHI values again"
   ]
  },
  {
   "cell_type": "code",
   "execution_count": 18,
   "id": "600936e2-22b4-4cd3-8fd1-11222fd916db",
   "metadata": {
    "execution": {
     "iopub.execute_input": "2025-07-03T18:27:34.494881Z",
     "iopub.status.busy": "2025-07-03T18:27:34.494796Z",
     "iopub.status.idle": "2025-07-03T18:27:34.496681Z",
     "shell.execute_reply": "2025-07-03T18:27:34.496269Z",
     "shell.execute_reply.started": "2025-07-03T18:27:34.494872Z"
    }
   },
   "outputs": [],
   "source": [
    "phitoohigh = 310\n"
   ]
  },
  {
   "cell_type": "code",
   "execution_count": 19,
   "id": "1b227462-c637-4f2b-9322-99e82d003d45",
   "metadata": {
    "execution": {
     "iopub.execute_input": "2025-07-03T18:27:34.497270Z",
     "iopub.status.busy": "2025-07-03T18:27:34.497170Z",
     "iopub.status.idle": "2025-07-03T18:27:34.499455Z",
     "shell.execute_reply": "2025-07-03T18:27:34.499135Z",
     "shell.execute_reply.started": "2025-07-03T18:27:34.497261Z"
    }
   },
   "outputs": [],
   "source": [
    "indobskeep = phi.loc[phi[3] <= phitoohigh].index"
   ]
  },
  {
   "cell_type": "code",
   "execution_count": 20,
   "id": "a62a5a44-e7f7-43b0-8530-6d166b31510b",
   "metadata": {
    "execution": {
     "iopub.execute_input": "2025-07-03T18:27:34.500142Z",
     "iopub.status.busy": "2025-07-03T18:27:34.500027Z",
     "iopub.status.idle": "2025-07-03T18:27:34.502752Z",
     "shell.execute_reply": "2025-07-03T18:27:34.502274Z",
     "shell.execute_reply.started": "2025-07-03T18:27:34.500134Z"
    }
   },
   "outputs": [],
   "source": [
    "obs = obs.loc[indobskeep_prior]\n",
    "obs_final = obs_final.loc[indobskeep]"
   ]
  },
  {
   "cell_type": "code",
   "execution_count": 21,
   "id": "3c03e731",
   "metadata": {
    "execution": {
     "iopub.execute_input": "2025-07-03T18:27:34.503314Z",
     "iopub.status.busy": "2025-07-03T18:27:34.503215Z",
     "iopub.status.idle": "2025-07-03T18:27:34.505891Z",
     "shell.execute_reply": "2025-07-03T18:27:34.505500Z",
     "shell.execute_reply.started": "2025-07-03T18:27:34.503306Z"
    }
   },
   "outputs": [],
   "source": [
    "obs_noise_prior = obs_noise.loc[indobskeep_prior]\n",
    "obs_noise_final = obs_noise.loc[indobskeep]"
   ]
  },
  {
   "cell_type": "code",
   "execution_count": 22,
   "id": "95e3f284-06fc-4bdc-a04f-164965a46341",
   "metadata": {
    "execution": {
     "iopub.execute_input": "2025-07-03T18:27:34.510661Z",
     "iopub.status.busy": "2025-07-03T18:27:34.510521Z",
     "iopub.status.idle": "2025-07-03T18:27:36.658717Z",
     "shell.execute_reply": "2025-07-03T18:27:36.658398Z",
     "shell.execute_reply.started": "2025-07-03T18:27:34.510652Z"
    }
   },
   "outputs": [],
   "source": [
    "with PdfPages(plotdir / \"allobs.prior.pdf\") as outpdf:\n",
    "    for cc in obs.columns:\n",
    "        plt.figure()\n",
    "        ax = obs[cc].hist(bins=20, color=\"grey\", alpha=0.5, density=1)\n",
    "        obs_noise_prior[cc].hist(\n",
    "            bins=20, color=\"orange\", alpha=0.5, density=1, ax=ax\n",
    "        )\n",
    "        ax.axvline(obsdat.loc[cc].obsval, color=\"orange\")\n",
    "        plt.title(cc)\n",
    "        plt.tight_layout()\n",
    "        outpdf.savefig()\n",
    "        plt.close(\"all\")"
   ]
  },
  {
   "cell_type": "code",
   "execution_count": 23,
   "id": "d9c6f4fb",
   "metadata": {
    "execution": {
     "iopub.execute_input": "2025-07-03T18:27:36.659128Z",
     "iopub.status.busy": "2025-07-03T18:27:36.659047Z",
     "iopub.status.idle": "2025-07-03T18:27:38.996925Z",
     "shell.execute_reply": "2025-07-03T18:27:38.996487Z",
     "shell.execute_reply.started": "2025-07-03T18:27:36.659120Z"
    }
   },
   "outputs": [],
   "source": [
    "with PdfPages(plotdir / f\"allobs.iter_{citer}.pdf\") as outpdf:\n",
    "    for cc in obs.columns:\n",
    "        plt.figure()\n",
    "        ax = obs[cc].hist(bins=20, color=\"grey\", alpha=0.5, density=1)\n",
    "        obs_noise_final[cc].hist(\n",
    "            bins=20, color=\"orange\", alpha=0.5, density=1, ax=ax\n",
    "        )\n",
    "\n",
    "        obs_final[cc].hist(bins=20, color=\"blue\", density=1)\n",
    "        ax.axvline(obsdat.loc[cc].obsval, color=\"orange\")\n",
    "        plt.title(cc)\n",
    "        plt.tight_layout()\n",
    "        outpdf.savefig()\n",
    "        plt.close(\"all\")"
   ]
  },
  {
   "cell_type": "markdown",
   "id": "281e8b26-59d6-48a8-8442-b100ba2c5cb1",
   "metadata": {},
   "source": [
    "## how does this look spatially?"
   ]
  },
  {
   "cell_type": "code",
   "execution_count": 24,
   "id": "8aa44ee7-e3ef-4677-bd63-a0eea9077d2d",
   "metadata": {
    "execution": {
     "iopub.execute_input": "2025-07-03T18:27:38.997583Z",
     "iopub.status.busy": "2025-07-03T18:27:38.997484Z",
     "iopub.status.idle": "2025-07-03T18:27:39.263266Z",
     "shell.execute_reply": "2025-07-03T18:27:39.262739Z",
     "shell.execute_reply.started": "2025-07-03T18:27:38.997575Z"
    }
   },
   "outputs": [
    {
     "name": "stdout",
     "output_type": "stream",
     "text": [
      "loading simulation...\n",
      "  loading simulation name file...\n",
      "  loading tdis package...\n",
      "  loading model gwf6...\n",
      "    loading package dis...\n",
      "    loading package ic...\n",
      "WARNING: Block \"options\" is not a valid block name for file type ic.\n",
      "    loading package npf...\n",
      "    loading package oc...\n",
      "    loading package chd...\n",
      "    loading package rch...\n",
      "    loading package riv...\n",
      "    loading package wel...\n",
      "    loading package obs...\n",
      "  loading solution package at...\n"
     ]
    }
   ],
   "source": [
    "# load up the model with flopy\n",
    "sim = fp.mf6.MFSimulation.load(sim_ws=ies_dir)\n",
    "m = sim.get_model()"
   ]
  },
  {
   "cell_type": "code",
   "execution_count": 25,
   "id": "7bd104a8-1a08-43b2-b1dc-bfad1f10bae0",
   "metadata": {
    "execution": {
     "iopub.execute_input": "2025-07-03T18:27:39.263988Z",
     "iopub.status.busy": "2025-07-03T18:27:39.263851Z",
     "iopub.status.idle": "2025-07-03T18:27:39.271235Z",
     "shell.execute_reply": "2025-07-03T18:27:39.270729Z",
     "shell.execute_reply.started": "2025-07-03T18:27:39.263977Z"
    }
   },
   "outputs": [
    {
     "data": {
      "text/html": [
       "<div>\n",
       "<style scoped>\n",
       "    .dataframe tbody tr th:only-of-type {\n",
       "        vertical-align: middle;\n",
       "    }\n",
       "\n",
       "    .dataframe tbody tr th {\n",
       "        vertical-align: top;\n",
       "    }\n",
       "\n",
       "    .dataframe thead th {\n",
       "        text-align: right;\n",
       "    }\n",
       "</style>\n",
       "<table border=\"1\" class=\"dataframe\">\n",
       "  <thead>\n",
       "    <tr style=\"text-align: right;\">\n",
       "      <th></th>\n",
       "      <th>obsname</th>\n",
       "      <th>obstype</th>\n",
       "      <th>id</th>\n",
       "      <th>id2</th>\n",
       "    </tr>\n",
       "  </thead>\n",
       "  <tbody>\n",
       "    <tr>\n",
       "      <th>0</th>\n",
       "      <td>w01</td>\n",
       "      <td>head</td>\n",
       "      <td>(4, 2, 17)</td>\n",
       "      <td>None</td>\n",
       "    </tr>\n",
       "    <tr>\n",
       "      <th>1</th>\n",
       "      <td>w02</td>\n",
       "      <td>head</td>\n",
       "      <td>(3, 3, 10)</td>\n",
       "      <td>None</td>\n",
       "    </tr>\n",
       "    <tr>\n",
       "      <th>2</th>\n",
       "      <td>w03</td>\n",
       "      <td>head</td>\n",
       "      <td>(3, 6, 20)</td>\n",
       "      <td>None</td>\n",
       "    </tr>\n",
       "    <tr>\n",
       "      <th>3</th>\n",
       "      <td>w04</td>\n",
       "      <td>head</td>\n",
       "      <td>(3, 12, 22)</td>\n",
       "      <td>None</td>\n",
       "    </tr>\n",
       "    <tr>\n",
       "      <th>4</th>\n",
       "      <td>w05</td>\n",
       "      <td>head</td>\n",
       "      <td>(4, 14, 11)</td>\n",
       "      <td>None</td>\n",
       "    </tr>\n",
       "    <tr>\n",
       "      <th>5</th>\n",
       "      <td>w06</td>\n",
       "      <td>head</td>\n",
       "      <td>(3, 16, 18)</td>\n",
       "      <td>None</td>\n",
       "    </tr>\n",
       "    <tr>\n",
       "      <th>6</th>\n",
       "      <td>w07</td>\n",
       "      <td>head</td>\n",
       "      <td>(3, 17, 1)</td>\n",
       "      <td>None</td>\n",
       "    </tr>\n",
       "    <tr>\n",
       "      <th>7</th>\n",
       "      <td>w08</td>\n",
       "      <td>head</td>\n",
       "      <td>(3, 18, 6)</td>\n",
       "      <td>None</td>\n",
       "    </tr>\n",
       "    <tr>\n",
       "      <th>8</th>\n",
       "      <td>w09</td>\n",
       "      <td>head</td>\n",
       "      <td>(3, 19, 11)</td>\n",
       "      <td>None</td>\n",
       "    </tr>\n",
       "    <tr>\n",
       "      <th>9</th>\n",
       "      <td>w10</td>\n",
       "      <td>head</td>\n",
       "      <td>(3, 18, 22)</td>\n",
       "      <td>None</td>\n",
       "    </tr>\n",
       "    <tr>\n",
       "      <th>10</th>\n",
       "      <td>w11</td>\n",
       "      <td>head</td>\n",
       "      <td>(3, 26, 5)</td>\n",
       "      <td>None</td>\n",
       "    </tr>\n",
       "    <tr>\n",
       "      <th>11</th>\n",
       "      <td>w12</td>\n",
       "      <td>head</td>\n",
       "      <td>(3, 27, 11)</td>\n",
       "      <td>None</td>\n",
       "    </tr>\n",
       "    <tr>\n",
       "      <th>12</th>\n",
       "      <td>w13</td>\n",
       "      <td>head</td>\n",
       "      <td>(3, 28, 23)</td>\n",
       "      <td>None</td>\n",
       "    </tr>\n",
       "    <tr>\n",
       "      <th>13</th>\n",
       "      <td>w14</td>\n",
       "      <td>head</td>\n",
       "      <td>(3, 30, 6)</td>\n",
       "      <td>None</td>\n",
       "    </tr>\n",
       "    <tr>\n",
       "      <th>14</th>\n",
       "      <td>w15</td>\n",
       "      <td>head</td>\n",
       "      <td>(4, 33, 14)</td>\n",
       "      <td>None</td>\n",
       "    </tr>\n",
       "    <tr>\n",
       "      <th>15</th>\n",
       "      <td>w16</td>\n",
       "      <td>head</td>\n",
       "      <td>(3, 36, 1)</td>\n",
       "      <td>None</td>\n",
       "    </tr>\n",
       "    <tr>\n",
       "      <th>16</th>\n",
       "      <td>w17</td>\n",
       "      <td>head</td>\n",
       "      <td>(3, 37, 22)</td>\n",
       "      <td>None</td>\n",
       "    </tr>\n",
       "  </tbody>\n",
       "</table>\n",
       "</div>"
      ],
      "text/plain": [
       "   obsname obstype           id   id2\n",
       "0      w01    head   (4, 2, 17)  None\n",
       "1      w02    head   (3, 3, 10)  None\n",
       "2      w03    head   (3, 6, 20)  None\n",
       "3      w04    head  (3, 12, 22)  None\n",
       "4      w05    head  (4, 14, 11)  None\n",
       "5      w06    head  (3, 16, 18)  None\n",
       "6      w07    head   (3, 17, 1)  None\n",
       "7      w08    head   (3, 18, 6)  None\n",
       "8      w09    head  (3, 19, 11)  None\n",
       "9      w10    head  (3, 18, 22)  None\n",
       "10     w11    head   (3, 26, 5)  None\n",
       "11     w12    head  (3, 27, 11)  None\n",
       "12     w13    head  (3, 28, 23)  None\n",
       "13     w14    head   (3, 30, 6)  None\n",
       "14     w15    head  (4, 33, 14)  None\n",
       "15     w16    head   (3, 36, 1)  None\n",
       "16     w17    head  (3, 37, 22)  None"
      ]
     },
     "execution_count": 25,
     "metadata": {},
     "output_type": "execute_result"
    }
   ],
   "source": [
    "df_deep = pd.DataFrame.from_records(m.obs[2].continuous.data[\"at.csv\"])\n",
    "df_deep"
   ]
  },
  {
   "cell_type": "code",
   "execution_count": 26,
   "id": "2aa75060-9832-4f3c-8218-3b4d38d4b64d",
   "metadata": {
    "execution": {
     "iopub.execute_input": "2025-07-03T18:27:39.271911Z",
     "iopub.status.busy": "2025-07-03T18:27:39.271759Z",
     "iopub.status.idle": "2025-07-03T18:27:39.278552Z",
     "shell.execute_reply": "2025-07-03T18:27:39.278166Z",
     "shell.execute_reply.started": "2025-07-03T18:27:39.271896Z"
    }
   },
   "outputs": [
    {
     "data": {
      "text/html": [
       "<div>\n",
       "<style scoped>\n",
       "    .dataframe tbody tr th:only-of-type {\n",
       "        vertical-align: middle;\n",
       "    }\n",
       "\n",
       "    .dataframe tbody tr th {\n",
       "        vertical-align: top;\n",
       "    }\n",
       "\n",
       "    .dataframe thead th {\n",
       "        text-align: right;\n",
       "    }\n",
       "</style>\n",
       "<table border=\"1\" class=\"dataframe\">\n",
       "  <thead>\n",
       "    <tr style=\"text-align: right;\">\n",
       "      <th></th>\n",
       "      <th>obsname</th>\n",
       "      <th>obstype</th>\n",
       "      <th>id</th>\n",
       "      <th>id2</th>\n",
       "    </tr>\n",
       "  </thead>\n",
       "  <tbody>\n",
       "    <tr>\n",
       "      <th>0</th>\n",
       "      <td>u01</td>\n",
       "      <td>head</td>\n",
       "      <td>(0, 2, 17)</td>\n",
       "      <td>None</td>\n",
       "    </tr>\n",
       "    <tr>\n",
       "      <th>1</th>\n",
       "      <td>u02</td>\n",
       "      <td>head</td>\n",
       "      <td>(0, 3, 10)</td>\n",
       "      <td>None</td>\n",
       "    </tr>\n",
       "    <tr>\n",
       "      <th>2</th>\n",
       "      <td>u03</td>\n",
       "      <td>head</td>\n",
       "      <td>(0, 6, 20)</td>\n",
       "      <td>None</td>\n",
       "    </tr>\n",
       "    <tr>\n",
       "      <th>3</th>\n",
       "      <td>u04</td>\n",
       "      <td>head</td>\n",
       "      <td>(0, 12, 22)</td>\n",
       "      <td>None</td>\n",
       "    </tr>\n",
       "    <tr>\n",
       "      <th>4</th>\n",
       "      <td>u05</td>\n",
       "      <td>head</td>\n",
       "      <td>(0, 14, 11)</td>\n",
       "      <td>None</td>\n",
       "    </tr>\n",
       "    <tr>\n",
       "      <th>5</th>\n",
       "      <td>u06</td>\n",
       "      <td>head</td>\n",
       "      <td>(0, 16, 18)</td>\n",
       "      <td>None</td>\n",
       "    </tr>\n",
       "    <tr>\n",
       "      <th>6</th>\n",
       "      <td>u07</td>\n",
       "      <td>head</td>\n",
       "      <td>(0, 17, 1)</td>\n",
       "      <td>None</td>\n",
       "    </tr>\n",
       "    <tr>\n",
       "      <th>7</th>\n",
       "      <td>u08</td>\n",
       "      <td>head</td>\n",
       "      <td>(0, 18, 6)</td>\n",
       "      <td>None</td>\n",
       "    </tr>\n",
       "    <tr>\n",
       "      <th>8</th>\n",
       "      <td>u09</td>\n",
       "      <td>head</td>\n",
       "      <td>(0, 19, 11)</td>\n",
       "      <td>None</td>\n",
       "    </tr>\n",
       "    <tr>\n",
       "      <th>9</th>\n",
       "      <td>u10</td>\n",
       "      <td>head</td>\n",
       "      <td>(0, 18, 22)</td>\n",
       "      <td>None</td>\n",
       "    </tr>\n",
       "    <tr>\n",
       "      <th>10</th>\n",
       "      <td>u11</td>\n",
       "      <td>head</td>\n",
       "      <td>(0, 26, 5)</td>\n",
       "      <td>None</td>\n",
       "    </tr>\n",
       "    <tr>\n",
       "      <th>11</th>\n",
       "      <td>u12</td>\n",
       "      <td>head</td>\n",
       "      <td>(0, 27, 11)</td>\n",
       "      <td>None</td>\n",
       "    </tr>\n",
       "    <tr>\n",
       "      <th>12</th>\n",
       "      <td>u13</td>\n",
       "      <td>head</td>\n",
       "      <td>(0, 28, 23)</td>\n",
       "      <td>None</td>\n",
       "    </tr>\n",
       "    <tr>\n",
       "      <th>13</th>\n",
       "      <td>u14</td>\n",
       "      <td>head</td>\n",
       "      <td>(0, 30, 6)</td>\n",
       "      <td>None</td>\n",
       "    </tr>\n",
       "    <tr>\n",
       "      <th>14</th>\n",
       "      <td>u15</td>\n",
       "      <td>head</td>\n",
       "      <td>(0, 33, 14)</td>\n",
       "      <td>None</td>\n",
       "    </tr>\n",
       "    <tr>\n",
       "      <th>15</th>\n",
       "      <td>u16</td>\n",
       "      <td>head</td>\n",
       "      <td>(0, 36, 1)</td>\n",
       "      <td>None</td>\n",
       "    </tr>\n",
       "    <tr>\n",
       "      <th>16</th>\n",
       "      <td>u17</td>\n",
       "      <td>head</td>\n",
       "      <td>(0, 37, 22)</td>\n",
       "      <td>None</td>\n",
       "    </tr>\n",
       "  </tbody>\n",
       "</table>\n",
       "</div>"
      ],
      "text/plain": [
       "   obsname obstype           id   id2\n",
       "0      u01    head   (0, 2, 17)  None\n",
       "1      u02    head   (0, 3, 10)  None\n",
       "2      u03    head   (0, 6, 20)  None\n",
       "3      u04    head  (0, 12, 22)  None\n",
       "4      u05    head  (0, 14, 11)  None\n",
       "5      u06    head  (0, 16, 18)  None\n",
       "6      u07    head   (0, 17, 1)  None\n",
       "7      u08    head   (0, 18, 6)  None\n",
       "8      u09    head  (0, 19, 11)  None\n",
       "9      u10    head  (0, 18, 22)  None\n",
       "10     u11    head   (0, 26, 5)  None\n",
       "11     u12    head  (0, 27, 11)  None\n",
       "12     u13    head  (0, 28, 23)  None\n",
       "13     u14    head   (0, 30, 6)  None\n",
       "14     u15    head  (0, 33, 14)  None\n",
       "15     u16    head   (0, 36, 1)  None\n",
       "16     u17    head  (0, 37, 22)  None"
      ]
     },
     "execution_count": 26,
     "metadata": {},
     "output_type": "execute_result"
    }
   ],
   "source": [
    "df_shallow = pd.DataFrame.from_records(m.obs[2].continuous.data[\"at.wt.csv\"])\n",
    "df_shallow"
   ]
  },
  {
   "cell_type": "markdown",
   "id": "90064574-cd63-499c-b8e0-e355a1ac84c4",
   "metadata": {},
   "source": [
    "## find the cell centers for the head observations for plotting"
   ]
  },
  {
   "cell_type": "code",
   "execution_count": 27,
   "id": "0bec2b03-5ed5-40b0-9ac3-4346414381a8",
   "metadata": {
    "execution": {
     "iopub.execute_input": "2025-07-03T18:27:39.279067Z",
     "iopub.status.busy": "2025-07-03T18:27:39.278964Z",
     "iopub.status.idle": "2025-07-03T18:27:39.285473Z",
     "shell.execute_reply": "2025-07-03T18:27:39.285175Z",
     "shell.execute_reply.started": "2025-07-03T18:27:39.279058Z"
    }
   },
   "outputs": [],
   "source": [
    "xc, yc = m.modelgrid.xcellcenters, m.modelgrid.ycellcenters\n",
    "for df in [df_deep, df_shallow]:\n",
    "    df[\"y\"] = [yc[i[1], i[2]] for i in df[\"id\"]]\n",
    "    df[\"x\"] = [xc[i[1], i[2]] for i in df[\"id\"]]"
   ]
  },
  {
   "cell_type": "markdown",
   "id": "7b3e740f-5e9e-4857-a9b3-463185e6e2cf",
   "metadata": {},
   "source": [
    "## let's look and the base residuals and get the standard deviation of the residuals"
   ]
  },
  {
   "cell_type": "code",
   "execution_count": 28,
   "id": "dce837d0-7f86-4a0c-abe8-e91bd3ee567e",
   "metadata": {
    "execution": {
     "iopub.execute_input": "2025-07-03T18:27:39.286116Z",
     "iopub.status.busy": "2025-07-03T18:27:39.285924Z",
     "iopub.status.idle": "2025-07-03T18:27:39.298297Z",
     "shell.execute_reply": "2025-07-03T18:27:39.297830Z",
     "shell.execute_reply.started": "2025-07-03T18:27:39.286104Z"
    }
   },
   "outputs": [],
   "source": [
    "for df in [df_deep, df_shallow]:\n",
    "    df[\"resid_prior_std\"] = [\n",
    "        (obs[i] - obs_true.loc[i].obsval).std() for i in df.obsname\n",
    "    ]\n",
    "    df[\"resid_post_std\"] = [\n",
    "        (obs_final[i] - obs_true.loc[i].obsval).std() for i in df.obsname\n",
    "    ]\n",
    "    df[\"base_prior_resid\"] = [\n",
    "        obs.loc[\"base\", i] - obs_true.loc[i].obsval for i in df.obsname\n",
    "    ]\n",
    "    df[\"base_post_resid\"] = [\n",
    "        obs_final.loc[\"base\", i] - obs_true.loc[i].obsval for i in df.obsname\n",
    "    ]"
   ]
  },
  {
   "cell_type": "code",
   "execution_count": 29,
   "id": "8154000a-3c0e-4329-922b-4e40a6aa0e06",
   "metadata": {
    "execution": {
     "iopub.execute_input": "2025-07-03T18:27:39.298921Z",
     "iopub.status.busy": "2025-07-03T18:27:39.298832Z",
     "iopub.status.idle": "2025-07-03T18:27:39.306469Z",
     "shell.execute_reply": "2025-07-03T18:27:39.306148Z",
     "shell.execute_reply.started": "2025-07-03T18:27:39.298912Z"
    }
   },
   "outputs": [
    {
     "data": {
      "text/html": [
       "<div>\n",
       "<style scoped>\n",
       "    .dataframe tbody tr th:only-of-type {\n",
       "        vertical-align: middle;\n",
       "    }\n",
       "\n",
       "    .dataframe tbody tr th {\n",
       "        vertical-align: top;\n",
       "    }\n",
       "\n",
       "    .dataframe thead th {\n",
       "        text-align: right;\n",
       "    }\n",
       "</style>\n",
       "<table border=\"1\" class=\"dataframe\">\n",
       "  <thead>\n",
       "    <tr style=\"text-align: right;\">\n",
       "      <th></th>\n",
       "      <th>obsname</th>\n",
       "      <th>obstype</th>\n",
       "      <th>id</th>\n",
       "      <th>id2</th>\n",
       "      <th>y</th>\n",
       "      <th>x</th>\n",
       "      <th>resid_prior_std</th>\n",
       "      <th>resid_post_std</th>\n",
       "      <th>base_prior_resid</th>\n",
       "      <th>base_post_resid</th>\n",
       "    </tr>\n",
       "  </thead>\n",
       "  <tbody>\n",
       "    <tr>\n",
       "      <th>0</th>\n",
       "      <td>u01</td>\n",
       "      <td>head</td>\n",
       "      <td>(0, 2, 17)</td>\n",
       "      <td>None</td>\n",
       "      <td>18750.0</td>\n",
       "      <td>8750.0</td>\n",
       "      <td>0.921624</td>\n",
       "      <td>0.141839</td>\n",
       "      <td>0.57890</td>\n",
       "      <td>0.12510</td>\n",
       "    </tr>\n",
       "    <tr>\n",
       "      <th>1</th>\n",
       "      <td>u02</td>\n",
       "      <td>head</td>\n",
       "      <td>(0, 3, 10)</td>\n",
       "      <td>None</td>\n",
       "      <td>18250.0</td>\n",
       "      <td>5250.0</td>\n",
       "      <td>0.590710</td>\n",
       "      <td>0.115678</td>\n",
       "      <td>0.20480</td>\n",
       "      <td>0.19480</td>\n",
       "    </tr>\n",
       "    <tr>\n",
       "      <th>2</th>\n",
       "      <td>u03</td>\n",
       "      <td>head</td>\n",
       "      <td>(0, 6, 20)</td>\n",
       "      <td>None</td>\n",
       "      <td>16750.0</td>\n",
       "      <td>10250.0</td>\n",
       "      <td>0.943272</td>\n",
       "      <td>0.142411</td>\n",
       "      <td>0.41970</td>\n",
       "      <td>-0.12420</td>\n",
       "    </tr>\n",
       "    <tr>\n",
       "      <th>3</th>\n",
       "      <td>u04</td>\n",
       "      <td>head</td>\n",
       "      <td>(0, 12, 22)</td>\n",
       "      <td>None</td>\n",
       "      <td>13750.0</td>\n",
       "      <td>11250.0</td>\n",
       "      <td>0.958639</td>\n",
       "      <td>0.129443</td>\n",
       "      <td>0.30320</td>\n",
       "      <td>0.13250</td>\n",
       "    </tr>\n",
       "    <tr>\n",
       "      <th>4</th>\n",
       "      <td>u05</td>\n",
       "      <td>head</td>\n",
       "      <td>(0, 14, 11)</td>\n",
       "      <td>None</td>\n",
       "      <td>12750.0</td>\n",
       "      <td>5750.0</td>\n",
       "      <td>0.697361</td>\n",
       "      <td>0.134144</td>\n",
       "      <td>-0.32480</td>\n",
       "      <td>-0.18850</td>\n",
       "    </tr>\n",
       "    <tr>\n",
       "      <th>5</th>\n",
       "      <td>u06</td>\n",
       "      <td>head</td>\n",
       "      <td>(0, 16, 18)</td>\n",
       "      <td>None</td>\n",
       "      <td>11750.0</td>\n",
       "      <td>9250.0</td>\n",
       "      <td>1.019590</td>\n",
       "      <td>0.149768</td>\n",
       "      <td>-0.29940</td>\n",
       "      <td>0.00800</td>\n",
       "    </tr>\n",
       "    <tr>\n",
       "      <th>6</th>\n",
       "      <td>u07</td>\n",
       "      <td>head</td>\n",
       "      <td>(0, 17, 1)</td>\n",
       "      <td>None</td>\n",
       "      <td>11250.0</td>\n",
       "      <td>750.0</td>\n",
       "      <td>0.789318</td>\n",
       "      <td>0.180595</td>\n",
       "      <td>-0.17739</td>\n",
       "      <td>-0.03820</td>\n",
       "    </tr>\n",
       "    <tr>\n",
       "      <th>7</th>\n",
       "      <td>u08</td>\n",
       "      <td>head</td>\n",
       "      <td>(0, 18, 6)</td>\n",
       "      <td>None</td>\n",
       "      <td>10750.0</td>\n",
       "      <td>3250.0</td>\n",
       "      <td>1.048701</td>\n",
       "      <td>0.165548</td>\n",
       "      <td>-0.29058</td>\n",
       "      <td>0.04199</td>\n",
       "    </tr>\n",
       "    <tr>\n",
       "      <th>8</th>\n",
       "      <td>u09</td>\n",
       "      <td>head</td>\n",
       "      <td>(0, 19, 11)</td>\n",
       "      <td>None</td>\n",
       "      <td>10250.0</td>\n",
       "      <td>5750.0</td>\n",
       "      <td>1.238138</td>\n",
       "      <td>0.187915</td>\n",
       "      <td>-0.63241</td>\n",
       "      <td>0.06148</td>\n",
       "    </tr>\n",
       "    <tr>\n",
       "      <th>9</th>\n",
       "      <td>u10</td>\n",
       "      <td>head</td>\n",
       "      <td>(0, 18, 22)</td>\n",
       "      <td>None</td>\n",
       "      <td>10750.0</td>\n",
       "      <td>11250.0</td>\n",
       "      <td>1.074879</td>\n",
       "      <td>0.201571</td>\n",
       "      <td>-0.32940</td>\n",
       "      <td>0.03720</td>\n",
       "    </tr>\n",
       "    <tr>\n",
       "      <th>10</th>\n",
       "      <td>u11</td>\n",
       "      <td>head</td>\n",
       "      <td>(0, 26, 5)</td>\n",
       "      <td>None</td>\n",
       "      <td>6750.0</td>\n",
       "      <td>2750.0</td>\n",
       "      <td>0.883358</td>\n",
       "      <td>0.223855</td>\n",
       "      <td>-0.30309</td>\n",
       "      <td>0.07364</td>\n",
       "    </tr>\n",
       "    <tr>\n",
       "      <th>11</th>\n",
       "      <td>u12</td>\n",
       "      <td>head</td>\n",
       "      <td>(0, 27, 11)</td>\n",
       "      <td>None</td>\n",
       "      <td>6250.0</td>\n",
       "      <td>5750.0</td>\n",
       "      <td>1.083991</td>\n",
       "      <td>0.203421</td>\n",
       "      <td>0.16409</td>\n",
       "      <td>0.04170</td>\n",
       "    </tr>\n",
       "    <tr>\n",
       "      <th>12</th>\n",
       "      <td>u13</td>\n",
       "      <td>head</td>\n",
       "      <td>(0, 28, 23)</td>\n",
       "      <td>None</td>\n",
       "      <td>5750.0</td>\n",
       "      <td>11750.0</td>\n",
       "      <td>1.071671</td>\n",
       "      <td>0.249104</td>\n",
       "      <td>0.30491</td>\n",
       "      <td>0.12895</td>\n",
       "    </tr>\n",
       "    <tr>\n",
       "      <th>13</th>\n",
       "      <td>u14</td>\n",
       "      <td>head</td>\n",
       "      <td>(0, 30, 6)</td>\n",
       "      <td>None</td>\n",
       "      <td>4750.0</td>\n",
       "      <td>3250.0</td>\n",
       "      <td>0.736846</td>\n",
       "      <td>0.172571</td>\n",
       "      <td>-0.07616</td>\n",
       "      <td>0.09316</td>\n",
       "    </tr>\n",
       "    <tr>\n",
       "      <th>14</th>\n",
       "      <td>u15</td>\n",
       "      <td>head</td>\n",
       "      <td>(0, 33, 14)</td>\n",
       "      <td>None</td>\n",
       "      <td>3250.0</td>\n",
       "      <td>7250.0</td>\n",
       "      <td>1.152644</td>\n",
       "      <td>0.211322</td>\n",
       "      <td>0.03656</td>\n",
       "      <td>-0.04643</td>\n",
       "    </tr>\n",
       "    <tr>\n",
       "      <th>15</th>\n",
       "      <td>u16</td>\n",
       "      <td>head</td>\n",
       "      <td>(0, 36, 1)</td>\n",
       "      <td>None</td>\n",
       "      <td>1750.0</td>\n",
       "      <td>750.0</td>\n",
       "      <td>0.822167</td>\n",
       "      <td>0.229119</td>\n",
       "      <td>-0.09778</td>\n",
       "      <td>-0.08668</td>\n",
       "    </tr>\n",
       "    <tr>\n",
       "      <th>16</th>\n",
       "      <td>u17</td>\n",
       "      <td>head</td>\n",
       "      <td>(0, 37, 22)</td>\n",
       "      <td>None</td>\n",
       "      <td>1250.0</td>\n",
       "      <td>11250.0</td>\n",
       "      <td>1.219771</td>\n",
       "      <td>0.264825</td>\n",
       "      <td>0.40312</td>\n",
       "      <td>0.03706</td>\n",
       "    </tr>\n",
       "  </tbody>\n",
       "</table>\n",
       "</div>"
      ],
      "text/plain": [
       "   obsname obstype           id   id2        y        x  resid_prior_std  \\\n",
       "0      u01    head   (0, 2, 17)  None  18750.0   8750.0         0.921624   \n",
       "1      u02    head   (0, 3, 10)  None  18250.0   5250.0         0.590710   \n",
       "2      u03    head   (0, 6, 20)  None  16750.0  10250.0         0.943272   \n",
       "3      u04    head  (0, 12, 22)  None  13750.0  11250.0         0.958639   \n",
       "4      u05    head  (0, 14, 11)  None  12750.0   5750.0         0.697361   \n",
       "5      u06    head  (0, 16, 18)  None  11750.0   9250.0         1.019590   \n",
       "6      u07    head   (0, 17, 1)  None  11250.0    750.0         0.789318   \n",
       "7      u08    head   (0, 18, 6)  None  10750.0   3250.0         1.048701   \n",
       "8      u09    head  (0, 19, 11)  None  10250.0   5750.0         1.238138   \n",
       "9      u10    head  (0, 18, 22)  None  10750.0  11250.0         1.074879   \n",
       "10     u11    head   (0, 26, 5)  None   6750.0   2750.0         0.883358   \n",
       "11     u12    head  (0, 27, 11)  None   6250.0   5750.0         1.083991   \n",
       "12     u13    head  (0, 28, 23)  None   5750.0  11750.0         1.071671   \n",
       "13     u14    head   (0, 30, 6)  None   4750.0   3250.0         0.736846   \n",
       "14     u15    head  (0, 33, 14)  None   3250.0   7250.0         1.152644   \n",
       "15     u16    head   (0, 36, 1)  None   1750.0    750.0         0.822167   \n",
       "16     u17    head  (0, 37, 22)  None   1250.0  11250.0         1.219771   \n",
       "\n",
       "    resid_post_std  base_prior_resid  base_post_resid  \n",
       "0         0.141839           0.57890          0.12510  \n",
       "1         0.115678           0.20480          0.19480  \n",
       "2         0.142411           0.41970         -0.12420  \n",
       "3         0.129443           0.30320          0.13250  \n",
       "4         0.134144          -0.32480         -0.18850  \n",
       "5         0.149768          -0.29940          0.00800  \n",
       "6         0.180595          -0.17739         -0.03820  \n",
       "7         0.165548          -0.29058          0.04199  \n",
       "8         0.187915          -0.63241          0.06148  \n",
       "9         0.201571          -0.32940          0.03720  \n",
       "10        0.223855          -0.30309          0.07364  \n",
       "11        0.203421           0.16409          0.04170  \n",
       "12        0.249104           0.30491          0.12895  \n",
       "13        0.172571          -0.07616          0.09316  \n",
       "14        0.211322           0.03656         -0.04643  \n",
       "15        0.229119          -0.09778         -0.08668  \n",
       "16        0.264825           0.40312          0.03706  "
      ]
     },
     "execution_count": 29,
     "metadata": {},
     "output_type": "execute_result"
    }
   ],
   "source": [
    "df"
   ]
  },
  {
   "cell_type": "code",
   "execution_count": 30,
   "id": "7b087aab-b2bc-46cf-a11c-7c0c6ecf8a5b",
   "metadata": {
    "execution": {
     "iopub.execute_input": "2025-07-03T18:27:39.307065Z",
     "iopub.status.busy": "2025-07-03T18:27:39.306960Z",
     "iopub.status.idle": "2025-07-03T18:27:39.544977Z",
     "shell.execute_reply": "2025-07-03T18:27:39.544586Z",
     "shell.execute_reply.started": "2025-07-03T18:27:39.307056Z"
    }
   },
   "outputs": [
    {
     "data": {
      "text/plain": [
       "Text(0.5, 0.98, 'Base Realization Shallow Residuals')"
      ]
     },
     "execution_count": 30,
     "metadata": {},
     "output_type": "execute_result"
    },
    {
     "data": {
      "image/png": "[encoded data removed]",
      "text/plain": [
       "<Figure size 1000x600 with 4 Axes>"
      ]
     },
     "metadata": {},
     "output_type": "display_data"
    }
   ],
   "source": [
    "fig, allax = plt.subplots(1, 2, figsize=(10, 6))\n",
    "for ax, cc in zip(allax, [\"base_prior_resid\", \"base_post_resid\"]):\n",
    "    ax.set_aspect(\"equal\")\n",
    "    pmv = fp.plot.PlotMapView(m, ax=ax)\n",
    "    lc = pmv.plot_grid(lw=0.5)\n",
    "    # pmv.plot_array(m.npf.k[1].array, alpha=.1)\n",
    "    pmv.plot_bc(\"RIV\")\n",
    "    pmv.plot_bc(\"CHD\", alpha=0.2)\n",
    "\n",
    "    c = ax.scatter(\n",
    "        df_shallow.x,\n",
    "        df_shallow.y,\n",
    "        s=np.abs(df_shallow[cc]) * 200,\n",
    "        c=df_shallow[cc],\n",
    "        norm=mpl.colors.CenteredNorm(),\n",
    "        cmap=\"coolwarm\",\n",
    "    )\n",
    "    [\n",
    "        ax.text(x, y, s)\n",
    "        for x, y, s in zip(\n",
    "            df_shallow.x.values, df_shallow.y.values, df_shallow.obsname.values\n",
    "        )\n",
    "    ]\n",
    "    plt.colorbar(c)\n",
    "    ax.set_title(cc.split(\"_\")[1].capitalize(), fontsize=12)\n",
    "plt.suptitle(\"Base Realization Shallow Residuals\", fontsize=14)"
   ]
  },
  {
   "cell_type": "code",
   "execution_count": 31,
   "id": "b557805d-bd82-4c18-b2b0-dd6cb413b463",
   "metadata": {
    "execution": {
     "iopub.execute_input": "2025-07-03T18:27:39.545592Z",
     "iopub.status.busy": "2025-07-03T18:27:39.545483Z",
     "iopub.status.idle": "2025-07-03T18:27:39.765017Z",
     "shell.execute_reply": "2025-07-03T18:27:39.764656Z",
     "shell.execute_reply.started": "2025-07-03T18:27:39.545584Z"
    }
   },
   "outputs": [
    {
     "data": {
      "text/plain": [
       "Text(0.5, 0.98, 'Base Realization Deep Residuals')"
      ]
     },
     "execution_count": 31,
     "metadata": {},
     "output_type": "execute_result"
    },
    {
     "data": {
      "image/png": "[encoded data removed]",
      "text/plain": [
       "<Figure size 1000x600 with 4 Axes>"
      ]
     },
     "metadata": {},
     "output_type": "display_data"
    }
   ],
   "source": [
    "fig, allax = plt.subplots(1, 2, figsize=(10, 6))\n",
    "for ax, cc in zip(allax, [\"base_prior_resid\", \"base_post_resid\"]):\n",
    "    ax.set_aspect(\"equal\")\n",
    "    pmv = fp.plot.PlotMapView(m, ax=ax)\n",
    "    lc = pmv.plot_grid(lw=0.5)\n",
    "    # pmv.plot_array(m.npf.k[1].array, alpha=.1)\n",
    "    pmv.plot_bc(\"RIV\")\n",
    "    pmv.plot_bc(\"CHD\", alpha=0.2)\n",
    "\n",
    "    c = ax.scatter(\n",
    "        df_deep.x,\n",
    "        df_deep.y,\n",
    "        s=np.abs(df_deep[cc]) * 200,\n",
    "        c=df_deep[cc],\n",
    "        norm=mpl.colors.CenteredNorm(),\n",
    "        cmap=\"coolwarm\",\n",
    "    )\n",
    "    [\n",
    "        ax.text(x, y, s)\n",
    "        for x, y, s in zip(\n",
    "            df_deep.x.values, df_deep.y.values, df_deep.obsname.values\n",
    "        )\n",
    "    ]\n",
    "\n",
    "    plt.colorbar(c)\n",
    "    ax.set_title(cc.split(\"_\")[1].capitalize(), fontsize=12)\n",
    "plt.suptitle(\"Base Realization Deep Residuals\", fontsize=14)"
   ]
  },
  {
   "cell_type": "code",
   "execution_count": 32,
   "id": "6ddc7b29-5b70-44df-a159-49e19a8675ac",
   "metadata": {
    "execution": {
     "iopub.execute_input": "2025-07-03T18:27:39.765810Z",
     "iopub.status.busy": "2025-07-03T18:27:39.765703Z",
     "iopub.status.idle": "2025-07-03T18:27:39.943619Z",
     "shell.execute_reply": "2025-07-03T18:27:39.943373Z",
     "shell.execute_reply.started": "2025-07-03T18:27:39.765800Z"
    }
   },
   "outputs": [
    {
     "data": {
      "text/plain": [
       "Text(0.5, 0.98, 'Standard Deviation of Shallow Residuals')"
      ]
     },
     "execution_count": 32,
     "metadata": {},
     "output_type": "execute_result"
    },
    {
     "data": {
      "image/png": "[encoded data removed]",
      "text/plain": [
       "<Figure size 1000x600 with 4 Axes>"
      ]
     },
     "metadata": {},
     "output_type": "display_data"
    }
   ],
   "source": [
    "fig, allax = plt.subplots(1, 2, figsize=(10, 6))\n",
    "for ax, cc in zip(allax, [\"resid_prior_std\", \"resid_post_std\"]):\n",
    "    ax.set_aspect(\"equal\")\n",
    "    pmv = fp.plot.PlotMapView(m, ax=ax)\n",
    "    lc = pmv.plot_grid(lw=0.5)\n",
    "    # pmv.plot_array(m.npf.k[1].array, alpha=.3)\n",
    "    pmv.plot_bc(\"RIV\")\n",
    "    pmv.plot_bc(\"CHD\", alpha=0.2)\n",
    "\n",
    "    c = ax.scatter(\n",
    "        df_shallow.x,\n",
    "        df_shallow.y,\n",
    "        s=df_shallow[cc] * 100,\n",
    "        c=df_shallow[cc],\n",
    "        vmin=0,\n",
    "        vmax=2.5,\n",
    "    )\n",
    "    plt.colorbar(c)\n",
    "    ax.set_title(cc.split(\"_\")[1].capitalize(), fontsize=12)\n",
    "plt.suptitle(\"Standard Deviation of Shallow Residuals\", fontsize=14)"
   ]
  },
  {
   "cell_type": "code",
   "execution_count": 33,
   "id": "65fa740f-8d13-450d-b212-ab2e30073ec9",
   "metadata": {
    "execution": {
     "iopub.execute_input": "2025-07-03T18:27:39.944071Z",
     "iopub.status.busy": "2025-07-03T18:27:39.943991Z",
     "iopub.status.idle": "2025-07-03T18:27:40.119345Z",
     "shell.execute_reply": "2025-07-03T18:27:40.119023Z",
     "shell.execute_reply.started": "2025-07-03T18:27:39.944063Z"
    }
   },
   "outputs": [
    {
     "data": {
      "text/plain": [
       "Text(0.5, 0.98, 'Standard Deviation of Deep Residuals')"
      ]
     },
     "execution_count": 33,
     "metadata": {},
     "output_type": "execute_result"
    },
    {
     "data": {
      "image/png": "[encoded data removed]",
      "text/plain": [
       "<Figure size 1000x600 with 4 Axes>"
      ]
     },
     "metadata": {},
     "output_type": "display_data"
    }
   ],
   "source": [
    "fig, allax = plt.subplots(1, 2, figsize=(10, 6))\n",
    "for ax, cc in zip(allax, [\"resid_prior_std\", \"resid_post_std\"]):\n",
    "    ax.set_aspect(\"equal\")\n",
    "    pmv = fp.plot.PlotMapView(m, ax=ax)\n",
    "    lc = pmv.plot_grid(lw=0.5)\n",
    "    # pmv.plot_array(m.npf.k[1].array, alpha=.3)\n",
    "    pmv.plot_bc(\"RIV\")\n",
    "    pmv.plot_bc(\"CHD\", alpha=0.2)\n",
    "\n",
    "    c = ax.scatter(\n",
    "        df_deep.x,\n",
    "        df_deep.y,\n",
    "        s=df_deep[cc] * 100,\n",
    "        c=df_deep[cc],\n",
    "        vmin=0,\n",
    "        vmax=2.5,\n",
    "    )\n",
    "    plt.colorbar(c)\n",
    "    ax.set_title(cc.split(\"_\")[1].capitalize(), fontsize=12)\n",
    "plt.suptitle(\"Standard Deviation of Deep Residuals\", fontsize=14)"
   ]
  },
  {
   "cell_type": "markdown",
   "id": "01664344",
   "metadata": {},
   "source": [
    "# Visualize a single set of fields"
   ]
  },
  {
   "cell_type": "code",
   "execution_count": 34,
   "id": "82ac835e",
   "metadata": {
    "execution": {
     "iopub.execute_input": "2025-07-03T18:27:40.120044Z",
     "iopub.status.busy": "2025-07-03T18:27:40.119903Z",
     "iopub.status.idle": "2025-07-03T18:27:40.309141Z",
     "shell.execute_reply": "2025-07-03T18:27:40.308854Z",
     "shell.execute_reply.started": "2025-07-03T18:27:40.120035Z"
    }
   },
   "outputs": [
    {
     "data": {
      "text/plain": [
       "PosixPath('../scratch')"
      ]
     },
     "execution_count": 34,
     "metadata": {},
     "output_type": "execute_result"
    }
   ],
   "source": [
    "tmpdir = Path(\"../scratch\")\n",
    "if tmpdir.exists():\n",
    "    shutil.rmtree(tmpdir)\n",
    "shutil.copytree(ies_dir, tmpdir)"
   ]
  },
  {
   "cell_type": "code",
   "execution_count": 35,
   "id": "561f162b",
   "metadata": {
    "execution": {
     "iopub.execute_input": "2025-07-03T18:27:40.309697Z",
     "iopub.status.busy": "2025-07-03T18:27:40.309591Z",
     "iopub.status.idle": "2025-07-03T18:27:40.333050Z",
     "shell.execute_reply": "2025-07-03T18:27:40.332634Z",
     "shell.execute_reply.started": "2025-07-03T18:27:40.309687Z"
    }
   },
   "outputs": [],
   "source": [
    "pst = pyemu.Pst(str(tmpdir / \"mv.ies.pst\"))"
   ]
  },
  {
   "cell_type": "code",
   "execution_count": 36,
   "id": "0c87f231",
   "metadata": {
    "execution": {
     "iopub.execute_input": "2025-07-03T18:27:40.333690Z",
     "iopub.status.busy": "2025-07-03T18:27:40.333576Z",
     "iopub.status.idle": "2025-07-03T18:27:40.345471Z",
     "shell.execute_reply": "2025-07-03T18:27:40.345118Z",
     "shell.execute_reply.started": "2025-07-03T18:27:40.333682Z"
    }
   },
   "outputs": [
    {
     "data": {
      "text/html": [
       "<div>\n",
       "<style scoped>\n",
       "    .dataframe tbody tr th:only-of-type {\n",
       "        vertical-align: middle;\n",
       "    }\n",
       "\n",
       "    .dataframe tbody tr th {\n",
       "        vertical-align: top;\n",
       "    }\n",
       "\n",
       "    .dataframe thead th {\n",
       "        text-align: right;\n",
       "    }\n",
       "</style>\n",
       "<table border=\"1\" class=\"dataframe\">\n",
       "  <thead>\n",
       "    <tr style=\"text-align: right;\">\n",
       "      <th></th>\n",
       "      <th>hk_aq_i:10_j:10_zone:5</th>\n",
       "      <th>hk_aq_i:10_j:13_zone:5</th>\n",
       "      <th>hk_aq_i:10_j:16_zone:5</th>\n",
       "      <th>hk_aq_i:10_j:19_zone:5</th>\n",
       "      <th>hk_aq_i:10_j:1_zone:4</th>\n",
       "      <th>hk_aq_i:10_j:22_zone:5</th>\n",
       "      <th>hk_aq_i:10_j:4_zone:4</th>\n",
       "      <th>hk_aq_i:10_j:7_zone:1</th>\n",
       "      <th>hk_aq_i:13_j:10_zone:5</th>\n",
       "      <th>hk_aq_i:13_j:13_zone:5</th>\n",
       "      <th>...</th>\n",
       "      <th>hk_clay_i:3_j:3_zone:1</th>\n",
       "      <th>hk_clay_i:3_j:9_zone:1</th>\n",
       "      <th>hk_clay_i:9_j:15_zone:1</th>\n",
       "      <th>hk_clay_i:9_j:21_zone:1</th>\n",
       "      <th>hk_clay_i:9_j:3_zone:1</th>\n",
       "      <th>hk_clay_i:9_j:9_zone:1</th>\n",
       "      <th>kaniso</th>\n",
       "      <th>kaniso_clay</th>\n",
       "      <th>rch</th>\n",
       "      <th>rv1</th>\n",
       "    </tr>\n",
       "    <tr>\n",
       "      <th>real_name</th>\n",
       "      <th></th>\n",
       "      <th></th>\n",
       "      <th></th>\n",
       "      <th></th>\n",
       "      <th></th>\n",
       "      <th></th>\n",
       "      <th></th>\n",
       "      <th></th>\n",
       "      <th></th>\n",
       "      <th></th>\n",
       "      <th></th>\n",
       "      <th></th>\n",
       "      <th></th>\n",
       "      <th></th>\n",
       "      <th></th>\n",
       "      <th></th>\n",
       "      <th></th>\n",
       "      <th></th>\n",
       "      <th></th>\n",
       "      <th></th>\n",
       "      <th></th>\n",
       "    </tr>\n",
       "  </thead>\n",
       "  <tbody>\n",
       "    <tr>\n",
       "      <th>0</th>\n",
       "      <td>224.127</td>\n",
       "      <td>109.946</td>\n",
       "      <td>159.537</td>\n",
       "      <td>870.3450</td>\n",
       "      <td>209.8500</td>\n",
       "      <td>561.853</td>\n",
       "      <td>746.9630</td>\n",
       "      <td>197.2770</td>\n",
       "      <td>718.5540</td>\n",
       "      <td>288.0560</td>\n",
       "      <td>...</td>\n",
       "      <td>3.288270</td>\n",
       "      <td>0.052802</td>\n",
       "      <td>0.764964</td>\n",
       "      <td>0.188447</td>\n",
       "      <td>0.020954</td>\n",
       "      <td>0.090769</td>\n",
       "      <td>0.148961</td>\n",
       "      <td>0.062328</td>\n",
       "      <td>0.003557</td>\n",
       "      <td>176616.0</td>\n",
       "    </tr>\n",
       "    <tr>\n",
       "      <th>1</th>\n",
       "      <td>196.838</td>\n",
       "      <td>270.739</td>\n",
       "      <td>780.793</td>\n",
       "      <td>856.5490</td>\n",
       "      <td>417.3490</td>\n",
       "      <td>1000.000</td>\n",
       "      <td>20.7292</td>\n",
       "      <td>400.0710</td>\n",
       "      <td>192.5930</td>\n",
       "      <td>174.6820</td>\n",
       "      <td>...</td>\n",
       "      <td>0.108693</td>\n",
       "      <td>0.021164</td>\n",
       "      <td>15.112800</td>\n",
       "      <td>1.074400</td>\n",
       "      <td>22.357100</td>\n",
       "      <td>0.242917</td>\n",
       "      <td>0.194615</td>\n",
       "      <td>0.100769</td>\n",
       "      <td>0.003393</td>\n",
       "      <td>1000000.0</td>\n",
       "    </tr>\n",
       "    <tr>\n",
       "      <th>2</th>\n",
       "      <td>121.086</td>\n",
       "      <td>709.716</td>\n",
       "      <td>372.382</td>\n",
       "      <td>1000.0000</td>\n",
       "      <td>301.5430</td>\n",
       "      <td>968.651</td>\n",
       "      <td>438.7040</td>\n",
       "      <td>934.6160</td>\n",
       "      <td>54.2243</td>\n",
       "      <td>154.6610</td>\n",
       "      <td>...</td>\n",
       "      <td>0.941623</td>\n",
       "      <td>0.314246</td>\n",
       "      <td>30.851700</td>\n",
       "      <td>0.405678</td>\n",
       "      <td>1.246930</td>\n",
       "      <td>0.141116</td>\n",
       "      <td>0.154358</td>\n",
       "      <td>0.028588</td>\n",
       "      <td>0.003481</td>\n",
       "      <td>760444.0</td>\n",
       "    </tr>\n",
       "    <tr>\n",
       "      <th>3</th>\n",
       "      <td>1000.000</td>\n",
       "      <td>611.582</td>\n",
       "      <td>579.843</td>\n",
       "      <td>428.6750</td>\n",
       "      <td>64.7732</td>\n",
       "      <td>296.175</td>\n",
       "      <td>54.2407</td>\n",
       "      <td>492.5290</td>\n",
       "      <td>144.2070</td>\n",
       "      <td>338.4020</td>\n",
       "      <td>...</td>\n",
       "      <td>0.040118</td>\n",
       "      <td>0.016892</td>\n",
       "      <td>0.443944</td>\n",
       "      <td>11.463200</td>\n",
       "      <td>1.590480</td>\n",
       "      <td>2.985600</td>\n",
       "      <td>0.070255</td>\n",
       "      <td>0.188760</td>\n",
       "      <td>0.003561</td>\n",
       "      <td>291643.0</td>\n",
       "    </tr>\n",
       "    <tr>\n",
       "      <th>4</th>\n",
       "      <td>1000.000</td>\n",
       "      <td>798.800</td>\n",
       "      <td>1000.000</td>\n",
       "      <td>92.7003</td>\n",
       "      <td>151.1650</td>\n",
       "      <td>343.586</td>\n",
       "      <td>34.3218</td>\n",
       "      <td>542.1470</td>\n",
       "      <td>361.2070</td>\n",
       "      <td>371.8550</td>\n",
       "      <td>...</td>\n",
       "      <td>3.633750</td>\n",
       "      <td>0.099569</td>\n",
       "      <td>0.815816</td>\n",
       "      <td>70.159000</td>\n",
       "      <td>14.525300</td>\n",
       "      <td>0.019628</td>\n",
       "      <td>0.288117</td>\n",
       "      <td>0.079992</td>\n",
       "      <td>0.003621</td>\n",
       "      <td>145612.0</td>\n",
       "    </tr>\n",
       "    <tr>\n",
       "      <th>...</th>\n",
       "      <td>...</td>\n",
       "      <td>...</td>\n",
       "      <td>...</td>\n",
       "      <td>...</td>\n",
       "      <td>...</td>\n",
       "      <td>...</td>\n",
       "      <td>...</td>\n",
       "      <td>...</td>\n",
       "      <td>...</td>\n",
       "      <td>...</td>\n",
       "      <td>...</td>\n",
       "      <td>...</td>\n",
       "      <td>...</td>\n",
       "      <td>...</td>\n",
       "      <td>...</td>\n",
       "      <td>...</td>\n",
       "      <td>...</td>\n",
       "      <td>...</td>\n",
       "      <td>...</td>\n",
       "      <td>...</td>\n",
       "      <td>...</td>\n",
       "    </tr>\n",
       "    <tr>\n",
       "      <th>95</th>\n",
       "      <td>751.117</td>\n",
       "      <td>226.699</td>\n",
       "      <td>1000.000</td>\n",
       "      <td>126.1340</td>\n",
       "      <td>255.7510</td>\n",
       "      <td>260.688</td>\n",
       "      <td>198.2050</td>\n",
       "      <td>728.4010</td>\n",
       "      <td>192.6920</td>\n",
       "      <td>105.9450</td>\n",
       "      <td>...</td>\n",
       "      <td>0.122358</td>\n",
       "      <td>0.017728</td>\n",
       "      <td>100.000000</td>\n",
       "      <td>4.719970</td>\n",
       "      <td>0.024740</td>\n",
       "      <td>0.645652</td>\n",
       "      <td>0.644715</td>\n",
       "      <td>0.041860</td>\n",
       "      <td>0.003761</td>\n",
       "      <td>291633.0</td>\n",
       "    </tr>\n",
       "    <tr>\n",
       "      <th>96</th>\n",
       "      <td>196.696</td>\n",
       "      <td>894.649</td>\n",
       "      <td>394.767</td>\n",
       "      <td>999.8850</td>\n",
       "      <td>117.2630</td>\n",
       "      <td>368.913</td>\n",
       "      <td>660.7680</td>\n",
       "      <td>462.7810</td>\n",
       "      <td>145.6250</td>\n",
       "      <td>80.9699</td>\n",
       "      <td>...</td>\n",
       "      <td>0.052598</td>\n",
       "      <td>0.002883</td>\n",
       "      <td>1.262530</td>\n",
       "      <td>1.908810</td>\n",
       "      <td>0.320005</td>\n",
       "      <td>0.207055</td>\n",
       "      <td>0.330891</td>\n",
       "      <td>0.115920</td>\n",
       "      <td>0.003502</td>\n",
       "      <td>192695.0</td>\n",
       "    </tr>\n",
       "    <tr>\n",
       "      <th>97</th>\n",
       "      <td>1000.000</td>\n",
       "      <td>1000.000</td>\n",
       "      <td>1000.000</td>\n",
       "      <td>969.3090</td>\n",
       "      <td>55.3988</td>\n",
       "      <td>176.690</td>\n",
       "      <td>58.4220</td>\n",
       "      <td>14.2012</td>\n",
       "      <td>795.7710</td>\n",
       "      <td>593.8340</td>\n",
       "      <td>...</td>\n",
       "      <td>0.081039</td>\n",
       "      <td>0.009014</td>\n",
       "      <td>22.921600</td>\n",
       "      <td>1.039040</td>\n",
       "      <td>51.287200</td>\n",
       "      <td>0.015367</td>\n",
       "      <td>0.203200</td>\n",
       "      <td>0.159423</td>\n",
       "      <td>0.003714</td>\n",
       "      <td>163229.0</td>\n",
       "    </tr>\n",
       "    <tr>\n",
       "      <th>98</th>\n",
       "      <td>1000.000</td>\n",
       "      <td>129.153</td>\n",
       "      <td>349.671</td>\n",
       "      <td>42.6482</td>\n",
       "      <td>38.7041</td>\n",
       "      <td>592.544</td>\n",
       "      <td>47.3242</td>\n",
       "      <td>1000.0000</td>\n",
       "      <td>198.3360</td>\n",
       "      <td>82.3074</td>\n",
       "      <td>...</td>\n",
       "      <td>0.801281</td>\n",
       "      <td>0.003162</td>\n",
       "      <td>31.245200</td>\n",
       "      <td>0.497252</td>\n",
       "      <td>1.526670</td>\n",
       "      <td>0.119143</td>\n",
       "      <td>0.105755</td>\n",
       "      <td>0.389343</td>\n",
       "      <td>0.003643</td>\n",
       "      <td>1000000.0</td>\n",
       "    </tr>\n",
       "    <tr>\n",
       "      <th>base</th>\n",
       "      <td>510.766</td>\n",
       "      <td>703.200</td>\n",
       "      <td>517.993</td>\n",
       "      <td>528.3860</td>\n",
       "      <td>79.9133</td>\n",
       "      <td>467.029</td>\n",
       "      <td>345.9570</td>\n",
       "      <td>554.0430</td>\n",
       "      <td>77.5559</td>\n",
       "      <td>204.8940</td>\n",
       "      <td>...</td>\n",
       "      <td>1.002020</td>\n",
       "      <td>0.017249</td>\n",
       "      <td>2.523710</td>\n",
       "      <td>1.492630</td>\n",
       "      <td>2.602120</td>\n",
       "      <td>0.381087</td>\n",
       "      <td>0.134123</td>\n",
       "      <td>0.165888</td>\n",
       "      <td>0.003648</td>\n",
       "      <td>148883.0</td>\n",
       "    </tr>\n",
       "  </tbody>\n",
       "</table>\n",
       "<p>100 rows × 119 columns</p>\n",
       "</div>"
      ],
      "text/plain": [
       "           hk_aq_i:10_j:10_zone:5  hk_aq_i:10_j:13_zone:5  \\\n",
       "real_name                                                   \n",
       "0                         224.127                 109.946   \n",
       "1                         196.838                 270.739   \n",
       "2                         121.086                 709.716   \n",
       "3                        1000.000                 611.582   \n",
       "4                        1000.000                 798.800   \n",
       "...                           ...                     ...   \n",
       "95                        751.117                 226.699   \n",
       "96                        196.696                 894.649   \n",
       "97                       1000.000                1000.000   \n",
       "98                       1000.000                 129.153   \n",
       "base                      510.766                 703.200   \n",
       "\n",
       "           hk_aq_i:10_j:16_zone:5  hk_aq_i:10_j:19_zone:5  \\\n",
       "real_name                                                   \n",
       "0                         159.537                870.3450   \n",
       "1                         780.793                856.5490   \n",
       "2                         372.382               1000.0000   \n",
       "3                         579.843                428.6750   \n",
       "4                        1000.000                 92.7003   \n",
       "...                           ...                     ...   \n",
       "95                       1000.000                126.1340   \n",
       "96                        394.767                999.8850   \n",
       "97                       1000.000                969.3090   \n",
       "98                        349.671                 42.6482   \n",
       "base                      517.993                528.3860   \n",
       "\n",
       "           hk_aq_i:10_j:1_zone:4  hk_aq_i:10_j:22_zone:5  \\\n",
       "real_name                                                  \n",
       "0                       209.8500                 561.853   \n",
       "1                       417.3490                1000.000   \n",
       "2                       301.5430                 968.651   \n",
       "3                        64.7732                 296.175   \n",
       "4                       151.1650                 343.586   \n",
       "...                          ...                     ...   \n",
       "95                      255.7510                 260.688   \n",
       "96                      117.2630                 368.913   \n",
       "97                       55.3988                 176.690   \n",
       "98                       38.7041                 592.544   \n",
       "base                     79.9133                 467.029   \n",
       "\n",
       "           hk_aq_i:10_j:4_zone:4  hk_aq_i:10_j:7_zone:1  \\\n",
       "real_name                                                 \n",
       "0                       746.9630               197.2770   \n",
       "1                        20.7292               400.0710   \n",
       "2                       438.7040               934.6160   \n",
       "3                        54.2407               492.5290   \n",
       "4                        34.3218               542.1470   \n",
       "...                          ...                    ...   \n",
       "95                      198.2050               728.4010   \n",
       "96                      660.7680               462.7810   \n",
       "97                       58.4220                14.2012   \n",
       "98                       47.3242              1000.0000   \n",
       "base                    345.9570               554.0430   \n",
       "\n",
       "           hk_aq_i:13_j:10_zone:5  hk_aq_i:13_j:13_zone:5  ...  \\\n",
       "real_name                                                  ...   \n",
       "0                        718.5540                288.0560  ...   \n",
       "1                        192.5930                174.6820  ...   \n",
       "2                         54.2243                154.6610  ...   \n",
       "3                        144.2070                338.4020  ...   \n",
       "4                        361.2070                371.8550  ...   \n",
       "...                           ...                     ...  ...   \n",
       "95                       192.6920                105.9450  ...   \n",
       "96                       145.6250                 80.9699  ...   \n",
       "97                       795.7710                593.8340  ...   \n",
       "98                       198.3360                 82.3074  ...   \n",
       "base                      77.5559                204.8940  ...   \n",
       "\n",
       "           hk_clay_i:3_j:3_zone:1  hk_clay_i:3_j:9_zone:1  \\\n",
       "real_name                                                   \n",
       "0                        3.288270                0.052802   \n",
       "1                        0.108693                0.021164   \n",
       "2                        0.941623                0.314246   \n",
       "3                        0.040118                0.016892   \n",
       "4                        3.633750                0.099569   \n",
       "...                           ...                     ...   \n",
       "95                       0.122358                0.017728   \n",
       "96                       0.052598                0.002883   \n",
       "97                       0.081039                0.009014   \n",
       "98                       0.801281                0.003162   \n",
       "base                     1.002020                0.017249   \n",
       "\n",
       "           hk_clay_i:9_j:15_zone:1  hk_clay_i:9_j:21_zone:1  \\\n",
       "real_name                                                     \n",
       "0                         0.764964                 0.188447   \n",
       "1                        15.112800                 1.074400   \n",
       "2                        30.851700                 0.405678   \n",
       "3                         0.443944                11.463200   \n",
       "4                         0.815816                70.159000   \n",
       "...                            ...                      ...   \n",
       "95                      100.000000                 4.719970   \n",
       "96                        1.262530                 1.908810   \n",
       "97                       22.921600                 1.039040   \n",
       "98                       31.245200                 0.497252   \n",
       "base                      2.523710                 1.492630   \n",
       "\n",
       "           hk_clay_i:9_j:3_zone:1  hk_clay_i:9_j:9_zone:1    kaniso  \\\n",
       "real_name                                                             \n",
       "0                        0.020954                0.090769  0.148961   \n",
       "1                       22.357100                0.242917  0.194615   \n",
       "2                        1.246930                0.141116  0.154358   \n",
       "3                        1.590480                2.985600  0.070255   \n",
       "4                       14.525300                0.019628  0.288117   \n",
       "...                           ...                     ...       ...   \n",
       "95                       0.024740                0.645652  0.644715   \n",
       "96                       0.320005                0.207055  0.330891   \n",
       "97                      51.287200                0.015367  0.203200   \n",
       "98                       1.526670                0.119143  0.105755   \n",
       "base                     2.602120                0.381087  0.134123   \n",
       "\n",
       "           kaniso_clay       rch        rv1  \n",
       "real_name                                    \n",
       "0             0.062328  0.003557   176616.0  \n",
       "1             0.100769  0.003393  1000000.0  \n",
       "2             0.028588  0.003481   760444.0  \n",
       "3             0.188760  0.003561   291643.0  \n",
       "4             0.079992  0.003621   145612.0  \n",
       "...                ...       ...        ...  \n",
       "95            0.041860  0.003761   291633.0  \n",
       "96            0.115920  0.003502   192695.0  \n",
       "97            0.159423  0.003714   163229.0  \n",
       "98            0.389343  0.003643  1000000.0  \n",
       "base          0.165888  0.003648   148883.0  \n",
       "\n",
       "[100 rows x 119 columns]"
      ]
     },
     "execution_count": 36,
     "metadata": {},
     "output_type": "execute_result"
    }
   ],
   "source": [
    "pars = pd.read_csv(ies_dir / \"mv.ies.3.par.csv\", index_col=0)\n",
    "pars"
   ]
  },
  {
   "cell_type": "code",
   "execution_count": 37,
   "id": "df64b042",
   "metadata": {
    "execution": {
     "iopub.execute_input": "2025-07-03T18:27:40.346172Z",
     "iopub.status.busy": "2025-07-03T18:27:40.346057Z",
     "iopub.status.idle": "2025-07-03T18:27:40.348706Z",
     "shell.execute_reply": "2025-07-03T18:27:40.348300Z",
     "shell.execute_reply.started": "2025-07-03T18:27:40.346164Z"
    }
   },
   "outputs": [],
   "source": [
    "pst.control_data.noptmax = 0"
   ]
  },
  {
   "cell_type": "markdown",
   "id": "925261d5",
   "metadata": {},
   "source": [
    "## good to check out the base realization, but could choose another"
   ]
  },
  {
   "cell_type": "code",
   "execution_count": 38,
   "id": "3218e4d4",
   "metadata": {
    "execution": {
     "iopub.execute_input": "2025-07-03T18:27:40.349369Z",
     "iopub.status.busy": "2025-07-03T18:27:40.349264Z",
     "iopub.status.idle": "2025-07-03T18:27:40.351085Z",
     "shell.execute_reply": "2025-07-03T18:27:40.350816Z",
     "shell.execute_reply.started": "2025-07-03T18:27:40.349359Z"
    }
   },
   "outputs": [],
   "source": [
    "real_to_plot = \"base\""
   ]
  },
  {
   "cell_type": "code",
   "execution_count": 39,
   "id": "e405bd96",
   "metadata": {
    "execution": {
     "iopub.execute_input": "2025-07-03T18:27:40.351490Z",
     "iopub.status.busy": "2025-07-03T18:27:40.351408Z",
     "iopub.status.idle": "2025-07-03T18:27:40.354407Z",
     "shell.execute_reply": "2025-07-03T18:27:40.353878Z",
     "shell.execute_reply.started": "2025-07-03T18:27:40.351482Z"
    }
   },
   "outputs": [],
   "source": [
    "pst.parameter_data.loc[pars.loc[real_to_plot].index, \"parval1\"] = pars.loc[\n",
    "    real_to_plot\n",
    "]"
   ]
  },
  {
   "cell_type": "code",
   "execution_count": 40,
   "id": "d14933d0",
   "metadata": {
    "execution": {
     "iopub.execute_input": "2025-07-03T18:27:40.355065Z",
     "iopub.status.busy": "2025-07-03T18:27:40.354968Z",
     "iopub.status.idle": "2025-07-03T18:27:40.439089Z",
     "shell.execute_reply": "2025-07-03T18:27:40.438665Z",
     "shell.execute_reply.started": "2025-07-03T18:27:40.355057Z"
    }
   },
   "outputs": [
    {
     "name": "stdout",
     "output_type": "stream",
     "text": [
      "noptmax:0, npar_adj:119, nnz_obs:40\n"
     ]
    }
   ],
   "source": [
    "pst.write(str(tmpdir / \"testrun.pst\"), version=2)"
   ]
  },
  {
   "cell_type": "code",
   "execution_count": 41,
   "id": "28666175",
   "metadata": {
    "execution": {
     "iopub.execute_input": "2025-07-03T18:27:40.439708Z",
     "iopub.status.busy": "2025-07-03T18:27:40.439565Z",
     "iopub.status.idle": "2025-07-03T18:27:42.750084Z",
     "shell.execute_reply": "2025-07-03T18:27:42.749792Z",
     "shell.execute_reply.started": "2025-07-03T18:27:40.439694Z"
    }
   },
   "outputs": [
    {
     "name": "stdout",
     "output_type": "stream",
     "text": [
      "\n",
      "\n",
      "             pestpp-ies: a GLM iterative ensemble smoother\n",
      "\n",
      "                   by the PEST++ development team\n",
      "\n",
      "\n",
      "version: 5.2.16\n",
      "binary compiled on Dec  1 2024 at 18:51:00\n",
      "\n",
      "started at 07/03/25 13:27:40\n",
      "...processing command line: ' ./pestpp-ies testrun.pst'\n",
      "...using serial run manager\n",
      "\n",
      "using control file: \"testrun.pst\"\n",
      "in directory: \"/Users/mnfienen/Documents/GIT/modflow-sandiego-2025/exercises/tmp/PEST/scratch\"\n",
      "on host: \"IGSACB116LHMNFI\"\n",
      "\n",
      "processing control file testrun.pst\n",
      "\n",
      "Note: 'NOPTMAX' == 0, switching to forgiveness mode when checking inputs\n",
      "\n",
      "noptmax = 0, resetting max_run_fail = 1\n",
      "parameter warning: 2 parameters are at upper bound\n",
      "checking model IO files...done\n",
      "              starting serial run manager ...\n",
      "\n",
      "\n",
      "  ---  initializing  ---  \n",
      "\n",
      "  ---  'noptmax'=0, running control file parameter values and quitting  ---  \n",
      "...saving control file parameter ensemble to  testrun.base.par.csv\n",
      "...initializing prior parameter covariance matrix\n",
      "...parcov loaded  from parameter bounds, using par_sigma_range 6\n",
      "...running control file parameter values\n",
      "\n",
      "\n",
      "\n",
      "    ---  starting serial run manager for 1 runs ---    \n",
      "\n",
      "\n",
      "07/03/25 13:27:40 processing template files with 1 threads...\n",
      "07/03/25 13:27:40 done, took 0.002 seconds\n",
      "07/03/25 13:27:40 calling forward run command(s)\n",
      "07/03/25 13:27:40 calling forward run command: 'python forward_run.py' \n",
      "...pid: 55018\n",
      "                                   MODFLOW 6\n",
      "                U.S. GEOLOGICAL SURVEY MODULAR HYDROLOGIC MODEL\n",
      "                        VERSION 6.4.1 Release 12/09/2022\n",
      "\n",
      "   MODFLOW 6 compiled Apr 12 2023 19:02:02 with Intel(R) Fortran Intel(R) 64\n",
      "   Compiler Classic for applications running on Intel(R) 64, Version 2021.7.0\n",
      "                             Build 20220726_000000\n",
      "\n",
      "This software has been approved for release by the U.S. Geological \n",
      "Survey (USGS). Although the software has been subjected to rigorous \n",
      "review, the USGS reserves the right to update the software as needed \n",
      "pursuant to further analysis and review. No warranty, expressed or \n",
      "implied, is made by the USGS or the U.S. Government as to the \n",
      "functionality of the software and related material nor shall the \n",
      "fact of release constitute any such warranty. Furthermore, the \n",
      "software is released on condition that neither the USGS nor the U.S. \n",
      "Government shall be held liable for any damages resulting from its \n",
      "authorized or unauthorized use. Also refer to the USGS Water \n",
      "Resources Software User Rights Notice for complete use, copyright, \n",
      "and distribution information.\n",
      "\n",
      " \n",
      " Run start date and time (yyyy/mm/dd hh:mm:ss): 2025/07/03 13:27:42\n",
      " \n",
      " Writing simulation list file: mfsim.lst\n",
      " Using Simulation name file: mfsim.nam\n",
      " \n",
      "    Solving:  Stress period:     1    Time step:     1\n",
      " \n",
      " Run end date and time (yyyy/mm/dd hh:mm:ss): 2025/07/03 13:27:42\n",
      " Elapsed run time:  0.157 Seconds\n",
      " \n",
      " Normal termination of simulation.\n",
      "...exit_code: 55018\n",
      "...status: 0\n",
      "07/03/25 13:27:42 forward run command(s) finished, took 1.75 seconds\n",
      "07/03/25 13:27:42 processing instruction files with 1 threads...\n",
      "thread 0 processed 1 instruction files\n",
      "07/03/25 13:27:42 done, took 0 seconds\n",
      "\n",
      "\n",
      "-->07/03/25 13:27:42 run complete, took: 1.755 seconds\n",
      "-->1 of 1 complete, 0 failed\n",
      "\n",
      "\n",
      "\n",
      "\n",
      "\n",
      "    ---  serial run manager runs summary:  ---    \n",
      "    1 of 1 complete, 0 failed\n",
      "    process took : 1.755 seconds\n",
      "\n",
      "\n",
      "\n",
      "\n",
      "...saving results from control file parameter value run to  testrun.base.obs.csv\n",
      "\n",
      "  ---  control file parameter phi report:  ---  \n",
      "       phi type           mean            std            min            max\n",
      "       measured        27.2042              0        27.2042        27.2042\n",
      "         actual        27.2042              0        27.2042        27.2042\n",
      "     note: 'measured' phi reported above includes \n",
      "           realizations of measurement noise, \n",
      "           'actual' phi does not.\n",
      "  ---  observation group phi summary ---  \n",
      "       (computed using 'actual' phi)\n",
      "           (sorted by mean phi)\n",
      "group          count  nconflict      mean       std       min       max   percent       std\n",
      "headgroup         34         34      25.5         0      25.5      25.5      93.9         0\n",
      "rivgroup           2          2      1.04         0      1.04      1.04      3.84         0\n",
      "headdiffgroup      3          3     0.619         0     0.619     0.619      2.28         0\n",
      "lakegroup          1          1   0.00275         0   0.00275   0.00275    0.0101         0\n",
      "    Note: 'percent' is the percentage of the actual phi for each realization.\n",
      "\n"
     ]
    }
   ],
   "source": [
    "pyemu.os_utils.run(\"pestpp-ies testrun.pst\", str(tmpdir))"
   ]
  },
  {
   "cell_type": "code",
   "execution_count": 42,
   "id": "26c2c9b3-c237-4459-a61a-a85dfe6bd438",
   "metadata": {
    "execution": {
     "iopub.execute_input": "2025-07-03T18:27:42.750634Z",
     "iopub.status.busy": "2025-07-03T18:27:42.750504Z",
     "iopub.status.idle": "2025-07-03T18:27:42.754853Z",
     "shell.execute_reply": "2025-07-03T18:27:42.754443Z",
     "shell.execute_reply.started": "2025-07-03T18:27:42.750624Z"
    }
   },
   "outputs": [],
   "source": [
    "idom = m.dis.idomain.array[2]"
   ]
  },
  {
   "cell_type": "markdown",
   "id": "6fc9064c",
   "metadata": {},
   "source": [
    "## viz the k fields and other parameters"
   ]
  },
  {
   "cell_type": "code",
   "execution_count": 43,
   "id": "ccdd6467",
   "metadata": {
    "execution": {
     "iopub.execute_input": "2025-07-03T18:27:42.755859Z",
     "iopub.status.busy": "2025-07-03T18:27:42.755731Z",
     "iopub.status.idle": "2025-07-03T18:27:43.060648Z",
     "shell.execute_reply": "2025-07-03T18:27:43.060397Z",
     "shell.execute_reply.started": "2025-07-03T18:27:42.755849Z"
    }
   },
   "outputs": [
    {
     "name": "stdout",
     "output_type": "stream",
     "text": [
      "saved par and rei files for realization BASE\n",
      "\n",
      "\n",
      "pestpp-ies analysis complete...\n",
      "started at 07/03/25 13:27:40\n",
      "finished at 07/03/25 13:27:42\n",
      "took 0.0166667 minutes\n"
     ]
    },
    {
     "data": {
      "image/png": "[encoded data removed]",
      "text/plain": [
       "<Figure size 1000x1000 with 8 Axes>"
      ]
     },
     "metadata": {},
     "output_type": "display_data"
    }
   ],
   "source": [
    "fig, ax = plt.subplots(2, 2, figsize=(10, 10))\n",
    "for cax, carr, ctitle in zip(\n",
    "    ax.ravel(),\n",
    "    [\n",
    "        np.loadtxt(tmpdir / \"k_aq.ref\"),\n",
    "        m.npf.k.data[1],\n",
    "        np.loadtxt(tmpdir / \"k_clay.ref\"),\n",
    "        m.npf.k.data[2],\n",
    "    ],\n",
    "    [\"Estimated Aquifer K\", \"REF Aquifer K\", \"Estimated Clay K\", \"REF Clay K\"],\n",
    "):\n",
    "    cax.set_aspect(\"equal\")\n",
    "    pmv = fp.plot.PlotMapView(m, ax=cax)\n",
    "    lc = pmv.plot_grid(lw=0.5)\n",
    "    if \"clay\" in ctitle.lower():\n",
    "        carr[idom < 0] = np.nan\n",
    "    c = pmv.plot_array(carr)\n",
    "    plt.colorbar(c)\n",
    "    cax.set_title(ctitle)"
   ]
  },
  {
   "cell_type": "markdown",
   "id": "42d7a653-028c-4438-b942-5193a07ef2d1",
   "metadata": {},
   "source": [
    "![ktrue](./k_true.png)"
   ]
  },
  {
   "cell_type": "code",
   "execution_count": 44,
   "id": "aa75af63",
   "metadata": {
    "execution": {
     "iopub.execute_input": "2025-07-03T18:27:43.061146Z",
     "iopub.status.busy": "2025-07-03T18:27:43.061064Z",
     "iopub.status.idle": "2025-07-03T18:27:43.132849Z",
     "shell.execute_reply": "2025-07-03T18:27:43.132606Z",
     "shell.execute_reply.started": "2025-07-03T18:27:43.061138Z"
    }
   },
   "outputs": [
    {
     "data": {
      "image/png": "[encoded data removed]",
      "text/plain": [
       "<Figure size 640x480 with 1 Axes>"
      ]
     },
     "metadata": {},
     "output_type": "display_data"
    }
   ],
   "source": [
    "pars.kaniso.hist(bins=50)\n",
    "plt.title(\"Anisotropy: aquifer\");"
   ]
  },
  {
   "cell_type": "code",
   "execution_count": 45,
   "id": "29a311c6",
   "metadata": {
    "execution": {
     "iopub.execute_input": "2025-07-03T18:27:43.133363Z",
     "iopub.status.busy": "2025-07-03T18:27:43.133276Z",
     "iopub.status.idle": "2025-07-03T18:27:43.205894Z",
     "shell.execute_reply": "2025-07-03T18:27:43.205612Z",
     "shell.execute_reply.started": "2025-07-03T18:27:43.133354Z"
    }
   },
   "outputs": [
    {
     "data": {
      "image/png": "[encoded data removed]",
      "text/plain": [
       "<Figure size 640x480 with 1 Axes>"
      ]
     },
     "metadata": {},
     "output_type": "display_data"
    }
   ],
   "source": [
    "pars.loc[indobskeep].kaniso_clay.hist(bins=50)\n",
    "plt.title(\"Anisotropy: clay layer\");"
   ]
  },
  {
   "cell_type": "code",
   "execution_count": 46,
   "id": "071d253b",
   "metadata": {
    "execution": {
     "iopub.execute_input": "2025-07-03T18:27:43.206552Z",
     "iopub.status.busy": "2025-07-03T18:27:43.206397Z",
     "iopub.status.idle": "2025-07-03T18:27:43.278593Z",
     "shell.execute_reply": "2025-07-03T18:27:43.278177Z",
     "shell.execute_reply.started": "2025-07-03T18:27:43.206543Z"
    }
   },
   "outputs": [
    {
     "data": {
      "image/png": "[encoded data removed]",
      "text/plain": [
       "<Figure size 640x480 with 1 Axes>"
      ]
     },
     "metadata": {},
     "output_type": "display_data"
    }
   ],
   "source": [
    "pars.loc[indobskeep].rch.hist(bins=50)\n",
    "plt.title(\"Recharge\");"
   ]
  },
  {
   "cell_type": "code",
   "execution_count": 47,
   "id": "a5236e95-9576-495c-ba01-69150f5d10e5",
   "metadata": {
    "execution": {
     "iopub.execute_input": "2025-07-03T18:27:43.279088Z",
     "iopub.status.busy": "2025-07-03T18:27:43.278969Z",
     "iopub.status.idle": "2025-07-03T18:27:43.324378Z",
     "shell.execute_reply": "2025-07-03T18:27:43.324068Z",
     "shell.execute_reply.started": "2025-07-03T18:27:43.279070Z"
    }
   },
   "outputs": [
    {
     "name": "stdout",
     "output_type": "stream",
     "text": [
      "loading simulation...\n",
      "  loading simulation name file...\n",
      "  loading tdis package...\n",
      "  loading model gwf6...\n",
      "    loading package dis...\n",
      "    loading package ic...\n",
      "WARNING: Block \"options\" is not a valid block name for file type ic.\n",
      "    loading package npf...\n",
      "    loading package oc...\n",
      "    loading package chd...\n",
      "    loading package rch...\n",
      "    loading package riv...\n",
      "    loading package wel...\n",
      "    loading package obs...\n",
      "  loading solution package at...\n"
     ]
    }
   ],
   "source": [
    "mfinal = fp.mf6.MFSimulation.load(sim_ws=str(tmpdir)).get_model()\n",
    "h = mfinal.output.head().get_data()"
   ]
  },
  {
   "cell_type": "code",
   "execution_count": 48,
   "id": "60044a22-498d-4cfb-87f8-6a7706732099",
   "metadata": {
    "execution": {
     "iopub.execute_input": "2025-07-03T18:27:43.324888Z",
     "iopub.status.busy": "2025-07-03T18:27:43.324805Z",
     "iopub.status.idle": "2025-07-03T18:27:43.487492Z",
     "shell.execute_reply": "2025-07-03T18:27:43.487195Z",
     "shell.execute_reply.started": "2025-07-03T18:27:43.324879Z"
    }
   },
   "outputs": [
    {
     "data": {
      "image/png": "[encoded data removed]",
      "text/plain": [
       "<Figure size 800x400 with 5 Axes>"
      ]
     },
     "metadata": {},
     "output_type": "display_data"
    }
   ],
   "source": [
    "fig, ax = plt.subplots(1, 5, figsize=(8, 4), sharey=True)\n",
    "for i, cax in zip([0, 1, 2, 3, 4], ax):\n",
    "    pmv = fp.plot.PlotMapView(mfinal, ax=cax)\n",
    "    pmv.plot_grid(lw=0.5)\n",
    "    pmv.plot_array(h[i])\n",
    "    cax.set_title(f\"head in layer {i+1}\")\n",
    "    cax.set_aspect(1)"
   ]
  },
  {
   "cell_type": "code",
   "execution_count": null,
   "id": "ccae5717-c2ed-401e-ac1b-a6d9a774ab0c",
   "metadata": {},
   "outputs": [],
   "source": []
  },
  {
   "cell_type": "code",
   "execution_count": null,
   "id": "57b6f151-f234-43c7-ba2d-96eb985bc6e2",
   "metadata": {},
   "outputs": [],
   "source": []
  }
 ],
 "metadata": {
  "kernelspec": {
   "display_name": "Python 3 (ipykernel)",
   "language": "python",
   "name": "python3"
  },
  "language_info": {
   "codemirror_mode": {
    "name": "ipython",
    "version": 3
   },
   "file_extension": ".py",
   "mimetype": "text/x-python",
   "name": "python",
   "nbconvert_exporter": "python",
   "pygments_lexer": "ipython3",
   "version": "3.11.13"
  }
 },
 "nbformat": 4,
 "nbformat_minor": 5
}
